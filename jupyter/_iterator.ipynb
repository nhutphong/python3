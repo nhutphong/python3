{
 "cells": [
  {
   "cell_type": "markdown",
   "metadata": {},
   "source": [
    "# basic"
   ]
  },
  {
   "cell_type": "code",
   "execution_count": 1,
   "metadata": {},
   "outputs": [
    {
     "name": "stdout",
     "output_type": "stream",
     "text": [
      "seq.next() = 0\n",
      "seq.next() = 1\n",
      "seq.next() = 2\n",
      "seq.next() = 3\n",
      "seq.next() = 4\n"
     ]
    }
   ],
   "source": [
    "class NumberSequence:\n",
    "\n",
    "    def __init__(self, start=0):\n",
    "        self.current = start\n",
    "\n",
    "    def next(self):\n",
    "        current = self.current\n",
    "        self.current += 1\n",
    "        return current\n",
    "\n",
    "\n",
    "seq = NumberSequence()\n",
    "print(f\"{seq.next() = }\")\n",
    "print(f\"{seq.next() = }\")\n",
    "print(f\"{seq.next() = }\")\n",
    "print(f\"{seq.next() = }\")\n",
    "print(f\"{seq.next() = }\")"
   ]
  },
  {
   "cell_type": "markdown",
   "metadata": {},
   "source": [
    "# __iter__ and __next__"
   ]
  },
  {
   "cell_type": "code",
   "execution_count": 2,
   "metadata": {},
   "outputs": [],
   "source": [
    "class Iteration: #iterator_class\n",
    "    \"\"\"\n",
    "        iterator_class va generator_func cung nhu iterable=list,tuple,str\n",
    "        it ton RAM va khong dung duoc slice tuc index[1,2,3,4,...]\n",
    "        khong co __getitem__ ko dung duoc []\n",
    "    \"\"\"\n",
    "\n",
    "    def __init__(self, stop=5):\n",
    "        self.stop = stop\n",
    "        \n",
    "    def __iter__(self):\n",
    "        self.start = 0\n",
    "        print(\"__iter__\")\n",
    "        return self\n",
    "     # trong __iter__ co the dung yield luc do khong can __next__\n",
    "\n",
    "    # __next__ dung return NO yield\n",
    "    # co yied or yield from se goi lai __next__ error recursive\n",
    "    def __next__(self):\n",
    "        if self.start < self.stop:\n",
    "            print(\"__next__\")\n",
    "            current = self.start\n",
    "            self.start += 1\n",
    "            return current\n",
    "        else:\n",
    "            raise StopIteration\n",
    "    \n",
    "    # 'haha' in self_or_iterable\n",
    "    def __contains__(self, item):\n",
    "        print(\"__contains__\")\n",
    "        return item in 'chi thong'\n",
    "\n",
    "    \n",
    "__ITERATOR__ = \"\"\"\n",
    "    \n",
    "    get data tu iterator co 2 cach\n",
    "    cach1 dung for\n",
    "    \n",
    "    for iterator in Iteration(5):\n",
    "        print(iterator)\n",
    "    => dung for run __iter__ 1 lan va __next__ toi khong thoa dieu khien thi dung\n",
    "    \n",
    "    cach2 cac class_or_func_method da so, dung cho iterable, deu dung duoc cho iterator \n",
    "    list(Iterator) or tuple(iterator) cung run __iter__ va __next__\n",
    "    list(Iteration(1,16,2)), tuple(Iteration(1,12,2))\n",
    "    \n",
    "    NO ko dung cho iterator: len(iterator) \n",
    "\"\"\""
   ]
  },
  {
   "cell_type": "code",
   "execution_count": 3,
   "metadata": {},
   "outputs": [
    {
     "name": "stdout",
     "output_type": "stream",
     "text": [
      "__iter__\n",
      "__next__\n",
      "next(seq) = 0\n",
      "__next__\n",
      "next(seq) = 1\n",
      "__next__\n",
      "next(seq) = 2\n",
      "__next__\n",
      "next(seq) = 3\n"
     ]
    }
   ],
   "source": [
    "seq = Iteration(5)\n",
    "iter(seq) # set self.start = 0\n",
    "print(f\"{next(seq) = }\")\n",
    "print(f\"{next(seq) = }\")\n",
    "print(f\"{next(seq) = }\")\n",
    "print(f\"{next(seq) = }\")"
   ]
  },
  {
   "cell_type": "code",
   "execution_count": 4,
   "metadata": {},
   "outputs": [
    {
     "name": "stdout",
     "output_type": "stream",
     "text": [
      "__contains__\n"
     ]
    },
    {
     "data": {
      "text/plain": [
       "True"
      ]
     },
     "execution_count": 4,
     "metadata": {},
     "output_type": "execute_result"
    }
   ],
   "source": [
    "'c' in seq"
   ]
  },
  {
   "cell_type": "code",
   "execution_count": 5,
   "metadata": {},
   "outputs": [
    {
     "name": "stdout",
     "output_type": "stream",
     "text": [
      "__contains__\n"
     ]
    },
    {
     "data": {
      "text/plain": [
       "False"
      ]
     },
     "execution_count": 5,
     "metadata": {},
     "output_type": "execute_result"
    }
   ],
   "source": [
    "'d' in seq"
   ]
  },
  {
   "cell_type": "code",
   "execution_count": 6,
   "metadata": {},
   "outputs": [
    {
     "name": "stdout",
     "output_type": "stream",
     "text": [
      "__iter__\n",
      "__next__\n",
      "0\n",
      "__next__\n",
      "1\n",
      "__next__\n",
      "2\n",
      "__next__\n",
      "3\n",
      "__next__\n",
      "4\n"
     ]
    }
   ],
   "source": [
    "for item in Iteration():\n",
    "    print(f\"{item}\")\n",
    "    if item == 5:\n",
    "        break"
   ]
  },
  {
   "cell_type": "code",
   "execution_count": 7,
   "metadata": {},
   "outputs": [
    {
     "name": "stdout",
     "output_type": "stream",
     "text": [
      "__iter__\n",
      "__next__\n",
      "__next__\n",
      "__next__\n",
      "__next__\n"
     ]
    },
    {
     "data": {
      "text/plain": [
       "[('a', 0), ('b', 1), ('c', 2), ('d', 3)]"
      ]
     },
     "execution_count": 7,
     "metadata": {},
     "output_type": "execute_result"
    }
   ],
   "source": [
    "list(zip(\"abcd\", Iteration(10)))"
   ]
  },
  {
   "cell_type": "code",
   "execution_count": 8,
   "metadata": {
    "scrolled": true
   },
   "outputs": [
    {
     "name": "stdout",
     "output_type": "stream",
     "text": [
      "__iter__\n",
      "__next__\n",
      "__next__\n",
      "__next__\n",
      "__next__\n",
      "__next__\n"
     ]
    },
    {
     "data": {
      "text/plain": [
       "[(0, 'a'), (1, 'b'), (2, 'c'), (3, 'd'), (4, 'e')]"
      ]
     },
     "execution_count": 8,
     "metadata": {},
     "output_type": "execute_result"
    }
   ],
   "source": [
    "list(zip(Iteration(), \"abcdef\"))"
   ]
  },
  {
   "cell_type": "markdown",
   "metadata": {},
   "source": [
    "# khong co __next__"
   ]
  },
  {
   "cell_type": "code",
   "execution_count": 9,
   "metadata": {},
   "outputs": [
    {
     "name": "stdout",
     "output_type": "stream",
     "text": [
      "__iter__\n",
      "1\n",
      "2\n",
      "3\n",
      "4\n",
      "6\n",
      "8\n",
      "end\n"
     ]
    }
   ],
   "source": [
    "class Iteration: #iterator_class\n",
    "\n",
    "    def __init__(self, iterable=None):\n",
    "        self.iterable = iterable\n",
    "        \n",
    "    def __iter__(self):\n",
    "        print(\"__iter__\")\n",
    "        yield from self.iterable\n",
    "     # trong __iter__ co the dung yield luc do khong can __next__\n",
    "    \n",
    "seq = Iteration([1,2,3,4,6,8, 'end'])\n",
    "iterator = iter(seq) # khi khong co __next__ phai dung iter(obj) create iterator\n",
    "print(next(iterator))\n",
    "print(next(iterator))\n",
    "print(next(iterator))\n",
    "print(next(iterator))\n",
    "print(next(iterator))\n",
    "print(next(iterator))\n",
    "print(next(iterator))"
   ]
  },
  {
   "cell_type": "code",
   "execution_count": 10,
   "metadata": {},
   "outputs": [
    {
     "name": "stdout",
     "output_type": "stream",
     "text": [
      "__iter__\n",
      "1\n",
      "2\n",
      "3\n",
      "4\n",
      "6\n",
      "8\n",
      "end\n"
     ]
    }
   ],
   "source": [
    "for item in Iteration([1,2,3,4,6,8, 'end']):\n",
    "    print(item)"
   ]
  },
  {
   "cell_type": "code",
   "execution_count": 11,
   "metadata": {},
   "outputs": [
    {
     "name": "stdout",
     "output_type": "stream",
     "text": [
      "__iter__\n"
     ]
    },
    {
     "data": {
      "text/plain": [
       "[1, 2, 3, 4, 6, 8, 'end']"
      ]
     },
     "execution_count": 11,
     "metadata": {},
     "output_type": "execute_result"
    }
   ],
   "source": [
    "list(Iteration([1,2,3,4,6,8, 'end']))"
   ]
  },
  {
   "cell_type": "code",
   "execution_count": 12,
   "metadata": {},
   "outputs": [
    {
     "name": "stdout",
     "output_type": "stream",
     "text": [
      "__iter__\n"
     ]
    },
    {
     "data": {
      "text/plain": [
       "(1, 2, 3, 4, 6, 8, 'end')"
      ]
     },
     "execution_count": 12,
     "metadata": {},
     "output_type": "execute_result"
    }
   ],
   "source": [
    "tuple(Iteration([1,2,3,4,6,8, 'end']))"
   ]
  },
  {
   "cell_type": "markdown",
   "metadata": {},
   "source": [
    "# iterator = open('filename')"
   ]
  },
  {
   "cell_type": "code",
   "execution_count": 13,
   "metadata": {},
   "outputs": [
    {
     "name": "stdout",
     "output_type": "stream",
     "text": [
      "1 nguyen thanh dung\n",
      "\n",
      "2 nguyen chi thong\n",
      "\n",
      "3 duong ngoc hanh\n",
      "\n"
     ]
    }
   ],
   "source": [
    "with open('py') as iterator:\n",
    "    one_line = next(iterator)\n",
    "    two_line = next(iterator)\n",
    "    three_line = next(iterator)\n",
    "\n",
    "print(one_line)\n",
    "print(two_line)\n",
    "print(three_line)"
   ]
  },
  {
   "cell_type": "code",
   "execution_count": 14,
   "metadata": {},
   "outputs": [
    {
     "name": "stdout",
     "output_type": "stream",
     "text": [
      "5 le nguyen an khang\n",
      "\n",
      "6 nguyen hoang cho trau\n",
      "\n",
      "7 nguyen duy duc\n",
      "\n"
     ]
    }
   ],
   "source": [
    "# lay slice[start:stop:step] for file\n",
    "from itertools import islice\n",
    "\n",
    "with open('py') as iterator:\n",
    "    last_lines = islice(iterator, 4,7)\n",
    "    \n",
    "    five_line = next(last_lines)\n",
    "    six_line = next(last_lines)\n",
    "    seven_line = next(last_lines)\n",
    "    \n",
    "print(five_line)\n",
    "print(six_line)\n",
    "print(seven_line)"
   ]
  },
  {
   "cell_type": "markdown",
   "metadata": {},
   "source": [
    "# yield value"
   ]
  },
  {
   "cell_type": "code",
   "execution_count": 15,
   "metadata": {},
   "outputs": [
    {
     "data": {
      "text/plain": [
       "[(0, 'a'), (1, 'b'), (2, 'c'), (3, 'd'), (4, 'e'), (5, 'f')]"
      ]
     },
     "execution_count": 15,
     "metadata": {},
     "output_type": "execute_result"
    }
   ],
   "source": [
    "def sequence(start=0): # generator\n",
    "\n",
    "    while True:\n",
    "        yield start\n",
    "        start += 1\n",
    "        \n",
    "list(zip(sequence(), \"abcdef\"))"
   ]
  },
  {
   "cell_type": "code",
   "execution_count": 16,
   "metadata": {
    "scrolled": true
   },
   "outputs": [
    {
     "data": {
      "text/plain": [
       "[('a', 0), ('b', 1), ('c', 2), ('d', 3), ('e', 4), ('f', 5)]"
      ]
     },
     "execution_count": 16,
     "metadata": {},
     "output_type": "execute_result"
    }
   ],
   "source": [
    "list(zip(\"abcdef\", sequence()))"
   ]
  },
  {
   "cell_type": "markdown",
   "metadata": {},
   "source": [
    "# yield from iterable"
   ]
  },
  {
   "cell_type": "code",
   "execution_count": 17,
   "metadata": {
    "scrolled": true
   },
   "outputs": [
    {
     "data": {
      "text/plain": [
       "['h', 'e', 'l', 'l', 'o', 'world', 'tuple', ' of ', 'values.']"
      ]
     },
     "execution_count": 17,
     "metadata": {},
     "output_type": "execute_result"
    }
   ],
   "source": [
    "note = \"\"\"\n",
    "    \n",
    "    yield value: xuat value\n",
    "    \n",
    "    yield from iterable:\n",
    "        se run 1 lan  for value in iterable:\n",
    "            yield value\n",
    "    \n",
    "\"\"\"\n",
    "\n",
    "def chain(*iterables): # generator\n",
    "    \n",
    "    for iterable in iterables:\n",
    "        yield from iterable\n",
    "        \n",
    "list(chain(\"hello\", [\"world\"], (\"tuple\", \" of \", \"values.\")))"
   ]
  },
  {
   "cell_type": "code",
   "execution_count": 18,
   "metadata": {},
   "outputs": [
    {
     "data": {
      "text/plain": [
       "'h*e*l*l*o*tan*dung'"
      ]
     },
     "execution_count": 18,
     "metadata": {},
     "output_type": "execute_result"
    }
   ],
   "source": [
    "def _chain(iterables): # generator\n",
    "    for iterable in iterables:\n",
    "        \n",
    "        for char in iterable:\n",
    "            yield char\n",
    "\n",
    "str.join('*',_chain(['hello', ['tan','dung']]))"
   ]
  },
  {
   "cell_type": "code",
   "execution_count": 19,
   "metadata": {},
   "outputs": [],
   "source": [
    "def all_powers(n, power):\n",
    "    yield from (n ** i for i in range(power + 1))"
   ]
  },
  {
   "cell_type": "markdown",
   "metadata": {},
   "source": [
    "# generator , yield item, yield from iterable"
   ]
  },
  {
   "cell_type": "code",
   "execution_count": 20,
   "metadata": {},
   "outputs": [
    {
     "name": "stdout",
     "output_type": "stream",
     "text": [
      "list(generator('phong')) = ['p', 'h', 'o', 'n', 'g']\n",
      "list(generator2('phong')) = ['p', 'h', 'o', 'n', 'g']\n"
     ]
    }
   ],
   "source": [
    "# generator send\n",
    "def gen():          # g = gen()\n",
    "    a = yield 22    # haihai          = next(g)\n",
    "    b = yield 33    # baba            = g.send(88) #a\n",
    "    yield a,b       # (tamtam,chinchin) = g.send(99) #b\n",
    "    # print(a,b)    \n",
    "    yield 44        # bonbon          = next(g)\n",
    "\n",
    "\n",
    "def myzip(*iterables):\n",
    "    seqs = list(map(iter, iterables)) #phai co list() de save of state iterators\n",
    "\n",
    "    while seqs:\n",
    "\n",
    "        res = (next(iterator) for iterator  in seqs)\n",
    "        yield tuple(res)\n",
    "\n",
    "        \n",
    "def generator(sequence):\n",
    "    \n",
    "    for item in sequence:\n",
    "        yield item\n",
    "\n",
    "        \n",
    "def generator2(sequence):\n",
    "    \n",
    "    yield from sequence\n",
    "\n",
    "    \n",
    "print(f\"{list(generator('phong')) = }\")\n",
    "print(f\"{list(generator2('phong')) = }\")"
   ]
  },
  {
   "cell_type": "code",
   "execution_count": 21,
   "metadata": {},
   "outputs": [
    {
     "name": "stdout",
     "output_type": "stream",
     "text": [
      "__getitem__  self._iterable[pos=0] = item = 'dung'\n",
      "__getitem__  self._iterable[pos=1] = item = 'thong'\n",
      "__getitem__  self._iterable[pos=2] = item = 'tan'\n",
      "__getitem__  self._iterable[pos=3] = item = 'heo'\n",
      "__getitem__  self._iterable[pos=4] = "
     ]
    }
   ],
   "source": [
    "class Seq:\n",
    "    \"\"\"docstring for Seq\"\"\"\n",
    "    def __init__(self, iterable):\n",
    "        self._iterable = iterable\n",
    "\n",
    "    def __getitem__(self, pos):\n",
    "        print(f\"__getitem__  self._iterable[{pos=}] = \", end='')\n",
    "        return self._iterable[pos]\n",
    "    # pos auto 0..N khi self._iterator[pos] = None thi stop tang pos\n",
    "\n",
    "seq = Seq(['dung', 'thong', 'tan', 'heo'])\n",
    "for item in seq:\n",
    "    print(f\"{item = }\")\n"
   ]
  },
  {
   "cell_type": "markdown",
   "metadata": {},
   "source": [
    "# __iter__ and __reversed__"
   ]
  },
  {
   "cell_type": "code",
   "execution_count": 22,
   "metadata": {},
   "outputs": [
    {
     "name": "stdout",
     "output_type": "stream",
     "text": [
      "__iter__\n",
      "5\n",
      "4\n",
      "3\n",
      "2\n",
      "1\n",
      "\n",
      "__reversed__\n",
      "1\n",
      "2\n",
      "3\n",
      "4\n",
      "5\n",
      "6\n",
      "7\n",
      "8\n",
      "\n",
      "list(reversed(Countdown(7))) = [1, 2, 3, 4, 5, 6, 7]\n"
     ]
    }
   ],
   "source": [
    "class Countdown:\n",
    "    def __init__(self, start):\n",
    "        self.start = start\n",
    " \n",
    "    # Forward iterator   for i in Countdown(5):\n",
    "    def __iter__(self):\n",
    "        n = self.start\n",
    "        while n > 0:\n",
    "            yield n\n",
    "            n -= 1\n",
    " \n",
    "    # Reverse iterator   for i in reversed(Countdown(8)):\n",
    "    def __reversed__(self):\n",
    "        n = 1\n",
    "        while n <= self.start:\n",
    "            yield n\n",
    "            n += 1\n",
    "\n",
    "print(\"__iter__\")\n",
    "for i in Countdown(5):\n",
    "    print(i)\n",
    "    \n",
    "print()\n",
    "\n",
    "print(\"__reversed__\")\n",
    "for i in reversed(Countdown(8)):\n",
    "    print(i)\n",
    "\n",
    "print()\n",
    "print(f\"{list(reversed(Countdown(7))) = }\")"
   ]
  },
  {
   "cell_type": "markdown",
   "metadata": {},
   "source": [
    "# recursion"
   ]
  },
  {
   "cell_type": "code",
   "execution_count": 23,
   "metadata": {},
   "outputs": [
    {
     "name": "stdout",
     "output_type": "stream",
     "text": [
      "1\n",
      "2\n",
      "3\n",
      "4\n",
      "5\n",
      "6\n",
      "7\n",
      "8\n"
     ]
    }
   ],
   "source": [
    "note = \"\"\"\n",
    "    recursion tao diem dung khi callback lai function\n",
    "    dung if else check param cua function(param) de create diem stop\n",
    "\"\"\"\n",
    "\n",
    "\n",
    "def flatten(items, ignore_types=(str, bytes)):\n",
    "    for x in items:\n",
    "        if isinstance(x, list) and not isinstance(x, ignore_types):\n",
    "            yield from flatten(x) #=iterable\n",
    "        else:\n",
    "            yield x #stop callback function()\n",
    "\n",
    "items = [1, 2, [3, 4, [5, 6], 7], 8]\n",
    "\n",
    "# Produces 1 2 3 4 5 6 7 8\n",
    "for x in flatten(items):\n",
    "    print(x)"
   ]
  },
  {
   "cell_type": "markdown",
   "metadata": {},
   "source": [
    "# functools.lru_cache"
   ]
  },
  {
   "cell_type": "code",
   "execution_count": 24,
   "metadata": {},
   "outputs": [
    {
     "name": "stdout",
     "output_type": "stream",
     "text": [
      "Calculating F(5), Calculating F(4), Calculating F(3), Calculating F(2), Calculating F(1), Calculating F(0), "
     ]
    },
    {
     "data": {
      "text/plain": [
       "5"
      ]
     },
     "execution_count": 24,
     "metadata": {},
     "output_type": "execute_result"
    }
   ],
   "source": [
    "from functools import lru_cache\n",
    "\n",
    "@lru_cache\n",
    "#@lru_cache(maxsize=None)\n",
    "def fibonacci_recursive(n):\n",
    "    print(\"Calculating F\", \"(\", n, \")\", sep=\"\", end=\", \")\n",
    "\n",
    "    # Base case\n",
    "    if n == 0:\n",
    "        return 0\n",
    "    elif n == 1:\n",
    "        return 1\n",
    "\n",
    "    # Recursive case\n",
    "    else:\n",
    "        return fibonacci_recursive(n-1) + fibonacci_recursive(n-2)\n",
    "\n",
    "fibonacci_recursive(5)"
   ]
  },
  {
   "cell_type": "code",
   "execution_count": null,
   "metadata": {},
   "outputs": [],
   "source": []
  },
  {
   "cell_type": "markdown",
   "metadata": {},
   "source": [
    "# sum"
   ]
  },
  {
   "cell_type": "code",
   "execution_count": 25,
   "metadata": {},
   "outputs": [
    {
     "name": "stdout",
     "output_type": "stream",
     "text": [
      "let go!!!\n",
      "end join\n"
     ]
    },
    {
     "data": {
      "text/plain": [
       "[1, 2, 'thong', 'dung', 3, 4, 'cho', 'trau', 'A', 'B', 'C']"
      ]
     },
     "execution_count": 25,
     "metadata": {},
     "output_type": "execute_result"
    }
   ],
   "source": [
    "def join(iterables, seq):\n",
    "    for iterable in iterables:\n",
    "        yield from iterable\n",
    "    \n",
    "    print('let go!!!')\n",
    "    yield from seq\n",
    "    yield from \"ABC\"\n",
    "    print(\"end join\")\n",
    "    \n",
    "    #stop code\n",
    "    return 'XYZ' #stop kho them 'XYZ'\n",
    "    yield from 'HOHO'\n",
    "    \n",
    "    \n",
    "\n",
    "iterables = [[1,2], ['thong', 'dung'], [3,4]]\n",
    "seq = ['cho', 'trau']\n",
    "\n",
    "list(join(iterables, seq))"
   ]
  }
 ],
 "metadata": {
  "kernelspec": {
   "display_name": "Python 3 (ipykernel)",
   "language": "python",
   "name": "python3"
  },
  "language_info": {
   "codemirror_mode": {
    "name": "ipython",
    "version": 3
   },
   "file_extension": ".py",
   "mimetype": "text/x-python",
   "name": "python",
   "nbconvert_exporter": "python",
   "pygments_lexer": "ipython3",
   "version": "3.10.5"
  }
 },
 "nbformat": 4,
 "nbformat_minor": 4
}
