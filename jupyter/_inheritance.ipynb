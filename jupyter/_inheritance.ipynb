{
 "cells": [
  {
   "cell_type": "markdown",
   "metadata": {},
   "source": [
    "# inheritance"
   ]
  },
  {
   "cell_type": "code",
   "execution_count": 1,
   "metadata": {},
   "outputs": [
    {
     "name": "stdout",
     "output_type": "stream",
     "text": [
      "[<class '__main__.Child'>,\n",
      " <class '__main__.Mother'>,\n",
      " <class '__main__.Father'>,\n",
      " <class '__main__.One'>,\n",
      " <class '__main__.Two'>,\n",
      " <class '__main__.Three'>,\n",
      " <class 'object'>]\n"
     ]
    }
   ],
   "source": [
    "from pprint import pprint\n",
    "\n",
    "\n",
    "class One:\n",
    "    pass\n",
    "\n",
    "\n",
    "class Two:\n",
    "    pass\n",
    "\n",
    "\n",
    "class Three:\n",
    "    pass\n",
    "\n",
    "\n",
    "class Father(One, Two):\n",
    "    pass\n",
    "\n",
    "\n",
    "class Mother(Two, Three):\n",
    "    pass\n",
    "\n",
    "\n",
    "class Child(Mother, Father, Three):\n",
    "    pass\n",
    "\n",
    "note = \"\"\"\n",
    "    child\n",
    "    mother: thua ke 1 two trung voi father nen nhay qua father, *IMPORTANT\n",
    "        father - one- two\n",
    "    three\n",
    "    object\n",
    "\"\"\"\n",
    "\n",
    "\n",
    "pprint(Child.mro())"
   ]
  },
  {
   "cell_type": "code",
   "execution_count": 2,
   "metadata": {},
   "outputs": [
    {
     "name": "stdout",
     "output_type": "stream",
     "text": [
      "[<class '__main__.Child'>,\n",
      " <class '__main__.Father'>,\n",
      " <class '__main__.One'>,\n",
      " <class '__main__.Mother'>,\n",
      " <class '__main__.Two'>,\n",
      " <class '__main__.Three'>,\n",
      " <class 'object'>]\n"
     ]
    }
   ],
   "source": [
    "from pprint import pprint\n",
    "\n",
    "\n",
    "class One:\n",
    "    pass\n",
    "\n",
    "\n",
    "class Two:\n",
    "    pass\n",
    "\n",
    "\n",
    "class Three:\n",
    "    pass\n",
    "\n",
    "\n",
    "class Father(One, Two):\n",
    "    pass\n",
    "\n",
    "\n",
    "class Mother(Two, Three):\n",
    "    pass\n",
    "\n",
    "\n",
    "class Child(Father, Mother, Three):\n",
    "    pass\n",
    "\n",
    "note = \"\"\"\n",
    "    child:\n",
    "    father - one -> thua ke thu 2 two trung voi mother nen nhay qua mother *IMPORTANT\n",
    "        mother - two - three\n",
    "    object\n",
    "\"\"\"\n",
    "\n",
    "\n",
    "pprint(Child.mro())"
   ]
  },
  {
   "cell_type": "code",
   "execution_count": 3,
   "metadata": {},
   "outputs": [
    {
     "name": "stdout",
     "output_type": "stream",
     "text": [
      "father_method\n",
      "\n",
      "super().father_method() = None\n",
      "self.__dict__ = {'name': 'thong', 'old': 28, 'sex': 'male'}\n",
      "super().__getattribute__('old') = 28\n",
      "self.name = 'thong'\n",
      "self.old = 28\n",
      "============================\n",
      "child.name = 'thong', child.old = 28\n",
      "father_method\n",
      "\n",
      "child.father_method() = None\n",
      "su\n",
      "child.su() = None\n"
     ]
    }
   ],
   "source": [
    "class Father:\n",
    "    \n",
    "    def __init__(self, name=None, old=None):\n",
    "        self.name = name\n",
    "        self.old = old\n",
    "    \n",
    "    def father_method(self):\n",
    "        print(\"father_method\")\n",
    "        print(f\"\")\n",
    "\n",
    "\n",
    "class Child(Father):\n",
    "    \n",
    "    def __init__(self, name=None, old=None, sex=None):\n",
    "        super().__init__(name, old)\n",
    "        self.sex = sex\n",
    "        print(f\"{super().father_method() = }\")\n",
    "        print(f\"{self.__dict__ = }\")\n",
    "        print(f\"{super().__getattribute__('old') = }\")\n",
    "        print(f\"{self.name = }\\n{self.old = }\")\n",
    "        \n",
    "    def su(self):\n",
    "        print(\"su\")\n",
    "#         \n",
    "\n",
    "child = Child('thong', 28, 'male')\n",
    "print(\"============================\")\n",
    "print(f\"{child.name = }, {child.old = }\")\n",
    "print(f\"{child.father_method() = }\")\n",
    "print(f\"{child.su() = }\")"
   ]
  },
  {
   "cell_type": "markdown",
   "metadata": {},
   "source": [
    "# type"
   ]
  },
  {
   "cell_type": "code",
   "execution_count": 4,
   "metadata": {},
   "outputs": [
    {
     "name": "stdout",
     "output_type": "stream",
     "text": [
      "isinstance(int, object)       = True\n",
      "isinstance(float, object)     = True\n",
      "isinstance(str, object)       = True\n",
      "isinstance(list, object)      = True\n",
      "isinstance(tuple, object)     = True\n",
      "isinstance(dict, object)      = True\n",
      "isinstance(set, object)       = True\n",
      "isinstance(frozenset, object) = True\n",
      "isinstance(type, object)      = True\n",
      "isinstance(object, type)      = True\n",
      "type(object)                  = <class 'type'>\n"
     ]
    }
   ],
   "source": [
    "print(f\"{isinstance(int, object)       = }\")\n",
    "print(f\"{isinstance(float, object)     = }\")\n",
    "print(f\"{isinstance(str, object)       = }\")\n",
    "print(f\"{isinstance(list, object)      = }\")\n",
    "print(f\"{isinstance(tuple, object)     = }\")\n",
    "print(f\"{isinstance(dict, object)      = }\")\n",
    "print(f\"{isinstance(set, object)       = }\")\n",
    "print(f\"{isinstance(frozenset, object) = }\")\n",
    "print(f\"{isinstance(type, object)      = }\")\n",
    "print(f\"{isinstance(object, type)      = }\")\n",
    "print(f\"{type(object)                  = }\")"
   ]
  },
  {
   "cell_type": "code",
   "execution_count": 5,
   "metadata": {
    "scrolled": true
   },
   "outputs": [
    {
     "data": {
      "text/plain": [
       "True"
      ]
     },
     "execution_count": 5,
     "metadata": {},
     "output_type": "execute_result"
    }
   ],
   "source": [
    "isinstance(all, object)"
   ]
  },
  {
   "cell_type": "code",
   "execution_count": 6,
   "metadata": {
    "scrolled": true
   },
   "outputs": [
    {
     "data": {
      "text/plain": [
       "builtin_function_or_method"
      ]
     },
     "execution_count": 6,
     "metadata": {},
     "output_type": "execute_result"
    }
   ],
   "source": [
    "type(any)"
   ]
  },
  {
   "cell_type": "code",
   "execution_count": 7,
   "metadata": {
    "scrolled": true
   },
   "outputs": [
    {
     "data": {
      "text/plain": [
       "True"
      ]
     },
     "execution_count": 7,
     "metadata": {},
     "output_type": "execute_result"
    }
   ],
   "source": [
    "isinstance(type(all), object)"
   ]
  },
  {
   "cell_type": "markdown",
   "metadata": {},
   "source": [
    "# __name__ and __file__"
   ]
  },
  {
   "cell_type": "markdown",
   "metadata": {},
   "source": [
    "## run truc tiep"
   ]
  },
  {
   "cell_type": "code",
   "execution_count": 8,
   "metadata": {},
   "outputs": [
    {
     "data": {
      "text/plain": [
       "'__main__'"
      ]
     },
     "execution_count": 8,
     "metadata": {},
     "output_type": "execute_result"
    }
   ],
   "source": [
    "__name__"
   ]
  },
  {
   "cell_type": "code",
   "execution_count": 9,
   "metadata": {},
   "outputs": [
    {
     "data": {
      "text/plain": [
       "'example.py'"
      ]
     },
     "execution_count": 9,
     "metadata": {},
     "output_type": "execute_result"
    }
   ],
   "source": [
    "__file__ = 'example.py'# error khi run trong jupyter\n",
    "__file__"
   ]
  },
  {
   "cell_type": "markdown",
   "metadata": {},
   "source": [
    "## duoc import"
   ]
  },
  {
   "cell_type": "code",
   "execution_count": 10,
   "metadata": {},
   "outputs": [
    {
     "name": "stdout",
     "output_type": "stream",
     "text": [
      "__name__ = 'example'\n",
      "__file__ = '/home/phong/code/github/python3/jupyter/example.py'\n"
     ]
    }
   ],
   "source": [
    "import example"
   ]
  }
 ],
 "metadata": {
  "kernelspec": {
   "display_name": "Python 3",
   "language": "python",
   "name": "python3"
  },
  "language_info": {
   "codemirror_mode": {
    "name": "ipython",
    "version": 3
   },
   "file_extension": ".py",
   "mimetype": "text/x-python",
   "name": "python",
   "nbconvert_exporter": "python",
   "pygments_lexer": "ipython3",
   "version": "3.9.1rc1"
  }
 },
 "nbformat": 4,
 "nbformat_minor": 4
}
