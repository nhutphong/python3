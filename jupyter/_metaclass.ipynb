{
 "cells": [
  {
   "cell_type": "markdown",
   "metadata": {},
   "source": [
    "# note"
   ]
  },
  {
   "cell_type": "code",
   "execution_count": 1,
   "metadata": {},
   "outputs": [],
   "source": [
    "note = \"\"\"\n",
    "\n",
    "import types\n",
    "\n",
    "class Meta(type):\n",
    "    \n",
    "    # @classmethod\n",
    "    def __new__(meta, classname, bases, classdict):\n",
    "        print('Meta.__new__')\n",
    "\n",
    "        # update @design(name) cho function\n",
    "        for name, attr in classdict.items():\n",
    "            if isinstance(attr, types.FunctionType):\n",
    "                classdict[name] = design(name)(attr)\n",
    "                \n",
    "            ''' \n",
    "                @design(funcname)\n",
    "                def func(self, ...): pass\n",
    "            '''\n",
    "    \n",
    "        return type.__new__(meta, clasname, bases, classdict) #created cls\n",
    "\"\"\""
   ]
  },
  {
   "cell_type": "markdown",
   "metadata": {},
   "source": [
    "# create class"
   ]
  },
  {
   "cell_type": "code",
   "execution_count": 2,
   "metadata": {},
   "outputs": [],
   "source": [
    "note = \"\"\"\n",
    "\n",
    "new_cls = type(classname, bases, classdict) #\n",
    "\n",
    "type.__call__(meta ,classname, bases, classdict):\n",
    "\n",
    "    new_cls = type.__new__(meta ,classname, bases, classdict)\n",
    "    type.__init__(new_cls, classname, bases, classdict)\n",
    "    \n",
    "    return new_cls\n",
    "\n",
    "class Human(metaclass=Meta):\n",
    "    pass\n",
    "\n",
    "# metaclass=Meta\n",
    "Human = Meta(Human.__name__, Human.__bases__, Human.__dict__) # run type.__call__\n",
    "\n",
    "type.__call__(meta ,Human.__name__, Human.__bases__, Human.__dict__):\n",
    "\n",
    "    Human =  Meta.__new__(Meta ,'Human', bases, classdict)\n",
    "    \n",
    "    Meta.__init__(Human ,'Human', bases, classdict)\n",
    "    \n",
    "    return Human\n",
    "\n",
    "\"\"\""
   ]
  },
  {
   "cell_type": "markdown",
   "metadata": {},
   "source": [
    "# creat instance"
   ]
  },
  {
   "cell_type": "code",
   "execution_count": 3,
   "metadata": {},
   "outputs": [],
   "source": [
    "note = \"\"\"\n",
    "    \n",
    "    class Product:\n",
    "        \n",
    "        # @classmethod\n",
    "        def __new__(cls, *args, **kwds):\n",
    "        \n",
    "            return object.__new__(cls) # new_instance\n",
    "    \n",
    "        def __init__(sefl, *args, **kwds):\n",
    "            pass\n",
    "\n",
    "# new_instance se auto call type.__call__\n",
    "product = Product(1, 2, name='dung', old=28) #run type.__call__\n",
    "\n",
    "\n",
    "type.__call__(Product, *args, **kwds):\n",
    "    \n",
    "    instance = Product.__new__(Product) # new_instance\n",
    "    instance.__init__(*args, **kwds)\n",
    "    \n",
    "    return instance\n",
    "    \n",
    "\"\"\""
   ]
  },
  {
   "cell_type": "markdown",
   "metadata": {},
   "source": [
    "# Meta"
   ]
  },
  {
   "cell_type": "code",
   "execution_count": 4,
   "metadata": {},
   "outputs": [
    {
     "name": "stdout",
     "output_type": "stream",
     "text": [
      "Tao la Meta.__prepare__\n",
      "meta = <class '__main__.Meta'>\n",
      "classname = 'Singleton'\n",
      "bases = (<class '__main__.ABC'>,)\n",
      "kwds = {}\n",
      "\n",
      "Tao la Meta.__new__ START\n",
      "meta = <class '__main__.Meta'>\n",
      "classname = 'Singleton'\n",
      "bases = (<class '__main__.ABC'>,)\n",
      "classdict = OrderedDict([('__module__', '__main__'), ('__qualname__', 'Singleton'), ('IMPORTANT', False), ('__init__', <function Singleton.__init__ at 0x7f964d17eaf0>), ('instance_method', <function Singleton.instance_method at 0x7f964d17eb80>), ('static_method', <staticmethod object at 0x7f964c920dc0>), ('class_method', <classmethod object at 0x7f964c920df0>)])\n",
      "new_cls = <class '__main__.Singleton'>\n",
      "Tao la Meta.__new__ END\n",
      "\n",
      "Meta.__init__ START\n",
      "new_cls = <class '__main__.Singleton'>\n",
      "classname = 'Singleton'\n",
      "bases = (<class '__main__.ABC'>,)\n",
      "classdict = OrderedDict([('__module__', '__main__'), ('__qualname__', 'Singleton'), ('IMPORTANT', False), ('__init__', <function Singleton.__init__ at 0x7f964d17eaf0>), ('instance_method', <function Singleton.instance_method at 0x7f964d17eb80>), ('static_method', <staticmethod object at 0x7f964c920dc0>), ('class_method', <classmethod object at 0x7f964c920df0>)])\n",
      "kwds = {}\n",
      "Meta.__init__ END\n",
      "\n"
     ]
    }
   ],
   "source": [
    "import collections\n",
    "\n",
    "class ABC:\n",
    "    pass\n",
    "\n",
    "class ListDict(dict):\n",
    "    def __setitem__(self, key, value):\n",
    "        self.setdefault(key, []).append(value)\n",
    "\n",
    "class Meta(type):\n",
    "\n",
    "    # _instance = None\n",
    "    IMPORTANT = \"\"\"\n",
    "        metaclass nhu nguoi quan ly, giam sat qua trinh tao class, vd: add, delete, modify, rename, check...,\n",
    "        voi attrs, functions, method, ....\n",
    "    \n",
    "        meta = Meta\n",
    "        classname = 'Singleton'\n",
    "        bases = (ABC,)\n",
    "        classdict = {'magic, class variable, function, static_method, class_method'}\n",
    "        \n",
    "        \n",
    "        auto create instance of type tuc la cls\n",
    "        cls = type.__new__(meta, classname, bases, classdict) #create_class run1\n",
    "              type.__init__(cls, classname, bases, classdict, **kwds)      #run2\n",
    "        \n",
    "        create instance for cls\n",
    "        type.__call__(cls, *args, **kwds) se goi class.__new__(cls, *args, **kwds)\n",
    "        va class.__init__(self, **kwds)\n",
    "        \n",
    "        \n",
    "        instance = object.__new__(cls)\n",
    "\n",
    "    \"\"\"\n",
    "\n",
    "    @classmethod\n",
    "    def __prepare__(meta, classname, bases, **kwds): #auto run 1 ko co cung dc\n",
    "        print(\"Tao la Meta.__prepare__\")\n",
    "        print(f\"{meta = }\\n{classname = }\\n{bases = }\\n{kwds = }\")\n",
    "        print()\n",
    "        return collections.OrderedDict()\n",
    "    \n",
    "    # @classmethod\n",
    "    def __new__(meta, classname, bases, classdict): #auto run 2\n",
    "        print(\"Tao la Meta.__new__ START\")\n",
    "        print(f\"{meta = }\\n{classname = }\\n{bases = }\\n{classdict = }\")\n",
    "        \n",
    "        #check classname, bases, classdict before create class\n",
    "        \n",
    "#         new_cls = super().__new__(meta, classname, bases, classdict) #create_class\n",
    "        new_cls = type.__new__(meta, classname, bases, classdict) #create_class\n",
    "\n",
    "        # after created class\n",
    "        \n",
    "        \n",
    "        #new_cls = Singleton or Base, ...\n",
    "        print(f\"{new_cls = }\")\n",
    "        \n",
    "        # add \n",
    "        #class attributes default, \n",
    "        # Singleton.created_by = 'made in Meta'\n",
    "        # Base.created_by = 'made in Meta'\n",
    "        new_cls.created_by = f\"made in {Meta.__name__}\"\n",
    "\n",
    "        print(\"Tao la Meta.__new__ END\")\n",
    "        print()\n",
    "        \n",
    "        return new_cls\n",
    "        # return type.__new__(meta, classname, bases, classdict) #create_class\n",
    "    \n",
    "    \n",
    "    def __init__(new_cls, classname, bases, classdict, **kwds): #auto run 3 ko co cung dc\n",
    "        print('Meta.__init__ START')\n",
    "        print(f\"{new_cls = }\\n{classname = }\\n{bases = }\\n{classdict = }\\n{kwds = }\")\n",
    "        print('Meta.__init__ END')\n",
    "        print()\n",
    "    \n",
    "    \n",
    "    # singleton = Singleton() run __call__\n",
    "    def __call__(new_cls, *args, **kwds):\n",
    "        print(f\"{'Meta.__call__ START':*^105}\")\n",
    "\n",
    "        print(f\"{new_cls = }\")\n",
    "        print(f\"{args = }\")\n",
    "        print(f\"{kwds = }\")\n",
    "\n",
    "#         instance = super().__call__(*args, **kwds)\n",
    "        instance = type.__call__(new_cls, *args, **kwds) # @classmethod\n",
    "        print(f\"{instance = }\")\n",
    "\n",
    "        print(f\"{'Meta.__call__ END':*^105}\")\n",
    "        print()\n",
    "        \n",
    "        return instance #bat buoc\n",
    "        # return  super().__call__(*args, **kwds)\n",
    "\n",
    "CLASS = \"\"\"\n",
    "    Person = Meta('Person', (,), {})\n",
    "    Person = type('Person', (,), {})\n",
    "    \n",
    "\"\"\"\n",
    "\n",
    "def decorator(cls):\n",
    "    return Meta(cls.__name__, cls.__bases__, dict(**cls.__dict__))\n",
    "\n",
    "\n",
    "#metaclass=Meta dung @decorator se khong run Meta.__prepare__\n",
    "class Singleton(ABC, metaclass=Meta):\n",
    "\n",
    "    IMPORTANT = False\n",
    "\n",
    "    def __init__(self):\n",
    "        print(\"Tao la Singleton__init__\")\n",
    "\n",
    "\n",
    "    def instance_method(self):\n",
    "        print(f\"{self = }\")\n",
    "\n",
    "\n",
    "    @staticmethod\n",
    "    def static_method():\n",
    "        pass\n",
    "\n",
    "    @classmethod\n",
    "    def class_method(cls):\n",
    "       pass"
   ]
  },
  {
   "cell_type": "code",
   "execution_count": 5,
   "metadata": {
    "scrolled": true
   },
   "outputs": [
    {
     "name": "stdout",
     "output_type": "stream",
     "text": [
      "Tao la Meta.__prepare__\n",
      "meta = <class '__main__.Meta'>\n",
      "classname = 'Base'\n",
      "bases = ()\n",
      "kwds = {}\n",
      "\n",
      "Tao la Meta.__new__ START\n",
      "meta = <class '__main__.Meta'>\n",
      "classname = 'Base'\n",
      "bases = ()\n",
      "classdict = OrderedDict([('__module__', '__main__'), ('__qualname__', 'Base'), ('note', \"\\n        base = Base('dung', 28)\\n        run __new__ roi toi __init__\\n        \"), ('__new__', <function Base.__new__ at 0x7f964d17e700>), ('__init__', <function Base.__init__ at 0x7f964d17eee0>), ('__call__', <function Base.__call__ at 0x7f964d17e820>)])\n",
      "new_cls = <class '__main__.Base'>\n",
      "Tao la Meta.__new__ END\n",
      "\n",
      "Meta.__init__ START\n",
      "new_cls = <class '__main__.Base'>\n",
      "classname = 'Base'\n",
      "bases = ()\n",
      "classdict = OrderedDict([('__module__', '__main__'), ('__qualname__', 'Base'), ('note', \"\\n        base = Base('dung', 28)\\n        run __new__ roi toi __init__\\n        \"), ('__new__', <function Base.__new__ at 0x7f964d17e700>), ('__init__', <function Base.__init__ at 0x7f964d17eee0>), ('__call__', <function Base.__call__ at 0x7f964d17e820>)])\n",
      "kwds = {}\n",
      "Meta.__init__ END\n",
      "\n",
      "--------------------------------------------------note---------------------------------------------------\n",
      "\n",
      "*******************************************Meta.__call__ START*******************************************\n",
      "new_cls = <class '__main__.Base'>\n",
      "args = (1, 2)\n",
      "kwds = {'name': 'dung', 'old': 38}\n",
      "\n",
      "Tao la Base.__new__ START\n",
      "cls = <class '__main__.Base'>\n",
      "args = (1, 2)\n",
      "kwds = {'name': 'dung', 'old': 38}\n",
      "self = <__main__.Base object at 0x7f964d188a00>\n",
      "type(self) = <class '__main__.Base'>\n",
      "Tao la Base.__new__ END\n",
      "\n",
      "Tao la Base.__init__ START\n",
      "Tao la Base.__init__ END\n",
      "\n",
      "instance = <__main__.Base object at 0x7f964d188a00>\n",
      "********************************************Meta.__call__ END********************************************\n",
      "\n",
      "base = <__main__.Base object at 0x7f964d188a00>\n",
      "base_two = <__main__.Base object at 0x7f964d188d30>\n"
     ]
    }
   ],
   "source": [
    "class Base(metaclass=Meta):\n",
    "\n",
    "    note = \"\"\"\n",
    "        base = Base('dung', 28)\n",
    "        run __new__ roi toi __init__\n",
    "        \"\"\"\n",
    "    \n",
    "    # @classmethod\n",
    "    def __new__(cls, *args, **kwds):\n",
    "        print()\n",
    "        print(\"Tao la Base.__new__ START\")\n",
    "        print(f\"{cls = }\\n{args = }\\n{kwds = }\")\n",
    "        \n",
    "#         self = super().__new__(cls)\n",
    "        self = object.__new__(cls)\n",
    "\n",
    "        self._country = 'VIET NAM' #instance attr chung cho tat ca instances(base1, base2, ...)\n",
    "        print(f\"{self = }\\n{type(self) = }\")\n",
    "\n",
    "\n",
    "        print(\"Tao la Base.__new__ END\")\n",
    "        print()\n",
    "        \n",
    "        return self #bat buoc doi call __init__\n",
    "#         return self = super().__new__(cls)\n",
    "\n",
    "    def __init__(self, a, b, name, old):\n",
    "        print('Tao la Base.__init__ START')\n",
    "        self._name = name\n",
    "        self._old = old\n",
    "        print('Tao la Base.__init__ END')\n",
    "        print()\n",
    "    \n",
    "    # obj()=self() run\n",
    "    def __call__(self, *args, **kwds):\n",
    "        print('Tao la Base.__call__ START')\n",
    "        print('Tao la Base.__call__ START')\n",
    "\n",
    "#metaclass\n",
    "# Base = Meta(Base.__name__, Base.__bases__, dict(**Base.__dict__))\n",
    "        \n",
    "print(f\"{'note':-^105}\",end='\\n'*2)\n",
    "\n",
    "base = Base(1,2,name='dung', old=38) #run Meta.__call__ se goi them Base.__new__ va Base.__init__ neu co\n",
    "# dinh nghia\n",
    "print(f\"{base = }\")\n",
    "\n",
    "# print(f\"{dir(base) = }\")\n",
    "\n",
    "\n",
    "base_two = object.__new__(Base) #create instance, NO attributes\n",
    "print(f\"{base_two = }\")"
   ]
  },
  {
   "cell_type": "markdown",
   "metadata": {},
   "source": [
    "# function metaclass"
   ]
  },
  {
   "cell_type": "code",
   "execution_count": 6,
   "metadata": {
    "scrolled": true
   },
   "outputs": [
    {
     "name": "stdout",
     "output_type": "stream",
     "text": [
      "classname = 'Test'\n",
      "bases = (<class '__main__.ABC'>,)\n",
      "classdict = {'__module__': '__main__', '__qualname__': 'Test', '__init__': <function Test.__init__ at 0x7f964d186c10>, 'abc': <function Test.abc at 0x7f964d186b80>}\n"
     ]
    }
   ],
   "source": [
    "def funcmeta(classname, bases, classdict):\n",
    "    print(f\"{classname = }\")\n",
    "    print(f\"{bases = }\")\n",
    "    print(f\"{classdict = }\")\n",
    "    return type(classname, bases, classdict)\n",
    "\n",
    "class Test(ABC, metaclass=funcmeta):\n",
    "    def __init__(self):\n",
    "        self.name = 'thong'\n",
    "        self.old = 30\n",
    "    def abc(self):\n",
    "        print('abc')\n",
    "        \n",
    "# metaclass=funcmeta se run nhu ben duoi  callback() 1 lan\n",
    "# Test = funcmeta(Test.__name__, Test.__bases__, dict(**Test.__dict__))"
   ]
  },
  {
   "cell_type": "markdown",
   "metadata": {},
   "source": [
    "# __init_subclass__ -> create arguments khi inheritance"
   ]
  },
  {
   "cell_type": "code",
   "execution_count": 7,
   "metadata": {},
   "outputs": [
    {
     "name": "stdout",
     "output_type": "stream",
     "text": [
      "QuestBase.__init_subclass__ start\n",
      "clsquest = <class '__main__.Quest'>\n",
      "QuestBase.__init_subclass__ end\n"
     ]
    }
   ],
   "source": [
    "class QuestBase:\n",
    "    # create parameters khi class thua ke\n",
    "    def __init_subclass__(clsquest, **kwargs):\n",
    "        print(\"QuestBase.__init_subclass__ start\")\n",
    "        print(f\"{clsquest = }\")\n",
    "\n",
    "        clsquest.country = kwargs['country']\n",
    "#         clsquest.country = country\n",
    "#         super().__init_subclass__(**kwargs)\n",
    "\n",
    "        print(\"QuestBase.__init_subclass__ end\")\n",
    "\n",
    "\n",
    "class Quest(QuestBase, country=\"England\"): #run QuestBase.__init_subclass__ khi Quest thua ke QuestBase beforce khi create\n",
    "    # instance = Quest()\n",
    "    pass"
   ]
  },
  {
   "cell_type": "code",
   "execution_count": 10,
   "metadata": {},
   "outputs": [
    {
     "name": "stdout",
     "output_type": "stream",
     "text": [
      "tao la __init_subclass__\n",
      "tao la __init_subclass__\n",
      "****************************************************************************************************\n",
      "\n",
      "SubClass1\n",
      "SubClass2\n"
     ]
    }
   ],
   "source": [
    "# defining a SuperClass\n",
    "class SuperClass:\n",
    "    def __init_subclass__(cls, default_name, **kwargs):\n",
    "        cls.default_name = default_name\n",
    "        print(\"tao la __init_subclass__\")\n",
    "        # cls.default_name lun la value default cho instance cua cac class thua ke no\n",
    "        \n",
    "        \n",
    "# \n",
    "class SubClass1(SuperClass, default_name =\"SubClass1\"):\n",
    "    pass\n",
    "\n",
    "\n",
    "# chi modify default_name duoc tren khung code thua ke\n",
    "class SubClass2(SuperClass, default_name =\"SubClass2\"):\n",
    "    default_name = \"InheritedClass\"\n",
    "    # khong the lay \"InheritedClass\" chi lay tu default_name =\"SubClass2\"\n",
    "\n",
    "print(f\"{'':*^100}\")\n",
    "print()\n",
    "\n",
    "# references for subclasses\n",
    "subClass1 = SubClass1()\n",
    "subClass2 = SubClass2()\n",
    "\n",
    "print(subClass1.default_name)\n",
    "print(subClass2.default_name)\n"
   ]
  },
  {
   "cell_type": "markdown",
   "metadata": {},
   "source": [
    "# __subclasshook__ check issubclass"
   ]
  },
  {
   "cell_type": "code",
   "execution_count": 8,
   "metadata": {},
   "outputs": [],
   "source": [
    "class Meta(type):\n",
    "    def __subclasscheck__(cls, subclass):\n",
    "        \"\"\"Just modify the behavior for classes that aren't genuine subclasses.\"\"\"\n",
    "        if super().__subclasscheck__(subclass):\n",
    "            return True\n",
    "        else:\n",
    "            pass\n",
    "            # Not a normal subclass, implement some customization here."
   ]
  },
  {
   "cell_type": "code",
   "execution_count": 9,
   "metadata": {},
   "outputs": [],
   "source": [
    "from abc import ABCMeta, abstractmethod\n",
    "\n",
    "def _check_methods(subclass, *methods):\n",
    "    mro = subclass.__mro__\n",
    "    for method in methods:\n",
    "        for B in mro:\n",
    "            if method in B.__dict__:\n",
    "                if B.__dict__[method] is None:\n",
    "                    return NotImplemented\n",
    "                break\n",
    "        else:\n",
    "            return NotImplemented\n",
    "        \n",
    "    return True\n",
    "\n",
    "\n",
    "# metaclass=ABCMeta -> bat buoc\n",
    "class Hashable(metaclass=ABCMeta):\n",
    "\n",
    "    __slots__ = ()\n",
    "\n",
    "    @abstractmethod\n",
    "    def __hash__(self):\n",
    "        return 0\n",
    "\n",
    "    @classmethod\n",
    "    def __subclasshook__(cls, subclass):\n",
    "        print(f\"{cls = }\")\n",
    "        print(f\"{subclass = }\")\n",
    "              \n",
    "        if cls is Hashable:\n",
    "            return _check_methods(subclass, \"__hash__\")\n",
    "        return NotImplementedfrom\n",
    "\n",
    "    \n",
    "class One:\n",
    "    pass\n",
    "\n",
    "class Two:\n",
    "    pass"
   ]
  },
  {
   "cell_type": "code",
   "execution_count": 10,
   "metadata": {},
   "outputs": [
    {
     "name": "stdout",
     "output_type": "stream",
     "text": [
      "cls = <class '__main__.Hashable'>\n",
      "subclass = <class '__main__.One'>\n"
     ]
    },
    {
     "data": {
      "text/plain": [
       "True"
      ]
     },
     "execution_count": 10,
     "metadata": {},
     "output_type": "execute_result"
    }
   ],
   "source": [
    "issubclass(One, Hashable) # run __subclasshook__"
   ]
  },
  {
   "cell_type": "code",
   "execution_count": 11,
   "metadata": {},
   "outputs": [
    {
     "name": "stdout",
     "output_type": "stream",
     "text": [
      "cls = <class '__main__.Hashable'>\n",
      "subclass = <class '__main__.Two'>\n"
     ]
    },
    {
     "data": {
      "text/plain": [
       "True"
      ]
     },
     "execution_count": 11,
     "metadata": {},
     "output_type": "execute_result"
    }
   ],
   "source": [
    "issubclass(Two, Hashable) # run __subclasshook__"
   ]
  },
  {
   "cell_type": "code",
   "execution_count": 12,
   "metadata": {},
   "outputs": [
    {
     "name": "stdout",
     "output_type": "stream",
     "text": [
      "cls = <class '__main__.Hashable'>\n",
      "subclass = <class 'dict'>\n"
     ]
    },
    {
     "data": {
      "text/plain": [
       "False"
      ]
     },
     "execution_count": 12,
     "metadata": {},
     "output_type": "execute_result"
    }
   ],
   "source": [
    "issubclass(dict, Hashable) # run __subclasshook__"
   ]
  },
  {
   "cell_type": "code",
   "execution_count": 13,
   "metadata": {},
   "outputs": [],
   "source": [
    "from abc import ABCMeta\n",
    "\n",
    "\n",
    "class Sized(metaclass=ABCMeta):\n",
    "    \n",
    "    @classmethod\n",
    "    def __subclasshook__(cls, subclass):\n",
    "        print(f\"{cls = }\")\n",
    "        print(f\"{subclass = }\")\n",
    "        \n",
    "        if cls is Sized:\n",
    "            if any(\"__len__\" in B.__dict__ for B in subclass.__mro__):\n",
    "                return True\n",
    "            else:\n",
    "                return False\n",
    "            \n",
    "        return NotImplemented\n",
    "\n",
    "class A(Sized):\n",
    "    pass\n",
    "\n",
    "class B(Sized):\n",
    "    def __len__(self):\n",
    "        return 0\n"
   ]
  },
  {
   "cell_type": "code",
   "execution_count": 14,
   "metadata": {},
   "outputs": [
    {
     "name": "stdout",
     "output_type": "stream",
     "text": [
      "cls = <class '__main__.Sized'>\n",
      "subclass = <class '__main__.A'>\n"
     ]
    },
    {
     "data": {
      "text/plain": [
       "False"
      ]
     },
     "execution_count": 14,
     "metadata": {},
     "output_type": "execute_result"
    }
   ],
   "source": [
    "issubclass(A, Sized) # run __subclasshook__"
   ]
  },
  {
   "cell_type": "code",
   "execution_count": 15,
   "metadata": {},
   "outputs": [
    {
     "name": "stdout",
     "output_type": "stream",
     "text": [
      "cls = <class '__main__.Sized'>\n",
      "subclass = <class '__main__.B'>\n"
     ]
    },
    {
     "data": {
      "text/plain": [
       "True"
      ]
     },
     "execution_count": 15,
     "metadata": {},
     "output_type": "execute_result"
    }
   ],
   "source": [
    "issubclass(B, Sized) # run __subclasshook__"
   ]
  },
  {
   "cell_type": "markdown",
   "metadata": {},
   "source": [
    "# iheritance SuperMeta"
   ]
  },
  {
   "cell_type": "code",
   "execution_count": 16,
   "metadata": {},
   "outputs": [
    {
     "name": "stdout",
     "output_type": "stream",
     "text": [
      "SubMeta.__class__ = <class 'type'>\n",
      "SubMeta.__mro__ = (<class '__main__.SubMeta'>, <class '__main__.SuperMeta'>, <class 'type'>, <class 'object'>)\n",
      "SubMeta.__call__ = <function SuperMeta.__call__ at 0x7f964d186820>\n",
      "\n",
      "let go!!!\n",
      "\n",
      "In SuperMeta.call: \n",
      "...<class '__main__.SubMeta'>\n",
      "...Product\n",
      "...()\n",
      "...{}\n",
      "In SubMeta.new: \n",
      "...<class '__main__.SubMeta'>\n",
      "...Product\n",
      "...()\n",
      "...{}\n",
      "In SubMeta init:\n",
      "...Product\n",
      "...()\n",
      "...{}\n",
      "...init class object: ['__module__', '__dict__', '__weakref__', '__doc__']\n",
      "SubMeta.__call__(SubMeta, 'Product', (),{}) = <class '__main__.Product'>\n",
      "\n",
      "****************************************************************************************************\n",
      "In SubMeta.new: \n",
      "...<class '__main__.SubMeta'>\n",
      "...Product\n",
      "...()\n",
      "...{}\n",
      "In SubMeta init:\n",
      "...Product\n",
      "...()\n",
      "...{}\n",
      "...init class object: ['__module__', '__dict__', '__weakref__', '__doc__']\n",
      "SubMeta('Product', (),{}) = <class '__main__.Product'>\n"
     ]
    }
   ],
   "source": [
    "class SuperMeta(type):\n",
    "    def __call__(meta, classname, bases, classdict):\n",
    "        print('In SuperMeta.call: ', meta, classname, bases, classdict, sep='\\n...')\n",
    "        return type.__call__(meta, classname, bases, classdict)\n",
    "\n",
    "class SubMeta(SuperMeta):\n",
    "    def __new__(meta, classname, bases, classdict):\n",
    "        print('In SubMeta.new: ', meta, classname, bases, classdict, sep='\\n...')\n",
    "        return type.__new__(meta, classname, bases, classdict)\n",
    "\n",
    "    def __init__(new_cls, classname, bases, classdict):\n",
    "        print('In SubMeta init:', classname, bases, classdict, sep='\\n...')\n",
    "        print('...init class object:', list(new_cls.__dict__.keys()))\n",
    "\n",
    "print(f\"{SubMeta.__class__ = }\")\n",
    "print(f\"{SubMeta.__mro__ = }\")\n",
    "print(f\"{SubMeta.__call__ = }\")\n",
    "print()\n",
    "print(\"let go!!!\")\n",
    "print()\n",
    "\n",
    "print(f\"{SubMeta.__call__(SubMeta, 'Product', (),{}) = }\")\n",
    "print()\n",
    "\n",
    "print(f\"{'':*<100}\")\n",
    "print(f\"{SubMeta('Product', (),{}) = }\")\n",
    "\n",
    "note = \"\"\"\n",
    "class Eggs:\n",
    "    pass\n",
    "print('making class')\n",
    "class Spam(Eggs, metaclass=SubMeta):\n",
    "    data = 1\n",
    "    def meth(self, arg):\n",
    "        pass\n",
    "print('making instance')\n",
    "X = Spam()\n",
    "print('data:', X.data)\n",
    "\"\"\""
   ]
  },
  {
   "cell_type": "code",
   "execution_count": 17,
   "metadata": {
    "scrolled": true
   },
   "outputs": [
    {
     "name": "stdout",
     "output_type": "stream",
     "text": [
      "making class\n",
      "In MetaObj.call: \n",
      "\t...self = <__main__.MetaObj object at 0x7f964c932100>\n",
      "\t...classname = 'Spam'\n",
      "\t...bases = (<class '__main__.Eggs'>,)\n",
      "\t...classdict = {'__module__': '__main__', '__qualname__': 'Spam', 'data': 1, 'meth': <function Spam.meth at 0x7f964c931d30>}\n",
      "In MetaObj.__New__: \n",
      "...Spam\n",
      "...(<class '__main__.Eggs'>,)\n",
      "...{'__module__': '__main__', '__qualname__': 'Spam', 'data': 1, 'meth': <function Spam.meth at 0x7f964c931d30>}\n",
      "In MetaObj.__Init__:\n",
      "...Spam\n",
      "...(<class '__main__.Eggs'>,)\n",
      "...{'__module__': '__main__', '__qualname__': 'Spam', 'data': 1, 'meth': <function Spam.meth at 0x7f964c931d30>}\n",
      "...init class object: ['__module__', 'data', 'meth', '__doc__']\n",
      "\n",
      "making instance\n",
      "data: 1 3\n"
     ]
    }
   ],
   "source": [
    "class MetaObj:\n",
    "    def __call__(self, classname, bases, classdict):\n",
    "        print('In MetaObj.call: ')\n",
    "        print(f\"\\t...{self = }\")\n",
    "        print(f\"\\t...{classname = }\")\n",
    "        print(f\"\\t...{bases = }\")\n",
    "        print(f\"\\t...{classdict = }\")\n",
    "        \n",
    "        Class = self.__New__(classname, bases, classdict)\n",
    "        self.__Init__(Class, classname, bases, classdict)\n",
    "        return Class\n",
    "\n",
    "    def __New__(self, classname, bases, classdict):\n",
    "        print('In MetaObj.__New__: ', classname, bases, classdict, sep='\\n...')\n",
    "        return type(classname, bases, classdict)\n",
    "\n",
    "    def __Init__(self, Class, classname, bases, classdict):\n",
    "        print('In MetaObj.__Init__:', classname, bases, classdict, sep='\\n...')\n",
    "        print('...init class object:', list(Class.__dict__.keys()))\n",
    "\n",
    "class Eggs:\n",
    "    pass\n",
    "\n",
    "print('making class')\n",
    "class Spam(Eggs, metaclass=MetaObj()):          # MetaObj is normal class instance\n",
    "    data = 1                                    # Called at end of statement\n",
    "    def meth(self, arg):\n",
    "        return self.data + arg\n",
    "# Spam = metaobj() tuc metaobj.__call__\n",
    "    \n",
    "print()\n",
    "print('making instance')\n",
    "X = Spam()\n",
    "print('data:', X.data, X.meth(2)) "
   ]
  },
  {
   "cell_type": "code",
   "execution_count": 18,
   "metadata": {},
   "outputs": [
    {
     "name": "stdout",
     "output_type": "stream",
     "text": [
      "making class\n",
      "In SuperMetaObj.call: \n",
      "...Spam\n",
      "...(<class '__main__.Eggs'>,)\n",
      "...{'__module__': '__main__', '__qualname__': 'Spam', 'data': 1, 'meth': <function Spam.meth at 0x7f964c9311f0>}\n",
      "self = <__main__.SubMetaObj object at 0x7f964c92beb0>\n",
      "\n",
      "------------------------------------------------New-------------------------------------------------\n",
      "In SubMetaObj.new: \n",
      "...Spam\n",
      "...(<class '__main__.Eggs'>,)\n",
      "...{'__module__': '__main__', '__qualname__': 'Spam', 'data': 1, 'meth': <function Spam.meth at 0x7f964c9311f0>}\n",
      "\n",
      "------------------------------------------------Init------------------------------------------------\n",
      "In SubMetaObj.init:\n",
      "...Spam\n",
      "...(<class '__main__.Eggs'>,)\n",
      "...{'__module__': '__main__', '__qualname__': 'Spam', 'data': 1, 'meth': <function Spam.meth at 0x7f964c9311f0>}\n",
      "...init class object: ['__module__', 'data', 'meth', '__doc__']\n",
      "\n",
      "making instance\n",
      "data: 1 3\n"
     ]
    }
   ],
   "source": [
    "class SuperMetaObj:\n",
    "    def __call__(self, classname, bases, classdict):\n",
    "        print('In SuperMetaObj.call: ', classname, bases, classdict, sep='\\n...')\n",
    "        print(f\"{self = }\")\n",
    "        \n",
    "        print()\n",
    "        print(f\"{'New':-^100}\")\n",
    "        Class = self.__New__(classname, bases, classdict)\n",
    "        \n",
    "        print()\n",
    "        print(f\"{'Init':-^100}\")\n",
    "        self.__Init__(Class, classname, bases, classdict)\n",
    "        \n",
    "        return Class\n",
    "\n",
    "class SubMetaObj(SuperMetaObj):\n",
    "    def __New__(self, classname, bases, classdict):\n",
    "        print('In SubMetaObj.new: ', classname, bases, classdict, sep='\\n...')\n",
    "        return type(classname, bases, classdict)\n",
    "\n",
    "    def __Init__(self, Class, classname, bases, classdict):\n",
    "        print('In SubMetaObj.init:', classname, bases, classdict, sep='\\n...')\n",
    "        print('...init class object:', list(Class.__dict__.keys()))\n",
    "\n",
    "class Eggs: \n",
    "    pass\n",
    "\n",
    "print('making class')\n",
    "class Spam(Eggs, metaclass=SubMetaObj()):\n",
    "    # Spam = submetaobj(Spam.__name__, Spam.__bases__, Spam.__dict__)\n",
    "    \n",
    "    data = 1                                  \n",
    "    def meth(self, arg):\n",
    "        return self.data + arg\n",
    "\n",
    "print()\n",
    "print('making instance')\n",
    "X = Spam()\n",
    "print('data:', X.data, X.meth(2))"
   ]
  },
  {
   "cell_type": "markdown",
   "metadata": {},
   "source": [
    "# SuperMeta and SubMeta, special"
   ]
  },
  {
   "cell_type": "code",
   "execution_count": 19,
   "metadata": {},
   "outputs": [
    {
     "name": "stdout",
     "output_type": "stream",
     "text": [
      "making metaclass\n",
      "In SuperMeta.__init__:\n",
      "...new_cls = <class '__main__.SubMeta'>\n",
      "...classname = 'SubMeta'\n",
      "...bases = (<class 'type'>,)\n",
      "...classdict = {'__module__': '__main__', '__qualname__': 'SubMeta', '__new__': <function SubMeta.__new__ at 0x7f964c93d0d0>, '__init__': <function SubMeta.__init__ at 0x7f964c93d160>}\n",
      "...init class object: ['__module__', '__new__', '__init__', '__doc__']\n",
      "\n",
      "making class\n",
      "In SuperMeta.__call__:\n",
      "...meta = <class '__main__.SubMeta'>\n",
      "...classname = 'Spam'\n",
      "...bases = (<class '__main__.Eggs'>,)\n",
      "...classdict = {'__module__': '__main__', '__qualname__': 'Spam', 'data': 1, 'meth': <function Spam.meth at 0x7f964c93d040>}\n",
      "\n",
      "\tIn SubMeta.__new__: \n",
      "\t...meta = <class '__main__.SubMeta'>\n",
      "\t...classname = 'Spam'\n",
      "\t...bases = (<class '__main__.Eggs'>,)\n",
      "\t...classdict = {'__module__': '__main__', '__qualname__': 'Spam', 'data': 1, 'meth': <function Spam.meth at 0x7f964c93d040>}\n",
      "\tIn SubMeta.__init__:\n",
      "\t...new_cls = <class '__main__.Spam'>\n",
      "\t...classname = 'Spam'\n",
      "\t...bases = (<class '__main__.Eggs'>,)\n",
      "\t...classdict = {'__module__': '__main__', '__qualname__': 'Spam', 'data': 1, 'meth': <function Spam.meth at 0x7f964c93d040>}\n",
      "\t...init class object: ['__module__', 'data', 'meth', '__doc__']\n",
      "\n",
      "making instance\n",
      "data: 1 3\n"
     ]
    }
   ],
   "source": [
    "class SuperMeta(type):\n",
    "    def __call__(meta, classname, bases, classdict):\n",
    "        print('In SuperMeta.__call__:')\n",
    "        print(f\"...{meta = }\")\n",
    "        print(f\"...{classname = }\")\n",
    "        print(f\"...{bases = }\")\n",
    "        print(f\"...{classdict = }\")\n",
    "        \n",
    "        return type.__call__(meta, classname, bases, classdict)\n",
    "\n",
    "    def __init__(new_cls, classname, bases, classdict):\n",
    "        print('In SuperMeta.__init__:')\n",
    "        print(f\"...{new_cls = }\")\n",
    "        print(f\"...{classname = }\")\n",
    "        print(f\"...{bases = }\")\n",
    "        print(f\"...{classdict = }\")\n",
    "        \n",
    "        print('...init class object:', list(new_cls.__dict__.keys()))\n",
    "\n",
    "print('making metaclass')\n",
    "class SubMeta(type, metaclass=SuperMeta): # chi run SuperMeta.__init__\n",
    "    \n",
    "    # @classmethod\n",
    "    def __new__(meta, classname, bases, classdict):\n",
    "        print()\n",
    "        print('\\tIn SubMeta.__new__: ')\n",
    "        print(f\"\\t...{meta = }\")\n",
    "        print(f\"\\t...{classname = }\")\n",
    "        print(f\"\\t...{bases = }\")\n",
    "        print(f\"\\t...{classdict = }\")\n",
    "        \n",
    "        return type.__new__(meta, classname, bases, classdict)\n",
    " \n",
    "    def __init__(new_cls, classname, bases, classdict):\n",
    "        print('\\tIn SubMeta.__init__:')\n",
    "        print(f\"\\t...{new_cls = }\")\n",
    "        print(f\"\\t...{classname = }\")\n",
    "        print(f\"\\t...{bases = }\")\n",
    "        print(f\"\\t...{classdict = }\")\n",
    "        print('\\t...init class object:', list(new_cls.__dict__.keys()))\n",
    "\n",
    "class Eggs:\n",
    "    pass\n",
    "\n",
    "print()\n",
    "print('making class')\n",
    "class Spam(Eggs, metaclass=SubMeta):  # run SuperMeta.__call__ \n",
    "    data = 1\n",
    "    def meth(self, arg):\n",
    "        return self.data + arg\n",
    "\n",
    "print()\n",
    "print('making instance')\n",
    "X = Spam()\n",
    "print('data:', X.data, X.meth(2))"
   ]
  },
  {
   "cell_type": "markdown",
   "metadata": {},
   "source": [
    "# SuperMeta.__call__ and SubMeta.__init__"
   ]
  },
  {
   "cell_type": "code",
   "execution_count": 20,
   "metadata": {},
   "outputs": [
    {
     "name": "stdout",
     "output_type": "stream",
     "text": [
      "SubMeta.__class__ = <class 'type'>\n",
      "['SubMeta', 'SuperMeta', 'type', 'object']\n",
      "\n",
      "SubMeta.__call__ = <function SuperMeta.__call__ at 0x7f964c93dee0>\n",
      "\n",
      "##############################__call__ va __init__##############################\n",
      "In SuperMeta.__call__:\n",
      "\t...meta = <class '__main__.SubMeta'>\n",
      "\t...classname = 'Human'\n",
      "\t...bases = ()\n",
      "\t...classdict = {}\n",
      "In SubMeta.__init__:\n",
      "\t...new_cls = <class '__main__.Human'>\n",
      "\t...classname = 'Human'\n",
      "\t...bases = ()\n",
      "\t...classdict = {}\n",
      "\n",
      "********************************SubMeta.__init__********************************\n",
      "In SubMeta.__init__:\n",
      "\t...new_cls = <class '__main__.Animal'>\n",
      "\t...classname = 'Animal'\n",
      "\t...bases = ()\n",
      "\t...classdict = {}\n"
     ]
    },
    {
     "data": {
      "text/plain": [
       "__main__.Animal"
      ]
     },
     "execution_count": 20,
     "metadata": {},
     "output_type": "execute_result"
    }
   ],
   "source": [
    "class SuperMeta(type):\n",
    "    # @classmethod\n",
    "    def __call__(meta, classname, bases, classdict):\n",
    "        print('In SuperMeta.__call__:')\n",
    "        print(f\"\\t...{meta = }\")\n",
    "        print(f\"\\t...{classname = }\")\n",
    "        print(f\"\\t...{bases = }\")\n",
    "        print(f\"\\t...{classdict = }\")\n",
    "        \n",
    "        return type.__call__(meta, classname, bases, classdict)\n",
    "\n",
    "class SubMeta(SuperMeta):                                  # Created by type default\n",
    "    def __init__(new_cls, classname, bases, classdict):     # Overrides type.__init__\n",
    "        print('In SubMeta.__init__:')\n",
    "        print(f\"\\t...{new_cls = }\")\n",
    "        print(f\"\\t...{classname = }\")\n",
    "        print(f\"\\t...{bases = }\")\n",
    "        print(f\"\\t...{classdict = }\")\n",
    "        \n",
    "print(f\"{SubMeta.__class__ = }\")\n",
    "print([n.__name__ for n in SubMeta.__mro__])\n",
    "print()\n",
    "print(f\"{SubMeta.__call__ = }\")                 # Not a data descriptor if found by name\n",
    "print()\n",
    "\n",
    "print(f\"{'__call__ va __init__':#^80}\")\n",
    "SubMeta.__call__(SubMeta, 'Human', (), {}) # run SuperMeta.__call__ roi toi SubMeta.__init__\n",
    "\n",
    "print()\n",
    "print(f\"{'SubMeta.__init__':*^80}\")\n",
    "SubMeta('Animal', (), {}) # run SubMeta.__init__"
   ]
  }
 ],
 "metadata": {
  "kernelspec": {
   "display_name": "Python 3 (ipykernel)",
   "language": "python",
   "name": "python3"
  },
  "language_info": {
   "codemirror_mode": {
    "name": "ipython",
    "version": 3
   },
   "file_extension": ".py",
   "mimetype": "text/x-python",
   "name": "python",
   "nbconvert_exporter": "python",
   "pygments_lexer": "ipython3",
   "version": "3.10.4"
  }
 },
 "nbformat": 4,
 "nbformat_minor": 4
}
