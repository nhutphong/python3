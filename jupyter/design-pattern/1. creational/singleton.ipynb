{
 "cells": [
  {
   "cell_type": "code",
   "execution_count": 1,
   "metadata": {},
   "outputs": [],
   "source": [
    "note = \"\"\"\n",
    "    \n",
    "    Vì class dùng Singleton chỉ tồn tại 1 Instance (thể hiện) \n",
    "    nên nó thường được dùng cho các trường hợp giải quyết \n",
    "    các bài toán cần truy cập vào các ứng dụng như:\n",
    "    Shared resource, Logger, Configuration, Caching, Thread pool, …\n",
    "    Một số design pattern khác cũng sử dụng Singleton để triển khai\n",
    "    : Abstract Factory, Builder, Prototype, Facade,…\n",
    "    \n",
    "\"\"\""
   ]
  },
  {
   "cell_type": "code",
   "execution_count": 2,
   "metadata": {},
   "outputs": [
    {
     "name": "stdout",
     "output_type": "stream",
     "text": [
      "App: Launched with the ConcreteCreator1.\n",
      "Client: I'm not aware of the creator's class, but it still works.\n",
      "Creator: The same creator's code has just worked with {Result of the ConcreteProduct1}\n",
      "\n",
      "App: Launched with the ConcreteCreator2.\n",
      "Client: I'm not aware of the creator's class, but it still works.\n",
      "Creator: The same creator's code has just worked with {Result of the ConcreteProduct2}"
     ]
    }
   ],
   "source": [
    "from __future__ import annotations\n",
    "from abc import ABC, abstractmethod\n",
    "\n",
    "\n",
    "class Creator(ABC):\n",
    "    @abstractmethod\n",
    "    def factory_method(self):\n",
    "        pass\n",
    "\n",
    "    def some_operation(self) -> str:\n",
    "        product = self.factory_method()\n",
    "        result = f\"Creator: The same creator's code has just worked with {product.operation()}\"\n",
    "\n",
    "        return result\n",
    "\n",
    "\n",
    "class ConcreteCreator1(Creator):\n",
    "    def factory_method(self) -> ConcreteProduct1:\n",
    "        return ConcreteProduct1()\n",
    "\n",
    "\n",
    "class ConcreteCreator2(Creator):\n",
    "    def factory_method(self) -> ConcreteProduct2:\n",
    "        return ConcreteProduct2()\n",
    "\n",
    "\n",
    "class Product(ABC):\n",
    "    @abstractmethod\n",
    "    def operation(self) -> str:\n",
    "        pass\n",
    "\n",
    "\n",
    "class ConcreteProduct1(Product):\n",
    "    def operation(self) -> str:\n",
    "        return \"{Result of the ConcreteProduct1}\"\n",
    "\n",
    "\n",
    "class ConcreteProduct2(Product):\n",
    "    def operation(self) -> str:\n",
    "        return \"{Result of the ConcreteProduct2}\"\n",
    "\n",
    "\n",
    "def client_code(creator: Creator) -> None:\n",
    "    print(f\"Client: I'm not aware of the creator's class, but it still works.\\n\"\n",
    "          f\"{creator.some_operation()}\", end=\"\")\n",
    "\n",
    "\n",
    "if __name__ == \"__main__\":\n",
    "    print(\"App: Launched with the ConcreteCreator1.\")\n",
    "    client_code(ConcreteCreator1())\n",
    "    print(\"\\n\")\n",
    "\n",
    "    print(\"App: Launched with the ConcreteCreator2.\")\n",
    "    client_code(ConcreteCreator2())"
   ]
  }
 ],
 "metadata": {
  "kernelspec": {
   "display_name": "Python 3",
   "language": "python",
   "name": "python3"
  },
  "language_info": {
   "codemirror_mode": {
    "name": "ipython",
    "version": 3
   },
   "file_extension": ".py",
   "mimetype": "text/x-python",
   "name": "python",
   "nbconvert_exporter": "python",
   "pygments_lexer": "ipython3",
   "version": "3.8.5"
  }
 },
 "nbformat": 4,
 "nbformat_minor": 4
}
