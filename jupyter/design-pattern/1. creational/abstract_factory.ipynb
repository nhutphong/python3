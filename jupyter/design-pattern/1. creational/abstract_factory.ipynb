{
 "cells": [
  {
   "cell_type": "code",
   "execution_count": 1,
   "metadata": {},
   "outputs": [],
   "source": [
    "note = \"\"\"\n",
    "\n",
    "    Các lợi ích của Factory Pattern cũng tương tự như Factory Method Pattern như:\n",
    "    cung cấp hướng tiếp cận với Interface\n",
    "    thay thì các implement, che giấu sự phức tạp của việc khởi tạo các đối tượng với người dùng (client), \n",
    "    độc lập giữa việc khởi tạo đối tượng và hệ thống sử dụng, …\n",
    "    Giúp tránh được việc sử dụng điều kiện logic bên trong Factory Pattern. Khi một Factory Method lớn \n",
    "    (có quá nhiều sử lý if-else hay switch-case), chúng ta nên sử dụng theo mô hình Abstract Factory \n",
    "    để dễ quản lý hơn (cách phân chia có thể là gom nhóm các sub-class cùng loại vào một Factory).\n",
    "    Abstract Factory Pattern là factory của các factory, có thể dễ dạng mở rộng để chứa thêm các factory \n",
    "    và các sub-class khác.\n",
    "    Dễ dàng xây dựng một hệ thống đóng gói (encapsulate): sử dụng được với nhiều nhóm đối tượng (factory) \n",
    "    và tạo nhiều product khác nhau.\n",
    "\n",
    "\"\"\""
   ]
  },
  {
   "cell_type": "code",
   "execution_count": 27,
   "metadata": {},
   "outputs": [
    {
     "name": "stdout",
     "output_type": "stream",
     "text": [
      "We have a lovely Dog\n",
      "It says OK gogo\n",
      "====================\n",
      "We have a lovely Cat\n",
      "It says OK meo meo\n",
      "====================\n",
      "We have a lovely Dog\n",
      "It says OK gogo\n",
      "====================\n"
     ]
    }
   ],
   "source": [
    "import random\n",
    "\n",
    "\n",
    "class PetShop:\n",
    "\n",
    "    \"\"\"A pet shop\"\"\"\n",
    "\n",
    "    def __init__(self, animal_factory=None):\n",
    "        \"\"\"pet_factory is our abstract factory.  We can set it at will.\"\"\"\n",
    "\n",
    "        self.pet_factory = animal_factory #class\n",
    "\n",
    "    def show_pet(self):\n",
    "        \"\"\"Creates and shows a pet using the abstract factory\"\"\"\n",
    "\n",
    "        pet = self.pet_factory() # 1 callable (func or class)\n",
    "        print(\"We have a lovely {}\".format(pet))\n",
    "        print(\"It says {}\".format(pet.speak()))\n",
    "\n",
    "\n",
    "class Dog:\n",
    "    def speak(self):\n",
    "        return \"OK gogo\"\n",
    "\n",
    "    def __str__(self):\n",
    "        return \"Dog\"\n",
    "\n",
    "\n",
    "class Cat:\n",
    "    def speak(self):\n",
    "        return \"OK meo meo\"\n",
    "\n",
    "    def __str__(self):\n",
    "        return \"Cat\"\n",
    "\n",
    "\n",
    "# Create a random animal\n",
    "def random_animal():\n",
    "    return random.choice([Dog, Cat])() #pet_object\n",
    "\n",
    "\n",
    "# Show pets with various factories\n",
    "def main():\n",
    "#     cat = PetShop(Cat)\n",
    "#     cat.show_pet()\n",
    "    animal = PetShop(random_animal)\n",
    "    for _ in range(3):\n",
    "        animal.show_pet()\n",
    "        print(\"=\"*20)\n",
    "    \n",
    "    \n",
    "\n",
    "if __name__ == \"__main__\":\n",
    "    main()\n",
    "    random.seed(1234)  # for deterministic doctest outputs\n",
    "    import doctest\n",
    "\n",
    "    doctest.testmod()"
   ]
  }
 ],
 "metadata": {
  "kernelspec": {
   "display_name": "Python 3",
   "language": "python",
   "name": "python3"
  },
  "language_info": {
   "codemirror_mode": {
    "name": "ipython",
    "version": 3
   },
   "file_extension": ".py",
   "mimetype": "text/x-python",
   "name": "python",
   "nbconvert_exporter": "python",
   "pygments_lexer": "ipython3",
   "version": "3.8.5"
  }
 },
 "nbformat": 4,
 "nbformat_minor": 4
}
