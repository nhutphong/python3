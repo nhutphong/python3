{
 "cells": [
  {
   "cell_type": "code",
   "execution_count": 1,
   "metadata": {},
   "outputs": [],
   "source": [
    "note = \"\"\"\n",
    "    \n",
    "    uu diem:\n",
    "    Tạo một đối tượng phức tạp: có nhiều thuộc tính (nhiều hơn 4) và một số bắt buộc (requried), \n",
    "    một số không bắt buộc (optional).\n",
    "    Khi có quá nhiều hàm constructor, bạn nên nghĩ đến Builder.\n",
    "    Muốn tách rời quá trình xây dựng một đối tượng phức tạp từ các phần tạo nên đối tượng.\n",
    "    Muốn kiểm soát quá trình xây dựng.\n",
    "    Khi người dùng (client) mong đợi nhiều cách khác nhau cho đối tượng được xây dựng.\n",
    "    \n",
    "    nhuoc diem:\n",
    "    Builder Pattern có nhược điểm là duplicate code khá nhiều: \n",
    "    do cần phải copy tất cả các thuộc tính từ class Product sang class Builder.\n",
    "    Tăng độ phức tạp của code (tổng thể) do số lượng class tăng lên.\n",
    "    \n",
    "\n",
    "\"\"\""
   ]
  },
  {
   "cell_type": "code",
   "execution_count": 2,
   "metadata": {
    "scrolled": true
   },
   "outputs": [
    {
     "name": "stdout",
     "output_type": "stream",
     "text": [
      "Floor: House | Size: Big\n",
      "Floor: Flat | Size: Small\n",
      "Floor: ComplexHouse | Size: Big and fancy\n"
     ]
    }
   ],
   "source": [
    "from abc import ABC, abstractmethod\n",
    "\n",
    "\n",
    "class Building(ABC):\n",
    "    def __init__(self):\n",
    "        self.build_floor()\n",
    "        self.build_size()\n",
    "    \n",
    "    @abstractmethod\n",
    "    def build_floor(self):\n",
    "        raise NotImplementedError\n",
    "    \n",
    "    @abstractmethod\n",
    "    def build_size(self):\n",
    "        raise NotImplementedError\n",
    "\n",
    "    def __repr__(self):\n",
    "        return \"Floor: {0.floor} | Size: {0.size}\".format(self)\n",
    "\n",
    "\n",
    "# Concrete Buildings\n",
    "class House(Building):\n",
    "    def build_floor(self):\n",
    "        self.floor = \"House\"\n",
    "\n",
    "    def build_size(self):\n",
    "        self.size = \"Big\"\n",
    "\n",
    "\n",
    "class Flat(Building):\n",
    "    def build_floor(self):\n",
    "        self.floor = \"Flat\"\n",
    "\n",
    "    def build_size(self):\n",
    "        self.size = \"Small\"\n",
    "\n",
    "\n",
    "\n",
    "class ComplexBuilding(ABC):\n",
    "    def __repr__(self):\n",
    "        return f\"Floor: {self.floor} | Size: {self.size}\"\n",
    "\n",
    "\n",
    "class ComplexHouse(ComplexBuilding):\n",
    "    def build_floor(self): #set\n",
    "        self.floor = \"ComplexHouse\"\n",
    "\n",
    "    def build_size(self): #set\n",
    "        self.size = \"Big and fancy\"\n",
    "\n",
    "\n",
    "def construct_building(cls):\n",
    "    building = cls()\n",
    "    building.build_floor()\n",
    "    building.build_size()\n",
    "    return building #obj\n",
    "\n",
    "\n",
    "def main():\n",
    "    for house in [House, Flat, ComplexHouse]:\n",
    "        print(construct_building(house))\n",
    "    \n",
    "main()\n"
   ]
  }
 ],
 "metadata": {
  "kernelspec": {
   "display_name": "Python 3",
   "language": "python",
   "name": "python3"
  },
  "language_info": {
   "codemirror_mode": {
    "name": "ipython",
    "version": 3
   },
   "file_extension": ".py",
   "mimetype": "text/x-python",
   "name": "python",
   "nbconvert_exporter": "python",
   "pygments_lexer": "ipython3",
   "version": "3.8.5"
  }
 },
 "nbformat": 4,
 "nbformat_minor": 4
}
