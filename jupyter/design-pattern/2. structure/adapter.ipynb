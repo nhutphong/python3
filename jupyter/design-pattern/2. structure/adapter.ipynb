{
 "cells": [
  {
   "cell_type": "code",
   "execution_count": 1,
   "metadata": {},
   "outputs": [
    {
     "name": "stdout",
     "output_type": "stream",
     "text": [
      "Client: I can work just fine with the Target objects:\n",
      "Target: The default target's behavior.\n",
      "\n",
      "Client: The Adaptee class has a weird interface. See, I don't understand it:\n",
      "Adaptee: .eetpadA eht fo roivaheb laicepS\n",
      "\n",
      "Client: But I can work with it via the Adapter:\n",
      "Adapter: (TRANSLATED) Special behavior of the Adaptee."
     ]
    }
   ],
   "source": [
    "\n",
    "\n",
    "\n",
    "\"\"\"\n",
    "nen xay dung cac abstractlass, no la khuon mau de ta iheritance xay dung cac class chua cac \n",
    "method=chuc nang da duoc qui dinh truoc\n",
    "\n",
    "cac class nen viet cac method trung ten nhau, tinh polymorphism\n",
    "de de quan ly va dung sau nay\n",
    "\n",
    "\n",
    "cac class chua cac instance_class khac thuong la view=control \n",
    "adapter chua adaptee, adapter control adaptee\n",
    "\n",
    "\n",
    "\"\"\"\n",
    "\n",
    "class Target():\n",
    "    \"\"\"\n",
    "    \"\"\"\n",
    "\n",
    "    def request(self) -> str:\n",
    "        return \"Target: The default target's behavior.\"\n",
    "\n",
    "\n",
    "class Adaptee:\n",
    "    \"\"\"\n",
    "    \"\"\"\n",
    "\n",
    "    def specific_request(self) -> str:\n",
    "        return \".eetpadA eht fo roivaheb laicepS\"\n",
    "\n",
    "\n",
    "class Adapter(Target): #controler\n",
    "    \"\"\"\n",
    "    \"\"\"\n",
    "\n",
    "    def __init__(self, adaptee: Adaptee) -> None:\n",
    "        self.adaptee = adaptee\n",
    "\n",
    "    def request(self) -> str:\n",
    "        return f\"Adapter: (TRANSLATED) {self.adaptee.specific_request()[::-1]}\"\n",
    "\n",
    "\n",
    "def client_code(target: Target) -> None:\n",
    "    \"\"\"\n",
    "    \"\"\"\n",
    "\n",
    "    print(target.request(), end=\"\")\n",
    "\n",
    "\n",
    "if __name__ == \"__main__\":\n",
    "    print(\"Client: I can work just fine with the Target objects:\")\n",
    "    target = Target()\n",
    "    client_code(target)\n",
    "    print(\"\\n\")\n",
    "\n",
    "    adaptee = Adaptee()\n",
    "    print(\"Client: The Adaptee class has a weird interface. See, I don't understand it:\")\n",
    "    print(f\"Adaptee: {adaptee.specific_request()}\", end=\"\\n\\n\")\n",
    "\n",
    "    print(\"Client: But I can work with it via the Adapter:\")\n",
    "    adapter = Adapter(adaptee)\n",
    "    client_code(adapter)"
   ]
  }
 ],
 "metadata": {
  "kernelspec": {
   "display_name": "Python 3",
   "language": "python",
   "name": "python3"
  },
  "language_info": {
   "codemirror_mode": {
    "name": "ipython",
    "version": 3
   },
   "file_extension": ".py",
   "mimetype": "text/x-python",
   "name": "python",
   "nbconvert_exporter": "python",
   "pygments_lexer": "ipython3",
   "version": "3.8.5"
  }
 },
 "nbformat": 4,
 "nbformat_minor": 4
}
