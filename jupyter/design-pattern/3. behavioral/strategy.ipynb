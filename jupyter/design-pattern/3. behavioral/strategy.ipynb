{
 "cells": [
  {
   "cell_type": "code",
   "execution_count": 3,
   "metadata": {
    "scrolled": true
   },
   "outputs": [
    {
     "name": "stdout",
     "output_type": "stream",
     "text": [
      "Client: ProductStrategy is set to normal sorting.\n",
      "view: Sorting data using the strategy (not sure how it'll do it)\n"
     ]
    },
    {
     "data": {
      "text/plain": [
       "'g*h*n*o*t'"
      ]
     },
     "execution_count": 3,
     "metadata": {},
     "output_type": "execute_result"
    }
   ],
   "source": [
    "from __future__ import annotations\n",
    "from abc import ABC, abstractmethod\n",
    "from typing import List\n",
    "\n",
    "\n",
    "class View():\n",
    "    \"\"\"\n",
    "    view nhu control nhan vao data ProductStrategy() call cac attr, method\n",
    "    view dung getter, setter nhan vao data moi HumanStrategy() va call\n",
    "    xay dung view call data, moi lan call 1 data minh dua vao\n",
    "\n",
    "    \"\"\"\n",
    "\n",
    "    def __init__(self, strategy: Strategy, name: str=None) -> None:\n",
    "        self._strategy = strategy # obj\n",
    "        self._name = name\n",
    "\n",
    "    @property\n",
    "    def strategy(self) -> Strategy:\n",
    "\n",
    "        return self._strategy\n",
    "\n",
    "    @strategy.setter\n",
    "    def strategy(self, strategy: Strategy) -> None:\n",
    "        self._strategy = strategy\n",
    "    \n",
    "    @property\n",
    "    def name(self):\n",
    "        return self._name\n",
    "    \n",
    "    @name.setter\n",
    "    def name(self, data):\n",
    "        self._name = data\n",
    "    \n",
    "    def do_some_business_logic(self) -> str:\n",
    "\n",
    "        print(\"view: Sorting data using the strategy (not sure how it'll do it)\")\n",
    "        iterable = list(reversed(self.name))[::-1]\n",
    "        result = self._strategy.do_algorithm(iterable)\n",
    "        return \"*\".join(result)\n",
    "\n",
    "\n",
    "class StrategyAbstract(ABC):\n",
    "       \n",
    "    @abstractmethod\n",
    "    def do_algorithm(self, data: List):\n",
    "        pass\n",
    "\n",
    "\n",
    "class ProductStrategy(StrategyAbstract):\n",
    "    def do_algorithm(self, data: List) -> List:\n",
    "        return sorted(data)\n",
    "\n",
    "\n",
    "class HumanStrategy(StrategyAbstract):\n",
    "    def do_algorithm(self, data: List) -> List:\n",
    "        return reversed(sorted(data))\n",
    "\n",
    "  \n",
    "view = View(ProductStrategy())\n",
    "view.name = 'thong'\n",
    "print(\"Client: ProductStrategy is set to normal sorting.\")\n",
    "view.do_some_business_logic()"
   ]
  },
  {
   "cell_type": "code",
   "execution_count": 4,
   "metadata": {
    "scrolled": true
   },
   "outputs": [
    {
     "name": "stdout",
     "output_type": "stream",
     "text": [
      "Client: HumanStrategy is set to reverse sorting.\n",
      "view: Sorting data using the strategy (not sure how it'll do it)\n"
     ]
    },
    {
     "data": {
      "text/plain": [
       "'t*o*n*h*g'"
      ]
     },
     "execution_count": 4,
     "metadata": {},
     "output_type": "execute_result"
    }
   ],
   "source": [
    "print(\"Client: HumanStrategy is set to reverse sorting.\")\n",
    "view.strategy = HumanStrategy()\n",
    "view.do_some_business_logic()"
   ]
  }
 ],
 "metadata": {
  "kernelspec": {
   "display_name": "Python 3",
   "language": "python",
   "name": "python3"
  },
  "language_info": {
   "codemirror_mode": {
    "name": "ipython",
    "version": 3
   },
   "file_extension": ".py",
   "mimetype": "text/x-python",
   "name": "python",
   "nbconvert_exporter": "python",
   "pygments_lexer": "ipython3",
   "version": "3.8.5"
  }
 },
 "nbformat": 4,
 "nbformat_minor": 4
}
