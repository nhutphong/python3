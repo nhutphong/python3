{
 "cells": [
  {
   "cell_type": "markdown",
   "metadata": {},
   "source": [
    "# re\n",
    "## bad"
   ]
  },
  {
   "cell_type": "code",
   "execution_count": 1,
   "metadata": {},
   "outputs": [
    {
     "name": "stdout",
     "output_type": "stream",
     "text": [
      "Cupertino: 95014\n"
     ]
    }
   ],
   "source": [
    "import re\n",
    "\n",
    "\n",
    "address = \"One Infinite Loop, Cupertino 95014\"\n",
    "city_zip_code_regex = r\"^[^,\\\\]+[,\\\\\\s]+(.+?)\\s*(\\d{5})?$\"\n",
    "\n",
    "matches = re.match(city_zip_code_regex, address)\n",
    "if matches:\n",
    "    print(f\"{matches[1]}: {matches[2]}\")"
   ]
  },
  {
   "cell_type": "markdown",
   "metadata": {},
   "source": [
    "## good"
   ]
  },
  {
   "cell_type": "code",
   "execution_count": 2,
   "metadata": {},
   "outputs": [
    {
     "name": "stdout",
     "output_type": "stream",
     "text": [
      "Cupertino, 95014\n"
     ]
    }
   ],
   "source": [
    "import re\n",
    "\n",
    "# (?P<city>.+?) set_name\n",
    "\n",
    "address = \"One Infinite Loop, Cupertino 95014\"\n",
    "city_zip_code_regex = r\"^[^,\\\\]+[,\\\\\\s]+(?P<city>.+?)\\s*(?P<zip_code>\\d{5})?$\"\n",
    "\n",
    "matches = re.match(city_zip_code_regex, address)\n",
    "if matches:\n",
    "    print(f\"{matches['city']}, {matches['zip_code']}\")"
   ]
  },
  {
   "cell_type": "markdown",
   "metadata": {},
   "source": [
    "# Đừng thêm ngữ cảnh không cần thiết\n",
    "## bad"
   ]
  },
  {
   "cell_type": "code",
   "execution_count": 3,
   "metadata": {},
   "outputs": [],
   "source": [
    "class Car:\n",
    "    car_make: str\n",
    "    car_model: str\n",
    "    car_color: str"
   ]
  },
  {
   "cell_type": "markdown",
   "metadata": {},
   "source": [
    "## good"
   ]
  },
  {
   "cell_type": "code",
   "execution_count": 4,
   "metadata": {},
   "outputs": [],
   "source": [
    "class Car:\n",
    "    make: str\n",
    "    model: str\n",
    "    color: str"
   ]
  },
  {
   "cell_type": "markdown",
   "metadata": {},
   "source": [
    "# Sử dụng các đối số mặc định thay vì dấu tròn hoặc điều kiện\n",
    "## bad"
   ]
  },
  {
   "cell_type": "code",
   "execution_count": 5,
   "metadata": {},
   "outputs": [],
   "source": [
    "import hashlib\n",
    "\n",
    "\n",
    "def create_micro_brewery(name):\n",
    "    name = \"Hipster Brew Co.\" if name is None else name\n",
    "    slug = hashlib.sha1(name.encode()).hexdigest()\n",
    "    # etc."
   ]
  },
  {
   "cell_type": "markdown",
   "metadata": {},
   "source": [
    "## good"
   ]
  },
  {
   "cell_type": "code",
   "execution_count": 6,
   "metadata": {},
   "outputs": [],
   "source": [
    "import hashlib\n",
    "\n",
    "\n",
    "def create_micro_brewery(name: str = \"Hipster Brew Co.\"):\n",
    "    slug = hashlib.sha1(name.encode()).hexdigest()\n",
    "    # etc."
   ]
  },
  {
   "cell_type": "markdown",
   "metadata": {},
   "source": [
    "# function(toi da 2 arg, it hon cang tot)"
   ]
  },
  {
   "cell_type": "code",
   "execution_count": 7,
   "metadata": {
    "scrolled": true
   },
   "outputs": [
    {
     "data": {
      "text/plain": [
       "{'title': 'My delicious menu',\n",
       " 'body': 'A description of the various items on the menu',\n",
       " 'button_text': 'Order now!',\n",
       " 'cancellable': True}"
      ]
     },
     "execution_count": 7,
     "metadata": {},
     "output_type": "execute_result"
    }
   ],
   "source": [
    "from typing import TypedDict, Text\n",
    "\n",
    "# python3.8\n",
    "class MenuConfig(TypedDict):\n",
    "    \n",
    "    \"\"\"\n",
    "    typing.TypeDict\n",
    "    \n",
    "    dung __getitem__ ['attr']\n",
    "    NO __getattr__ .atrr\n",
    "    \n",
    "    A configuration for the Menu.\n",
    "\n",
    "    Attributes:\n",
    "        title: The title of the Menu.\n",
    "        body: The body of the Menu.\n",
    "        button_text: The text for the button label.\n",
    "        cancellable: Can it be cancelled?\n",
    "    \"\"\"\n",
    "    title: Text\n",
    "    body: Text\n",
    "    button_text: Text\n",
    "    cancellable: bool\n",
    "\n",
    "\n",
    "def create_menu(config: MenuConfig):\n",
    "    title = config[\"title\"]\n",
    "    body = config[\"body\"]\n",
    "    button_text = config[\"button_text\"]\n",
    "    cancellable = config[\"cancellable\"]\n",
    "    return config\n",
    "    \n",
    "\n",
    "\n",
    "create_menu(\n",
    "    # You need to supply all the parameters\n",
    "    MenuConfig(\n",
    "        title=\"My delicious menu\", \n",
    "        body=\"A description of the various items on the menu\",\n",
    "        button_text=\"Order now!\",\n",
    "        cancellable=True\n",
    "    )\n",
    ")"
   ]
  },
  {
   "cell_type": "markdown",
   "metadata": {},
   "source": [
    "# function nen lam chi 1 viec\n",
    "## bad"
   ]
  },
  {
   "cell_type": "code",
   "execution_count": 8,
   "metadata": {},
   "outputs": [],
   "source": [
    "from typing import List\n",
    "\n",
    "\n",
    "class Client:\n",
    "    active: bool\n",
    "\n",
    "\n",
    "def email(client: Client) -> None:\n",
    "    pass\n",
    "\n",
    "\n",
    "def email_clients(clients: List[Client]) -> None:\n",
    "    \"\"\"Filter active clients and send them an email.\n",
    "    \"\"\"\n",
    "    for client in clients:\n",
    "        if client.active:\n",
    "            email(client)"
   ]
  },
  {
   "cell_type": "markdown",
   "metadata": {},
   "source": [
    "## good"
   ]
  },
  {
   "cell_type": "code",
   "execution_count": 9,
   "metadata": {},
   "outputs": [],
   "source": [
    "from typing import Generator, Iterator\n",
    "\n",
    "\n",
    "class Client:\n",
    "    active: bool\n",
    "\n",
    "\n",
    "def email(client: Client):\n",
    "    pass\n",
    "\n",
    "\n",
    "def active_clients(clients: Iterator[Client]) -> Generator[Client, None, None]:\n",
    "    \"\"\"Only active clients\"\"\"\n",
    "    return (client for client in clients if client.active)\n",
    "\n",
    "\n",
    "def email_client(clients: Iterator[Client]) -> None:\n",
    "    \"\"\"Send an email to a given list of clients.\n",
    "    \"\"\"\n",
    "    for client in active_clients(clients):\n",
    "        email(client)"
   ]
  },
  {
   "cell_type": "markdown",
   "metadata": {},
   "source": [
    "# ten ham phai noi len nhung gi chung lam\n",
    "## bad"
   ]
  },
  {
   "cell_type": "code",
   "execution_count": 10,
   "metadata": {},
   "outputs": [],
   "source": [
    "class Email:\n",
    "    def handle(self) -> None:\n",
    "        pass\n",
    "\n",
    "message = Email()\n",
    "# What is this supposed to do again?\n",
    "message.handle()"
   ]
  },
  {
   "cell_type": "markdown",
   "metadata": {},
   "source": [
    "## good"
   ]
  },
  {
   "cell_type": "code",
   "execution_count": 11,
   "metadata": {},
   "outputs": [],
   "source": [
    "class Email:\n",
    "    def send(self) -> None:\n",
    "        \"\"\"Send this message\"\"\"\n",
    "\n",
    "message = Email()\n",
    "message.send()"
   ]
  },
  {
   "cell_type": "markdown",
   "metadata": {},
   "source": [
    "# Các hàm chỉ nên là một cấp độ trừu tượng\n",
    "## bad"
   ]
  },
  {
   "cell_type": "code",
   "execution_count": 12,
   "metadata": {},
   "outputs": [],
   "source": [
    "def parse_better_js_alternative(code: str) -> None:\n",
    "    regexes = [\n",
    "        # ...\n",
    "    ]\n",
    "\n",
    "    statements = code.split('\\n')\n",
    "    tokens = []\n",
    "    for regex in regexes:\n",
    "        for statement in statements:\n",
    "            pass\n",
    "\n",
    "    ast = []\n",
    "    for token in tokens:\n",
    "        pass\n",
    "\n",
    "    for node in ast:\n",
    "        pass"
   ]
  },
  {
   "cell_type": "markdown",
   "metadata": {},
   "source": [
    "## good"
   ]
  },
  {
   "cell_type": "code",
   "execution_count": 13,
   "metadata": {},
   "outputs": [],
   "source": [
    "from typing import Tuple, List, Text, Dict\n",
    "\n",
    "\n",
    "REGEXES: Tuple = (\n",
    "   # ...\n",
    ")\n",
    "\n",
    "\n",
    "def parse_better_js_alternative(code: Text) -> None:\n",
    "    tokens: List = tokenize(code)\n",
    "    syntax_tree: List = parse(tokens)\n",
    "\n",
    "    for node in syntax_tree:\n",
    "        pass\n",
    "\n",
    "\n",
    "def tokenize(code: Text) -> List:\n",
    "    statements = code.split()\n",
    "    tokens: List[Dict] = []\n",
    "    for regex in REGEXES:\n",
    "        for statement in statements:\n",
    "            pass\n",
    "\n",
    "    return tokens\n",
    "\n",
    "\n",
    "def parse(tokens: List) -> List:\n",
    "    syntax_tree: List[Dict] = []\n",
    "    for token in tokens:\n",
    "        pass\n",
    "\n",
    "    return syntax_tree"
   ]
  },
  {
   "cell_type": "markdown",
   "metadata": {},
   "source": [
    "# Không sử dụng flags làm tham số hàm\n",
    "## bad"
   ]
  },
  {
   "cell_type": "code",
   "execution_count": 14,
   "metadata": {},
   "outputs": [],
   "source": [
    "from typing import Text\n",
    "from tempfile import gettempdir\n",
    "from pathlib import Path\n",
    "\n",
    "# no argument temp\n",
    "def create_file(name: Text, temp: bool) -> None:\n",
    "    if temp:\n",
    "        (Path(gettempdir()) / name).touch()\n",
    "    else:\n",
    "        Path(name).touch()"
   ]
  },
  {
   "cell_type": "markdown",
   "metadata": {},
   "source": [
    "## good"
   ]
  },
  {
   "cell_type": "code",
   "execution_count": 15,
   "metadata": {},
   "outputs": [],
   "source": [
    "from typing import Text\n",
    "from tempfile import gettempdir\n",
    "from pathlib import Path\n",
    "\n",
    "\n",
    "def create_file(name: Text) -> None:\n",
    "    Path(name).touch()\n",
    "\n",
    "\n",
    "def create_temp_file(name: Text) -> None:\n",
    "    (Path(gettempdir()) / name).touch()"
   ]
  },
  {
   "cell_type": "markdown",
   "metadata": {},
   "source": [
    "# Avoid side effects - tac dung phu\n",
    "## bad"
   ]
  },
  {
   "cell_type": "code",
   "execution_count": 16,
   "metadata": {},
   "outputs": [
    {
     "name": "stdout",
     "output_type": "stream",
     "text": [
      "fullname = ['Ryan', 'McDermott']\n"
     ]
    }
   ],
   "source": [
    "fullname = \"Ryan McDermott\"\n",
    "\n",
    "def split_into_first_and_last_name() -> None:\n",
    "    global fullname #effect\n",
    "    \n",
    "    fullname = fullname.split()\n",
    "\n",
    "split_into_first_and_last_name()\n",
    "\n",
    "print(f\"{fullname = }\")  # [\"Ryan\", \"McDermott\"]"
   ]
  },
  {
   "cell_type": "markdown",
   "metadata": {},
   "source": [
    "## good"
   ]
  },
  {
   "cell_type": "code",
   "execution_count": 17,
   "metadata": {},
   "outputs": [
    {
     "name": "stdout",
     "output_type": "stream",
     "text": [
      "name = 'Ryan' - surname = 'McDermott'\n",
      "fullname = 'Ryan McDermott'\n"
     ]
    }
   ],
   "source": [
    "from typing import List, AnyStr\n",
    "\n",
    "\n",
    "def split_into_first_and_last_name(name: AnyStr) -> List[AnyStr]:\n",
    "    return name.split()\n",
    "\n",
    "fullname = \"Ryan McDermott\"\n",
    "name, surname = split_into_first_and_last_name(fullname)\n",
    "\n",
    "print(f\"{name = } - {surname = }\")  # => Ryan McDermott\n",
    "print(f\"{fullname = }\")"
   ]
  },
  {
   "cell_type": "markdown",
   "metadata": {},
   "source": [
    "## also good"
   ]
  },
  {
   "cell_type": "code",
   "execution_count": 18,
   "metadata": {},
   "outputs": [
    {
     "name": "stdout",
     "output_type": "stream",
     "text": [
      "person.name = 'Dung Thong'\n",
      "person.name_as_first_and_last = ['Dung', 'Thong']\n"
     ]
    }
   ],
   "source": [
    "from dataclasses import dataclass\n",
    "\n",
    "@dataclass\n",
    "class Person:\n",
    "    name: str\n",
    "\n",
    "    @property\n",
    "    def name_as_first_and_last(self) -> list:\n",
    "        return self.name.split() \n",
    "\n",
    "\n",
    "# The reason why we create instances of classes is to manage state!\n",
    "person = Person(\"Dung Thong\")\n",
    "print(f\"{person.name = }\")  # => \"Dung Thong\"\n",
    "print(f\"{person.name_as_first_and_last = }\")"
   ]
  },
  {
   "cell_type": "markdown",
   "metadata": {},
   "source": [
    "# SOLID"
   ]
  },
  {
   "cell_type": "markdown",
   "metadata": {},
   "source": [
    "## 1. Single Responsibility Principle(SRP)"
   ]
  },
  {
   "cell_type": "code",
   "execution_count": 19,
   "metadata": {},
   "outputs": [],
   "source": [
    "note = \"\"\"\n",
    "    Mỗi lớp chỉ nên chịu trách nhiệm về một nhiệm vụ cụ thể nào đó mà thôi.\n",
    "\"\"\"\n",
    "\n",
    "class AccountDB:\n",
    "   \"\"\"Account DB management class \"\"\"\n",
    "\n",
    "   def get_account_number(self, _id):\n",
    "       \"\"\"Get account number\"\"\"\n",
    "       pass\n",
    "\n",
    "   def account_save(self, obj):\n",
    "       \"\"\"Save account number into DB\"\"\"\n",
    "       pass\n",
    "\n",
    "\n",
    "class Account:\n",
    "   \"\"\"Demo bank account class \"\"\"\n",
    "\n",
    "   def __init__(self, account_no: str):\n",
    "       self.account_no = account_no\n",
    "       self._db = AccountDB()\n",
    "\n",
    "   def get_account_number(self):\n",
    "       \"\"\"Get account number\"\"\"\n",
    "       return self.account_no\n",
    "\n",
    "   def get(self, _id):\n",
    "       \n",
    "       return self._db.get_account_number(_id=_id)\n",
    "\n",
    "   def save(self):\n",
    "       \"\"\"account save\"\"\"\n",
    "       self._db.account_save(obj=self)"
   ]
  },
  {
   "cell_type": "markdown",
   "metadata": {},
   "source": [
    "## 2. Open and Closed Principle(OCP)"
   ]
  },
  {
   "cell_type": "code",
   "execution_count": 20,
   "metadata": {},
   "outputs": [],
   "source": [
    "note = \"\"\"\n",
    "    Chúng ta nên hạn chế việc chỉnh sửa bên trong một Class hoặc Module có sẵn, \n",
    "    thay vào đó hãy xem xét mở rộng chúng.\n",
    "    \n",
    "    Khi cần thêm tính năng mới, ta nên kế thừa và mở rộng các module/class có sẵn thành các module con lớn hơn.\n",
    "    Các module/class con vừa có các đặc tính của lớp cha (đã được kiểm chứng đúng đắn),\n",
    "    vừa được bổ sung tính năng mới phù hợp với yêu cầu.\n",
    "    \n",
    "    \n",
    "    def give_discount(self):\n",
    "    \n",
    "       if self.customer == 'normal':\n",
    "           return self.price * 0.2\n",
    "       elif self.customer == 'vip':\n",
    "           return self.price * 0.4\n",
    "       elif self.customer ==  'supvip':\n",
    "           return self.price * 0.8\n",
    "\n",
    "\"\"\"\n",
    "\n",
    "class Discount:\n",
    "   \"\"\"Demo customer discount class\"\"\"\n",
    "\n",
    "   def __init__(self, customer, price):\n",
    "       self.customer = customer\n",
    "       self.price = price\n",
    "        \n",
    "   def get_discount(self):\n",
    "       \"\"\"A discount method\"\"\"\n",
    "       return self.price * 0.2\n",
    "\n",
    "\n",
    "class VIPDiscount(Discount):\n",
    "   \"\"\"Demo VIP customer discount class\"\"\"\n",
    "\n",
    "   def get_discount(self):\n",
    "       \"\"\"A discount method\"\"\"\n",
    "       return super().get_discount() * 2\n",
    "    \n",
    "    \n",
    "class SuperVIPDiscount(VIPDiscount):\n",
    "   \"\"\"Demo super vip customer discount class\"\"\"\n",
    "\n",
    "   def get_discount(self):\n",
    "       \"\"\"A discount method\"\"\"\n",
    "       return super().get_discount() * 4"
   ]
  },
  {
   "cell_type": "markdown",
   "metadata": {},
   "source": [
    "## 3. Liskov Substitution Principle(LSP)"
   ]
  },
  {
   "cell_type": "code",
   "execution_count": 21,
   "metadata": {
    "scrolled": true
   },
   "outputs": [],
   "source": [
    "note = \"\"\"\n",
    "     Các instance của lớp con có thể thay thế được instance lớp cha \n",
    "     mà vẫn đảm bảo tính đúng đắn của chương trình.\n",
    "     thuc ra la tinh da hinh\n",
    "     \n",
    "\"\"\"\n",
    "\n",
    "class Vehicle:\n",
    "   \"\"\"\n",
    "   xay dung cac methods dung chung, cho cac childs class\n",
    "   con cac childs class thi xay dung cac methods cho rieng no    \n",
    "        \n",
    "   \"\"\"\n",
    "\n",
    "   def __init__(self, name: str, speed: float):\n",
    "       self.name = name\n",
    "       self.speed = speed\n",
    "        \n",
    "   def get_name(self) -> str:\n",
    "       \"\"\"Get vehicle name\"\"\"\n",
    "       return f\"The vehicle name {self.name}\"\n",
    "\n",
    "   def get_speed(self) -> str:\n",
    "       \"\"\"Get vehicle speed\"\"\"\n",
    "       return f\"The vehicle speed {self.speed}\"\n",
    "    \n",
    "    \n",
    "class VehicleWithoutEngine(Vehicle):\n",
    "   \"\"\"A demo Vehicle without engine class\"\"\"\n",
    "\n",
    "   def start_moving(self):\n",
    "      \"\"\"Moving\"\"\"\n",
    "      raise NotImplemented\n",
    "        \n",
    "        \n",
    "class VehicleWithEngine(Vehicle):\n",
    "   \"\"\"A demo Vehicle engine class\"\"\"\n",
    "\n",
    "   def engine(self):\n",
    "      \"\"\"A vehicle engine\"\"\"\n",
    "      pass\n",
    "    \n",
    "   def start_engine(self):\n",
    "      \"\"\"A vehicle engine start\"\"\"\n",
    "      self.engine()\n",
    "    \n",
    "    \n",
    "class Car(VehicleWithEngine):\n",
    "   \"\"\"A demo Car Vehicle class\"\"\"\n",
    "\n",
    "   def start_engine(self):\n",
    "       pass\n",
    "\n",
    "\n",
    "class Bicycle(VehicleWithoutEngine):\n",
    "   \"\"\"A demo Bicycle Vehicle class\"\"\" \n",
    "\n",
    "   def start_moving(self):\n",
    "       pass"
   ]
  },
  {
   "cell_type": "markdown",
   "metadata": {},
   "source": [
    "## 4. Interface Segregation Principle(ISP)"
   ]
  },
  {
   "cell_type": "code",
   "execution_count": 22,
   "metadata": {},
   "outputs": [],
   "source": [
    "note = \"\"\"\n",
    "    Thay vì dùng 1 interface lớn, ta nên tách thành nhiều interface nhỏ, với nhiều mục đích cụ thể\n",
    "\"\"\"\n",
    "\n",
    "class BankAccount:\n",
    "   \"\"\"A demo Bank Account class\"\"\"\n",
    "\n",
    "   def __init__(self, balance: float, account: str):\n",
    "       self.account = {f\"{account}\": balance}\n",
    "                       \n",
    "   def balance(self, account: str):\n",
    "       \"\"\"Get current balance\"\"\"\n",
    "                       \n",
    "       raise NotImplemented\n",
    "                       \n",
    "                       \n",
    "class Deposit(BankAccount):          \n",
    "   \"\"\"A demo circle class\"\"\"\n",
    "                       \n",
    "   def balance(self, account: str):\n",
    "      \"\"\"Get current balance\"\"\"\n",
    "                       \n",
    "      return self.account.get(account)\n",
    "                       \n",
    "   def deposit(self, amount: float, account: str):\n",
    "       \"\"\"Deposit a new amount\"\"\"\n",
    "                       \n",
    "       current = self.balance(account)\n",
    "       new_amount = current + amount\n",
    "       self.account.update({account: new_amount})\n",
    "\n",
    "    \n",
    "class Child(BankAccount):\n",
    "    pass\n",
    "\n",
    "\n",
    "child = Child(1.5, 'phong')"
   ]
  },
  {
   "cell_type": "markdown",
   "metadata": {},
   "source": [
    "## 5. Dependency Inversion Principle(DIP)"
   ]
  },
  {
   "cell_type": "code",
   "execution_count": 23,
   "metadata": {},
   "outputs": [
    {
     "name": "stdout",
     "output_type": "stream",
     "text": [
      "Writing Python code\n",
      "Writing JavaScript code\n",
      "Develop codebase\n"
     ]
    }
   ],
   "source": [
    "note = \"\"\"\n",
    "    \n",
    "\"\"\"\n",
    "\n",
    "class BackendDeveloper:\n",
    "    \"\"\"This is a low-level module\"\"\"\n",
    "    \n",
    "    @staticmethod\n",
    "    def python():\n",
    "        print(\"Writing Python code\")\n",
    "        \n",
    "        \n",
    "class FrontendDeveloper:\n",
    "    \"\"\"This is a low-level module\"\"\"\n",
    "    \n",
    "    @staticmethod\n",
    "    def javascript():\n",
    "        print(\"Writing JavaScript code\")\n",
    "        \n",
    "        \n",
    "class Project:\n",
    "    \"\"\"This is a high-level module\"\"\"\n",
    "    \n",
    "    def __init__(self):\n",
    "        self.backend = BackendDeveloper()\n",
    "        self.frontend = FrontendDeveloper()\n",
    "        \n",
    "    def develop(self):\n",
    "        self.backend.python()\n",
    "        self.frontend.javascript()\n",
    "        \n",
    "        return \"Develop codebase\"\n",
    "    \n",
    "    \n",
    "project = Project()\n",
    "print(project.develop())\n"
   ]
  },
  {
   "cell_type": "markdown",
   "metadata": {},
   "source": [
    "### 5.1 polymorphism - tinh da hinh"
   ]
  },
  {
   "cell_type": "code",
   "execution_count": 24,
   "metadata": {},
   "outputs": [
    {
     "name": "stdout",
     "output_type": "stream",
     "text": [
      "Writing Python code\n",
      "Writing JavaScript code\n",
      "None\n"
     ]
    }
   ],
   "source": [
    "note = \"\"\"\n",
    "    thuc ra thi xay dung cac methods voi ten giong nhau...\n",
    "    ket hop voi decorator, @property...\n",
    "\"\"\"\n",
    "\n",
    "class BackendDeveloper:\n",
    "   \"\"\"This is a low-level module\"\"\"\n",
    "\n",
    "   def develop(self):\n",
    "       self.__python_code()\n",
    "    \n",
    "   @staticmethod\n",
    "   def __python_code():\n",
    "       print(\"Writing Python code\")\n",
    "    \n",
    "    \n",
    "class FrontendDeveloper:\n",
    "   \"\"\"This is a low-level module\"\"\"\n",
    "\n",
    "   def develop(self):\n",
    "       self.__javascript()\n",
    "    \n",
    "   @staticmethod\n",
    "   def __javascript():\n",
    "       print(\"Writing JavaScript code\")\n",
    "    \n",
    "    \n",
    "class Developers:\n",
    "   \"\"\"An Abstract module\"\"\"\n",
    "\n",
    "   def __init__(self):\n",
    "       self.backend = BackendDeveloper()\n",
    "       self.frontend = FrontendDeveloper()\n",
    "        \n",
    "   def develop(self):\n",
    "       self.backend.develop()\n",
    "       self.frontend.develop()\n",
    "    \n",
    "    \n",
    "class Project:\n",
    "   \"\"\"This is a high-level module\"\"\"\n",
    "\n",
    "   def __init__(self):\n",
    "       self.__developers = Developers()\n",
    "    \n",
    "   def develops(self):\n",
    "       return self.__developers.develop()\n",
    "    \n",
    "    \n",
    "project = Project()\n",
    "print(project.develops())"
   ]
  },
  {
   "cell_type": "markdown",
   "metadata": {},
   "source": [
    "### 5.2"
   ]
  },
  {
   "cell_type": "code",
   "execution_count": 25,
   "metadata": {
    "scrolled": true
   },
   "outputs": [
    {
     "name": "stdout",
     "output_type": "stream",
     "text": [
      "hello news paper\n",
      "None\n",
      "facebook - share this post on facebook\n",
      "None\n"
     ]
    }
   ],
   "source": [
    "class NewsPerson:\n",
    "   \"\"\"This is a high-level module\"\"\"\n",
    "\n",
    "   @staticmethod\n",
    "   def publish(news: str, publisher=None) -> None:\n",
    "       print(publisher.publish(news=news))\n",
    "        \n",
    "        \n",
    "class NewsPaper:\n",
    "   \"\"\"This is a low-level module\"\"\"\n",
    "\n",
    "   @staticmethod\n",
    "   def publish(news: str) -> None:\n",
    "       print(\"{} news paper\".format(news))\n",
    "        \n",
    "        \n",
    "class Facebook:\n",
    "   \"\"\"This is a low-level module\"\"\"\n",
    "\n",
    "   @staticmethod\n",
    "   def publish(news: str) -> None:\n",
    "       print(f\"{news} - share this post on {news}\")\n",
    "        \n",
    "        \n",
    "person = NewsPerson()\n",
    "person.publish(\"hello\", NewsPaper())\n",
    "person.publish(\"facebook\", Facebook())"
   ]
  },
  {
   "cell_type": "markdown",
   "metadata": {},
   "source": [
    "## Nguyên tắc YAGNI:\n"
   ]
  },
  {
   "cell_type": "code",
   "execution_count": 26,
   "metadata": {},
   "outputs": [],
   "source": [
    "note = \"\"\"\n",
    "    YAGNI = You Aren’t Gonna Need It\n",
    "    Nguyên tắc này là dự án của bạn đang làm thì chỉ cần tập trung xây dựng chức năng quyết vấn đề\n",
    "    ở thời điểm hiện tại\n",
    "    vấn đề mà khách hàng cần giải quyết, không cần lãng phí thời gian vào một chức năng \"Có thể sử dụng đến\".\n",
    "=>  Đừng tự vẽ việc cho mình.\n",
    "\"\"\""
   ]
  },
  {
   "cell_type": "markdown",
   "metadata": {},
   "source": [
    "## Nguyên tắc KISS"
   ]
  },
  {
   "cell_type": "code",
   "execution_count": 27,
   "metadata": {},
   "outputs": [],
   "source": [
    "note = \"\"\"\n",
    "    chi nho van de, chia nho, chia nao!!!!\n",
    "\"\"\""
   ]
  },
  {
   "cell_type": "markdown",
   "metadata": {},
   "source": [
    "## Nguyên tắc DRY:"
   ]
  },
  {
   "cell_type": "code",
   "execution_count": 28,
   "metadata": {},
   "outputs": [],
   "source": [
    "note = \"\"\"\n",
    "    dua code vao function hoac dung inheritance, chi call lai khi dung\n",
    "    tranh code lai doan cau do\n",
    "\"\"\""
   ]
  }
 ],
 "metadata": {
  "kernelspec": {
   "display_name": "Python 3",
   "language": "python",
   "name": "python3"
  },
  "language_info": {
   "codemirror_mode": {
    "name": "ipython",
    "version": 3
   },
   "file_extension": ".py",
   "mimetype": "text/x-python",
   "name": "python",
   "nbconvert_exporter": "python",
   "pygments_lexer": "ipython3",
   "version": "3.8.5"
  }
 },
 "nbformat": 4,
 "nbformat_minor": 4
}
