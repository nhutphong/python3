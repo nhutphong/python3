{
 "cells": [
  {
   "cell_type": "code",
   "execution_count": null,
   "metadata": {},
   "outputs": [],
   "source": []
  },
  {
   "cell_type": "markdown",
   "metadata": {},
   "source": [
    "# mutable types: list dict set"
   ]
  },
  {
   "cell_type": "code",
   "execution_count": null,
   "metadata": {},
   "outputs": [],
   "source": [
    "note = \"\"\"\n",
    "    list dict set: khi được pass làm argument cho function(list_dict_set), và thực hiện\n",
    "    các methods của chúng có chức năng in-place như: insert, remove change, update, chính items in itself\n",
    "    các mutable cũng được update, giống với chức năng Pointer của Golang, C, C++. ... \n",
    "    \n",
    "    vi thế argument value nên gán = immutable or = None, để tránh các result không mong muốn\n",
    "    \n",
    "    immutable: int float str tuple bool frozenset\n",
    "    NOT argument = list() or set() or dict()\n",
    "\"\"\""
   ]
  },
  {
   "cell_type": "code",
   "execution_count": 5,
   "metadata": {},
   "outputs": [
    {
     "data": {
      "text/plain": [
       "[1, 2, 3]"
      ]
     },
     "execution_count": 5,
     "metadata": {},
     "output_type": "execute_result"
    }
   ],
   "source": [
    "def add(arr=[], /, *, value=1):\n",
    "    arr.append(value)\n",
    "    return arr\n",
    "# arr chi được create 1 lân, và dùng lại cho những lần sau \n",
    "add()\n",
    "add(value=2)\n",
    "add(value=3)"
   ]
  },
  {
   "cell_type": "code",
   "execution_count": null,
   "metadata": {},
   "outputs": [],
   "source": []
  },
  {
   "cell_type": "markdown",
   "metadata": {
    "tags": []
   },
   "source": [
    "# tips and tricks"
   ]
  },
  {
   "cell_type": "markdown",
   "metadata": {
    "tags": []
   },
   "source": [
    "## swap keys values of dict"
   ]
  },
  {
   "cell_type": "code",
   "execution_count": 1,
   "metadata": {
    "tags": []
   },
   "outputs": [
    {
     "data": {
      "text/plain": [
       "{'name': 'thanh dung', 'age': 30, 'city': 'gia lai'}"
      ]
     },
     "execution_count": 1,
     "metadata": {},
     "output_type": "execute_result"
    }
   ],
   "source": [
    "data = dict(name='thanh dung', age=30, city='gia lai')\n",
    "data"
   ]
  },
  {
   "cell_type": "code",
   "execution_count": 2,
   "metadata": {},
   "outputs": [
    {
     "data": {
      "text/plain": [
       "{'name': 'thanh dung', 'age': 30, 'city': 'gia lai'}"
      ]
     },
     "execution_count": 2,
     "metadata": {},
     "output_type": "execute_result"
    }
   ],
   "source": [
    "keys = ('name', 'age', 'city')\n",
    "values = ('thanh dung', 30, 'gia lai')\n",
    "dict(zip(keys, values))"
   ]
  },
  {
   "cell_type": "code",
   "execution_count": 3,
   "metadata": {},
   "outputs": [
    {
     "data": {
      "text/plain": [
       "[('thanh dung', 'name'), (30, 'age'), ('gia lai', 'city')]"
      ]
     },
     "execution_count": 3,
     "metadata": {},
     "output_type": "execute_result"
    }
   ],
   "source": [
    "list(zip(data.values(), data.keys()))"
   ]
  },
  {
   "cell_type": "code",
   "execution_count": 4,
   "metadata": {},
   "outputs": [
    {
     "data": {
      "text/plain": [
       "{'thanh dung': 'name', 30: 'age', 'gia lai': 'city'}"
      ]
     },
     "execution_count": 4,
     "metadata": {},
     "output_type": "execute_result"
    }
   ],
   "source": [
    "swap_data = dict(zip(data.values(), data.keys()))\n",
    "swap_data"
   ]
  },
  {
   "cell_type": "code",
   "execution_count": null,
   "metadata": {},
   "outputs": [],
   "source": []
  },
  {
   "cell_type": "code",
   "execution_count": null,
   "metadata": {},
   "outputs": [],
   "source": []
  },
  {
   "cell_type": "code",
   "execution_count": null,
   "metadata": {},
   "outputs": [],
   "source": []
  },
  {
   "cell_type": "markdown",
   "metadata": {},
   "source": [
    "# giong @flask.route"
   ]
  },
  {
   "cell_type": "code",
   "execution_count": 5,
   "metadata": {},
   "outputs": [
    {
     "data": {
      "text/plain": [
       "('thong', '28', 'gialai')"
      ]
     },
     "execution_count": 5,
     "metadata": {},
     "output_type": "execute_result"
    }
   ],
   "source": [
    "import re\n",
    "\n",
    "\n",
    "def get_args(url):\n",
    "    regex = r'(<[\\w]+>)'\n",
    "    return re.findall(regex, url)\n",
    "\n",
    "def flattens(iterable):\n",
    "    for arg in iterable:\n",
    "        yield arg[1:-1]\n",
    "\n",
    "\n",
    "def route(url):\n",
    "    args = get_args(url)\n",
    "    iterator = flattens(args)\n",
    "\n",
    "    def decorator(func):\n",
    "\n",
    "        def wrapper():\n",
    "\n",
    "            return func(*iterator)\n",
    "\n",
    "        return wrapper\n",
    "\n",
    "    return decorator\n",
    "\n",
    "\n",
    "@route(\"home/<thong>/<28>/<gialai>/\")\n",
    "def home(name, old, city):\n",
    "    return name, old, city\n",
    "\n",
    "home()"
   ]
  },
  {
   "cell_type": "code",
   "execution_count": 6,
   "metadata": {},
   "outputs": [],
   "source": [
    "import math\n",
    "import os\n",
    "import sys\n",
    "\n",
    "\"\"\" Tao file algorithm.py\n",
    "\"\"\"\n",
    "\n",
    "__IMPORTANT__ = \"\"\" Tao la algorithm.py\n",
    "    __private global variable chi dung duoc trong chinh file no\n",
    "\"\"\"\n",
    "\n",
    "def recursive(n=5):\n",
    "    if n <= 1:\n",
    "        return n\n",
    "    else:\n",
    "        return n + recursive(n-1)\n",
    "\n",
    "def add_recursive(n=5):\n",
    "    if n <= 1:\n",
    "        return n\n",
    "    else:\n",
    "        return add_recursive(n-1) + add_recursive(n-2)\n",
    "\n",
    "def is_prime(n):\n",
    "    if n < 2:\n",
    "        return False\n",
    "    elif n == 2 or n == 3 or n == 5:\n",
    "        return True\n",
    "    elif n % 2 == 0 or n % 3 == 0 or n % 5 == 0:\n",
    "        return False\n",
    "\n",
    "    for i in range(5, int(n**.5), 2):  # Chỉ kiểm tra các số lẻ n**.5 = can bac 2 cua n\n",
    "        if n % i == 0:\n",
    "            return False\n",
    "\n",
    "    return True\n",
    "\n",
    "\n",
    "def binary_search(arr, left, right, value):\n",
    "\n",
    "    # dieu kien arr da duoc sap xep tang\n",
    "    if left < right:\n",
    "\n",
    "        mid = left + int((right - left)/2)\n",
    "\n",
    "        if arr[mid] == value:\n",
    "            return mid\n",
    "\n",
    "        elif arr[mid] > value:\n",
    "            return binary_search(arr, left, mid-1, value)\n",
    "\n",
    "        else:\n",
    "            return binary_search(arr, mid+1, right, value)\n",
    "\n",
    "    else:\n",
    "        # Element is not present in the array\n",
    "        return -1\n"
   ]
  }
 ],
 "metadata": {
  "kernelspec": {
   "display_name": "Python 3 (ipykernel)",
   "language": "python",
   "name": "python3"
  },
  "language_info": {
   "codemirror_mode": {
    "name": "ipython",
    "version": 3
   },
   "file_extension": ".py",
   "mimetype": "text/x-python",
   "name": "python",
   "nbconvert_exporter": "python",
   "pygments_lexer": "ipython3",
   "version": "3.10.6"
  }
 },
 "nbformat": 4,
 "nbformat_minor": 4
}
