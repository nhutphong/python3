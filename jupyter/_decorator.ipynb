{
 "cells": [
  {
   "cell_type": "code",
   "execution_count": 1,
   "metadata": {},
   "outputs": [
    {
     "data": {
      "text/plain": [
       "'********************************************************************************'"
      ]
     },
     "execution_count": 1,
     "metadata": {},
     "output_type": "execute_result"
    }
   ],
   "source": [
    "f\"{'':*^80}\""
   ]
  },
  {
   "cell_type": "markdown",
   "metadata": {},
   "source": [
    "# note"
   ]
  },
  {
   "cell_type": "code",
   "execution_count": 2,
   "metadata": {
    "tags": []
   },
   "outputs": [],
   "source": [
    "important = \"\"\"\n",
    "    decorator overwrite_name\n",
    "    @decorator callback 1 lan            my_func = decorator(my_func)\n",
    "    @decorator(...) callback 2 lan       my_func = decorator(*args, ...)(my_func)\n",
    "    \n",
    "    metaclass cung overwrite_name\n",
    "    class Human(metaclass=Meta)\n",
    "    \n",
    "    # Human = Meta(Human.__name__, Human.__bases__, Human.__dict__)\n",
    "    \n",
    "    decorator_func cho methods code binh thuong,\n",
    "    khi decorator thi wrapper(*args, **kwds) args(self, ...)\n",
    "    la function thuoc class do nen duoc truyen ngam self \n",
    "    va truyen cho return func(*args, **kwds)\n",
    "    \n",
    "\"\"\""
   ]
  },
  {
   "cell_type": "code",
   "execution_count": 3,
   "metadata": {},
   "outputs": [],
   "source": [
    "def split(func):\n",
    "    print('split(func)')\n",
    "\n",
    "    def wrapper(*args, **kwds):\n",
    "        print('split.wrapper(*args, **kwds)')\n",
    "\n",
    "        #important, xac dinh return_func la type[int, str, list, ...], de dung cac method tuong ung\n",
    "        string = func(*args, **kwds)\n",
    "        iterable = string.split()\n",
    "        return iterable\n",
    "\n",
    "    return wrapper\n",
    "\n",
    "\n",
    "def upper(func):\n",
    "\tprint('upper(func)')\n",
    "\n",
    "\tdef wrapper(*args, **kwds):\n",
    "\t\tprint('upper.wrapper(*args, **kwds)')\n",
    "\t\tstring = func(*args, **kwds).upper()\n",
    "\t\treturn string\n",
    "\n",
    "\treturn wrapper\n",
    "\n",
    "\n",
    "def title(func):\n",
    "\tprint('title(func)')\n",
    "\n",
    "\tdef wrapper(*args, **kwds):\n",
    "\t\tprint('title.wrapper(*args, **kwds)')\n",
    "\t\tstring = func(*args, **kwds).title()\n",
    "\t\treturn string\n",
    "\n",
    "\treturn wrapper\n",
    "\n",
    "\n",
    "def join(char='-'):\n",
    "\tprint('join(args)')\n",
    "\n",
    "\tdef decorator(func):\n",
    "\t\tprint('join.decorator(func)')\n",
    "\n",
    "\t\tdef wrapper(*args, **kwds):\n",
    "\t\t\tprint('join.decorator.wrapper(*args, **kwds)')\n",
    "\t\t\titerable = func(*args, **kwds)\n",
    "\t\t\treturn f'{char}'.join(iterable)\n",
    "\n",
    "\t\treturn wrapper\n",
    "\n",
    "\treturn decorator"
   ]
  },
  {
   "cell_type": "code",
   "execution_count": 4,
   "metadata": {},
   "outputs": [
    {
     "name": "stdout",
     "output_type": "stream",
     "text": [
      "join(args)\n",
      "upper(func)\n",
      "split(func)\n",
      "join.decorator(func)\n"
     ]
    }
   ],
   "source": [
    "@join('#')\n",
    "@split\n",
    "@upper\n",
    "def data(name=''):\n",
    "\tprint(\"tao la data\")\n",
    "\treturn name\n",
    "\n",
    "# data = join('#')(split(upper(data)))\n",
    "# run: join(args) - upper(func) - split(func) - join.decorator(func)\n",
    "\n",
    "# @decorator ko co arguments, thi la gan function run truoc\n",
    "# upper(func) - split(func) - join(func) = tu duoi len\n",
    "# nhung @decorator(args) nen run la join(args) - upper(func) - split(func) - join.decorator(func) = van tu duoi len"
   ]
  },
  {
   "cell_type": "code",
   "execution_count": 5,
   "metadata": {},
   "outputs": [
    {
     "name": "stdout",
     "output_type": "stream",
     "text": [
      "join.decorator.wrapper(*args, **kwds)\n",
      "split.wrapper(*args, **kwds)\n",
      "upper.wrapper(*args, **kwds)\n",
      "tao la data\n"
     ]
    },
    {
     "data": {
      "text/plain": [
       "'CHI#THONG'"
      ]
     },
     "execution_count": 5,
     "metadata": {},
     "output_type": "execute_result"
    }
   ],
   "source": [
    "data('chi thong') # run wrapper tu tren xuong"
   ]
  },
  {
   "cell_type": "code",
   "execution_count": 6,
   "metadata": {},
   "outputs": [
    {
     "name": "stdout",
     "output_type": "stream",
     "text": [
      "join(args)\n",
      "title(func)\n",
      "split(func)\n",
      "join.decorator(func)\n"
     ]
    }
   ],
   "source": [
    "@join('#')\n",
    "@split\n",
    "@title\n",
    "def info(name=''):\n",
    "\tprint(\"tao la data\")\n",
    "\treturn name\n",
    "\n",
    "# run: join - tile - split - join.decorator"
   ]
  },
  {
   "cell_type": "code",
   "execution_count": 7,
   "metadata": {},
   "outputs": [
    {
     "name": "stdout",
     "output_type": "stream",
     "text": [
      "join.decorator.wrapper(*args, **kwds)\n",
      "split.wrapper(*args, **kwds)\n",
      "title.wrapper(*args, **kwds)\n",
      "tao la data\n"
     ]
    },
    {
     "data": {
      "text/plain": [
       "'Thanh#Dung'"
      ]
     },
     "execution_count": 7,
     "metadata": {},
     "output_type": "execute_result"
    }
   ],
   "source": [
    "info('thanh dung') # run wrapper tu tren xuong"
   ]
  },
  {
   "cell_type": "markdown",
   "metadata": {},
   "source": [
    "# decorator basic"
   ]
  },
  {
   "cell_type": "code",
   "execution_count": 8,
   "metadata": {
    "scrolled": true
   },
   "outputs": [
    {
     "name": "stdout",
     "output_type": "stream",
     "text": [
      "join(args)\n",
      "split(args)\n",
      "split.decorator(func)\n",
      "title(func)\n",
      "join.decorator(func)\n",
      "\n"
     ]
    }
   ],
   "source": [
    "import random\n",
    "import time\n",
    "from functools import wraps\n",
    "import inspect\n",
    "\n",
    "def split(_func=None, *, sep=' '): #1\n",
    "    print(\"split(args)\")\n",
    "\n",
    "    def decorator(func): #2\n",
    "        print(\"split.decorator(func)\")\n",
    "        \n",
    "        @wraps(func)\n",
    "        def wrapper(*args, **kwds): #3\n",
    "            print(\"split.decorator.wrapper(*args, **kwds)\")\n",
    "            \n",
    "            return func(*args, **kwds).split(sep) #3\n",
    "\n",
    "        return wrapper #2\n",
    "\n",
    "    if _func is None:\n",
    "        return decorator #1\n",
    "    else:\n",
    "        return decorator(_func) #1\n",
    "\n",
    "\n",
    "def title(func): #1\n",
    "    print(\"title(func)\")\n",
    "    \n",
    "    @wraps(func)\n",
    "    def wrapper(*args, **kwds): #2\n",
    "        print(\"title.wrapper(*args, **kwds)\")\n",
    "        names = [name.title() for name in func(*args, **kwds)]\n",
    "        \n",
    "        return names #2\n",
    "\n",
    "    return wrapper #1\n",
    "\n",
    "\n",
    "def join(_func=None, *, sep=' '): #1\n",
    "    print(\"join(args)\")\n",
    "\n",
    "    def decorator(func):\n",
    "        print(\"join.decorator(func)\")\n",
    "        \n",
    "        @wraps(func)\n",
    "        def wrapper(*args, **kwds): #2\n",
    "            print(\"join.decorator.wrapper(*args, **kwds)\")\n",
    "            \n",
    "            return str.join(sep, func(*args, **kwds)) #3\n",
    "\n",
    "        return wrapper #2\n",
    "\n",
    "    if _func is None:\n",
    "        return decorator   #1 @join(sep='+') -> my_func = join(sep='+')(my_func)\n",
    "    else:\n",
    "        return decorator(_func) #1 @join => my_func = join(my_func)\n",
    "\n",
    "\n",
    "# get_names = wrapper_join = join(sep='-')(title(split(get_names)))\n",
    "@join(sep='-') #3\n",
    "@title #2\n",
    "@split #1 return decorator(_func) if _func is not None\n",
    "def get_names(name: str):\n",
    "    return name\n",
    "print()\n",
    "\n",
    "# get_names = to_join(get_names) #<=> @to_join \n",
    "\n",
    "# get_names = to_upper(get_names) #<=> @to_upper"
   ]
  },
  {
   "cell_type": "code",
   "execution_count": 9,
   "metadata": {
    "scrolled": true
   },
   "outputs": [
    {
     "name": "stdout",
     "output_type": "stream",
     "text": [
      "#####################################start######################################\n",
      "\n",
      "get_names.__name__ = 'get_names'\n",
      "join.decorator.wrapper(*args, **kwds)\n",
      "title.wrapper(*args, **kwds)\n",
      "split.decorator.wrapper(*args, **kwds)\n",
      "get_names('thong dung tan heo hanh phong') = 'Thong-Dung-Tan-Heo-Hanh-Phong'\n",
      "\n",
      "-------------------------1 __wrapped__ del 1 @decorator-------------------------\n",
      "\n",
      "title.wrapper(*args, **kwds)\n",
      "split.decorator.wrapper(*args, **kwds)\n",
      "get_names.__wrapped__('thong dung tan heo hanh phong') = ['Thong', 'Dung', 'Tan', 'Heo', 'Hanh', 'Phong']\n",
      "\n",
      "-------------------------2 __wrapped__ del 2 @decorator-------------------------\n",
      "\n",
      "co bao nhieu decorator thi .__wrapper__ bay nhieu lan\n",
      "split.decorator.wrapper(*args, **kwds)\n",
      "get_names.__wrapped__.__wrapped__('thong dung tan heo hanh phong') = ['thong', 'dung', 'tan', 'heo', 'hanh', 'phong']\n",
      "\n",
      "-----------------------inspect.unwrap del all @decorator------------------------\n",
      "\n",
      "nen dung inspect.unwrap bo tat ca decorator\n",
      "inspect.unwrap(get_names)('thong dung tan heo hanh phong') = 'thong dung tan heo hanh phong'\n"
     ]
    }
   ],
   "source": [
    "# print()\n",
    "# print(f\"{wrapper_join(['dung', 'thong', 'cau'])}\")\n",
    "print(f\"{'start':#^80}\")\n",
    "print()\n",
    "\n",
    "print(f\"{get_names.__name__ = }\")\n",
    "print(f\"{get_names('thong dung tan heo hanh phong') = }\")\n",
    "print()\n",
    "print(f\"{'1 __wrapped__ del 1 @decorator':-^80}\")\n",
    "print()\n",
    "print(f\"{get_names.__wrapped__('thong dung tan heo hanh phong') = }\")\n",
    "print()\n",
    "print(f\"{'2 __wrapped__ del 2 @decorator':-^80}\")\n",
    "print()\n",
    "print(\"co bao nhieu decorator thi .__wrapper__ bay nhieu lan\")\n",
    "print(f\"{get_names.__wrapped__.__wrapped__('thong dung tan heo hanh phong') = }\")\n",
    "print()\n",
    "print(f\"{'inspect.unwrap del all @decorator':-^80}\")\n",
    "print()\n",
    "print(\"nen dung inspect.unwrap bo tat ca decorator\")\n",
    "print(f\"{inspect.unwrap(get_names)('thong dung tan heo hanh phong') = }\")"
   ]
  },
  {
   "cell_type": "code",
   "execution_count": 10,
   "metadata": {},
   "outputs": [
    {
     "name": "stdout",
     "output_type": "stream",
     "text": [
      "action(args)\n",
      "action.function(func)\n",
      "================================================================================\n"
     ]
    }
   ],
   "source": [
    "from functools import wraps\n",
    "\n",
    "def action(one, two): #1\n",
    "    print('action(args)')\n",
    "\n",
    "    def function(func): #2\n",
    "        print(\"action.function(func)\")\n",
    "\n",
    "        @wraps(func)\n",
    "        def wrapper(*args, **kwds): #3\n",
    "            print('aciton.function.wrapper(*args, **kwds)')\n",
    "            wrapper.count += 1\n",
    "            print(f\"Call {wrapper.count} of {func.__name__!a}\")\n",
    "            return func(*args, **wrapper.kwds, **kwds) #3\n",
    "\n",
    "        wrapper.count = 0\n",
    "        wrapper.kwds = dict(one=one, two=two)\n",
    "        \n",
    "        return wrapper #2\n",
    "\n",
    "    return function #1\n",
    "\n",
    "@action(1, 2) # <=> info = action(1,2)(info) = wrapper\n",
    "def info(**kwds):\n",
    "    print('info')\n",
    "    return kwds\n",
    "# info = wrapper\n",
    "print(f\"{'':=^80}\")"
   ]
  },
  {
   "cell_type": "code",
   "execution_count": 11,
   "metadata": {},
   "outputs": [
    {
     "name": "stdout",
     "output_type": "stream",
     "text": [
      "aciton.function.wrapper(*args, **kwds)\n",
      "Call 1 of 'info'\n",
      "info\n",
      "info(three=3, four=4) = {'one': 1, 'two': 2, 'three': 3, 'four': 4}\n",
      "\n",
      "--------------------------------------------------------------------------------\n",
      "aciton.function.wrapper(*args, **kwds)\n",
      "Call 2 of 'info'\n",
      "info\n",
      "info(five=5, six=6) = {'one': 1, 'two': 2, 'five': 5, 'six': 6}\n"
     ]
    }
   ],
   "source": [
    "print(f\"{info(three=3, four=4) = }\")\n",
    "print()\n",
    "print(f\"{'':-^80}\")\n",
    "print(f\"{info(five=5, six=6) = }\")"
   ]
  },
  {
   "cell_type": "markdown",
   "metadata": {},
   "source": [
    "# basic"
   ]
  },
  {
   "cell_type": "code",
   "execution_count": 12,
   "metadata": {
    "tags": []
   },
   "outputs": [
    {
     "name": "stdout",
     "output_type": "stream",
     "text": [
      "eight(args)\n",
      "nine(args)\n",
      "ten(args)\n",
      "ten.decorator(func)\n",
      "three(func)\n",
      "nine.decorator(func)\n",
      "two(func)\n",
      "one(func)\n",
      "eight.decorator(func)\n"
     ]
    }
   ],
   "source": [
    "def one(func):\n",
    "    print('one(func)')\n",
    "\n",
    "    def wrapper(*args, **kwds):\n",
    "        print('one.wrapper(*args, **kwds)')\n",
    "\n",
    "        return func(*args, **kwds)\n",
    "\n",
    "    return wrapper\n",
    "\n",
    "\n",
    "def two(func):\n",
    "    print('two(func)')\n",
    "\n",
    "    def wrapper(*args, **kwds):\n",
    "        print('two.wrapper(*args, **kwds)')\n",
    "\n",
    "        return func(*args, **kwds)\n",
    "\n",
    "    return wrapper\n",
    "\n",
    "\n",
    "def three(func):\n",
    "    print('three(func)')\n",
    "\n",
    "    def wrapper(*args, **kwds):\n",
    "        print('three.wrapper(*args, **kwds)')\n",
    "\n",
    "        return func(*args, **kwds)\n",
    "\n",
    "    return wrapper\n",
    "\n",
    "\n",
    "def eight(char='-'):\n",
    "\tprint('eight(args)')\n",
    "\n",
    "\tdef decorator(func):\n",
    "\t\tprint('eight.decorator(func)')\n",
    "\n",
    "\t\tdef wrapper(*args, **kwds):\n",
    "\t\t\tprint('eight.decorator.wrapper(*args, **kwds)')\n",
    "\t\t\treturn func(*args, **kwds)\n",
    "\n",
    "\t\treturn wrapper\n",
    "\n",
    "\treturn decorator\n",
    "\n",
    "\n",
    "def nine(char='-'):\n",
    "\tprint('nine(args)')\n",
    "\n",
    "\tdef decorator(func):\n",
    "\t\tprint('nine.decorator(func)')\n",
    "\n",
    "\t\tdef wrapper(*args, **kwds):\n",
    "\t\t\tprint('nine.decorator.wrapper(*args, **kwds)')\n",
    "\t\t\treturn func(*args, **kwds)\n",
    "\n",
    "\t\treturn wrapper\n",
    "\n",
    "\treturn decorator\n",
    "\n",
    "\n",
    "def ten(char='-'):\n",
    "\tprint('ten(args)')\n",
    "\n",
    "\tdef decorator(func):\n",
    "\t\tprint('ten.decorator(func)')\n",
    "\n",
    "\t\tdef wrapper(*args, **kwds):\n",
    "\t\t\tprint('ten.decorator.wrapper(*args, **kwds)')\n",
    "\t\t\treturn func(*args, **kwds)\n",
    "\n",
    "\t\treturn wrapper\n",
    "\n",
    "\treturn decorator\n",
    "\n",
    "\n",
    "# neu @decorator(co arguments) thi run decorator(args)(func)\n",
    "#info = one_wrapper = one(two(three(info)))\n",
    "\n",
    "@eight(char='*')\n",
    "@one #3\n",
    "@two #2\n",
    "@nine(char='#')\n",
    "@three #1\n",
    "@ten(char='-')\n",
    "def info():\n",
    "    print('info')\n",
    "    return 'nguyen chi thong'\n",
    "# uu tien run function(args) truoc, sau do run function(func) tu DUOI LEN"
   ]
  },
  {
   "cell_type": "code",
   "execution_count": 13,
   "metadata": {},
   "outputs": [
    {
     "name": "stdout",
     "output_type": "stream",
     "text": [
      "eight.decorator.wrapper(*args, **kwds)\n",
      "one.wrapper(*args, **kwds)\n",
      "two.wrapper(*args, **kwds)\n",
      "nine.decorator.wrapper(*args, **kwds)\n",
      "three.wrapper(*args, **kwds)\n",
      "ten.decorator.wrapper(*args, **kwds)\n",
      "info\n"
     ]
    },
    {
     "data": {
      "text/plain": [
       "'nguyen chi thong'"
      ]
     },
     "execution_count": 13,
     "metadata": {},
     "output_type": "execute_result"
    }
   ],
   "source": [
    "info() # run wrapper(*args, **kwds) tu TREN XUONG"
   ]
  },
  {
   "cell_type": "markdown",
   "metadata": {},
   "source": [
    "# global and nonlocal"
   ]
  },
  {
   "cell_type": "code",
   "execution_count": 14,
   "metadata": {},
   "outputs": [
    {
     "name": "stdout",
     "output_type": "stream",
     "text": [
      "name = 'tao la global'\n",
      "\n",
      "change reference type\n",
      "name = 'nguyen chi thong'\n"
     ]
    }
   ],
   "source": [
    "name = 'tao la global'\n",
    "def get_name():\n",
    "    \"\"\"\n",
    "        global in scope function and file\n",
    "        giong nhu reference type = tham chieu\n",
    "    \"\"\"\n",
    "    global name\n",
    "\n",
    "    name = 'nguyen chi thong'\n",
    "\n",
    "print(f'{name = }')\n",
    "print()\n",
    "print('change reference type')\n",
    "get_name()\n",
    "print(f'{name = }')"
   ]
  },
  {
   "cell_type": "code",
   "execution_count": 15,
   "metadata": {},
   "outputs": [
    {
     "name": "stdout",
     "output_type": "stream",
     "text": [
      "name = 'tao la function'\n",
      "\n",
      "change reference type nested function nonlocal\n",
      "name = 'tao la wrapper'\n"
     ]
    }
   ],
   "source": [
    "def function():\n",
    "    \n",
    "    def wrapper():\n",
    "        \"\"\"\n",
    "            nonlocal in scope function and wrapper\n",
    "            cung reference type\n",
    "            nonlocal dung trong nested fuction\n",
    "            \n",
    "        \"\"\"\n",
    "        nonlocal name\n",
    "        name = 'tao la wrapper'\n",
    "\n",
    "    name = 'tao la function'\n",
    "    print(f'{name = }')\n",
    "    print()\n",
    "    \n",
    "    print('change reference type nested function nonlocal')\n",
    "    wrapper()\n",
    "\n",
    "    print(f'{name = }')\n",
    "    \n",
    "function()"
   ]
  },
  {
   "cell_type": "markdown",
   "metadata": {},
   "source": [
    "# DecoratorClassNoParam"
   ]
  },
  {
   "cell_type": "code",
   "execution_count": 16,
   "metadata": {
    "scrolled": true
   },
   "outputs": [
    {
     "name": "stdout",
     "output_type": "stream",
     "text": [
      "DecoratorClassNoParam\n",
      "------------------------------------------------------------------------\n",
      "DecoratorClassNoParam.__init__(self, func) start DecoratorClassNoParam\n",
      "\n"
     ]
    }
   ],
   "source": [
    "import functools\n",
    "\n",
    "class DecoratorClassNoParam: \n",
    "    __IMPORTANT__ = \"\"\"\n",
    "        syntax cho decorator class\n",
    "    \"\"\"\n",
    "    print(\"DecoratorClassNoParam\")\n",
    "    print('------------------------------------------------------------------------')\n",
    "\n",
    "    def __init__(self, func): #1 function(func)\n",
    "        print(f\"DecoratorClassNoParam.__init__(self, func) start {type(self).__name__}\") \n",
    "        \n",
    "        #functools.wraps(func) ko dung dc vi thieu param wrapper=self\n",
    "        functools.update_wrapper(self, func)\n",
    "        self.func = func\n",
    "      \n",
    "    def __call__(self, *args, **kwargs): #2 wrapper(*args, **kwds)\n",
    "        print(\"__call__ == wrapper(*args, **kwds)\")\n",
    "        \n",
    "        value = self.func(*args, **kwargs) \n",
    "  \n",
    "        \n",
    "        return value\n",
    "  \n",
    "\n",
    "@DecoratorClassNoParam  # info = DecoratorClass(function)\n",
    "def info(first_name='dung', last_name='thong', /, **kwds):\n",
    "    \"\"\"tao la def info()\"\"\"\n",
    "    return dict(first_name=first_name, last_name=last_name, **kwds)\n",
    "print()"
   ]
  },
  {
   "cell_type": "code",
   "execution_count": 17,
   "metadata": {
    "scrolled": true
   },
   "outputs": [
    {
     "name": "stdout",
     "output_type": "stream",
     "text": [
      "__call__ == wrapper(*args, **kwds)\n",
      "info() = {'first_name': 'dung', 'last_name': 'thong'}  <__call__()>\n",
      "\n",
      "info = <__main__.DecoratorClassNoParam object at 0x7f8fda094460>\n",
      "vars(info) = {'__module__': '__main__', '__name__': 'info', '__qualname__': 'info', '__doc__': 'tao la def info()', '__annotations__': {}, '__wrapped__': <function info at 0x7f8fda0ccc10>, 'func': <function info at 0x7f8fda0ccc10>}\n",
      "info.func() = {'first_name': 'dung', 'last_name': 'thong'} <self.function()>\n",
      "\n",
      "info.__name__ = 'info'\n",
      "info.__doc__ = 'tao la def info()'\n"
     ]
    }
   ],
   "source": [
    "print(f\"{info() = }  <__call__()>\")\n",
    "print()\n",
    "print(f\"{info = }\")\n",
    "print(f\"{vars(info) = }\")\n",
    "print(f\"{info.func() = } <self.function()>\")\n",
    "print()\n",
    "print(f\"{info.__name__ = }\")\n",
    "print(f\"{info.__doc__ = }\")"
   ]
  },
  {
   "cell_type": "markdown",
   "metadata": {},
   "source": [
    "# DecoratorClassYesParam"
   ]
  },
  {
   "cell_type": "code",
   "execution_count": 18,
   "metadata": {},
   "outputs": [
    {
     "name": "stdout",
     "output_type": "stream",
     "text": [
      "DecoratorClassYesParam\n",
      "------------------------------------------------------------------------\n",
      "DecoratorClassYesParam.__init__(*args)\n",
      "DecoratorClassYesParam.__call__(self, func)\n"
     ]
    }
   ],
   "source": [
    "from functools import wraps\n",
    "\n",
    "class DecoratorClassYesParam: \n",
    "    __IMPORTANT__ = \"\"\"\n",
    "        syntax cho decorator class\n",
    "    \"\"\"\n",
    "    print(\"DecoratorClassYesParam\")\n",
    "    print('------------------------------------------------------------------------')\n",
    "\n",
    "    def __init__(self, one, two): #1 action(param1, param2)\n",
    "        print(f\"DecoratorClassYesParam.__init__(*args)\") \n",
    "        self.one = one\n",
    "        self.two = two\n",
    "      \n",
    "    def __call__(self, func): #2 functions(func)\n",
    "        print(\"DecoratorClassYesParam.__call__(self, func)\")\n",
    "\n",
    "        @wraps(func)\n",
    "        def wrapper(*args, **kwds): #3 wrapper(*args, **kwds)\n",
    "            print(\"wrapper(*args, **kwds)\")\n",
    "            return func(*args, **kwds, **wrapper.kwds)\n",
    "\n",
    "\n",
    "        wrapper.kwds = dict(one=self.one, two=self.two)\n",
    "        return wrapper\n",
    "  \n",
    "\n",
    "@DecoratorClassYesParam(1, 2) #info = @DecoratorClassYesParam(1,2) = DecoratorClassYesParam(1,2)(function)\n",
    "def info(first_name='dung', last_name='thong', /, **kwds):\n",
    "    \"\"\"tao la def info()\"\"\"\n",
    "    return dict(first_name=first_name, last_name=last_name, **kwds)"
   ]
  },
  {
   "cell_type": "code",
   "execution_count": 19,
   "metadata": {},
   "outputs": [
    {
     "name": "stdout",
     "output_type": "stream",
     "text": [
      "wrapper(*args, **kwds)\n"
     ]
    },
    {
     "data": {
      "text/plain": [
       "{'first_name': 'dung',\n",
       " 'last_name': 'thong',\n",
       " 'country': 'viet nam',\n",
       " 'city': 'gia lai',\n",
       " 'one': 1,\n",
       " 'two': 2}"
      ]
     },
     "execution_count": 19,
     "metadata": {},
     "output_type": "execute_result"
    }
   ],
   "source": [
    "info(country='viet nam', city='gia lai')"
   ]
  },
  {
   "cell_type": "code",
   "execution_count": 20,
   "metadata": {},
   "outputs": [
    {
     "name": "stdout",
     "output_type": "stream",
     "text": [
      "info = <function info at 0x7f8fda0cd900>\n",
      "info.__doc__ = 'tao la def info()'\n",
      "vars(info) = {'__wrapped__': <function info at 0x7f8fda0cc0d0>, 'kwds': {'one': 1, 'two': 2}}\n"
     ]
    }
   ],
   "source": [
    "print(f\"{info = }\")\n",
    "print(f\"{info.__doc__ = }\")\n",
    "print(f\"{vars(info) = }\")"
   ]
  },
  {
   "cell_type": "code",
   "execution_count": 21,
   "metadata": {},
   "outputs": [
    {
     "name": "stdout",
     "output_type": "stream",
     "text": [
      "Tao la count_calls\n"
     ]
    }
   ],
   "source": [
    "from functools import wraps\n",
    "\n",
    "def count_calls(func):\n",
    "    print(\"Tao la count_calls\")\n",
    "\n",
    "    @wraps(func)\n",
    "    def wrapper(*args, **kwargs):\n",
    "        wrapper.count += 1\n",
    "        print(f\"wrapper {wrapper.count} of {func.__name__!a}\")\n",
    "        return func(*args, **kwargs)\n",
    "\n",
    "    wrapper.count = 0\n",
    "    return wrapper\n",
    "\n",
    "@count_calls #cach1 <=> #cach2 \n",
    "def say_whee(): #say_whee = wrapper\n",
    "    return f\"whee!\"\n",
    "#cach2 #say_whee = count_calls(say_whee)"
   ]
  },
  {
   "cell_type": "code",
   "execution_count": 22,
   "metadata": {},
   "outputs": [
    {
     "name": "stdout",
     "output_type": "stream",
     "text": [
      "\n",
      "wrapper 1 of 'say_whee'\n",
      "say_whee() = 'whee!'\n"
     ]
    }
   ],
   "source": [
    "print()\n",
    "print(f\"{say_whee() = }\")"
   ]
  },
  {
   "cell_type": "code",
   "execution_count": 23,
   "metadata": {},
   "outputs": [
    {
     "name": "stdout",
     "output_type": "stream",
     "text": [
      "\n",
      "wrapper 2 of 'say_whee'\n",
      "say_whee() = 'whee!'\n"
     ]
    }
   ],
   "source": [
    "print()\n",
    "print(f\"{say_whee() = }\")"
   ]
  },
  {
   "cell_type": "code",
   "execution_count": 24,
   "metadata": {},
   "outputs": [
    {
     "name": "stdout",
     "output_type": "stream",
     "text": [
      "\n",
      "wrapper 3 of 'say_whee'\n",
      "say_whee() = 'whee!'\n"
     ]
    }
   ],
   "source": [
    "print()\n",
    "print(f\"{say_whee() = }\")"
   ]
  },
  {
   "cell_type": "markdown",
   "metadata": {},
   "source": [
    "# @singleton for class"
   ]
  },
  {
   "cell_type": "code",
   "execution_count": 25,
   "metadata": {},
   "outputs": [
    {
     "name": "stdout",
     "output_type": "stream",
     "text": [
      "singleon(cls)\n"
     ]
    }
   ],
   "source": [
    "from functools import wraps\n",
    "\n",
    "def singleton(cls):\n",
    "    \"\"\"chi duy nhat 1 object cho class\"\"\"\n",
    "    print(\"singleon(cls)\")\n",
    "    @wraps(cls)\n",
    "    def wrapper_singleton(*args, **kwargs):\n",
    "        print('wrapper(*args, **kwds)')\n",
    "        if not wrapper_singleton.instance:\n",
    "            wrapper_singleton.instance = cls(*args, **kwargs)\n",
    "\n",
    "        return wrapper_singleton.instance\n",
    "\n",
    "    wrapper_singleton.instance = None\n",
    "    return wrapper_singleton\n",
    "\n",
    "@singleton\n",
    "class TheOne:\n",
    "    pass"
   ]
  },
  {
   "cell_type": "code",
   "execution_count": 26,
   "metadata": {},
   "outputs": [
    {
     "name": "stdout",
     "output_type": "stream",
     "text": [
      "wrapper(*args, **kwds)\n"
     ]
    }
   ],
   "source": [
    "first_one = TheOne()"
   ]
  },
  {
   "cell_type": "code",
   "execution_count": 27,
   "metadata": {},
   "outputs": [
    {
     "name": "stdout",
     "output_type": "stream",
     "text": [
      "wrapper(*args, **kwds)\n"
     ]
    }
   ],
   "source": [
    "another_one = TheOne()"
   ]
  },
  {
   "cell_type": "code",
   "execution_count": 28,
   "metadata": {},
   "outputs": [
    {
     "name": "stdout",
     "output_type": "stream",
     "text": [
      "id(first_one) = 140255815277520\n",
      "id(another_one) = 140255815277520\n",
      "first_one is another_one = True\n"
     ]
    }
   ],
   "source": [
    "print(f\"{id(first_one) = }\")\n",
    "\n",
    "print(f\"{id(another_one) = }\")\n",
    "\n",
    "print(f\"{first_one is another_one = }\")"
   ]
  },
  {
   "cell_type": "markdown",
   "metadata": {},
   "source": [
    "# singleton class with __new__"
   ]
  },
  {
   "cell_type": "code",
   "execution_count": 29,
   "metadata": {},
   "outputs": [],
   "source": [
    "class Car: \n",
    "    cache = dict() \n",
    " \n",
    "    # @classmethod\n",
    "    def __new__(cls, car_type):\n",
    "        print(\"Car.__new__\")\n",
    "        obj = cls.cache.get(car_type, None) \n",
    "        if not obj: \n",
    "            obj = object.__new__(cls) \n",
    "            cls.cache[car_type] = obj\n",
    "            \n",
    "            obj.name = car_type \n",
    "        return obj "
   ]
  },
  {
   "cell_type": "code",
   "execution_count": 30,
   "metadata": {},
   "outputs": [
    {
     "name": "stdout",
     "output_type": "stream",
     "text": [
      "Car.__new__\n"
     ]
    },
    {
     "data": {
      "text/plain": [
       "<__main__.Car at 0x7f8fda0c08b0>"
      ]
     },
     "execution_count": 30,
     "metadata": {},
     "output_type": "execute_result"
    }
   ],
   "source": [
    "car = Car('thong')\n",
    "car"
   ]
  },
  {
   "cell_type": "code",
   "execution_count": 31,
   "metadata": {},
   "outputs": [
    {
     "name": "stdout",
     "output_type": "stream",
     "text": [
      "Car.__new__\n"
     ]
    },
    {
     "data": {
      "text/plain": [
       "'car is car_two = True'"
      ]
     },
     "execution_count": 31,
     "metadata": {},
     "output_type": "execute_result"
    }
   ],
   "source": [
    "car_two = Car('thong')\n",
    "f\"{car is car_two = }\""
   ]
  },
  {
   "cell_type": "code",
   "execution_count": 32,
   "metadata": {},
   "outputs": [
    {
     "name": "stdout",
     "output_type": "stream",
     "text": [
      "Car.__new__\n"
     ]
    },
    {
     "data": {
      "text/plain": [
       "'car is car_three = False'"
      ]
     },
     "execution_count": 32,
     "metadata": {},
     "output_type": "execute_result"
    }
   ],
   "source": [
    "car_three = Car('dung')\n",
    "f\"{car is car_three = }\""
   ]
  },
  {
   "cell_type": "markdown",
   "metadata": {},
   "source": [
    "# @register"
   ]
  },
  {
   "cell_type": "code",
   "execution_count": 33,
   "metadata": {},
   "outputs": [
    {
     "name": "stdout",
     "output_type": "stream",
     "text": [
      "register(func)\n"
     ]
    }
   ],
   "source": [
    "import random\n",
    "PLUGINS = dict()\n",
    "\n",
    "def register(func):\n",
    "    \"\"\"Register a function as a plug-in\"\"\"\n",
    "    print(\"register(func)\")\n",
    "\n",
    "    PLUGINS[func.__name__] = func\n",
    "    return func\n",
    "\n",
    "@register\n",
    "def say_hello(name):\n",
    "    return f\"say_hello: {name!r}\""
   ]
  },
  {
   "cell_type": "code",
   "execution_count": 34,
   "metadata": {},
   "outputs": [
    {
     "name": "stdout",
     "output_type": "stream",
     "text": [
      "{'say_hello': <function say_hello at 0x7f8fda0f0280>}\n",
      "register(func)\n",
      "{'say_hello': <function say_hello at 0x7f8fda0f0280>, 'be_awesome': <function be_awesome at 0x7f8fda0f0820>}\n"
     ]
    }
   ],
   "source": [
    "print(PLUGINS)\n",
    "\n",
    "# @register #cach1 syntax cho cach2\n",
    "def be_awesome(name):\n",
    "    return f\"be_awesome: {name!r}\"\n",
    "\n",
    "be_awesome = register(be_awesome) #cach2\n",
    "\n",
    "print(PLUGINS)"
   ]
  },
  {
   "cell_type": "markdown",
   "metadata": {},
   "source": [
    "# cache - memoize"
   ]
  },
  {
   "cell_type": "code",
   "execution_count": 35,
   "metadata": {
    "scrolled": true
   },
   "outputs": [
    {
     "name": "stdout",
     "output_type": "stream",
     "text": [
      "count_calls(func)\n",
      "cache(func)\n"
     ]
    }
   ],
   "source": [
    "import functools\n",
    "\n",
    "def count_calls(func):\n",
    "    print(\"count_calls(func)\")\n",
    "\n",
    "    @functools.wraps(func)\n",
    "    def wrapper(*args, **kwargs):\n",
    "        wrapper.count += 1\n",
    "        print('count_calls.wrapper(*args, **kwds)')\n",
    "        print(f\"Call {wrapper.count} of {func.__name__!a}\")\n",
    "        return func(*args, **kwargs)\n",
    "\n",
    "    wrapper.count = 0\n",
    "    return wrapper\n",
    "\n",
    "\n",
    "#Memoization #cache using decorators in Python\n",
    "def cache(func):\n",
    "    \"\"\"Keep a cache of previous function calls\"\"\"\n",
    "    print(\"cache(func)\")\n",
    "    \n",
    "    @functools.wraps(func)\n",
    "    def wrapper(*args, **kwargs):\n",
    "        print('cache.wrapper(*args, **kwds)')\n",
    "        cache_key = args + tuple(kwargs.keys())\n",
    "        \n",
    "        if cache_key not in wrapper.cache:\n",
    "            wrapper.cache[cache_key] = func(*args, **kwargs)\n",
    "            \n",
    "        return wrapper.cache[cache_key]\n",
    "    \n",
    "    wrapper.cache = dict()\n",
    "    return wrapper\n",
    "\n",
    "@cache\n",
    "@count_calls\n",
    "def fibonacci(num):\n",
    "    if num < 2:\n",
    "        return num\n",
    "    \n",
    "    return fibonacci(num - 1) + fibonacci(num - 2)"
   ]
  },
  {
   "cell_type": "code",
   "execution_count": 36,
   "metadata": {
    "scrolled": true
   },
   "outputs": [
    {
     "name": "stdout",
     "output_type": "stream",
     "text": [
      "cache.wrapper(*args, **kwds)\n",
      "count_calls.wrapper(*args, **kwds)\n",
      "Call 1 of 'fibonacci'\n",
      "cache.wrapper(*args, **kwds)\n",
      "count_calls.wrapper(*args, **kwds)\n",
      "Call 2 of 'fibonacci'\n",
      "cache.wrapper(*args, **kwds)\n",
      "count_calls.wrapper(*args, **kwds)\n",
      "Call 3 of 'fibonacci'\n",
      "cache.wrapper(*args, **kwds)\n",
      "count_calls.wrapper(*args, **kwds)\n",
      "Call 4 of 'fibonacci'\n",
      "cache.wrapper(*args, **kwds)\n",
      "count_calls.wrapper(*args, **kwds)\n",
      "Call 5 of 'fibonacci'\n",
      "cache.wrapper(*args, **kwds)\n",
      "count_calls.wrapper(*args, **kwds)\n",
      "Call 6 of 'fibonacci'\n",
      "cache.wrapper(*args, **kwds)\n",
      "count_calls.wrapper(*args, **kwds)\n",
      "Call 7 of 'fibonacci'\n",
      "cache.wrapper(*args, **kwds)\n",
      "count_calls.wrapper(*args, **kwds)\n",
      "Call 8 of 'fibonacci'\n",
      "cache.wrapper(*args, **kwds)\n",
      "count_calls.wrapper(*args, **kwds)\n",
      "Call 9 of 'fibonacci'\n",
      "cache.wrapper(*args, **kwds)\n",
      "cache.wrapper(*args, **kwds)\n",
      "cache.wrapper(*args, **kwds)\n",
      "cache.wrapper(*args, **kwds)\n",
      "cache.wrapper(*args, **kwds)\n",
      "cache.wrapper(*args, **kwds)\n"
     ]
    },
    {
     "data": {
      "text/plain": [
       "21"
      ]
     },
     "execution_count": 36,
     "metadata": {},
     "output_type": "execute_result"
    }
   ],
   "source": [
    "fibonacci(8)"
   ]
  },
  {
   "cell_type": "markdown",
   "metadata": {},
   "source": [
    "# @functools.lru_cache"
   ]
  },
  {
   "cell_type": "code",
   "execution_count": 37,
   "metadata": {},
   "outputs": [],
   "source": [
    "import functools\n",
    "\n",
    "@functools.lru_cache(maxsize=4)\n",
    "def fibonacci(num):\n",
    "    print(f\"Calculating fibonacci({num})\")\n",
    "    if num < 2:\n",
    "        return num\n",
    "    \n",
    "    return fibonacci(num - 1) + fibonacci(num - 2)"
   ]
  },
  {
   "cell_type": "code",
   "execution_count": 38,
   "metadata": {},
   "outputs": [
    {
     "name": "stdout",
     "output_type": "stream",
     "text": [
      "Calculating fibonacci(8)\n",
      "Calculating fibonacci(7)\n",
      "Calculating fibonacci(6)\n",
      "Calculating fibonacci(5)\n",
      "Calculating fibonacci(4)\n",
      "Calculating fibonacci(3)\n",
      "Calculating fibonacci(2)\n",
      "Calculating fibonacci(1)\n",
      "Calculating fibonacci(0)\n",
      "fibonacci(8) = 21\n"
     ]
    }
   ],
   "source": [
    "print(f\"{fibonacci(8) = }\")"
   ]
  },
  {
   "cell_type": "markdown",
   "metadata": {},
   "source": [
    "# @decorator return class"
   ]
  },
  {
   "cell_type": "code",
   "execution_count": 39,
   "metadata": {
    "scrolled": true
   },
   "outputs": [
    {
     "name": "stdout",
     "output_type": "stream",
     "text": [
      "decorator(func)\n"
     ]
    }
   ],
   "source": [
    "import functools\n",
    "\n",
    "def decorator(func):\n",
    "    print('decorator(func)')\n",
    "    \n",
    "    class Wrapper:\n",
    "        def __init__(self, **kwds):\n",
    "            print('Wrapper() = wrapper(*args, **kwds)')\n",
    "            functools.update_wrapper(self, func)\n",
    "            \n",
    "            self.wrapped = func(**kwds)\n",
    "        \n",
    "    return Wrapper\n",
    "\n",
    "@decorator\n",
    "def action(**kwds):\n",
    "    return kwds\n",
    "# action = decorator(action) = Wrapper"
   ]
  },
  {
   "cell_type": "code",
   "execution_count": 40,
   "metadata": {
    "scrolled": true
   },
   "outputs": [
    {
     "name": "stdout",
     "output_type": "stream",
     "text": [
      "Wrapper() = wrapper(*args, **kwds)\n"
     ]
    }
   ],
   "source": [
    "wrapper = action(name='dung', old=28)"
   ]
  },
  {
   "cell_type": "code",
   "execution_count": 41,
   "metadata": {
    "scrolled": true
   },
   "outputs": [
    {
     "name": "stdout",
     "output_type": "stream",
     "text": [
      "wrapper.wrapped = {'name': 'dung', 'old': 28}\n",
      "wrapper.__name__ = 'action'\n"
     ]
    }
   ],
   "source": [
    "print(f\"{wrapper.wrapped = }\")\n",
    "\n",
    "print(f\"{wrapper.__name__ = }\")"
   ]
  },
  {
   "cell_type": "code",
   "execution_count": 42,
   "metadata": {
    "scrolled": true,
    "tags": []
   },
   "outputs": [
    {
     "name": "stdout",
     "output_type": "stream",
     "text": [
      "Tracer.__init__(self, func)\n",
      "Tracer.__init__(self, func)\n"
     ]
    }
   ],
   "source": [
    "class Tracer(object):                        # A decorator+descriptor\n",
    "    def __init__(self, func):\n",
    "        print('Tracer.__init__(self, func)')\n",
    "        self.calls = 0                       # Save func for later call\n",
    "        self.func  = func\n",
    "    def __call__(self, *args, **kwds): #3     # On call to original func\n",
    "        self.calls += 1\n",
    "        print('Tracer.__call__(*args, **kwds) = Tracer.wrapper(*args, **kwds)')\n",
    "        print('call %s to %s' % (self.calls, self.func.__name__))\n",
    "        return self.func(*args, **kwds)\n",
    "    \n",
    "    def __get__(self, instance, owner): #1     # On method attribute fetch\n",
    "        return Wrapper(self, instance)\n",
    "\n",
    "class Wrapper:\n",
    "    def __init__(self, trace, instance):\n",
    "        print('Wrapper.__init__(self, trace, instance)')\n",
    "        self.trace = trace                     # Route calls back to deco/desc\n",
    "        self.instance = instance\n",
    "    def __call__(self, *args, **kwds): #2\n",
    "        print('Wrapper.__call__(self, *args, **kwds)')\n",
    "        return self.trace(self.instance, *args, **kwds)  # Runs tracer.__call__\n",
    "\n",
    "\n",
    "note = \"\"\"\n",
    "class Tracer(object):        # More succinct: nested function\n",
    "    \n",
    "    def __init__(self, func):                # On @ decorator\n",
    "        self.calls = 0                       # Save func for later call\n",
    "        self.func  = func\n",
    "   \n",
    "    def __call__(self, *args, **kwargs):     # On call to original func\n",
    "        self.calls += 1\n",
    "        print('call %s to %s' % (self.calls, self.func.__name__))\n",
    "        return self.func(*args, **kwargs)\n",
    "    \n",
    "    def __get__(self, instance, owner):                # On method fetch\n",
    "        def wrapper(*args, **kwargs):                  # Retain both inst\n",
    "            return self(instance, *args, **kwargs)     # Runs __call__\n",
    "        return wrapper\n",
    "\"\"\"\n",
    "\n",
    "\n",
    "@Tracer\n",
    "def spam(a, b, c):                       # spam = tracer(spam)\n",
    "    print(a + b + c)                     # Uses __call__ only\n",
    "\n",
    "@Tracer\n",
    "def eggs(N):\n",
    "    return 2 ** N"
   ]
  },
  {
   "cell_type": "code",
   "execution_count": 43,
   "metadata": {
    "scrolled": true
   },
   "outputs": [
    {
     "name": "stdout",
     "output_type": "stream",
     "text": [
      "Tracer.__call__(*args, **kwds) = Tracer.wrapper(*args, **kwds)\n",
      "call 1 to spam\n",
      "6\n",
      "Tracer.__call__(*args, **kwds) = Tracer.wrapper(*args, **kwds)\n",
      "call 2 to spam\n",
      "15\n",
      "Tracer.__call__(*args, **kwds) = Tracer.wrapper(*args, **kwds)\n",
      "call 1 to eggs\n",
      "4294967296\n",
      "Tracer.__init__(self, func)\n",
      "Tracer.__init__(self, func)\n"
     ]
    }
   ],
   "source": [
    "spam(1, 2, 3)                            # Runs onCall(1, 2, 3)\n",
    "spam(a=4, b=5, c=6)\n",
    "print(eggs(32))\n",
    "\n",
    "# Applies to class method functions too!\n",
    "class Person:\n",
    "    def __init__(self, name, pay):\n",
    "        self.name = name\n",
    "        self.pay  = pay\n",
    "\n",
    "    @Tracer\n",
    "    def giveRaise(self, percent):        # giveRaise = Tracer(giveRaise)\n",
    "        self.pay *= (1.0 + percent)      # Makes giveRaise a descriptor\n",
    "\n",
    "    @Tracer\n",
    "    def lastName(self):                  # lastName = Tracer(lastName)\n",
    "        return self.name.split()[-1]"
   ]
  },
  {
   "cell_type": "code",
   "execution_count": 44,
   "metadata": {
    "scrolled": true
   },
   "outputs": [
    {
     "name": "stdout",
     "output_type": "stream",
     "text": [
      "methods...\n",
      "Bob Smith Sue Jones\n",
      "\n",
      "Wrapper.__init__(self, trace, instance)\n",
      "Wrapper.__call__(self, *args, **kwds)\n",
      "Tracer.__call__(*args, **kwds) = Tracer.wrapper(*args, **kwds)\n",
      "call 1 to giveRaise\n",
      "\n",
      "110000\n",
      "\n",
      "Wrapper.__init__(self, trace, instance)\n",
      "Wrapper.__call__(self, *args, **kwds)\n",
      "Tracer.__call__(*args, **kwds) = Tracer.wrapper(*args, **kwds)\n",
      "call 1 to lastName\n",
      "Jones\n",
      "Wrapper.__init__(self, trace, instance)\n",
      "Wrapper.__call__(self, *args, **kwds)\n",
      "Tracer.__call__(*args, **kwds) = Tracer.wrapper(*args, **kwds)\n",
      "call 2 to lastName\n",
      "Smith\n"
     ]
    }
   ],
   "source": [
    "print('methods...')\n",
    "bob = Person('Bob Smith', 50000)\n",
    "sue = Person('Sue Jones', 100000)\n",
    "print(bob.name, sue.name)\n",
    "print()\n",
    "sue.giveRaise(.10)          # sue.giveRaise = Trace.__get__: return wrapper them () tuc wrapper.__call__\n",
    "print()\n",
    "print(int(sue.pay))\n",
    "print()\n",
    "print(sue.lastName())    # Runs onCall(bob), lastName in scopes\n",
    "print(bob.lastName())"
   ]
  },
  {
   "cell_type": "markdown",
   "metadata": {},
   "source": [
    "# @Trace voi descriptor"
   ]
  },
  {
   "cell_type": "code",
   "execution_count": 45,
   "metadata": {
    "scrolled": true,
    "tags": []
   },
   "outputs": [
    {
     "name": "stdout",
     "output_type": "stream",
     "text": [
      "Tracer.__init__(meth)\n",
      "Tracer.__init__(meth)\n"
     ]
    }
   ],
   "source": [
    "note = \"\"\"\n",
    "    decorator_func cho methods code binh thuong,\n",
    "    khi decorator thi wrapper(*args, **kwds) args(self, ...)\n",
    "    la function thuoc class do nen duoc truyen ngam self \n",
    "    va truyen cho return func(*args, **kwds)\n",
    "\"\"\"\n",
    "# decorator_class cho method, dung descriptor __get__\n",
    "class Tracer(object): \n",
    "    \n",
    "    def __init__(self, meth):\n",
    "        print(\"Tracer.__init__(meth)\")\n",
    "        self.calls = 0                         \n",
    "        self.meth  = meth\n",
    "    \n",
    "    # obj.tracer\n",
    "    def __get__(self, obj, objtype):      \n",
    "        print(\"Tracer.__get__\")\n",
    "        \n",
    "        def wrapper(*args, **kwargs):\n",
    "            print(\"Tracer.__get__.wrapper(*args, **kwds)\")\n",
    "            self.calls += 1\n",
    "            print(f\"call {self.calls} from {self.meth.__name__}\")         \n",
    "            return self.meth(obj, *args, **kwargs)\n",
    "        \n",
    "        return wrapper\n",
    "\n",
    "    \n",
    "class Person:\n",
    "    def __init__(self, name, pay):\n",
    "        self.name = name\n",
    "        self.pay  = pay\n",
    "\n",
    "    @Tracer\n",
    "    def giveRaise(self, percent):        # giveRaise = Tracer(giveRaise)\n",
    "        self.pay *= (1.0 + percent)      # person.giveRaise = wrapper\n",
    "\n",
    "    @Tracer\n",
    "    def lastName(self):                  # lastName = Tracer(lastName)\n",
    "        return self.name.split()[-1]"
   ]
  },
  {
   "cell_type": "code",
   "execution_count": 46,
   "metadata": {
    "scrolled": true,
    "tags": []
   },
   "outputs": [
    {
     "name": "stdout",
     "output_type": "stream",
     "text": [
      "methods...\n",
      "Bob Smith Sue Jones\n"
     ]
    }
   ],
   "source": [
    "print('methods...')\n",
    "bob = Person('Bob Smith', 50000)\n",
    "sue = Person('Sue Jones', 100000)\n",
    "print(bob.name, sue.name)"
   ]
  },
  {
   "cell_type": "code",
   "execution_count": 47,
   "metadata": {
    "scrolled": true,
    "tags": []
   },
   "outputs": [
    {
     "name": "stdout",
     "output_type": "stream",
     "text": [
      "Tracer.__get__\n",
      "sue.giveRaise = <function Tracer.__get__.<locals>.wrapper at 0x7f8fda07f640>\n",
      "Tracer.__get__\n",
      "Tracer.__get__.wrapper(*args, **kwds)\n",
      "call 1 from giveRaise\n",
      "sue.giveRaise(.10) = None\n",
      "\n",
      "110000\n",
      "\n",
      "Tracer.__get__\n",
      "Tracer.__get__.wrapper(*args, **kwds)\n",
      "call 1 from lastName\n",
      "Jones\n",
      "Tracer.__get__\n",
      "Tracer.__get__.wrapper(*args, **kwds)\n",
      "call 2 from lastName\n",
      "Smith\n"
     ]
    }
   ],
   "source": [
    "print(f\"{sue.giveRaise = }\")\n",
    "print(f\"{sue.giveRaise(.10) = }\")        # sue.giveRaise = Trace.__get__: return wrapper them () tuc wrapper.__call__\n",
    "print()\n",
    "print(int(sue.pay))\n",
    "print()\n",
    "print(sue.lastName())\n",
    "print(bob.lastName())"
   ]
  }
 ],
 "metadata": {
  "kernelspec": {
   "display_name": "Python 3 (ipykernel)",
   "language": "python",
   "name": "python3"
  },
  "language_info": {
   "codemirror_mode": {
    "name": "ipython",
    "version": 3
   },
   "file_extension": ".py",
   "mimetype": "text/x-python",
   "name": "python",
   "nbconvert_exporter": "python",
   "pygments_lexer": "ipython3",
   "version": "3.10.5"
  }
 },
 "nbformat": 4,
 "nbformat_minor": 4
}
