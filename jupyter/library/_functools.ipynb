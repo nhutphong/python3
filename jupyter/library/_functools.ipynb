{
 "cells": [
  {
   "cell_type": "markdown",
   "metadata": {},
   "source": [
    "# @total_ordering for class\n"
   ]
  },
  {
   "cell_type": "code",
   "execution_count": 1,
   "metadata": {},
   "outputs": [],
   "source": [
    "note = \"\"\"\n",
    "phai co 2 magic method la: __eq__ va 1 trong nhung (__lt__(), __le__(), __gt__(), or __ge__())\n",
    "nhung magic con lai duoc them auto\n",
    "\"\"\""
   ]
  },
  {
   "cell_type": "code",
   "execution_count": 2,
   "metadata": {},
   "outputs": [],
   "source": [
    "from functools import total_ordering"
   ]
  },
  {
   "cell_type": "code",
   "execution_count": 3,
   "metadata": {},
   "outputs": [],
   "source": [
    "@total_ordering\n",
    "class Car:\n",
    "    def __init__(self, model, mileage):\n",
    "        self.model = model\n",
    "        self.mileage = mileage\n",
    "        \n",
    "    def __eq__(self, other):\n",
    "        return self.mileage == other.mileage\n",
    "    \n",
    "    def __lt__(self, other):\n",
    "        return self.mileage < other.mileage"
   ]
  },
  {
   "cell_type": "code",
   "execution_count": 4,
   "metadata": {},
   "outputs": [],
   "source": [
    "c1 = Car(\"Audi\", 700)\n",
    "c2 = Car(\"BMW\", 800)"
   ]
  },
  {
   "cell_type": "code",
   "execution_count": 5,
   "metadata": {},
   "outputs": [
    {
     "data": {
      "text/plain": [
       "False"
      ]
     },
     "execution_count": 5,
     "metadata": {},
     "output_type": "execute_result"
    }
   ],
   "source": [
    "c1 == c2"
   ]
  },
  {
   "cell_type": "code",
   "execution_count": 6,
   "metadata": {},
   "outputs": [
    {
     "data": {
      "text/plain": [
       "True"
      ]
     },
     "execution_count": 6,
     "metadata": {},
     "output_type": "execute_result"
    }
   ],
   "source": [
    "c1 < c2"
   ]
  },
  {
   "cell_type": "code",
   "execution_count": 7,
   "metadata": {},
   "outputs": [
    {
     "data": {
      "text/plain": [
       "False"
      ]
     },
     "execution_count": 7,
     "metadata": {},
     "output_type": "execute_result"
    }
   ],
   "source": [
    "c1 > c2"
   ]
  },
  {
   "cell_type": "code",
   "execution_count": 8,
   "metadata": {},
   "outputs": [
    {
     "data": {
      "text/plain": [
       "True"
      ]
     },
     "execution_count": 8,
     "metadata": {},
     "output_type": "execute_result"
    }
   ],
   "source": [
    "c1 <= c2"
   ]
  },
  {
   "cell_type": "code",
   "execution_count": 9,
   "metadata": {},
   "outputs": [
    {
     "data": {
      "text/plain": [
       "False"
      ]
     },
     "execution_count": 9,
     "metadata": {},
     "output_type": "execute_result"
    }
   ],
   "source": [
    "c1 >= c2"
   ]
  },
  {
   "cell_type": "markdown",
   "metadata": {},
   "source": [
    "# @cached_property for method"
   ]
  },
  {
   "cell_type": "code",
   "execution_count": 10,
   "metadata": {},
   "outputs": [],
   "source": [
    "from functools import cached_property"
   ]
  },
  {
   "cell_type": "code",
   "execution_count": 11,
   "metadata": {},
   "outputs": [],
   "source": [
    "note = \"\"\"\n",
    "    @cached_property thay the @property neu can thiet\n",
    "\"\"\"\n",
    "class Marksheet:\n",
    "    def __init__(self, *grades):\n",
    "        self.grades = grades\n",
    "        \n",
    "    @cached_property\n",
    "    def total(self):\n",
    "        print(\"Calculating total.\")\n",
    "        return sum(self.grades)\n",
    "    \n",
    "    @cached_property\n",
    "    def average(self):\n",
    "        print(\"Calculating average.\")\n",
    "        return self.total/len(self.grades)"
   ]
  },
  {
   "cell_type": "code",
   "execution_count": 12,
   "metadata": {},
   "outputs": [],
   "source": [
    "m = Marksheet(100, 90, 95)"
   ]
  },
  {
   "cell_type": "code",
   "execution_count": 13,
   "metadata": {
    "scrolled": true
   },
   "outputs": [
    {
     "name": "stdout",
     "output_type": "stream",
     "text": [
      "Calculating total.\n"
     ]
    },
    {
     "data": {
      "text/plain": [
       "285"
      ]
     },
     "execution_count": 13,
     "metadata": {},
     "output_type": "execute_result"
    }
   ],
   "source": [
    "m.total # run full total(self)"
   ]
  },
  {
   "cell_type": "code",
   "execution_count": 14,
   "metadata": {},
   "outputs": [
    {
     "data": {
      "text/plain": [
       "285"
      ]
     },
     "execution_count": 14,
     "metadata": {},
     "output_type": "execute_result"
    }
   ],
   "source": [
    "m.total #get value "
   ]
  },
  {
   "cell_type": "code",
   "execution_count": 15,
   "metadata": {
    "scrolled": true
   },
   "outputs": [
    {
     "name": "stdout",
     "output_type": "stream",
     "text": [
      "Calculating average.\n"
     ]
    },
    {
     "data": {
      "text/plain": [
       "95.0"
      ]
     },
     "execution_count": 15,
     "metadata": {},
     "output_type": "execute_result"
    }
   ],
   "source": [
    "m.average #run full average(self)"
   ]
  },
  {
   "cell_type": "code",
   "execution_count": 16,
   "metadata": {
    "scrolled": true
   },
   "outputs": [
    {
     "data": {
      "text/plain": [
       "95.0"
      ]
     },
     "execution_count": 16,
     "metadata": {},
     "output_type": "execute_result"
    }
   ],
   "source": [
    "m.average #get value"
   ]
  },
  {
   "cell_type": "code",
   "execution_count": null,
   "metadata": {},
   "outputs": [],
   "source": []
  },
  {
   "cell_type": "markdown",
   "metadata": {},
   "source": [
    "# @lru_cache"
   ]
  },
  {
   "cell_type": "code",
   "execution_count": 17,
   "metadata": {},
   "outputs": [],
   "source": [
    "note = \"\"\"\n",
    "dung cho function recursive=goi lai chinh no\n",
    "get lai value tua nhu @cached_property\n",
    "\n",
    "cached = {param: func(param), param2: func(params), ...}\n",
    "if param not in cached.keys():\n",
    "    cached[param] = func(param)\n",
    "else:\n",
    "    return cached[param]\n",
    "\n",
    "\"\"\""
   ]
  },
  {
   "cell_type": "code",
   "execution_count": 18,
   "metadata": {},
   "outputs": [],
   "source": [
    "from functools import lru_cache"
   ]
  },
  {
   "cell_type": "code",
   "execution_count": 19,
   "metadata": {},
   "outputs": [],
   "source": [
    "@lru_cache\n",
    "def fib(n):\n",
    "    if n < 2:\n",
    "        return n\n",
    "    print(f\"calculating fib {n}\")\n",
    "    return fib(n-1) + fib(n-2)"
   ]
  },
  {
   "cell_type": "code",
   "execution_count": 20,
   "metadata": {
    "scrolled": true
   },
   "outputs": [
    {
     "name": "stdout",
     "output_type": "stream",
     "text": [
      "calculating fib 2\n",
      "calculating fib 3\n",
      "calculating fib 4\n",
      "calculating fib 5\n",
      "calculating fib 6\n",
      "calculating fib 7\n",
      "calculating fib 8\n",
      "calculating fib 9\n"
     ]
    },
    {
     "data": {
      "text/plain": [
       "[0, 1, 1, 2, 3, 5, 8, 13, 21, 34]"
      ]
     },
     "execution_count": 20,
     "metadata": {},
     "output_type": "execute_result"
    }
   ],
   "source": [
    "[fib(x) for x in range(10)]"
   ]
  },
  {
   "cell_type": "code",
   "execution_count": 21,
   "metadata": {},
   "outputs": [
    {
     "data": {
      "text/plain": [
       "CacheInfo(hits=16, misses=10, maxsize=128, currsize=10)"
      ]
     },
     "execution_count": 21,
     "metadata": {},
     "output_type": "execute_result"
    }
   ],
   "source": [
    "fib.cache_info()"
   ]
  },
  {
   "cell_type": "markdown",
   "metadata": {},
   "source": [
    "# partial(func, /, *args, **keywords) == wrapper\n",
    "tao nhanh wrapper cho function"
   ]
  },
  {
   "cell_type": "code",
   "execution_count": 22,
   "metadata": {},
   "outputs": [
    {
     "name": "stdout",
     "output_type": "stream",
     "text": [
      "312\n"
     ]
    }
   ],
   "source": [
    "from functools import *\n",
    "  \n",
    "# wrapped = function\n",
    "def add(a, b, c): \n",
    "    return 100 * a + 10 * b + c \n",
    "  \n",
    "#wrapper\n",
    "wrapper = partial(add, c = 2, b = 1) \n",
    "  \n",
    "# Calling partial function \n",
    "print(wrapper(3)) "
   ]
  },
  {
   "cell_type": "markdown",
   "metadata": {},
   "source": [
    "# partialmethod(func, /, *args, **keywords) == wrapper for method\n",
    "tao nhanh wrapper cho method"
   ]
  },
  {
   "cell_type": "code",
   "execution_count": 23,
   "metadata": {},
   "outputs": [
    {
     "name": "stdout",
     "output_type": "stream",
     "text": [
      "c.alive = False\n",
      "c.set_alive()\n",
      "c.alive = True\n"
     ]
    },
    {
     "data": {
      "text/plain": [
       "'_thong'"
      ]
     },
     "execution_count": 23,
     "metadata": {},
     "output_type": "execute_result"
    }
   ],
   "source": [
    "from functools import partialmethod\n",
    "\n",
    "class Cell(object):\n",
    "    def __init__(self):\n",
    "        self._alive = False\n",
    "        self._name = 'Cell'\n",
    "        \n",
    "    @property\n",
    "    def alive(self):\n",
    "        return self._alive\n",
    "    \n",
    "    @property\n",
    "    def name(self):\n",
    "        return self._name\n",
    "    \n",
    "    def set_state(self, state):\n",
    "        self._alive = bool(state)\n",
    "    \n",
    "    def set_name(self, name, prefix=None):\n",
    "        self._name = prefix + name\n",
    "        \n",
    "    set_alive = partialmethod(set_state, state=True) # wrapper\n",
    "    set_dead = partialmethod(set_state, state=False) # wrapper\n",
    "    set_name = partialmethod(set_name, prefix='_')   # wrapper\n",
    "    \n",
    "\n",
    "c = Cell()\n",
    "print(f\"{c.alive = }\")\n",
    "\n",
    "c.set_alive() #run c.set_state(True)\n",
    "print(\"c.set_alive()\")\n",
    "print(f\"{c.alive = }\")\n",
    "\n",
    "c.set_name('thong')\n",
    "c.name"
   ]
  },
  {
   "cell_type": "markdown",
   "metadata": {},
   "source": [
    "# update_wrapper(wrapper, func): return wrapper"
   ]
  },
  {
   "cell_type": "code",
   "execution_count": 24,
   "metadata": {},
   "outputs": [
    {
     "name": "stdout",
     "output_type": "stream",
     "text": [
      "WRAPPER_ASSIGNMENTS = ('__module__', '__name__', '__qualname__', '__doc__', '__annotations__')\n",
      "WRAPPER_UPDATES = ('__dict__',)\n",
      "wrapper.__name__ = 'divide'\n",
      "wrapper.__wrapped__ = <function divide at 0x7f0f14f47430>\n",
      "wrapper.__doc__ = 'tao la def divide(a,b)'\n"
     ]
    }
   ],
   "source": [
    "from functools import *\n",
    "\n",
    "\n",
    "def divide(a, b): \n",
    "    \"tao la def divide(a,b)\"\n",
    "    return a / b \n",
    "  \n",
    "wrapper = partial(divide, b = 2) \n",
    "  \n",
    "print(f'{WRAPPER_ASSIGNMENTS = }') \n",
    "print(f'{WRAPPER_UPDATES = }') \n",
    "  \n",
    "#lay attributes(__name__, __doc__, ...) cua divide gan cho attributes wrapper\n",
    "# wrapper.__wrapped__ = divide\n",
    "update_wrapper(wrapper, divide) \n",
    "  \n",
    "try: \n",
    "    print(f\"{wrapper.__name__ = }\") \n",
    "      \n",
    "except AttributeError: \n",
    "    print('No Name') \n",
    "      \n",
    "print(f\"{wrapper.__wrapped__ = }\")\n",
    "print(f\"{wrapper.__doc__ = }\")"
   ]
  },
  {
   "cell_type": "markdown",
   "metadata": {},
   "source": [
    "# @wraps(func)\n",
    " \n",
    "#lay attributes(__name__, __doc__, ...) cua func gan cho attributes wrapper"
   ]
  },
  {
   "cell_type": "code",
   "execution_count": 25,
   "metadata": {},
   "outputs": [],
   "source": [
    "from functools import wraps"
   ]
  },
  {
   "cell_type": "code",
   "execution_count": 26,
   "metadata": {},
   "outputs": [],
   "source": [
    "def mylogger(func):\n",
    "    \n",
    "    @wraps(func)\n",
    "    def wrapper(*args, **kwargs):\n",
    "        print(f\"Running {func.__name__}\")\n",
    "        return func(*args, **kwargs)\n",
    "    \n",
    "    # wrapper.__name__ = func.__name__\n",
    "    # wrapper.__doc__  = func.__doc__\n",
    "    # wrapper.__wrapped__ = func\n",
    "    # ...\n",
    "    \n",
    "    return wrapper\n",
    "\n",
    "\n",
    "@mylogger\n",
    "def add(a,b):\n",
    "    \"\"\"add a and b\"\"\"\n",
    "    return a + b"
   ]
  },
  {
   "cell_type": "code",
   "execution_count": 27,
   "metadata": {},
   "outputs": [
    {
     "data": {
      "text/plain": [
       "'add'"
      ]
     },
     "execution_count": 27,
     "metadata": {},
     "output_type": "execute_result"
    }
   ],
   "source": [
    "add.__name__"
   ]
  },
  {
   "cell_type": "code",
   "execution_count": 28,
   "metadata": {},
   "outputs": [
    {
     "data": {
      "text/plain": [
       "'add a and b'"
      ]
     },
     "execution_count": 28,
     "metadata": {},
     "output_type": "execute_result"
    }
   ],
   "source": [
    "add.__doc__"
   ]
  },
  {
   "cell_type": "markdown",
   "metadata": {},
   "source": [
    "# singledispatch"
   ]
  },
  {
   "cell_type": "code",
   "execution_count": 29,
   "metadata": {},
   "outputs": [],
   "source": [
    "def append_one(obj):\n",
    "    if type(obj) == list:\n",
    "        return obj + [1]\n",
    "    elif type(obj) == set:\n",
    "        return obj.union({1})\n",
    "    elif type(obj) == str:\n",
    "        return obj + str(1)\n",
    "    else:\n",
    "        print(\"Unsupported type\")\n",
    "        return obj"
   ]
  },
  {
   "cell_type": "code",
   "execution_count": 30,
   "metadata": {},
   "outputs": [
    {
     "data": {
      "text/plain": [
       "[1, 2, 3, 1]"
      ]
     },
     "execution_count": 30,
     "metadata": {},
     "output_type": "execute_result"
    }
   ],
   "source": [
    "append_one([1,2,3])"
   ]
  },
  {
   "cell_type": "code",
   "execution_count": 31,
   "metadata": {},
   "outputs": [
    {
     "data": {
      "text/plain": [
       "{1, 2, 3}"
      ]
     },
     "execution_count": 31,
     "metadata": {},
     "output_type": "execute_result"
    }
   ],
   "source": [
    "append_one({1,2,3})"
   ]
  },
  {
   "cell_type": "code",
   "execution_count": 32,
   "metadata": {},
   "outputs": [
    {
     "data": {
      "text/plain": [
       "'abcde1'"
      ]
     },
     "execution_count": 32,
     "metadata": {},
     "output_type": "execute_result"
    }
   ],
   "source": [
    "append_one(\"abcde\")"
   ]
  },
  {
   "cell_type": "code",
   "execution_count": 33,
   "metadata": {},
   "outputs": [],
   "source": [
    "from functools import singledispatch"
   ]
  },
  {
   "cell_type": "markdown",
   "metadata": {},
   "source": [
    "## singledispatch"
   ]
  },
  {
   "cell_type": "code",
   "execution_count": 34,
   "metadata": {},
   "outputs": [
    {
     "name": "stdout",
     "output_type": "stream",
     "text": [
      "append_one([1,2,3]) = [1, 2, 3, 1]\n",
      "append_one({1,2,3}) = {1, 2, 3}\n",
      "append_one('abcde') = 'abcde1'\n",
      "Unsupported type\n",
      "append_one({'a': 1}) = {'a': 1}\n"
     ]
    }
   ],
   "source": [
    "@singledispatch\n",
    "def append_one(obj): #else se run\n",
    "    print(\"Unsupported type\")\n",
    "    return obj\n",
    "\n",
    "\n",
    "@append_one.register #if obj is list se run\n",
    "def _(obj: list):\n",
    "    return obj + [1]\n",
    "\n",
    "\n",
    "@append_one.register # if obj is set se run\n",
    "def _(obj: set):\n",
    "    return obj.union({1})\n",
    "\n",
    "\n",
    "@append_one.register # if obj is str se run\n",
    "def _(obj: str):\n",
    "    return obj + str(1)\n",
    "\n",
    "print(f\"{append_one([1,2,3]) = }\")\n",
    "\n",
    "print(f\"{append_one({1,2,3}) = }\")\n",
    "\n",
    "print(f\"{append_one('abcde') = }\")\n",
    "\n",
    "print(f\"{append_one({'a': 1}) = }\")"
   ]
  },
  {
   "cell_type": "markdown",
   "metadata": {},
   "source": [
    "# singledispatchmethod - for method"
   ]
  },
  {
   "cell_type": "code",
   "execution_count": 35,
   "metadata": {},
   "outputs": [
    {
     "name": "stdout",
     "output_type": "stream",
     "text": [
      "negator.neg(123) = -123\n",
      "negator.neg(False) = True\n"
     ]
    }
   ],
   "source": [
    "from functools import singledispatchmethod\n",
    "\n",
    "class Negator:\n",
    "    \n",
    "    @singledispatchmethod\n",
    "    def neg(self, arg):\n",
    "        raise NotImplementedError(\"khong thuoc type con lai\")\n",
    "\n",
    "    @neg.register #if arg is int thi run\n",
    "    def _(self, arg: int):\n",
    "        return -arg\n",
    "\n",
    "    @neg.register #if arg is bool thi run\n",
    "    def _(self, arg: bool):\n",
    "        return not arg\n",
    "\n",
    "negator = Negator()\n",
    "print(f\"{negator.neg(123) = }\")\n",
    "print(f\"{negator.neg(False) = }\")"
   ]
  },
  {
   "cell_type": "markdown",
   "metadata": {},
   "source": [
    "# singledispatchmethod -  for @classmethod"
   ]
  },
  {
   "cell_type": "code",
   "execution_count": null,
   "metadata": {},
   "outputs": [],
   "source": [
    "from functools import singledispatchmethod\n",
    "\n",
    "note = \"\"\"\n",
    " rieng @singledispatchmethod cho @classmethod phai xac dinh kieu check @neg.register(int)\n",
    "\"\"\"\n",
    "class Negator:\n",
    "    \n",
    "    @singledispatchmethod\n",
    "    @classmethod\n",
    "    def neg(cls, arg):\n",
    "        raise NotImplementedError(\"khong thuoc cac type con lai\")\n",
    "\n",
    "    @neg.register(int) #if param 2 arg is int thi run\n",
    "    @classmethod\n",
    "    def _(cls, arg: int):\n",
    "        return -arg\n",
    "\n",
    "    @neg.register(bool) #if param 2 arg is bool thi run\n",
    "    @classmethod\n",
    "    def _(cls, arg: bool):\n",
    "        return not arg\n",
    "\n",
    "negator = Negator()\n",
    "\n",
    "print(f\"{negator.neg(455) = }\")\n",
    "print(f\"{negator.neg(True) = }\")"
   ]
  }
 ],
 "metadata": {
  "kernelspec": {
   "display_name": "Python 3 (ipykernel)",
   "language": "python",
   "name": "python3"
  },
  "language_info": {
   "codemirror_mode": {
    "name": "ipython",
    "version": 3
   },
   "file_extension": ".py",
   "mimetype": "text/x-python",
   "name": "python",
   "nbconvert_exporter": "python",
   "pygments_lexer": "ipython3",
   "version": "3.9.9"
  }
 },
 "nbformat": 4,
 "nbformat_minor": 4
}
