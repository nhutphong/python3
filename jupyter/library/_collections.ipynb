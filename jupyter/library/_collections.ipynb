{
 "cells": [
  {
   "cell_type": "markdown",
   "metadata": {},
   "source": [
    "# ChainMap xu ly nhieu dict"
   ]
  },
  {
   "cell_type": "code",
   "execution_count": 17,
   "metadata": {},
   "outputs": [
    {
     "name": "stdout",
     "output_type": "stream",
     "text": [
      "chain:  ChainMap({'a': 1, 'b': 2}, {'b': 3, 'c': 4})\n",
      "list(chain):  ['b', 'c', 'a']\n",
      "chain.maps:  [{'a': 1, 'b': 2}, {'b': 3, 'c': 4}]\n",
      "\n",
      "new_child = chain.new_child(dic3)\n",
      "new_child.maps [{'f': 5}, {'a': 1, 'b': 2}, {'b': 3, 'c': 4}]\n",
      "new_child.parents: ChainMap({'a': 1, 'b': 2}, {'b': 3, 'c': 4}) la cac dict truoc do\n"
     ]
    }
   ],
   "source": [
    "\n",
    "from collections import *\n",
    "import builtins\n",
    "\n",
    "dic1 = { 'a' : 1, 'b' : 2 } \n",
    "dic2 = { 'b' : 3, 'c' : 4 } \n",
    "dic3 = { 'f' : 5 } \n",
    "\n",
    "#ChainMap() xu ly nhieu dicts\n",
    "\n",
    "chain = ChainMap(dic1, dic2) \n",
    "print(\"chain: \", chain)\n",
    "print(\"list(chain): \", list(chain))\n",
    "\n",
    "print ('chain.maps: ',chain.maps)\n",
    "print()\n",
    "\n",
    "\n",
    "new_child = chain.new_child(dic3) \n",
    "print(\"new_child = chain.new_child(dic3)\")\n",
    "print('new_child.maps',new_child.maps)\n",
    "print(f\"new_child.parents: {new_child.parents} la cac dict truoc do\")"
   ]
  },
  {
   "cell_type": "markdown",
   "metadata": {},
   "source": [
    "# OrderedDict xu ly 1 dict,  sort, ..."
   ]
  },
  {
   "cell_type": "code",
   "execution_count": 18,
   "metadata": {},
   "outputs": [
    {
     "name": "stdout",
     "output_type": "stream",
     "text": [
      "OrderedDict([('thong', None), ('dung', None), ('cho', None), ('trau', None)])\n",
      "\n",
      "order.move_to_end('thong') move ('thong', None) xuong CUOI\n",
      "OrderedDict([('dung', None), ('cho', None), ('trau', None), ('thong', None)])\n",
      "\n",
      "order.move_to_end('cho', last=False) move ('cho', None ) len DAU\n",
      "OrderedDict([('cho', None), ('dung', None), ('trau', None), ('thong', None)])\n",
      "\n",
      "d.popitem(last=False)  delete DAU\n",
      "OrderedDict([('dung', None), ('trau', None), ('thong', None)])\n"
     ]
    }
   ],
   "source": [
    "# xu ly 1 dict\n",
    "order = OrderedDict.fromkeys(['thong', 'dung', 'cho', 'trau'])\n",
    "print(order)\n",
    "print()\n",
    "\n",
    "order.move_to_end('thong')\n",
    "print(\"order.move_to_end('thong') move ('thong', None) xuong CUOI\")\n",
    "print(order)\n",
    "print()\n",
    "\n",
    "order.move_to_end('cho', last=False)\n",
    "print(\"order.move_to_end('cho', last=False) move ('cho', None ) len DAU\")\n",
    "print(order)\n",
    "print()\n",
    "\n",
    "print(\"d.popitem(last=False)  delete DAU\")\n",
    "order.popitem(last=False)\n",
    "print(order)"
   ]
  },
  {
   "cell_type": "markdown",
   "metadata": {},
   "source": [
    "# Counter - {diem so duplicate item}"
   ]
  },
  {
   "cell_type": "code",
   "execution_count": 19,
   "metadata": {
    "scrolled": true
   },
   "outputs": [
    {
     "name": "stdout",
     "output_type": "stream",
     "text": [
      "collections.Counter( [iterable|mapping|**kwds] )\n",
      "Counter('thandung'): Counter({'h': 2, 'n': 2, 't': 1, 'a': 1, 'd': 1, 'u': 1, 'g': 1})\n",
      "count_str.elements():  <itertools.chain object at 0x7f78083c0580>\n",
      "list(count_str.elements()):  ['t', 'h', 'h', 'a', 'n', 'n', 'd', 'u', 'g']\n",
      "\n",
      "\n",
      "Counter( a = 2, b = 3, c = 6, d = 1, e = 5)\n",
      "count_kwds.elements():  <itertools.chain object at 0x7f78084d3d60>\n",
      "list(count_kwds.elements()):  ['a', 'a', 'b', 'b', 'b', 'c', 'c', 'c', 'c', 'c', 'c', 'd', 'e', 'e', 'e', 'e', 'e']\n",
      "\n",
      "Counter('abracadabra').most_common(3): get 3 items co so duplicate nhieu nhat\n",
      "[('a', 5), ('b', 2), ('r', 2)]\n",
      "\n",
      "c:  Counter({'a': 4, 'b': 2, 'c': 0, 'd': -2})\n",
      "d:  Counter({'d': 4, 'c': 3, 'b': 2, 'a': 1})\n",
      "c.subtract(d) c-d\n",
      "Counter({'a': 3, 'b': 0, 'c': -3, 'd': -6})\n",
      "con vai operator nhu: c + d, c & d, c | d\n"
     ]
    }
   ],
   "source": [
    "# collections.Counter([iterable-or-mapping])¶\n",
    "print(\"collections.Counter( [iterable|mapping|**kwds] )\")\n",
    "count_str = Counter(\"thanhdung\") \n",
    "\n",
    "print(f\"Counter('thandung'): {count_str}\")\n",
    "print(\"count_str.elements(): \",count_str.elements())\n",
    "print(\"list(count_str.elements()): \", list(count_str.elements()))\n",
    "print(end='\\n'*2) \n",
    "\n",
    "\n",
    "count_kwds = Counter( a = 2, b = 3, c = 6, d = 1, e = 5) \n",
    "print(\"Counter( a = 2, b = 3, c = 6, d = 1, e = 5)\")\n",
    "print(\"count_kwds.elements(): \",count_kwds.elements())\n",
    "print(\"list(count_kwds.elements()): \", list(count_kwds.elements()))\n",
    "print()\n",
    "\n",
    "\n",
    "print(\"Counter('abracadabra').most_common(3): get 3 items co so duplicate nhieu nhat\")\n",
    "print(Counter('abracadabra').most_common(3))\n",
    "print()\n",
    "\n",
    "\n",
    "c = Counter(a=4, b=2, c=0, d=-2)\n",
    "d = Counter(a=1, b=2, c=3, d=4)\n",
    "print('c: ', c)\n",
    "print('d: ', d)\n",
    "print('c.subtract(d) c-d')\n",
    "c.subtract(d)\n",
    "print(c)\n",
    "print('con vai operator nhu: c + d, c & d, c | d')"
   ]
  },
  {
   "cell_type": "markdown",
   "metadata": {},
   "source": [
    "# deque xu ly list"
   ]
  },
  {
   "cell_type": "code",
   "execution_count": 20,
   "metadata": {},
   "outputs": [
    {
     "name": "stdout",
     "output_type": "stream",
     "text": [
      "collections.deque([iterable[, maxlen]])\n",
      "deque([1, 2, 3])\n",
      "\n",
      "que.extend([4,5,6]) \n",
      "deque([1, 2, 3, 4, 5, 6])\n",
      "\n",
      "que.extendleft([7,8,9])\n",
      "deque([9, 8, 7, 1, 2, 3, 4, 5, 6])\n",
      "\n",
      "que.rotate(3): lay 3 item CUOI quang len DAU\n",
      "deque([4, 5, 6, 9, 8, 7, 1, 2, 3])\n",
      "\n",
      "que.rotate(-3) lay 3 tiem DAU quang xuong CUOI\n",
      "deque([9, 8, 7, 1, 2, 3, 4, 5, 6])\n",
      "\n",
      "que.reverse()\n",
      "deque([6, 5, 4, 3, 2, 1, 7, 8, 9])\n",
      "\n",
      "que.appendleft('thong')\n",
      "deque(['thong', 6, 5, 4, 3, 2, 1, 7, 8, 9])\n",
      "\n",
      "que.popleft()\n",
      "deque([6, 5, 4, 3, 2, 1, 7, 8, 9])\n"
     ]
    }
   ],
   "source": [
    "print(\"collections.deque([iterable[, maxlen]])\")\n",
    "que = deque([1, 2, 3,])\n",
    "print(que)\n",
    "print()\n",
    "\n",
    "que.extend([4,5,6]) \n",
    "print('que.extend([4,5,6]) ')\n",
    "print(que)\n",
    "print()\n",
    "\n",
    "que.extendleft([7,8,9])\n",
    "print('que.extendleft([7,8,9])')\n",
    "print(que) \n",
    "print()\n",
    "\n",
    "\n",
    "que.rotate(3)\n",
    "print(\"que.rotate(3): lay 3 item CUOI quang len DAU\")\n",
    "print (que)\n",
    "print()\n",
    "\n",
    "que.rotate(-3)\n",
    "print(\"que.rotate(-3) lay 3 tiem DAU quang xuong CUOI\")\n",
    "print (que)\n",
    "print()\n",
    "\n",
    "que.reverse() \n",
    "print('que.reverse()')\n",
    "print (que) \n",
    "print()\n",
    "\n",
    "que.appendleft(\"thong\")\n",
    "print(\"que.appendleft('thong')\")\n",
    "print(que)\n",
    "print()\n",
    "\n",
    "que.popleft()\n",
    "print('que.popleft()')\n",
    "print(que)"
   ]
  },
  {
   "cell_type": "markdown",
   "metadata": {},
   "source": [
    "# defaultdict(default_factory) -> default_factory is callable= co __call__"
   ]
  },
  {
   "cell_type": "code",
   "execution_count": 21,
   "metadata": {
    "scrolled": true
   },
   "outputs": [
    {
     "name": "stdout",
     "output_type": "stream",
     "text": [
      "data = defaultdict(<class 'int'>, {'a': 3, 'b': 2, 'Z': 4, 'W': 6})\n",
      "data.items() = dict_items([('a', 3), ('b', 2), ('Z', 4), ('W', 6)])\n",
      "data['a'] = 3\n",
      "data['nono'] = 0\n"
     ]
    }
   ],
   "source": [
    "default_factory = \"\"\" class=str, list, dict, ..., func, lambda\"\"\"\n",
    "\n",
    "name = 'aaabbZZZZWWWWWW'\n",
    "data = defaultdict(int)\n",
    "for key in name:\n",
    "    data[key] += 1\n",
    "    \n",
    "print(f\"{data = }\")\n",
    "print(f\"{data.items() = }\")\n",
    "print(f\"{data['a'] = }\")\n",
    "print(f\"{data['nono'] = }\") # no exist key, value=0"
   ]
  },
  {
   "cell_type": "code",
   "execution_count": 22,
   "metadata": {
    "scrolled": true
   },
   "outputs": [
    {
     "name": "stdout",
     "output_type": "stream",
     "text": [
      "data = defaultdict(<class 'list'>, {'yellow': [1, 3], 'blue': [2, 4], 'red': [1]})\n",
      "data.items() = dict_items([('yellow', [1, 3]), ('blue', [2, 4]), ('red', [1])])\n",
      "data['yellow'] = [1, 3]\n",
      "data['keke'] = []\n"
     ]
    }
   ],
   "source": [
    "pair = [('yellow', 1), ('blue', 2), ('yellow', 3), ('blue', 4), ('red', 1)]\n",
    "data = defaultdict(list)\n",
    "for key, value in pair:\n",
    "    data[key].append(value)\n",
    "\n",
    "print(f\"{data = }\")\n",
    "print(f\"{data.items() = }\")\n",
    "print(f\"{data['yellow'] = }\")\n",
    "print(f\"{data['keke'] = }\") # no exist key, value=[]"
   ]
  },
  {
   "cell_type": "code",
   "execution_count": 23,
   "metadata": {},
   "outputs": [
    {
     "data": {
      "text/plain": [
       "''"
      ]
     },
     "execution_count": 23,
     "metadata": {},
     "output_type": "execute_result"
    }
   ],
   "source": [
    "data.default_factory = str # change a callable is str\n",
    "data['string'] # no exist key, value=''"
   ]
  },
  {
   "cell_type": "code",
   "execution_count": 24,
   "metadata": {
    "scrolled": true
   },
   "outputs": [
    {
     "name": "stdout",
     "output_type": "stream",
     "text": [
      "khi key khong ton tai se la: 'Tao la lambda' \n",
      "d['d'] = 'Tao la lambda'\n",
      "d.__missing__('b') = 'Tao la lambda'\n"
     ]
    }
   ],
   "source": [
    "# Defining the dict \n",
    "d = defaultdict(lambda: \"Tao la lambda\") \n",
    "d[\"a\"] = 1\n",
    "d[\"b\"] = 2\n",
    "\n",
    "# khi key khong ton tai se la: \"Tao la lambda\"\n",
    "print(\"khi key khong ton tai se la: 'Tao la lambda' \")\n",
    "print(f\"{d['d'] = }\") \n",
    "print(f\"{d.__missing__('b') = }\")"
   ]
  },
  {
   "cell_type": "markdown",
   "metadata": {},
   "source": [
    "# namedtuple - create quick class\n",
    "## giong voi enum.Enum"
   ]
  },
  {
   "cell_type": "code",
   "execution_count": 25,
   "metadata": {},
   "outputs": [
    {
     "data": {
      "text/plain": [
       "Color(red='do', green='xanh la', blue='xanh duong')"
      ]
     },
     "execution_count": 25,
     "metadata": {},
     "output_type": "execute_result"
    }
   ],
   "source": [
    "from collections import namedtuple\n",
    "\n",
    "Color = namedtuple(\"Color\", \"red green blue\")\n",
    "\n",
    "colors = Color('do', 'xanh la', 'xanh duong')\n",
    "colors"
   ]
  },
  {
   "cell_type": "code",
   "execution_count": 26,
   "metadata": {},
   "outputs": [
    {
     "data": {
      "text/plain": [
       "['do', 'xanh la', 'xanh duong']"
      ]
     },
     "execution_count": 26,
     "metadata": {},
     "output_type": "execute_result"
    }
   ],
   "source": [
    "list(colors)"
   ]
  },
  {
   "cell_type": "code",
   "execution_count": 27,
   "metadata": {},
   "outputs": [
    {
     "data": {
      "text/plain": [
       "'do'"
      ]
     },
     "execution_count": 27,
     "metadata": {},
     "output_type": "execute_result"
    }
   ],
   "source": [
    "colors.red"
   ]
  },
  {
   "cell_type": "code",
   "execution_count": 28,
   "metadata": {
    "scrolled": true
   },
   "outputs": [
    {
     "data": {
      "text/plain": [
       "('xanh la', 'xanh duong')"
      ]
     },
     "execution_count": 28,
     "metadata": {},
     "output_type": "execute_result"
    }
   ],
   "source": [
    "colors[1:] # integers or slices, not str"
   ]
  },
  {
   "cell_type": "code",
   "execution_count": 29,
   "metadata": {
    "scrolled": true
   },
   "outputs": [
    {
     "data": {
      "text/plain": [
       "3"
      ]
     },
     "execution_count": 29,
     "metadata": {},
     "output_type": "execute_result"
    }
   ],
   "source": [
    "len(colors)"
   ]
  },
  {
   "cell_type": "code",
   "execution_count": 30,
   "metadata": {
    "scrolled": true
   },
   "outputs": [
    {
     "data": {
      "text/plain": [
       "1"
      ]
     },
     "execution_count": 30,
     "metadata": {},
     "output_type": "execute_result"
    }
   ],
   "source": [
    "colors.index('xanh la')"
   ]
  },
  {
   "cell_type": "code",
   "execution_count": 31,
   "metadata": {},
   "outputs": [
    {
     "data": {
      "text/plain": [
       "1"
      ]
     },
     "execution_count": 31,
     "metadata": {},
     "output_type": "execute_result"
    }
   ],
   "source": [
    "colors.index(colors.green)"
   ]
  }
 ],
 "metadata": {
  "kernelspec": {
   "display_name": "Python 3",
   "language": "python",
   "name": "python3"
  },
  "language_info": {
   "codemirror_mode": {
    "name": "ipython",
    "version": 3
   },
   "file_extension": ".py",
   "mimetype": "text/x-python",
   "name": "python",
   "nbconvert_exporter": "python",
   "pygments_lexer": "ipython3",
   "version": "3.8.6"
  }
 },
 "nbformat": 4,
 "nbformat_minor": 4
}
