{
 "cells": [
  {
   "cell_type": "code",
   "execution_count": null,
   "metadata": {},
   "outputs": [],
   "source": []
  },
  {
   "cell_type": "markdown",
   "metadata": {},
   "source": [
    "# start"
   ]
  },
  {
   "cell_type": "code",
   "execution_count": 1,
   "metadata": {},
   "outputs": [],
   "source": [
    "import time\n",
    "import asyncio\n",
    "import threading\n",
    "import inspect\n",
    "import sys\n",
    "\n",
    "# trong jupyter phai co moi run duoc asyncio\n",
    "import nest_asyncio\n",
    "nest_asyncio.apply()\n",
    "\n",
    "#-----------------------------------------------------------------------------#\n",
    "\n",
    "\n",
    "def child_zero():# funciton='child'\n",
    "    return f\"{inspect.stack()[0].function}\"\n",
    "\n",
    "def child_one():# function='name tu func goi no'\n",
    "    return f\"{inspect.stack()[1].function}\"\n",
    "\n",
    "def whoami_zero(): \n",
    "    return sys._getframe(0).f_code.co_name\n",
    "\n",
    "def whoami_one(): \n",
    "    return sys._getframe(1).f_code.co_name\n",
    "\n",
    "def add_lines(_func, /, *, line=1):\n",
    "    \n",
    "    def decorator(func):\n",
    "        \n",
    "        def wrapper(*args, **kwds):\n",
    "            print(end='\\n'*line)\n",
    "            return func(*args, **kwds)\n",
    "        \n",
    "        return wrapper\n",
    "    \n",
    "    if _func:\n",
    "        return decorator(_func)\n",
    "    else:\n",
    "        return decorator"
   ]
  },
  {
   "cell_type": "markdown",
   "metadata": {},
   "source": [
    "# asyncio"
   ]
  },
  {
   "cell_type": "markdown",
   "metadata": {},
   "source": [
    "## asyncio.gather(*coro)"
   ]
  },
  {
   "cell_type": "code",
   "execution_count": 2,
   "metadata": {},
   "outputs": [
    {
     "name": "stdout",
     "output_type": "stream",
     "text": [
      "######################human#######################\n",
      "thong 1 start\n",
      "child_thong 1 start\n",
      "$$$$$$$$$$$$$$$$$$$$$$animal$$$$$$$$$$$$$$$$$$$$$$\n",
      "child_thong 1 end\n",
      "thong 1 end\n",
      "thong 2 start\n",
      "child_thong 2 start\n",
      "------------------end sleep(2)\n",
      "dog 1 start\n",
      "child_thong 2 end\n",
      "thong 2 end\n",
      "thong 3 start\n",
      "child_thong 3 start\n",
      "dog 1 end\n",
      "dog 2 start\n",
      "child_thong 3 end\n",
      "thong 3 end\n",
      "thong 4 start\n",
      "child_thong 4 start\n",
      "dog 2 end\n",
      "$$$$$$$$$$$$$$$$$$$$animal end$$$$$$$$$$$$$$$$$$$$\n",
      "child_thong 4 end\n",
      "thong 4 end\n",
      "####################human end#####################\n",
      "4.02 seconds.\n"
     ]
    }
   ],
   "source": [
    "import time\n",
    "import asyncio\n",
    "import threading\n",
    "\n",
    "# trong jupyter phai co moi run duoc asyncio\n",
    "import nest_asyncio\n",
    "nest_asyncio.apply()\n",
    "\n",
    "# coro = my_coro() # da run function\n",
    "\"\"\"\n",
    "    dùng asyncio.gather(*coro): auto connect các coro với PIPE LON, \n",
    "    run theo vị trí chúng ta pass các coro vào trong gather(*coro)\n",
    "\"\"\"\n",
    "\n",
    "async def animal():\n",
    "    print(f\"{'animal':$^50}\")\n",
    "    await asyncio.sleep(2) #jumpto human\n",
    "    print(f\"{'end sleep(2)':->30}\")\n",
    "    \n",
    "    await dog() # run in dog() gap await jumpto tiep\n",
    "    print(f\"{'animal end':$^50}\")\n",
    "    return 'animal'\n",
    "\n",
    "async def dog():\n",
    "    for i in range(1, 3):\n",
    "        print(f'dog {i} start')\n",
    "        await asyncio.sleep(1)\n",
    "        print(f'dog {i} end')\n",
    "\n",
    "\n",
    "async def human():\n",
    "    print(f\"{'human':#^50}\")\n",
    "    await thong() # child coro \n",
    "    print(f\"{'human end':#^50}\")\n",
    "    return 'human'\n",
    "\n",
    "async def thong():\n",
    "    for i in range(1, 5):\n",
    "        print(f'thong {i} start')\n",
    "        await child_thong(i)\n",
    "        print(f'thong {i} end')\n",
    "\n",
    "async def child_thong(i):\n",
    "    print(f'child_thong {i} start')\n",
    "    await asyncio.sleep(1)\n",
    "    print(f'child_thong {i} end')\n",
    "        \n",
    "\n",
    "async def machine():\n",
    "    print(f\"{'machine':*^50}\")\n",
    "    await computer()\n",
    "    print(f\"{'machine end':*^50}\")\n",
    "    return 'machine'\n",
    "\n",
    "async def computer():\n",
    "    for i in range(1, 5):\n",
    "        print(f'computer {i} start')\n",
    "        await asyncio.sleep(1)\n",
    "        print(f'computer {i} end')\n",
    "\n",
    "\n",
    "async def main(*coro):\n",
    "    \"\"\"\n",
    "        await asyncio.gather(animal(), human(), machine()): run theo thứ tự arguments trong gather()\n",
    "        kết nối 3 coro = pipe child, vao PIPE LỚN, vẫn có thứ tự run là \n",
    "        gặp await: ANIMAL jumpto HUMAN jumto MACHINE jumto ANIMAL jumpto HUMAN jumto MACHINE ... chừng nào hết thì thôi\n",
    "        NOTE: if ANIMAL RUN; trong nó có await child_coro1() thì run nó, trong nó có await cihld_coro2() thi run tiếp \n",
    "        nếu gặp await asyncio.sleep(number) thi jumto pipe nhỏ\n",
    "        program hiên tại có 3 pipe nhỏ theo thứ tự là: animal - human - machine\n",
    "        \n",
    "        \n",
    "        keyword await coro() có chức năng giống với \n",
    "        write<-, <-read của golang(nhưng golang gặp số LẺ mới jumpto, số CHẴN thì run qua lun\n",
    "    \"\"\"\n",
    "    values = await asyncio.gather(animal(), human(), machine())\n",
    "    return values\n",
    "\n",
    "async def test(*coro):\n",
    "    values = await asyncio.gather(*coro)\n",
    "    return values\n",
    "\n",
    "def run(main, *coro):\n",
    "    s = time.perf_counter()\n",
    "\n",
    "    asyncio.run(main(*coro))\n",
    "    # asyncio.run(task1())\n",
    "    # asyncio.run(main_two())\n",
    "\n",
    "    elapsed = time.perf_counter() - s\n",
    "    print(f\"{elapsed:0.2f} seconds.\")\n",
    "\n",
    "run(test, human(), animal())"
   ]
  },
  {
   "cell_type": "markdown",
   "metadata": {},
   "source": [
    "## asyncio.create_task(coro())"
   ]
  },
  {
   "cell_type": "code",
   "execution_count": 3,
   "metadata": {},
   "outputs": [
    {
     "name": "stdout",
     "output_type": "stream",
     "text": [
      "Send first Email\n",
      "Send second Email\n",
      "Send third Email\n",
      "Second Email reply\n",
      "Third Email reply\n",
      "First Email reply\n"
     ]
    }
   ],
   "source": [
    "import time\n",
    "import asyncio\n",
    "import threading\n",
    "\n",
    "# trong jupyter phai co moi run duoc asyncio\n",
    "import nest_asyncio\n",
    "nest_asyncio.apply()\n",
    "\n",
    "\"\"\"\n",
    "    dùng asyncio.create_task(coro()) : connect thủ công  PIPE LON, \n",
    "    và phải nằm trên đoạn code jumpto: asyncio.sleep(number)\n",
    "    \n",
    "    dùng asyncio.gather(*coro): auto connect các coro với PIPE LON, \n",
    "    run theo vị trí chúng ta pass các coro vào trong gather(*coro)\n",
    "\"\"\"\n",
    "\n",
    "async def task1():\n",
    "    print('Send first Email')\n",
    "    \n",
    "    #asyncio.create_task(task2())\n",
    "    #asyncio.create_task(task3())\n",
    "\n",
    "    await asyncio.sleep(3)\n",
    "   \n",
    "    print('First Email reply')\n",
    "\n",
    "async def task2():\n",
    "    print('Send second Email')\n",
    "    #asyncio.create_task(task3())\n",
    "    await asyncio.sleep(1)\n",
    "    print('Second Email reply')\n",
    "\n",
    "async def task3():\n",
    "    print('Send third Email')\n",
    "    await asyncio.sleep(2)\n",
    "    print('Third Email reply')\n",
    "    \n",
    "async def main():\n",
    "    # run la dau task1() await jumpto, task2() await jumpto, task3() await, sau do quay lai run func nao co await\n",
    "    # thoi gian cho =run it nhat truoc\n",
    "    await asyncio.gather(task1(), task2(), task3())\n",
    "\n",
    "asyncio.run(main())"
   ]
  },
  {
   "cell_type": "code",
   "execution_count": 4,
   "metadata": {},
   "outputs": [
    {
     "name": "stdout",
     "output_type": "stream",
     "text": [
      "Send first Email\n",
      "Send second Email\n",
      "Send third Email\n",
      "Second Email reply\n",
      "Third Email reply\n",
      "First Email reply\n"
     ]
    }
   ],
   "source": [
    "import time\n",
    "import asyncio\n",
    "import threading\n",
    "\n",
    "# trong jupyter phai co moi run duoc asyncio\n",
    "import nest_asyncio\n",
    "nest_asyncio.apply()\n",
    "\n",
    "\n",
    "async def task1():\n",
    "    print('Send first Email')\n",
    "    asyncio.create_task(task2())\n",
    "    asyncio.create_task(task3())\n",
    "    # asyncio.create_task(func()) phai nam tren await asyncio.sleep(3)\n",
    "    \n",
    "    # task1(), task2() se run xong xong voi task1()\n",
    "    # lan run dau tien,se run theo thu tu code asyncio.create_task(func())\n",
    "    # lan thu 2, se run func nao co thoi gian await it nhat run truoc, tuc END\n",
    "    \n",
    "    \n",
    "    await asyncio.sleep(3) # run sleep(2), jumpto task2()\n",
    "        \n",
    "    # end task1 \n",
    "    print('First Email reply')\n",
    "\n",
    "async def task2():\n",
    "    print('Send second Email')\n",
    "    await asyncio.sleep(1) # run sleep(1), jumpto task3()\n",
    "    # end task2\n",
    "    print('Second Email reply')\n",
    "\n",
    "async def task3():\n",
    "    print('Send third Email')\n",
    "    await asyncio.sleep(2)\n",
    "    # end task2\n",
    "    print('Third Email reply') #end run tiếp về end task1 ,2 ,3\n",
    "    \n",
    "async def main():\n",
    "    await asyncio.gather(task1(), task2(), task3())\n",
    "\n",
    "asyncio.run(task1())"
   ]
  },
  {
   "cell_type": "code",
   "execution_count": null,
   "metadata": {},
   "outputs": [],
   "source": []
  },
  {
   "cell_type": "markdown",
   "metadata": {},
   "source": [
    "# coroutine basic, async_generator"
   ]
  },
  {
   "cell_type": "code",
   "execution_count": 5,
   "metadata": {},
   "outputs": [
    {
     "name": "stdout",
     "output_type": "stream",
     "text": [
      "1\n",
      "2\n",
      "3\n",
      "coroutine\n"
     ]
    }
   ],
   "source": [
    "import asyncio\n",
    "import nest_asyncio\n",
    "nest_asyncio.apply()\n",
    "\n",
    "async def coroutine():\n",
    "    return 'coroutine'\n",
    "\n",
    "'''\n",
    "    call use: \n",
    "    async for item in genfunc()\n",
    "'''\n",
    "async def genfunc():\n",
    "    yield 1\n",
    "    yield 2\n",
    "    yield 3\n",
    "\n",
    "async def main():\n",
    "    '''coroutine basic return dung keywork await'''\n",
    "    coro = await coroutine()\n",
    "\n",
    "    async for v in genfunc():\n",
    "        print(v)\n",
    "\n",
    "    print(coro)\n",
    "\n",
    "\n",
    "asyncio.run(main())"
   ]
  },
  {
   "cell_type": "markdown",
   "metadata": {},
   "source": [
    "# AsyncIteratorWrapper"
   ]
  },
  {
   "cell_type": "code",
   "execution_count": 6,
   "metadata": {},
   "outputs": [
    {
     "name": "stdout",
     "output_type": "stream",
     "text": [
      "a\n",
      "b\n",
      "c\n",
      "d\n"
     ]
    }
   ],
   "source": [
    "import asyncio\n",
    "import nest_asyncio\n",
    "nest_asyncio.apply()\n",
    "\n",
    "class AsyncIteratorWrapper:\n",
    "  def __init__(self, obj):\n",
    "    self._it = iter(obj)\n",
    "\n",
    "  def __aiter__(self):\n",
    "    return self\n",
    "\n",
    "  async def __anext__(self):\n",
    "    try:\n",
    "      value = next(self._it)\n",
    "    except StopIteration:\n",
    "      raise StopAsyncIteration\n",
    "    return value\n",
    "\n",
    "'''dung async for item in  AsyncIteratorWrapper('abcd')'''\n",
    "async def main():\n",
    " async for letter in AsyncIteratorWrapper(\"abcd\"):\n",
    "  print(letter)\n",
    "\n",
    "asyncio.run(main())"
   ]
  },
  {
   "cell_type": "markdown",
   "metadata": {
    "tags": []
   },
   "source": [
    "# Context Manager"
   ]
  },
  {
   "cell_type": "code",
   "execution_count": 7,
   "metadata": {},
   "outputs": [
    {
     "data": {
      "text/plain": [
       "'\\n with Indenter() as indent:\\n indent = Indenter().__enter__()=self\\n\\n'"
      ]
     },
     "execution_count": 7,
     "metadata": {},
     "output_type": "execute_result"
    }
   ],
   "source": [
    "class Indenter:\n",
    "    def __init__(self):\n",
    "        self.level = -1\n",
    "\n",
    "    def __enter__(self):\n",
    "        self.level += 1\n",
    "        return self\n",
    "\n",
    "    def __exit__(self, exc_type, exc_value, exc_tb):\n",
    "        self.level -= 1\n",
    "\n",
    "    def print(self, text):\n",
    "        print(\"    \" * self.level + text)\n",
    "'''\n",
    " with Indenter() as indent:\n",
    " indent = Indenter().__enter__()=self\n",
    "\n",
    "'''"
   ]
  },
  {
   "cell_type": "code",
   "execution_count": 8,
   "metadata": {},
   "outputs": [
    {
     "name": "stdout",
     "output_type": "stream",
     "text": [
      "hi!\n",
      "    hello\n",
      "        bonjour\n",
      "hey\n"
     ]
    }
   ],
   "source": [
    "with Indenter() as indent:\n",
    "    indent.print(\"hi!\")\n",
    "    with indent:\n",
    "        indent.print(\"hello\")\n",
    "        with indent:\n",
    "            indent.print(\"bonjour\")\n",
    "    indent.print(\"hey\")"
   ]
  },
  {
   "cell_type": "code",
   "execution_count": null,
   "metadata": {},
   "outputs": [],
   "source": []
  },
  {
   "cell_type": "code",
   "execution_count": 9,
   "metadata": {},
   "outputs": [
    {
     "name": "stdout",
     "output_type": "stream",
     "text": [
      "Entering the context...\n",
      "Hello, World!\n",
      "Leaving the context...\n"
     ]
    }
   ],
   "source": [
    "from contextlib import contextmanager\n",
    "\n",
    "@contextmanager\n",
    "def hello_context_manager():\n",
    "    print(\"Entering the context...\")\n",
    "    yield \"Hello, World!\"\n",
    "    print(\"Leaving the context...\")\n",
    "\n",
    "\n",
    "with hello_context_manager() as hello:\n",
    "    print(hello)"
   ]
  },
  {
   "cell_type": "markdown",
   "metadata": {},
   "source": [
    "# Asynchronous Context Manager"
   ]
  },
  {
   "cell_type": "code",
   "execution_count": 10,
   "metadata": {},
   "outputs": [
    {
     "name": "stdout",
     "output_type": "stream",
     "text": [
      "https://pycoders.com: status -> 200\n",
      "https://pycoders.com: type -> <!doctype html>\n",
      "https://realpython.com: status -> 200\n",
      "https://realpython.com: type -> <!doctype html\n"
     ]
    }
   ],
   "source": [
    "import aiohttp\n",
    "import asyncio\n",
    "import nest_asyncio\n",
    "nest_asyncio.apply()\n",
    "\n",
    "class AsyncSession:\n",
    "    def __init__(self, url):\n",
    "        self._url = url\n",
    "\n",
    "    async def __aenter__(self):\n",
    "        self.session = aiohttp.ClientSession()\n",
    "        response = await self.session.get(self._url)\n",
    "        return response\n",
    "\n",
    "    async def __aexit__(self, exc_type, exc_value, exc_tb):\n",
    "        await self.session.close()\n",
    "\n",
    "async def check(url):\n",
    "    async with AsyncSession(url) as response:\n",
    "        print(f\"{url}: status -> {response.status}\")\n",
    "        html = await response.text()\n",
    "        print(f\"{url}: type -> {html[:17].strip()}\")\n",
    "\n",
    "async def main():\n",
    "    await asyncio.gather(\n",
    "        check(\"https://realpython.com\"),\n",
    "        check(\"https://pycoders.com\"),\n",
    "    )\n",
    "\n",
    "asyncio.run(main())"
   ]
  },
  {
   "cell_type": "code",
   "execution_count": null,
   "metadata": {},
   "outputs": [],
   "source": []
  },
  {
   "cell_type": "code",
   "execution_count": 11,
   "metadata": {},
   "outputs": [],
   "source": [
    "async def say_after(delay, what):\n",
    "    print(f\"START {what} {delay:.>10}\")\n",
    "    await asyncio.sleep(delay)\n",
    "    print(f\"END {what:.>10}\", end='\\n'*2)\n",
    "\n",
    "# python 3.7\n",
    "async def say_after_main():\n",
    "    \"\"\" code run tu tren xuong, khi gap await thi quay len treb chay theo cac create_task() tu tren xuong duoi\"\"\"\n",
    "\n",
    "\n",
    "    print(f\"started at {time.strftime('%X')}\")\n",
    "\n",
    "    #two create tasks -> dung asyncio.gather co the bo buoc #two\n",
    "    # task1 = asyncio.create_task(say_after(5,'5'))\n",
    "    # task2 = asyncio.create_task(say_after(3,'3'))\n",
    "    # task4 = asyncio.create_task(say_after(7,'7'))\n",
    "    # task3 = asyncio.create_task(say_after(1,'1'))\n",
    "    \"\"\" await chờ task2 ket thuc rồi chạy het chuong trinh, cac task co thoi gian lau hon se bo qua\n",
    "     \"\"\"\n",
    "    # await cho_5p => t chờ tui bay 5p, het 5p t chay het func cua tao\n",
    "    # await tasks = run asyncio.create_task(fun())\n",
    "    # await task1\n",
    "    # await task2\n",
    "    # await task4\n",
    "\n",
    "    #three\n",
    "    await asyncio.gather(say_after(9,'9'), say_after(3,'3'), say_after(7,'7'),)\n",
    "\n",
    "    print(f\"finished at {time.strftime('%X')}\")\n",
    "# python 3.8\n",
    "# asyncio.run(say_after_main()) #three\n",
    "\n",
    "#=============================================================================#"
   ]
  },
  {
   "cell_type": "markdown",
   "metadata": {},
   "source": [
    "# old"
   ]
  },
  {
   "cell_type": "code",
   "execution_count": 12,
   "metadata": {},
   "outputs": [],
   "source": [
    "# python 3.6 va cu hon\n",
    "def say_after_until():\n",
    "    \"\"\" goi ten ham say_after_until() khong can asyncio.run(say_after_until())\"\"\"\n",
    "\n",
    "\n",
    "    print(f\"started at {time.strftime('%X')}\")\n",
    "\n",
    "    loop = asyncio.get_event_loop()\n",
    "\n",
    "    task1 = loop.create_task(say_after(5,'5'))\n",
    "    task2 = loop.create_task(say_after(3,'3'))\n",
    "    task3 = loop.create_task(say_after(7,'7'))\n",
    "    task4 = loop.create_task(say_after(1,'1'))\n",
    "    loop.run_until_complete(asyncio.gather(task2))\n",
    "    # loop.run_until_complete(asyncio.gather(task1, task4, task3, task2))\n",
    "    # run theo luc loop.create_task, chu ko phai theo asyncio.gather(*task)\n",
    "\n",
    "    print(f\"finished at {time.strftime('%X')}\")\n",
    "# say_after_until()\n",
    "#=============================================================================#\n",
    "\n",
    "\n",
    "def thread_test(name='one',label='#', stop=30, delay=1):\n",
    "    print(f\"{name} let go!!!\")\n",
    "\n",
    "    for i in range(stop):\n",
    "        print(f'{name}: {i:{label}>20}')\n",
    "        time.sleep(delay)\n",
    "\n",
    "def thread_main():\n",
    "\n",
    "    r1 = threading.Thread(target=thread_test, args=('one','#',16,4))\n",
    "    r2 = threading.Thread(target=thread_test, args=('two','-',40,1))\n",
    "\n",
    "    r2.start()\n",
    "    r1.start()\n",
    "\n",
    "    threads = [r1, r2]\n",
    "    for r in threads:\n",
    "        r.join()\n",
    "\n",
    "    print('end threading')\n",
    "    \n",
    "\n",
    "if __name__ == '__main__':\n",
    "    pass"
   ]
  }
 ],
 "metadata": {
  "kernelspec": {
   "display_name": "Python 3 (ipykernel)",
   "language": "python",
   "name": "python3"
  },
  "language_info": {
   "codemirror_mode": {
    "name": "ipython",
    "version": 3
   },
   "file_extension": ".py",
   "mimetype": "text/x-python",
   "name": "python",
   "nbconvert_exporter": "python",
   "pygments_lexer": "ipython3",
   "version": "3.10.8"
  }
 },
 "nbformat": 4,
 "nbformat_minor": 4
}
