{
 "cells": [
  {
   "cell_type": "markdown",
   "metadata": {},
   "source": [
    "# seed(int) luu khoang random"
   ]
  },
  {
   "cell_type": "code",
   "execution_count": 1,
   "metadata": {},
   "outputs": [
    {
     "name": "stdout",
     "output_type": "stream",
     "text": [
      "random.seed(444) = capture 1 random sau no\n",
      "random.random() = 0.3088946587429545 float(0.0 to 1.0)\n",
      "\n",
      "random.random() = 0.01323751590501987\n",
      "random.random() = 0.4844375347808497\n",
      "\n",
      "random.seed(444)\n",
      "random.random() = 0.3088946587429545 \n"
     ]
    }
   ],
   "source": [
    "import random\n",
    "\n",
    "#record lai value\n",
    "random.seed(444)\n",
    "print(\"random.seed(444) = capture 1 random sau no\")\n",
    "# float in [0.0, 1.0]\n",
    "print(f\"{random.random() = } float(0.0 to 1.0)\")#1\n",
    "\n",
    "print()\n",
    "print(f\"{random.random() = }\")\n",
    "print(f\"{random.random() = }\")\n",
    "print()\n",
    "# lap lai random truoc do #1\n",
    "random.seed(444)\n",
    "print(\"random.seed(444)\")\n",
    "print(f\"{random.random() = } \")#1"
   ]
  },
  {
   "cell_type": "markdown",
   "metadata": {},
   "source": [
    "# getstate() va setstate(state) luu khoang random"
   ]
  },
  {
   "cell_type": "code",
   "execution_count": 2,
   "metadata": {
    "scrolled": false
   },
   "outputs": [
    {
     "name": "stdout",
     "output_type": "stream",
     "text": [
      "0.01323751590501987\n",
      "\n",
      "state = random.getstate() capture 1 random sau no gan giong random.seed(int)\n",
      "random.random() = 0.4844375347808497\n",
      "\n",
      "random.random() = 0.8614799253779063\n",
      "random.random() = 0.7426396870165088\n",
      "\n",
      "random.setstate(state)\n",
      "random.random() = 0.4844375347808497\n"
     ]
    }
   ],
   "source": [
    "#print a random number:\n",
    "print(random.random())\n",
    "print()\n",
    "#capture the state:\n",
    "state = random.getstate()\n",
    "\n",
    "print(\"state = random.getstate() capture 1 random sau no gan giong random.seed(int)\")\n",
    "print(f\"{random.random() = }\")\n",
    "print()\n",
    "print(f\"{random.random() = }\")\n",
    "print(f\"{random.random() = }\")\n",
    "print()\n",
    "\n",
    "#restore the state:\n",
    "random.setstate(state)\n",
    "print(\"random.setstate(state)\")\n",
    "print(f\"{random.random() = }\")"
   ]
  },
  {
   "cell_type": "markdown",
   "metadata": {},
   "source": [
    "# randint, randrange, uniform"
   ]
  },
  {
   "cell_type": "code",
   "execution_count": 3,
   "metadata": {},
   "outputs": [
    {
     "name": "stdout",
     "output_type": "stream",
     "text": [
      "random.randint(1,10) = 5\n",
      "random.randint(500,1000) = 880 <int(500 to 1000)>\n",
      "\n",
      "random.randrange(1,21,2) = 17 <range(1,21,2)>\n",
      "\n",
      "random.uniform(20,30) = 26.338658027451068 <float(20.0 to 30.0)>\n",
      "random.uniform(40,50) = 44.41955749284916\n"
     ]
    }
   ],
   "source": [
    "print(f\"{random.randint(1,10) = }\")\n",
    "\n",
    "print(f\"{random.randint(500,1000) = } <int(500 to 1000)>\")\n",
    "print()\n",
    "\n",
    "print(f\"{random.randrange(1,21,2) = } <range(1,21,2)>\")\n",
    "print()\n",
    "\n",
    "# float in [20.0, 30.0]\n",
    "print(f\"{random.uniform(20,30) = } <float(20.0 to 30.0)>\")\n",
    "\n",
    "print(f\"{random.uniform(40,50) = }\")\n",
    "# print(f\"{random.getstate() = }\")"
   ]
  },
  {
   "cell_type": "markdown",
   "metadata": {},
   "source": [
    "# triangular and betavariate"
   ]
  },
  {
   "cell_type": "code",
   "execution_count": 4,
   "metadata": {
    "scrolled": false
   },
   "outputs": [
    {
     "name": "stdout",
     "output_type": "stream",
     "text": [
      "random.triangular(20, 60, 30) = 31.253976344596467\n",
      "random.betavariate(1,3) = 0.021779522162235235\n"
     ]
    }
   ],
   "source": [
    "print(f\"{random.triangular(20, 60, 30) = }\")\n",
    "print(f\"{random.betavariate(1,3) = }\")"
   ]
  },
  {
   "cell_type": "markdown",
   "metadata": {},
   "source": [
    "# choice, choices, sample -> select item"
   ]
  },
  {
   "cell_type": "code",
   "execution_count": 5,
   "metadata": {
    "scrolled": true
   },
   "outputs": [
    {
     "name": "stdout",
     "output_type": "stream",
     "text": [
      "items = ['one', 'two', 'three', 'four', 'five', 'six', 'seven']\n",
      "\n",
      "random.choice(items) = 'four' <str>\n",
      "random.choices(items, k=2) = ['seven', 'five']\n",
      "random.choices(items, k=3) = ['one', 'one', 'five'] <list co duplicate item>\n",
      "random.sample(items, k=5) = ['five', 'one', 'three', 'seven', 'four'] <list NO  duplicate item>\n"
     ]
    }
   ],
   "source": [
    "items = ['one', 'two', 'three', 'four', 'five', 'six', 'seven']\n",
    "print(f\"{items = }\")\n",
    "print()\n",
    "\n",
    "print(f\"{random.choice(items) = } <str>\")\n",
    "\n",
    "print(f\"{random.choices(items, k=2) = }\")\n",
    "\n",
    "print(f\"{random.choices(items, k=3) = } <list co duplicate item>\")\n",
    "\n",
    "print(f\"{random.sample(items, k=5) = } <list NO  duplicate item>\")"
   ]
  },
  {
   "cell_type": "markdown",
   "metadata": {},
   "source": [
    "# shuffle(iterable) -> tron iterable inplace"
   ]
  },
  {
   "cell_type": "code",
   "execution_count": 6,
   "metadata": {
    "scrolled": true
   },
   "outputs": [
    {
     "name": "stdout",
     "output_type": "stream",
     "text": [
      "items = ['one', 'two', 'three', 'four', 'five', 'six', 'seven']\n",
      "random.shuffle(items) tron items\n",
      "items = ['seven', 'five', 'four', 'one', 'six', 'three', 'two']\n"
     ]
    }
   ],
   "source": [
    "print(f\"{items = }\")\n",
    "\n",
    "random.shuffle(items)\n",
    "print(\"random.shuffle(items) tron items\")\n",
    "print(f\"{items = }\")"
   ]
  }
 ],
 "metadata": {
  "kernelspec": {
   "display_name": "Python 3",
   "language": "python",
   "name": "python3"
  },
  "language_info": {
   "codemirror_mode": {
    "name": "ipython",
    "version": 3
   },
   "file_extension": ".py",
   "mimetype": "text/x-python",
   "name": "python",
   "nbconvert_exporter": "python",
   "pygments_lexer": "ipython3",
   "version": "3.8.6"
  }
 },
 "nbformat": 4,
 "nbformat_minor": 2
}
