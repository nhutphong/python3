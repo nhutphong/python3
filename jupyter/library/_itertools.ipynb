{
 "cells": [
  {
   "cell_type": "markdown",
   "metadata": {
    "jp-MarkdownHeadingCollapsed": true,
    "tags": []
   },
   "source": [
    "# str.method"
   ]
  },
  {
   "cell_type": "code",
   "execution_count": 1,
   "metadata": {},
   "outputs": [],
   "source": [
    "note = \"\"\"\n",
    "    \n",
    "    string.isalnum() => [a-z],[A-Z] or a number[0-9]\n",
    "    string.isalpha() => (a-z or A-Z)\n",
    "    string.isnumeric() > isdigit() > isdecimal()\n",
    "    string.isidentifier() -> string hop le dat ten bien\n",
    "    string.isprintable() => tat ca  tru /r, /n, ...\n",
    "    string.isspace() => gom ' ', /r,/t,...\n",
    "    \n",
    "    string = 'ab\\tdung'\n",
    "    string.expandtabs(8) => them 4 space+'dung' = 8 space\n",
    "    string.zfill(6) => them 0 dang truoc '-00032', '+00032', '000032'\n",
    "    \n",
    "    dung if va <in> avoid cac methods xay ra error\n",
    "    string = 'dung thong cho de bo trau'\n",
    "    string.find(sub) -> return -1 neu khong tim thay sub \n",
    "    \n",
    "    if sub in string_or_list_dict:\n",
    "        string.index(sub) -> return int\n",
    "        \n",
    "        ls.index(sub) -> return int\n",
    "        ls.remove(sub) -> inplace = updated return None\n",
    "    \n",
    "    if lt_dt: # data is empty no run\n",
    "        list.pop(index) -> return value inplace list\n",
    "        dt.popitem() return last_tuple(key, value) inplace dict\n",
    "\"\"\""
   ]
  },
  {
   "cell_type": "markdown",
   "metadata": {
    "jp-MarkdownHeadingCollapsed": true,
    "tags": []
   },
   "source": [
    "# operator.itemgetter(key) return wrapper"
   ]
  },
  {
   "cell_type": "code",
   "execution_count": 2,
   "metadata": {},
   "outputs": [],
   "source": [
    "def itemgetter(*items):\n",
    "    if len(items) == 1:\n",
    "        item = items[0]\n",
    "        def wrapper(obj):\n",
    "            return obj[item]\n",
    "    else:\n",
    "        def wrapper(obj):\n",
    "            return tuple(obj[item] for item in items)\n",
    "        \n",
    "    return wrapper"
   ]
  },
  {
   "cell_type": "code",
   "execution_count": 3,
   "metadata": {},
   "outputs": [],
   "source": [
    "import operator as op"
   ]
  },
  {
   "cell_type": "code",
   "execution_count": 4,
   "metadata": {
    "scrolled": true
   },
   "outputs": [
    {
     "data": {
      "text/plain": [
       "[('c', 1), ('b', 2), ('a', 3)]"
      ]
     },
     "execution_count": 4,
     "metadata": {},
     "output_type": "execute_result"
    }
   ],
   "source": [
    "data = [('a',3),('b',2),('c',1)] \n",
    "sorted(data, key=op.itemgetter(1)) \n"
   ]
  },
  {
   "cell_type": "code",
   "execution_count": 5,
   "metadata": {},
   "outputs": [
    {
     "data": {
      "text/plain": [
       "[('Tom', 'A', 20),\n",
       " ('Sam', 'A', 35),\n",
       " ('Ron', 'A', 40),\n",
       " ('Ben', 'B', 15),\n",
       " ('Max', 'B', 25),\n",
       " ('Bob', 'B', 30)]"
      ]
     },
     "execution_count": 5,
     "metadata": {},
     "output_type": "execute_result"
    }
   ],
   "source": [
    "L = [('Bob', 'B', 30),\n",
    "\t ('Sam', 'A', 35),\n",
    "     ('Max', 'B', 25),\n",
    "     ('Tom', 'A', 20),\n",
    "     ('Ron', 'A', 40),\n",
    "     ('Ben', 'B', 15)]\n",
    "sorted(L, key=op.itemgetter(1,2)) #index"
   ]
  },
  {
   "cell_type": "code",
   "execution_count": 6,
   "metadata": {},
   "outputs": [
    {
     "data": {
      "text/plain": [
       "{'abcd': 0, 'abc': 1, 'ab': 2, 'a': 3}"
      ]
     },
     "execution_count": 6,
     "metadata": {},
     "output_type": "execute_result"
    }
   ],
   "source": [
    "data = { 'a':3,'ab':2,'abc':1,'abcd':0 }\n",
    "dict(sorted(data.items(), key=op.itemgetter(1))) "
   ]
  },
  {
   "cell_type": "code",
   "execution_count": 7,
   "metadata": {},
   "outputs": [
    {
     "data": {
      "text/plain": [
       "operator.itemgetter"
      ]
     },
     "execution_count": 7,
     "metadata": {},
     "output_type": "execute_result"
    }
   ],
   "source": [
    "type(op.itemgetter('name'))# wrapper"
   ]
  },
  {
   "cell_type": "code",
   "execution_count": 8,
   "metadata": {},
   "outputs": [
    {
     "data": {
      "text/plain": [
       "'tu'"
      ]
     },
     "execution_count": 8,
     "metadata": {},
     "output_type": "execute_result"
    }
   ],
   "source": [
    "op.itemgetter('name')({'name': 'tu', 'age': 18}) #key"
   ]
  },
  {
   "cell_type": "code",
   "execution_count": 9,
   "metadata": {},
   "outputs": [
    {
     "data": {
      "text/plain": [
       "'thong'"
      ]
     },
     "execution_count": 9,
     "metadata": {},
     "output_type": "execute_result"
    }
   ],
   "source": [
    "wrapper = op.itemgetter('name') #function\n",
    "wrapper({'name': 'thong', 'age': 28})"
   ]
  },
  {
   "cell_type": "code",
   "execution_count": 10,
   "metadata": {},
   "outputs": [
    {
     "data": {
      "text/plain": [
       "'B'"
      ]
     },
     "execution_count": 10,
     "metadata": {},
     "output_type": "execute_result"
    }
   ],
   "source": [
    "wrapper = op.itemgetter(1) #index\n",
    "wrapper('ABCDEFG')"
   ]
  },
  {
   "cell_type": "code",
   "execution_count": 11,
   "metadata": {
    "scrolled": true
   },
   "outputs": [
    {
     "data": {
      "text/plain": [
       "('B', 'D', 'F')"
      ]
     },
     "execution_count": 11,
     "metadata": {},
     "output_type": "execute_result"
    }
   ],
   "source": [
    "op.itemgetter(1,3,5)('ABCDEFG') #index(1,3,5)"
   ]
  },
  {
   "cell_type": "code",
   "execution_count": 12,
   "metadata": {},
   "outputs": [
    {
     "data": {
      "text/plain": [
       "'CDEFG'"
      ]
     },
     "execution_count": 12,
     "metadata": {},
     "output_type": "execute_result"
    }
   ],
   "source": [
    "op.itemgetter(slice(2,None))('ABCDEFG')"
   ]
  },
  {
   "cell_type": "markdown",
   "metadata": {
    "jp-MarkdownHeadingCollapsed": true,
    "tags": []
   },
   "source": [
    "# operator.attrgetter(attr_name) return wrapper"
   ]
  },
  {
   "cell_type": "code",
   "execution_count": 13,
   "metadata": {},
   "outputs": [],
   "source": [
    "def attrgetter(*items):\n",
    "    if any(not isinstance(item, str) for item in items):\n",
    "        raise TypeError('attribute name must be a string')\n",
    "        \n",
    "    if len(items) == 1:\n",
    "        attr = items[0]\n",
    "        def wrapper(obj):\n",
    "            return resolve_attr(obj, attr)\n",
    "    else:\n",
    "        def wrapper(obj):\n",
    "            return tuple(resolve_attr(obj, attr) for attr in items)\n",
    "        \n",
    "    return wrapper\n",
    "\n",
    "def resolve_attr(obj, attr):\n",
    "    for name in attr.split(\".\"):\n",
    "        value = getattr(obj, name)\n",
    "    return value"
   ]
  },
  {
   "cell_type": "code",
   "execution_count": 14,
   "metadata": {},
   "outputs": [
    {
     "name": "stdout",
     "output_type": "stream",
     "text": [
      "[('Thong', 'T', 30), ('Nhut', 'N', 35), ('Zung', 'Z', 45)]\n"
     ]
    }
   ],
   "source": [
    "\n",
    "class Student:\n",
    "    def __init__(self, name, grade, age):\n",
    "        self.name = name\n",
    "        self.grade = grade\n",
    "        self.age = age\n",
    "        \n",
    "    def __repr__(self):\n",
    "        return repr((self.name, self.grade, self.age))\n",
    "\n",
    "iterable = [Student('Thong', 'T', 30),Student('Nhut', 'N', 35),Student('Zung', 'Z', 45)]\n",
    "\n",
    "students = sorted(iterable, key=lambda student: student.age)\n",
    "print(students)"
   ]
  },
  {
   "cell_type": "code",
   "execution_count": 15,
   "metadata": {},
   "outputs": [
    {
     "name": "stdout",
     "output_type": "stream",
     "text": [
      "[('Thong', 'T', 30), ('Nhut', 'N', 35), ('Zung', 'Z', 45)]\n"
     ]
    }
   ],
   "source": [
    "x = sorted(iterable, key=op.attrgetter('age'))\n",
    "print(x)"
   ]
  },
  {
   "cell_type": "code",
   "execution_count": 16,
   "metadata": {},
   "outputs": [
    {
     "data": {
      "text/plain": [
       "30"
      ]
     },
     "execution_count": 16,
     "metadata": {},
     "output_type": "execute_result"
    }
   ],
   "source": [
    "wrapper = op.attrgetter('age') # age\n",
    "wrapper(Student('Thong', 'T', 30)) # wrapper(obj) # obj.age"
   ]
  },
  {
   "cell_type": "markdown",
   "metadata": {},
   "source": [
    "# itertools"
   ]
  },
  {
   "cell_type": "code",
   "execution_count": 17,
   "metadata": {},
   "outputs": [
    {
     "data": {
      "text/plain": [
       "<generator object <genexpr> at 0x7fa34102e8f0>"
      ]
     },
     "execution_count": 17,
     "metadata": {},
     "output_type": "execute_result"
    }
   ],
   "source": [
    "#comprehension\n",
    "(number for number in range(1,11))"
   ]
  },
  {
   "cell_type": "code",
   "execution_count": 18,
   "metadata": {},
   "outputs": [
    {
     "data": {
      "text/plain": [
       "[1, 2, 3, 4, 5, 6, 7, 8, 9, 10]"
      ]
     },
     "execution_count": 18,
     "metadata": {},
     "output_type": "execute_result"
    }
   ],
   "source": [
    "[number for number in range(1,11)]"
   ]
  },
  {
   "cell_type": "code",
   "execution_count": 19,
   "metadata": {},
   "outputs": [
    {
     "data": {
      "text/plain": [
       "[(1, 't'), (2, 'h'), (3, 'o'), (4, 'n'), (5, 'g')]"
      ]
     },
     "execution_count": 19,
     "metadata": {},
     "output_type": "execute_result"
    }
   ],
   "source": [
    "list(enumerate('thong', 1))"
   ]
  },
  {
   "cell_type": "code",
   "execution_count": 20,
   "metadata": {},
   "outputs": [
    {
     "data": {
      "text/plain": [
       "{1: 't', 2: 'h', 3: 'o', 4: 'n', 5: 'g'}"
      ]
     },
     "execution_count": 20,
     "metadata": {},
     "output_type": "execute_result"
    }
   ],
   "source": [
    "{key: value for key, value in enumerate('thong', 1)}\n",
    "#{ix: line for ix, line in enumerate(open('zing.txt'))} #danh number line\n",
    "# data.keys() - listkeys, co magic __sub__ va __rsub__ cua type(data.keys())"
   ]
  },
  {
   "cell_type": "code",
   "execution_count": 21,
   "metadata": {},
   "outputs": [
    {
     "data": {
      "text/plain": [
       "{'d': 1, 'u': 1, 'n': 1, 'g': 1, ' ': 2, 'h': 3, 'o': 3, '@': 5}"
      ]
     },
     "execution_count": 21,
     "metadata": {},
     "output_type": "execute_result"
    }
   ],
   "source": [
    "name = 'dung hohoho @@@@@'\n",
    "{key: name.count(key) for key in name} # count letter"
   ]
  },
  {
   "cell_type": "markdown",
   "metadata": {},
   "source": [
    "# invert key use dict(map(reversed, my_dict.items()))"
   ]
  },
  {
   "cell_type": "code",
   "execution_count": 22,
   "metadata": {},
   "outputs": [
    {
     "data": {
      "text/plain": [
       "{'chi thong': 'gia lai',\n",
       " 'thanh dung': 'long an',\n",
       " 'dong nai': 'tan heo',\n",
       " 'ho chi minh': 'hung my'}"
      ]
     },
     "execution_count": 22,
     "metadata": {},
     "output_type": "execute_result"
    }
   ],
   "source": [
    "# invert key <-> value\n",
    "my_dict = {\n",
    "  'gia lai': 'chi thong', \n",
    "  'long an': 'thanh dung', \n",
    "  'tan heo': 'dong nai', \n",
    "  'hung my': 'ho chi minh'\n",
    "}\n",
    "\n",
    "\n",
    "my_inverted_dict = dict(map(reversed, my_dict.items()))\n",
    "my_inverted_dict"
   ]
  },
  {
   "cell_type": "markdown",
   "metadata": {},
   "source": [
    "# dict(zip(my_dict.values(), my_dict.keys()))"
   ]
  },
  {
   "cell_type": "code",
   "execution_count": 23,
   "metadata": {
    "scrolled": true
   },
   "outputs": [
    {
     "data": {
      "text/plain": [
       "{'chi thong': 'gia lai',\n",
       " 'thanh dung': 'long an',\n",
       " 'dong nai': 'tan heo',\n",
       " 'ho chi minh': 'hung my'}"
      ]
     },
     "execution_count": 23,
     "metadata": {},
     "output_type": "execute_result"
    }
   ],
   "source": [
    "dict(zip(my_dict.values(), my_dict.keys()))"
   ]
  },
  {
   "cell_type": "code",
   "execution_count": 24,
   "metadata": {},
   "outputs": [
    {
     "data": {
      "text/plain": [
       "{'chi thong': 'gia lai',\n",
       " 'thanh dung': 'long an',\n",
       " 'dong nai': 'tan heo',\n",
       " 'ho chi minh': 'hung my'}"
      ]
     },
     "execution_count": 24,
     "metadata": {},
     "output_type": "execute_result"
    }
   ],
   "source": [
    "# comprehension\n",
    "my_inverted_dict = {value: key for key, value in my_dict.items()}\n",
    "my_inverted_dict"
   ]
  },
  {
   "cell_type": "markdown",
   "metadata": {},
   "source": [
    "# collections.defaultdict"
   ]
  },
  {
   "cell_type": "code",
   "execution_count": 25,
   "metadata": {},
   "outputs": [
    {
     "data": {
      "text/plain": [
       "defaultdict(list,\n",
       "            {'chi thong': ['gia lai'],\n",
       "             'thanh dung': ['long an'],\n",
       "             'dong nai': ['tan heo'],\n",
       "             'ho chi minh': ['hung my']})"
      ]
     },
     "execution_count": 25,
     "metadata": {},
     "output_type": "execute_result"
    }
   ],
   "source": [
    "from collections import defaultdict\n",
    "my_inverted_dict = defaultdict(list)\n",
    "{my_inverted_dict[v].append(k) for k, v in my_dict.items()} #updated comprehension dict\n",
    "\n",
    "my_inverted_dict"
   ]
  },
  {
   "cell_type": "code",
   "execution_count": 26,
   "metadata": {},
   "outputs": [
    {
     "data": {
      "text/plain": [
       "[2, [7, 7], [2, 1], [8374163, 2314567], [84302738, 0]]"
      ]
     },
     "execution_count": 26,
     "metadata": {},
     "output_type": "execute_result"
    }
   ],
   "source": [
    "# cong nhieu lists\n",
    "\n",
    "ethernet_devices = [1, [7], [2], [8374163], [84302738]]\n",
    "usb_devices = [1, [7], [1], [2314567], [0]]\n",
    "\n",
    "[x + y for x, y in zip(ethernet_devices, usb_devices)]"
   ]
  },
  {
   "cell_type": "code",
   "execution_count": 27,
   "metadata": {},
   "outputs": [
    {
     "data": {
      "text/plain": [
       "[2, [7, 7], [2, 1], [8374163, 2314567], [84302738, 0]]"
      ]
     },
     "execution_count": 27,
     "metadata": {},
     "output_type": "execute_result"
    }
   ],
   "source": [
    "import operator \n",
    "all_devices = list(map(operator.add, ethernet_devices, usb_devices))\n",
    "all_devices"
   ]
  },
  {
   "cell_type": "code",
   "execution_count": 28,
   "metadata": {},
   "outputs": [
    {
     "data": {
      "text/plain": [
       "{'id': 1, 'color': 'red', 'style': 'bold'}"
      ]
     },
     "execution_count": 28,
     "metadata": {},
     "output_type": "execute_result"
    }
   ],
   "source": [
    "# two list to dict\n",
    "column_names = ['id', 'color', 'style']\n",
    "column_values = [1, 'red', 'bold']\n",
    "\n",
    "#good\n",
    "# dict(zip())\n",
    "name_to_value_dict = dict(zip(column_names, column_values))\n",
    "name_to_value_dict"
   ]
  },
  {
   "cell_type": "code",
   "execution_count": 29,
   "metadata": {},
   "outputs": [
    {
     "data": {
      "text/plain": [
       "{'id': 1, 'color': 'red', 'style': 'bold'}"
      ]
     },
     "execution_count": 29,
     "metadata": {},
     "output_type": "execute_result"
    }
   ],
   "source": [
    "# comprehension\n",
    "{key:value for key, value in zip(column_names, column_values)}"
   ]
  },
  {
   "cell_type": "code",
   "execution_count": 30,
   "metadata": {},
   "outputs": [
    {
     "name": "stdout",
     "output_type": "stream",
     "text": [
      "last_item = 'green'\n",
      "_ = ['red', 'blue']\n",
      "\n",
      "first_item = 'red'\n",
      "_ = ['blue', 'green']\n"
     ]
    }
   ],
   "source": [
    "my_list = ['red', 'blue', 'green']\n",
    "*_, last_item = my_list\n",
    "print(f\"{last_item = }\")  # prints 'green'\n",
    "print(f\"{_ = }\")\n",
    "\n",
    "print()\n",
    "first_item, *_ = my_list\n",
    "\n",
    "print(f\"{first_item = }\")  # prints 'red'\n",
    "print(f\"{_ = }\")"
   ]
  },
  {
   "cell_type": "code",
   "execution_count": 31,
   "metadata": {},
   "outputs": [
    {
     "data": {
      "text/plain": [
       "['green', 'blue']"
      ]
     },
     "execution_count": 31,
     "metadata": {},
     "output_type": "execute_result"
    }
   ],
   "source": [
    "L = ['red', 'green', 'blue', 'red', 'red']\n",
    "list(filter(lambda x: x != 'red', L))"
   ]
  },
  {
   "cell_type": "markdown",
   "metadata": {},
   "source": [
    "# test time"
   ]
  },
  {
   "cell_type": "code",
   "execution_count": 32,
   "metadata": {
    "scrolled": true
   },
   "outputs": [
    {
     "data": {
      "text/plain": [
       "0.12077437500011001"
      ]
     },
     "execution_count": 32,
     "metadata": {},
     "output_type": "execute_result"
    }
   ],
   "source": [
    "import timeit\n",
    "\n",
    "# test run code time\n",
    "setup = \"\"\"\n",
    "my_list = ['red', 'blue', 'green']\n",
    "\"\"\"\n",
    "\n",
    "length = \"\"\"\n",
    "last_item = my_list[len(my_list) - 1]\n",
    "\"\"\"\n",
    "\n",
    "pop = \"\"\"\n",
    "last_item = my_list.pop()\n",
    "my_list.append(last_item)\n",
    "\"\"\"\n",
    "\n",
    "iterable_unpacking = \"\"\"\n",
    "*_, last_item = my_list\n",
    "\"\"\"\n",
    "\n",
    "#good, print tu f\"{names}\"\n",
    "f_string = \"\"\"\n",
    "f\"My name is {name}, and I am {age} years old\"\n",
    "\"\"\"\n",
    "\n",
    "#good , nhat hon print(\"\", end=\"\")\n",
    "write_solution = \"\"\"\n",
    "sys.stdout.write(\"\")\n",
    "\"\"\"\n",
    "\n",
    "#good index\n",
    "negative_index = \"\"\"\n",
    "last_item = my_list[-1]\n",
    "\"\"\"\n",
    "\n",
    "#good sort time\n",
    "generic_sorted = \"\"\"\n",
    "my_list = sorted(my_list) \n",
    "\"\"\"\n",
    "\n",
    "#good invert key <-> value time\n",
    "dict_comprehension = \"\"\"\n",
    "{value: key for key, value in my_dict.items()}\n",
    "\"\"\"\n",
    "\n",
    "#good , dung cho merge 2 dict\n",
    "union_operator = \"\"\"\n",
    "powers = dict_one | dict_two\n",
    "\"\"\"\n",
    "\n",
    "#good time, check empty_list\n",
    "flex = \"\"\"\n",
    "if not my_list:\n",
    "    pass\n",
    "\"\"\"\n",
    "\n",
    "#good time, nhung bad code\n",
    "brute_force = \"\"\"\n",
    "all_devices = [\n",
    "    ethernet_devices[0] + usb_devices[0],\n",
    "    ethernet_devices[1] + usb_devices[1],\n",
    "    ethernet_devices[2] + usb_devices[2],\n",
    "    ethernet_devices[3] + usb_devices[3],\n",
    "    ethernet_devices[4] + usb_devices[4]\n",
    "]\n",
    "\"\"\"\n",
    "\n",
    "#good\n",
    "os_isfile = \"\"\"\n",
    "exists = os.path.isfile('/path/to/file')\n",
    "\"\"\"\n",
    "\n",
    "\n",
    "min(timeit.repeat(stmt=length, setup=setup, repeat=3))"
   ]
  },
  {
   "cell_type": "code",
   "execution_count": 33,
   "metadata": {},
   "outputs": [
    {
     "data": {
      "text/plain": [
       "0.13767776800023057"
      ]
     },
     "execution_count": 33,
     "metadata": {},
     "output_type": "execute_result"
    }
   ],
   "source": [
    "min(timeit.repeat(stmt=pop, setup=setup, repeat=3))"
   ]
  },
  {
   "cell_type": "code",
   "execution_count": 34,
   "metadata": {},
   "outputs": [
    {
     "data": {
      "text/plain": [
       "0.04169333900017591"
      ]
     },
     "execution_count": 34,
     "metadata": {},
     "output_type": "execute_result"
    }
   ],
   "source": [
    "min(timeit.repeat(stmt=negative_index, setup=setup, repeat=3))"
   ]
  },
  {
   "cell_type": "code",
   "execution_count": 35,
   "metadata": {},
   "outputs": [
    {
     "data": {
      "text/plain": [
       "0.2234952339999836"
      ]
     },
     "execution_count": 35,
     "metadata": {},
     "output_type": "execute_result"
    }
   ],
   "source": [
    "min(timeit.repeat(stmt=iterable_unpacking, setup=setup, repeat=3))"
   ]
  },
  {
   "cell_type": "markdown",
   "metadata": {},
   "source": [
    "# itertools.count"
   ]
  },
  {
   "cell_type": "code",
   "execution_count": 36,
   "metadata": {
    "scrolled": true
   },
   "outputs": [
    {
     "name": "stdout",
     "output_type": "stream",
     "text": [
      "itertools.count(start=0, step=1) (1,2,3,4,5,...) vo han\n",
      "itertools.count(start=0, step=1)\n",
      "0\n",
      "2\n",
      "4\n",
      "\n"
     ]
    }
   ],
   "source": [
    "import itertools\n",
    "import itertools as it\n",
    "import operator\n",
    "import functools\n",
    "\n",
    "#count\n",
    "print(\"itertools.count(start=0, step=1) (1,2,3,4,5,...) vo han\")\n",
    "\n",
    "print('itertools.count(start=0, step=1)')\n",
    "count = it.count(start=0, step=2)\n",
    "print(next(count)) #0\n",
    "print(next(count)) #2\n",
    "print(next(count)) #4\n",
    "print()"
   ]
  },
  {
   "cell_type": "code",
   "execution_count": 37,
   "metadata": {
    "scrolled": true
   },
   "outputs": [
    {
     "name": "stdout",
     "output_type": "stream",
     "text": [
      "0\n",
      "3\n",
      "6\n",
      "9\n",
      "\n"
     ]
    }
   ],
   "source": [
    "count = it.count(start=0, step=3)\n",
    "for _ in range(4):\n",
    "    print(next(count))\n",
    "\n",
    "print()"
   ]
  },
  {
   "cell_type": "code",
   "execution_count": 38,
   "metadata": {
    "scrolled": true
   },
   "outputs": [
    {
     "name": "stdout",
     "output_type": "stream",
     "text": [
      "it.count(start=0, step=4)\n",
      "[0, 4, 8, 12, 16]\n"
     ]
    }
   ],
   "source": [
    "count = it.count(start=0, step=4)\n",
    "print(\"it.count(start=0, step=4)\")\n",
    "comp = [next(count) for _ in range(5)]\n",
    "print(comp)"
   ]
  },
  {
   "cell_type": "markdown",
   "metadata": {},
   "source": [
    "# itertools.cycle"
   ]
  },
  {
   "cell_type": "code",
   "execution_count": 39,
   "metadata": {},
   "outputs": [
    {
     "name": "stdout",
     "output_type": "stream",
     "text": [
      "itertools.cycle([1,2,3]) => (1,2,3, 1,2,3, 1,2,3, ...) lap lai vo tan\n",
      "itertools.cycle(iterable)\n",
      "1\n",
      "3\n",
      "5\n",
      "1\n",
      "3\n"
     ]
    }
   ],
   "source": [
    "#cycle\n",
    "print(\"itertools.cycle([1,2,3]) => (1,2,3, 1,2,3, 1,2,3, ...) lap lai vo tan\")\n",
    "print('itertools.cycle(iterable)')\n",
    "cycle = it.cycle([1,3,5])\n",
    "print(next(cycle))\n",
    "print(next(cycle))\n",
    "print(next(cycle))\n",
    "print(next(cycle))\n",
    "print(next(cycle))"
   ]
  },
  {
   "cell_type": "code",
   "execution_count": 40,
   "metadata": {},
   "outputs": [
    {
     "name": "stdout",
     "output_type": "stream",
     "text": [
      "['on', 'off', 'on', 'off', 'on']\n"
     ]
    }
   ],
   "source": [
    "cycle = it.cycle(('on', 'off'))\n",
    "comp = [ next(cycle) for _ in range(5)]\n",
    "print(comp)"
   ]
  },
  {
   "cell_type": "markdown",
   "metadata": {},
   "source": [
    "# itertools.repeat"
   ]
  },
  {
   "cell_type": "code",
   "execution_count": 41,
   "metadata": {},
   "outputs": [
    {
     "name": "stdout",
     "output_type": "stream",
     "text": [
      "itertools.repeat(object[, times])\n",
      "itertools.repeat(4) => duplicates(4,4,4,4,.....) or times=8 gioi han 8 items\n",
      "3\n",
      "3\n",
      "3\n",
      "3\n"
     ]
    }
   ],
   "source": [
    "#repeat\n",
    "print('itertools.repeat(object[, times])')\n",
    "print(\"itertools.repeat(4) => duplicates(4,4,4,4,.....) or times=8 gioi han 8 items\")\n",
    "repeat = it.repeat(3)\n",
    "print(next(repeat))\n",
    "print(next(repeat))\n",
    "print(next(repeat))\n",
    "print(next(repeat))"
   ]
  },
  {
   "cell_type": "code",
   "execution_count": 42,
   "metadata": {},
   "outputs": [
    {
     "name": "stdout",
     "output_type": "stream",
     "text": [
      "list(map(pow, range(10), it.repeat(3)))\n",
      "[0, 1, 8, 27, 64, 125, 216, 343, 512, 729]\n"
     ]
    }
   ],
   "source": [
    "squares = map(pow, range(10), it.repeat(3))\n",
    "print(\"list(map(pow, range(10), it.repeat(3)))\")\n",
    "print(list(squares))"
   ]
  },
  {
   "cell_type": "code",
   "execution_count": 43,
   "metadata": {},
   "outputs": [],
   "source": [
    "NOTE = \"\"\"\n",
    "product('ABCD', repeat=2)\n",
    "\n",
    "    AA AB AC AD BA BB BC BD CA CB CC CD DA DB DC DD\n",
    "\n",
    "permutations('ABCD', 2) => hoan vi nhung NO duplicate\n",
    "\n",
    "    AB AC AD BA BC BD CA CB CD DA DB DC \n",
    "\n",
    "combinations('ABCD', 2) => NO duplicate va ko hoan vi\n",
    "\n",
    "    AB AC AD BC BD CD\n",
    "\n",
    "combinations_with_replacement('ABCD', 2) => them duplicate va NO hoan vi\n",
    "\n",
    "    AA AB AC AD BB BC BD CC CD DD\n",
    "\"\"\""
   ]
  },
  {
   "cell_type": "markdown",
   "metadata": {},
   "source": [
    "# itertools.combinations"
   ]
  },
  {
   "cell_type": "code",
   "execution_count": 44,
   "metadata": {},
   "outputs": [
    {
     "name": "stdout",
     "output_type": "stream",
     "text": [
      "itertools.combinations(iterable, r)\n",
      "it.combinations('ABCD', r=2) NO duplicate va ko hoan vi\n",
      "[('A', 'B'), ('A', 'C'), ('A', 'D'), ('B', 'C'), ('B', 'D'), ('C', 'D')]\n"
     ]
    }
   ],
   "source": [
    "#itertools.combinations(iterable, r)\n",
    "\n",
    "comb = it.combinations('ABCD', r=2)\n",
    "print(\"itertools.combinations(iterable, r)\")\n",
    "print(\"it.combinations('ABCD', r=2) NO duplicate va ko hoan vi\")\n",
    "print(list(comb))"
   ]
  },
  {
   "cell_type": "markdown",
   "metadata": {},
   "source": [
    "# itertools.combinations_with_replacement"
   ]
  },
  {
   "cell_type": "code",
   "execution_count": 45,
   "metadata": {},
   "outputs": [
    {
     "name": "stdout",
     "output_type": "stream",
     "text": [
      "itertools.combinations_with_replacement(iterable, r)\n",
      "it.combinations_with_replacement('ABCD', r=2) them duplicate va NO hoan vi\n",
      "[('A', 'A'), ('A', 'B'), ('A', 'C'), ('A', 'D'), ('B', 'B'), ('B', 'C'), ('B', 'D'), ('C', 'C'), ('C', 'D'), ('D', 'D')]\n"
     ]
    }
   ],
   "source": [
    "#itertools.combinations_with_replacement(iterable, r)\n",
    "comb = it.combinations_with_replacement('ABCD', r=2)\n",
    "print(\"itertools.combinations_with_replacement(iterable, r)\")\n",
    "print(\"it.combinations_with_replacement('ABCD', r=2) them duplicate va NO hoan vi\")\n",
    "print(list(comb))"
   ]
  },
  {
   "cell_type": "markdown",
   "metadata": {},
   "source": [
    "# itertools.permutations"
   ]
  },
  {
   "cell_type": "code",
   "execution_count": 46,
   "metadata": {},
   "outputs": [
    {
     "name": "stdout",
     "output_type": "stream",
     "text": [
      "itertools.permutations(iterable, r=None)\n",
      "it.permutations('ABCD', r=2) hoan vi nhung NO duplicate\n",
      "[('A', 'B'), ('A', 'C'), ('A', 'D'), ('B', 'A'), ('B', 'C'), ('B', 'D'), ('C', 'A'), ('C', 'B'), ('C', 'D'), ('D', 'A'), ('D', 'B'), ('D', 'C')]\n"
     ]
    }
   ],
   "source": [
    "#itertools.permutations(iterable, r=None)¶\n",
    "perm = it.permutations('ABCD', r=2)\n",
    "print(\"itertools.permutations(iterable, r=None)\")\n",
    "print(\"it.permutations('ABCD', r=2) hoan vi nhung NO duplicate\")\n",
    "print(list(perm))"
   ]
  },
  {
   "cell_type": "markdown",
   "metadata": {},
   "source": [
    "# itertools.product"
   ]
  },
  {
   "cell_type": "code",
   "execution_count": 47,
   "metadata": {},
   "outputs": [
    {
     "name": "stdout",
     "output_type": "stream",
     "text": [
      "itertools.product(*iterables, repeat=1)\n",
      "it.product('ABCD', repeat=2)\n",
      "[('A', 'A'), ('A', 'B'), ('A', 'C'), ('A', 'D'), ('B', 'A'), ('B', 'B'), ('B', 'C'), ('B', 'D'), ('C', 'A'), ('C', 'B'), ('C', 'C'), ('C', 'D'), ('D', 'A'), ('D', 'B'), ('D', 'C'), ('D', 'D')]\n"
     ]
    }
   ],
   "source": [
    "#itertools.product(*iterables, repeat=1)¶\n",
    "print(\"itertools.product(*iterables, repeat=1)\")\n",
    "print(\"it.product('ABCD', repeat=2)\")\n",
    "prod = it.product('ABCD', repeat=2)\n",
    "print(list(prod))"
   ]
  },
  {
   "cell_type": "code",
   "execution_count": 48,
   "metadata": {},
   "outputs": [
    {
     "name": "stdout",
     "output_type": "stream",
     "text": [
      "[('A', 'x'), ('A', 'y'), ('B', 'x'), ('B', 'y'), ('C', 'x'), ('C', 'y'), ('D', 'x'), ('D', 'y')]\n"
     ]
    }
   ],
   "source": [
    "prod = it.product('ABCD', 'xy')\n",
    "print(list(prod))"
   ]
  },
  {
   "cell_type": "code",
   "execution_count": 49,
   "metadata": {},
   "outputs": [],
   "source": [
    "NOTE = '''\n",
    "    iterable: list, tuple , str, dung duoc index[], list(iterator) => iterable\n",
    "    \n",
    "    iterator: iter(list), iter(tuple) , iter(str), NO index[] dung loop for or next(iterator)\n",
    "    generator: yield\n",
    "    iterable la cha iterator, iterator la cha generator\n",
    "    \n",
    "    list(obj), tuple(obj) cung run __iter__, __next__\n",
    "    \n",
    "'''"
   ]
  },
  {
   "cell_type": "markdown",
   "metadata": {
    "tags": []
   },
   "source": [
    "# itertools.pairwise"
   ]
  },
  {
   "cell_type": "code",
   "execution_count": 50,
   "metadata": {},
   "outputs": [],
   "source": [
    "def pairwise(iterable):\n",
    "    # pairwise('ABCDEFG') --> AB BC CD DE EF FG\n",
    "    a, b = itertools.tee(iterable)\n",
    "    next(b, None)\n",
    "    return zip(a, b)"
   ]
  },
  {
   "cell_type": "code",
   "execution_count": 51,
   "metadata": {},
   "outputs": [
    {
     "data": {
      "text/plain": [
       "[('t', 'h'),\n",
       " ('h', 'o'),\n",
       " ('o', 'n'),\n",
       " ('n', 'g'),\n",
       " ('g', '1'),\n",
       " ('1', '2'),\n",
       " ('2', '3')]"
      ]
     },
     "execution_count": 51,
     "metadata": {},
     "output_type": "execute_result"
    }
   ],
   "source": [
    "list(it.pairwise('thong123'))"
   ]
  },
  {
   "cell_type": "markdown",
   "metadata": {},
   "source": [
    "# itertools.zip_longest"
   ]
  },
  {
   "cell_type": "code",
   "execution_count": 52,
   "metadata": {},
   "outputs": [
    {
     "name": "stdout",
     "output_type": "stream",
     "text": [
      "itertools.zip_longest(*iterables, fillvalue=None)\n",
      "it.zip_longest(range(10), names, fillvalue='empty')\n",
      "[(0, 'dung'), (1, 'thong'), (2, 'heo'), (3, 'cho'), (4, 'empty'), (5, 'empty'), (6, 'empty'), (7, 'empty'), (8, 'empty'), (9, 'empty')]\n"
     ]
    }
   ],
   "source": [
    "#itertools.zip_longest(*iterables, fillvalue=None)\n",
    "# exend cua zip()\n",
    "names = ['dung', 'thong', 'heo', 'cho']\n",
    "print('itertools.zip_longest(*iterables, fillvalue=None)')\n",
    "zip_longest = it.zip_longest(range(10), names, fillvalue='empty')\n",
    "print(\"it.zip_longest(range(10), names, fillvalue='empty')\")\n",
    "print(list(zip_longest))"
   ]
  },
  {
   "cell_type": "markdown",
   "metadata": {},
   "source": [
    "# itertools.chain"
   ]
  },
  {
   "cell_type": "code",
   "execution_count": 53,
   "metadata": {},
   "outputs": [
    {
     "name": "stdout",
     "output_type": "stream",
     "text": [
      "itertools.chain(*iterables)\n",
      "itertools.chain(letters, numbers, names, my_name) join iterators\n",
      "['a', 'b', 'c', 'd', 1, 2, 3, 'dung', 'thong', 'p', 'h', 'o', 'n', 'g']\n"
     ]
    }
   ],
   "source": [
    "# noi cac iterators\n",
    "#itertools.chain(*iterables)\n",
    "print('itertools.chain(*iterables)')\n",
    "letters = ['a', 'b', 'c', 'd']\n",
    "numbers = [1,2,3]\n",
    "names = ['dung', 'thong']\n",
    "my_name = 'phong'\n",
    "chain = it.chain(letters, numbers, names, my_name)\n",
    "print(\"itertools.chain(letters, numbers, names, my_name) join iterators\")\n",
    "print(list(chain))"
   ]
  },
  {
   "cell_type": "markdown",
   "metadata": {},
   "source": [
    "# itertools.chain.from_iterable"
   ]
  },
  {
   "cell_type": "code",
   "execution_count": 54,
   "metadata": {},
   "outputs": [
    {
     "name": "stdout",
     "output_type": "stream",
     "text": [
      "iterable(*iterables)\n",
      "itertools.chain.from_iterable(['geeks', 'for', 'geeks',['w', 'i', 'n', 's']]) JOIN iterators\n",
      "['g', 'e', 'e', 'k', 's', 'f', 'o', 'r', 'g', 'e', 'e', 'k', 's', 'w', 'i', 'n', 's']\n"
     ]
    }
   ],
   "source": [
    "#itertools.chain.from_iterable(iterable)\n",
    "from_iterable = it.chain.from_iterable(['geeks',  \n",
    "                                     'for', \n",
    "                                     'geeks', \n",
    "                                     ['w', 'i', 'n', 's']]) \n",
    "  \n",
    "# printing the flattened iterable \n",
    "print(\"iterable(*iterables)\")\n",
    "print(\"itertools.chain.from_iterable(['geeks', 'for', 'geeks',['w', 'i', 'n', 's']]) JOIN iterators\")\n",
    "print(list(from_iterable)) "
   ]
  },
  {
   "cell_type": "markdown",
   "metadata": {},
   "source": [
    "# sum"
   ]
  },
  {
   "cell_type": "code",
   "execution_count": 55,
   "metadata": {},
   "outputs": [
    {
     "data": {
      "text/plain": [
       "['cho', 'trau', 1, 2, 'thong', 'dung', 3, 4]"
      ]
     },
     "execution_count": 55,
     "metadata": {},
     "output_type": "execute_result"
    }
   ],
   "source": [
    "iterables = [[1,2], ['thong', 'dung'], [3,4]]\n",
    "seq = ['cho', 'trau']\n",
    "list(sum(iterables, seq))"
   ]
  },
  {
   "cell_type": "code",
   "execution_count": 56,
   "metadata": {},
   "outputs": [
    {
     "data": {
      "text/plain": [
       "11"
      ]
     },
     "execution_count": 56,
     "metadata": {},
     "output_type": "execute_result"
    }
   ],
   "source": [
    "sum([1,2,3], 5)"
   ]
  },
  {
   "cell_type": "markdown",
   "metadata": {},
   "source": [
    "# itertools.islice"
   ]
  },
  {
   "cell_type": "code",
   "execution_count": 57,
   "metadata": {},
   "outputs": [
    {
     "name": "stdout",
     "output_type": "stream",
     "text": [
      "itertools.islice(iterable, stop)\n",
      "itertools.islice(iterable, start, stop[, step])\n",
      "itertools.islice(range(10), 1,8,2)\n",
      "[1, 3, 5, 7]\n",
      "\n"
     ]
    }
   ],
   "source": [
    "#itertools.islice(iterable, stop)\n",
    "#itertools.islice(iterable, start, stop[, step])\n",
    "# lay khoang iterators  [::]\n",
    "print(\"itertools.islice(iterable, stop)\")\n",
    "print('itertools.islice(iterable, start, stop[, step])')\n",
    "print(\"itertools.islice(range(10), 1,8,2)\")\n",
    "islice = it.islice(range(10), 1,8,2)\n",
    "print(list(islice))\n",
    "print()"
   ]
  },
  {
   "cell_type": "code",
   "execution_count": 58,
   "metadata": {},
   "outputs": [
    {
     "name": "stdout",
     "output_type": "stream",
     "text": [
      "file with islice\n",
      "First line\\n\n",
      "\n",
      "Second line\\n\n",
      "\n",
      "Third line\\n\n"
     ]
    }
   ],
   "source": [
    "print('file with islice')\n",
    "with open('zing.txt', 'r') as f:\n",
    "    islice = it.islice(f, 3)\n",
    "\n",
    "    for line in islice:\n",
    "        print(line)"
   ]
  },
  {
   "cell_type": "markdown",
   "metadata": {},
   "source": [
    "# itertools.compress"
   ]
  },
  {
   "cell_type": "code",
   "execution_count": 59,
   "metadata": {},
   "outputs": [
    {
     "name": "stdout",
     "output_type": "stream",
     "text": [
      "itertools.compress(data, selectors)\n",
      "['dung', 'thong', 'cho']\n"
     ]
    }
   ],
   "source": [
    "#itertools.compress(data, selectors)\n",
    "print(\"itertools.compress(data, selectors)\")\n",
    "selectors = [True, True, False, True, False]\n",
    "# selectors = [1, 1, 0, 1, 0]\n",
    "names = ['dung', 'thong', 'heo', 'cho', 'haha']\n",
    "\n",
    "compress = it.compress(names, selectors)\n",
    "print(list(compress))"
   ]
  },
  {
   "cell_type": "markdown",
   "metadata": {},
   "source": [
    "# filter and itertools.filterfalse, .takewhile, .dropwhile"
   ]
  },
  {
   "cell_type": "code",
   "execution_count": 60,
   "metadata": {
    "scrolled": true
   },
   "outputs": [
    {
     "name": "stdout",
     "output_type": "stream",
     "text": [
      "lay items of iterable thoa man dieu kien trong function(item)\n",
      "predicate=function(items): return True or False\n",
      "func: \n",
      "    def lt_3(item):\n",
      "    if item < 3:\n",
      "        return True\n",
      "    else:\n",
      "        return False\n",
      "\n",
      "iterable: [0, 1, 2, 3, 8, 9, 2, 1, 0, 7, 11]\n",
      "\n",
      "filter(function, iterable): lay True\n",
      "[0, 1, 2, 2, 1, 0]\n",
      "\n",
      "itertools.filterfalse(predicate, iterable): lay False\n",
      "[3, 8, 9, 7, 11]\n",
      "\n",
      "itertools.takewhile(predicate, iterable): gap False lay phan dau left\n",
      "[0, 1, 2]\n",
      "\n",
      "itertools.dropwhile(predicate, iterable): gap False lay phan con lai right\n",
      "[3, 8, 9, 2, 1, 0, 7, 11]\n",
      "\n"
     ]
    }
   ],
   "source": [
    "def lt_3(item):\n",
    "    if item < 3:\n",
    "        return True\n",
    "    else:\n",
    "        return False\n",
    "\n",
    "func = \"\"\"\n",
    "    def lt_3(item):\n",
    "    if item < 3:\n",
    "        return True\n",
    "    else:\n",
    "        return False\n",
    "\"\"\"\n",
    "    \n",
    "#itertools.filterfalse(predicate, iterable)¶\n",
    "#predicate = function(item) return True or False\n",
    "# lay all items la False\n",
    "print(\"lay items of iterable thoa man dieu kien trong function(item)\")\n",
    "numbers = [0,1,2,3,8,9,2,1,0,7,11]\n",
    "print(\"predicate=function(items): return True or False\")\n",
    "print(f\"func: {func}\")\n",
    "print(f\"iterable: {numbers}\", end='\\n'*2)\n",
    "\n",
    "print('filter(function, iterable): lay True')\n",
    "filt = filter(lt_3, numbers)\n",
    "print(list(filt))\n",
    "print()\n",
    "\n",
    "print(\"itertools.filterfalse(predicate, iterable): lay False\")\n",
    "filterfalse = it.filterfalse(lt_3, numbers)\n",
    "print(list(filterfalse))\n",
    "print()\n",
    "\n",
    "#itertools.takewhile(predicate, iterable)¶\n",
    "# khi gap False bo het phan cuoi, tuc lay phan item dau dung\n",
    "print('itertools.takewhile(predicate, iterable): gap False lay phan dau left')\n",
    "takewhile = it.takewhile(lt_3, numbers)\n",
    "print(list(takewhile))\n",
    "print()\n",
    "\n",
    "#itertools.dropwhile(predicate, iterable)¶\n",
    "# khi gap False lay het phan items con lai\n",
    "print('itertools.dropwhile(predicate, iterable): gap False lay phan con lai right')\n",
    "dropwhile = it.dropwhile(lt_3, numbers)\n",
    "print(list(dropwhile))\n",
    "print()"
   ]
  },
  {
   "cell_type": "markdown",
   "metadata": {},
   "source": [
    "# map and itertools.starmap"
   ]
  },
  {
   "cell_type": "code",
   "execution_count": 61,
   "metadata": {
    "scrolled": true
   },
   "outputs": [
    {
     "name": "stdout",
     "output_type": "stream",
     "text": [
      "function(3 arg)\n",
      "iterable(iterable(3 item))\n",
      "\n",
      "iterable: [(2, 3), (3, 2), (10, 3)]\n",
      "itertools.starmap(pow, iterable): lay items of iterable dua vao funtion(item) de TINH TOAN\n",
      "[8, 9, 1000]\n",
      "\n"
     ]
    }
   ],
   "source": [
    "#itertools.starmap(function, iterable)\n",
    "# function(a,b, ...)\n",
    "\n",
    "iterable = [(2,3), (3,2), (10,3)]\n",
    "starmap = it.starmap(pow, iterable)\n",
    "\n",
    "# iterable = [(2,3,5), (3,2,4), (10,3,11)]\n",
    "# starmap = it.starmap(lambda x,y,z: x+y+z, iterable)\n",
    "print(\"function(3 arg)\")\n",
    "print(\"iterable(iterable(3 item))\")\n",
    "print()\n",
    "print(f\"iterable: {iterable}\")\n",
    "print('itertools.starmap(pow, iterable): lay items of iterable dua vao funtion(item) de TINH TOAN')\n",
    "print(list(starmap))\n",
    "print()"
   ]
  },
  {
   "cell_type": "code",
   "execution_count": 62,
   "metadata": {
    "scrolled": true
   },
   "outputs": [
    {
     "name": "stdout",
     "output_type": "stream",
     "text": [
      "iterable1: [1, 2, 3, 4]\n",
      "iterable2: (5, 6, 7, 8, 9, 10)\n",
      "function(3 arg) thi phai 3_iterable\n",
      "map(lambda x, y: x + y, iterable1, iterable2, ...):\n",
      "[6, 8, 10, 12]\n"
     ]
    }
   ],
   "source": [
    "# map(function, iterable, ...)¶\n",
    "list_numbers = [1, 2, 3, 4]\n",
    "tuple_numbers = (5, 6, 7, 8, 9, 10)\n",
    "map_iterator = map(lambda x, y: x + y, list_numbers, tuple_numbers)\n",
    "print(f\"iterable1: {list_numbers}\")\n",
    "print(f\"iterable2: {tuple_numbers}\")\n",
    "print(\"function(3 arg) thi phai 3_iterable\")\n",
    "print('map(lambda x, y: x + y, iterable1, iterable2, ...):')\n",
    "print(list(map_iterator))"
   ]
  },
  {
   "cell_type": "markdown",
   "metadata": {},
   "source": [
    "# itertools.accumulate return [results, ...]"
   ]
  },
  {
   "cell_type": "code",
   "execution_count": 63,
   "metadata": {
    "scrolled": true
   },
   "outputs": [
    {
     "name": "stdout",
     "output_type": "stream",
     "text": [
      "func(a,b) chi  2 params\n",
      "iterable: [1, 2, 3, 4, 5]\n",
      "itertools.accumulate(iterable[, func, *, initial=None])\n",
      "itertools.accumulate(iterable, operator.mul): lay items of iterable dua vao funtion(...) de tinh toan\n",
      "[1, 2, 6, 24, 120]\n",
      "\n"
     ]
    }
   ],
   "source": [
    "# lien quan toi functions.reduce\n",
    "#itertools.accumulate(iterable[, func, *, initial=None])¶\n",
    "print(\"func(a,b) chi  2 params\")\n",
    "numbers = [1,2,3,4,5]\n",
    "print(f\"iterable: {numbers}\")\n",
    "print('itertools.accumulate(iterable[, func, *, initial=None])')\n",
    "print('itertools.accumulate(iterable, operator.mul): lay items of iterable dua vao funtion(...) de tinh toan')\n",
    "mul = it.accumulate(numbers, operator.mul)\n",
    "print(list(mul))\n",
    "print()"
   ]
  },
  {
   "cell_type": "code",
   "execution_count": 64,
   "metadata": {
    "scrolled": true
   },
   "outputs": [
    {
     "name": "stdout",
     "output_type": "stream",
     "text": [
      "iterable: [5, 3, 6, 2, 1, 9, 1]\n",
      "it.accumulate(iterable, max)\n",
      "[5, 5, 6, 6, 6, 9, 9]\n",
      "\n",
      "5 max(5,3)=>5 max(5,6)=>6 max(6,2)=>6 max(6,1)=>6 max(6,9)=>9 max(9,1)=>9\n",
      "\n"
     ]
    }
   ],
   "source": [
    "iterable = [5, 3, 6, 2, 1, 9, 1]\n",
    "iterator = it.accumulate(iterable, max)\n",
    "print(f\"iterable: {iterable}\")\n",
    "note = \"\"\"\n",
    "5 max(5,3)=>5 max(5,6)=>6 max(6,2)=>6 max(6,1)=>6 max(6,9)=>9 max(9,1)=>9\n",
    "\"\"\"\n",
    "print(\"it.accumulate(iterable, max)\")\n",
    "print(list(iterator))\n",
    "print(note)"
   ]
  },
  {
   "cell_type": "markdown",
   "metadata": {},
   "source": [
    "# functools.reduce return 1_result"
   ]
  },
  {
   "cell_type": "code",
   "execution_count": 65,
   "metadata": {
    "scrolled": true
   },
   "outputs": [
    {
     "name": "stdout",
     "output_type": "stream",
     "text": [
      "functools.reduce(function, iterable[, initializer]\n",
      "functools.reduce(lambda x,y: x*y, numbers)\n",
      "120\n",
      "\n",
      "sorted(iterable, *, key=None, reverse=False)\n"
     ]
    }
   ],
   "source": [
    "print(\"functools.reduce(function, iterable[, initializer]\")\n",
    "print(\"functools.reduce(lambda x,y: x*y, numbers)\")\n",
    "print(functools.reduce(lambda x,y: x*y, numbers))\n",
    "print()\n",
    "\n",
    "print(\"sorted(iterable, *, key=None, reverse=False)\")"
   ]
  },
  {
   "cell_type": "markdown",
   "metadata": {},
   "source": [
    "# itertools.groupby"
   ]
  },
  {
   "cell_type": "code",
   "execution_count": 66,
   "metadata": {},
   "outputs": [
    {
     "name": "stdout",
     "output_type": "stream",
     "text": [
      "itertools.groupby(iterable, key=None)\n",
      "key=Animal list(group)=[('Animal', 'cat'), ('Animal', 'dog')]\n",
      "key=Bird list(group)=[('Bird', 'peacock'), ('Bird', 'pigeon')]\n"
     ]
    }
   ],
   "source": [
    "#itertools.groupby(iterable, key=None)¶\n",
    "#key=function(item)\n",
    "print('itertools.groupby(iterable, key=None)')\n",
    "a_list = [(\"Animal\", \"cat\"),  \n",
    "          (\"Animal\", \"dog\"),  \n",
    "          (\"Bird\", \"peacock\"),  \n",
    "          (\"Bird\", \"pigeon\")] \n",
    "groupby = it.groupby(a_list, key=lambda x : x[0])\n",
    "  \n",
    "for key, group in groupby: \n",
    "    print(f\"key={key} list(group)={list(group)}\") "
   ]
  },
  {
   "cell_type": "markdown",
   "metadata": {},
   "source": [
    "# itertools.tee duplicate iterator"
   ]
  },
  {
   "cell_type": "code",
   "execution_count": 67,
   "metadata": {},
   "outputs": [
    {
     "name": "stdout",
     "output_type": "stream",
     "text": [
      "iterable:  [2, 4, 6, 7, 8, 10, 20]\n",
      "itertools.tee(iterable, n=3)      iterator*3\n"
     ]
    }
   ],
   "source": [
    "#itertools.tee(iterable, n=2)\n",
    "# iterator * 3\n",
    "numbers = [2, 4, 6, 7, 8, 10, 20]  \n",
    "print('iterable: ',numbers)\n",
    "print('itertools.tee(iterable, n=3)      iterator*3')"
   ]
  },
  {
   "cell_type": "code",
   "execution_count": 68,
   "metadata": {},
   "outputs": [
    {
     "name": "stdout",
     "output_type": "stream",
     "text": [
      "[[2, 4, 6, 7, 8, 10, 20], [2, 4, 6, 7, 8, 10, 20], [2, 4, 6, 7, 8, 10, 20]]\n"
     ]
    }
   ],
   "source": [
    "iterators = it.tee(numbers, 3)\n",
    "iterables = [list(iterator) for iterator in iterators]\n",
    "print(iterables)"
   ]
  }
 ],
 "metadata": {
  "kernelspec": {
   "display_name": "Python 3 (ipykernel)",
   "language": "python",
   "name": "python3"
  },
  "language_info": {
   "codemirror_mode": {
    "name": "ipython",
    "version": 3
   },
   "file_extension": ".py",
   "mimetype": "text/x-python",
   "name": "python",
   "nbconvert_exporter": "python",
   "pygments_lexer": "ipython3",
   "version": "3.10.4"
  }
 },
 "nbformat": 4,
 "nbformat_minor": 4
}
