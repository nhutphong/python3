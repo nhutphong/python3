{
 "cells": [
  {
   "cell_type": "markdown",
   "metadata": {},
   "source": [
    "# getmembers(r)"
   ]
  },
  {
   "cell_type": "code",
   "execution_count": 1,
   "metadata": {},
   "outputs": [],
   "source": [
    "import requests"
   ]
  },
  {
   "cell_type": "code",
   "execution_count": 2,
   "metadata": {},
   "outputs": [],
   "source": [
    "r = requests.get(\"http://httpbin.org/ip\")"
   ]
  },
  {
   "cell_type": "code",
   "execution_count": 3,
   "metadata": {},
   "outputs": [
    {
     "data": {
      "text/plain": [
       "b'{\\n  \"origin\": \"115.76.51.44\"\\n}\\n'"
      ]
     },
     "execution_count": 3,
     "metadata": {},
     "output_type": "execute_result"
    }
   ],
   "source": [
    "r.content"
   ]
  },
  {
   "cell_type": "code",
   "execution_count": 4,
   "metadata": {},
   "outputs": [],
   "source": [
    "import inspect"
   ]
  },
  {
   "cell_type": "code",
   "execution_count": 5,
   "metadata": {},
   "outputs": [
    {
     "data": {
      "text/plain": [
       "[('__attrs__',\n",
       "  ['_content',\n",
       "   'status_code',\n",
       "   'headers',\n",
       "   'url',\n",
       "   'history',\n",
       "   'encoding',\n",
       "   'reason',\n",
       "   'cookies',\n",
       "   'elapsed',\n",
       "   'request']),\n",
       " ('__bool__', <bound method Response.__bool__ of <Response [200]>>),\n",
       " ('__class__', requests.models.Response),\n",
       " ('__delattr__',\n",
       "  <method-wrapper '__delattr__' of Response object at 0x7fa5e52c3af0>),\n",
       " ('__dict__',\n",
       "  {'_content': b'{\\n  \"origin\": \"115.76.51.44\"\\n}\\n',\n",
       "   '_content_consumed': True,\n",
       "   '_next': None,\n",
       "   'status_code': 200,\n",
       "   'headers': {'Date': 'Fri, 02 Oct 2020 03:25:34 GMT', 'Content-Type': 'application/json', 'Content-Length': '31', 'Connection': 'keep-alive', 'Server': 'gunicorn/19.9.0', 'Access-Control-Allow-Origin': '*', 'Access-Control-Allow-Credentials': 'true'},\n",
       "   'raw': <urllib3.response.HTTPResponse at 0x7fa5e52c3ee0>,\n",
       "   'url': 'http://httpbin.org/ip',\n",
       "   'encoding': None,\n",
       "   'history': [],\n",
       "   'reason': 'OK',\n",
       "   'cookies': <RequestsCookieJar[]>,\n",
       "   'elapsed': datetime.timedelta(microseconds=535670),\n",
       "   'request': <PreparedRequest [GET]>,\n",
       "   'connection': <requests.adapters.HTTPAdapter at 0x7fa5e532dfd0>}),\n",
       " ('__dir__', <function Response.__dir__()>),\n",
       " ('__doc__',\n",
       "  \"The :class:`Response <Response>` object, which contains a\\n    server's response to an HTTP request.\\n    \"),\n",
       " ('__enter__', <bound method Response.__enter__ of <Response [200]>>),\n",
       " ('__eq__', <method-wrapper '__eq__' of Response object at 0x7fa5e52c3af0>),\n",
       " ('__exit__', <bound method Response.__exit__ of <Response [200]>>),\n",
       " ('__format__', <function Response.__format__(format_spec, /)>),\n",
       " ('__ge__', <method-wrapper '__ge__' of Response object at 0x7fa5e52c3af0>),\n",
       " ('__getattribute__',\n",
       "  <method-wrapper '__getattribute__' of Response object at 0x7fa5e52c3af0>),\n",
       " ('__getstate__', <bound method Response.__getstate__ of <Response [200]>>),\n",
       " ('__gt__', <method-wrapper '__gt__' of Response object at 0x7fa5e52c3af0>),\n",
       " ('__hash__',\n",
       "  <method-wrapper '__hash__' of Response object at 0x7fa5e52c3af0>),\n",
       " ('__init__', <bound method Response.__init__ of <Response [200]>>),\n",
       " ('__init_subclass__', <function Response.__init_subclass__>),\n",
       " ('__iter__', <bound method Response.__iter__ of <Response [200]>>),\n",
       " ('__le__', <method-wrapper '__le__' of Response object at 0x7fa5e52c3af0>),\n",
       " ('__lt__', <method-wrapper '__lt__' of Response object at 0x7fa5e52c3af0>),\n",
       " ('__module__', 'requests.models'),\n",
       " ('__ne__', <method-wrapper '__ne__' of Response object at 0x7fa5e52c3af0>),\n",
       " ('__new__', <function object.__new__(*args, **kwargs)>),\n",
       " ('__nonzero__', <bound method Response.__nonzero__ of <Response [200]>>),\n",
       " ('__reduce__', <function Response.__reduce__()>),\n",
       " ('__reduce_ex__', <function Response.__reduce_ex__(protocol, /)>),\n",
       " ('__repr__', <bound method Response.__repr__ of <Response [200]>>),\n",
       " ('__setattr__',\n",
       "  <method-wrapper '__setattr__' of Response object at 0x7fa5e52c3af0>),\n",
       " ('__setstate__', <bound method Response.__setstate__ of <Response [200]>>),\n",
       " ('__sizeof__', <function Response.__sizeof__()>),\n",
       " ('__str__', <method-wrapper '__str__' of Response object at 0x7fa5e52c3af0>),\n",
       " ('__subclasshook__', <function Response.__subclasshook__>),\n",
       " ('__weakref__', None),\n",
       " ('_content', b'{\\n  \"origin\": \"115.76.51.44\"\\n}\\n'),\n",
       " ('_content_consumed', True),\n",
       " ('_next', None),\n",
       " ('apparent_encoding', 'ascii'),\n",
       " ('close', <bound method Response.close of <Response [200]>>),\n",
       " ('connection', <requests.adapters.HTTPAdapter at 0x7fa5e532dfd0>),\n",
       " ('content', b'{\\n  \"origin\": \"115.76.51.44\"\\n}\\n'),\n",
       " ('cookies', <RequestsCookieJar[]>),\n",
       " ('elapsed', datetime.timedelta(microseconds=535670)),\n",
       " ('encoding', None),\n",
       " ('headers',\n",
       "  {'Date': 'Fri, 02 Oct 2020 03:25:34 GMT', 'Content-Type': 'application/json', 'Content-Length': '31', 'Connection': 'keep-alive', 'Server': 'gunicorn/19.9.0', 'Access-Control-Allow-Origin': '*', 'Access-Control-Allow-Credentials': 'true'}),\n",
       " ('history', []),\n",
       " ('is_permanent_redirect', False),\n",
       " ('is_redirect', False),\n",
       " ('iter_content', <bound method Response.iter_content of <Response [200]>>),\n",
       " ('iter_lines', <bound method Response.iter_lines of <Response [200]>>),\n",
       " ('json', <bound method Response.json of <Response [200]>>),\n",
       " ('links', {}),\n",
       " ('next', None),\n",
       " ('ok', True),\n",
       " ('raise_for_status',\n",
       "  <bound method Response.raise_for_status of <Response [200]>>),\n",
       " ('raw', <urllib3.response.HTTPResponse at 0x7fa5e52c3ee0>),\n",
       " ('reason', 'OK'),\n",
       " ('request', <PreparedRequest [GET]>),\n",
       " ('status_code', 200),\n",
       " ('text', '{\\n  \"origin\": \"115.76.51.44\"\\n}\\n'),\n",
       " ('url', 'http://httpbin.org/ip')]"
      ]
     },
     "execution_count": 5,
     "metadata": {},
     "output_type": "execute_result"
    }
   ],
   "source": [
    "inspect.getmembers(r)"
   ]
  },
  {
   "cell_type": "markdown",
   "metadata": {},
   "source": [
    "# getfile(module) return fullpath"
   ]
  },
  {
   "cell_type": "code",
   "execution_count": 6,
   "metadata": {},
   "outputs": [
    {
     "data": {
      "text/plain": [
       "'/home/nhut/.local/lib/python3.8/site-packages/requests/__init__.py'"
      ]
     },
     "execution_count": 6,
     "metadata": {},
     "output_type": "execute_result"
    }
   ],
   "source": [
    "inspect.getfile(requests)"
   ]
  },
  {
   "cell_type": "markdown",
   "metadata": {},
   "source": [
    "# getdoc(requests.Request)"
   ]
  },
  {
   "cell_type": "code",
   "execution_count": 7,
   "metadata": {},
   "outputs": [
    {
     "data": {
      "text/plain": [
       "\"A user-created :class:`Request <Request>` object.\\n\\nUsed to prepare a :class:`PreparedRequest <PreparedRequest>`, which is sent to the server.\\n\\n:param method: HTTP method to use.\\n:param url: URL to send.\\n:param headers: dictionary of headers to send.\\n:param files: dictionary of {filename: fileobject} files to multipart upload.\\n:param data: the body to attach to the request. If a dictionary or\\n    list of tuples ``[(key, value)]`` is provided, form-encoding will\\n    take place.\\n:param json: json for the body to attach to the request (if files or data is not specified).\\n:param params: URL parameters to append to the URL. If a dictionary or\\n    list of tuples ``[(key, value)]`` is provided, form-encoding will\\n    take place.\\n:param auth: Auth handler or (user, pass) tuple.\\n:param cookies: dictionary or CookieJar of cookies to attach to this request.\\n:param hooks: dictionary of callback hooks, for internal usage.\\n\\nUsage::\\n\\n  >>> import requests\\n  >>> req = requests.Request('GET', 'https://httpbin.org/get')\\n  >>> req.prepare()\\n  <PreparedRequest [GET]>\""
      ]
     },
     "execution_count": 7,
     "metadata": {},
     "output_type": "execute_result"
    }
   ],
   "source": [
    "inspect.getdoc(requests.Request)"
   ]
  },
  {
   "cell_type": "code",
   "execution_count": 8,
   "metadata": {},
   "outputs": [
    {
     "data": {
      "text/plain": [
       "\"A user-created :class:`Request <Request>` object.\\n\\n    Used to prepare a :class:`PreparedRequest <PreparedRequest>`, which is sent to the server.\\n\\n    :param method: HTTP method to use.\\n    :param url: URL to send.\\n    :param headers: dictionary of headers to send.\\n    :param files: dictionary of {filename: fileobject} files to multipart upload.\\n    :param data: the body to attach to the request. If a dictionary or\\n        list of tuples ``[(key, value)]`` is provided, form-encoding will\\n        take place.\\n    :param json: json for the body to attach to the request (if files or data is not specified).\\n    :param params: URL parameters to append to the URL. If a dictionary or\\n        list of tuples ``[(key, value)]`` is provided, form-encoding will\\n        take place.\\n    :param auth: Auth handler or (user, pass) tuple.\\n    :param cookies: dictionary or CookieJar of cookies to attach to this request.\\n    :param hooks: dictionary of callback hooks, for internal usage.\\n\\n    Usage::\\n\\n      >>> import requests\\n      >>> req = requests.Request('GET', 'https://httpbin.org/get')\\n      >>> req.prepare()\\n      <PreparedRequest [GET]>\\n    \""
      ]
     },
     "execution_count": 8,
     "metadata": {},
     "output_type": "execute_result"
    }
   ],
   "source": [
    "requests.Request.__doc__"
   ]
  },
  {
   "cell_type": "code",
   "execution_count": 9,
   "metadata": {},
   "outputs": [],
   "source": [
    "#print(inspect.getsource(requests.Request))"
   ]
  },
  {
   "cell_type": "code",
   "execution_count": 10,
   "metadata": {},
   "outputs": [],
   "source": [
    "#print(inspect.getsourcelines(requests.Request))"
   ]
  },
  {
   "cell_type": "markdown",
   "metadata": {},
   "source": [
    "# getclasstree([A, B, C])"
   ]
  },
  {
   "cell_type": "code",
   "execution_count": 11,
   "metadata": {},
   "outputs": [],
   "source": [
    "class A:\n",
    "    pass\n",
    "\n",
    "class B(A):\n",
    "    pass\n",
    "\n",
    "class C(B):\n",
    "    pass"
   ]
  },
  {
   "cell_type": "code",
   "execution_count": 12,
   "metadata": {},
   "outputs": [],
   "source": [
    "tree = inspect.getclasstree([A,B,C])"
   ]
  },
  {
   "cell_type": "code",
   "execution_count": 13,
   "metadata": {},
   "outputs": [
    {
     "data": {
      "text/plain": [
       "[(object, ()),\n",
       " [(__main__.A, (object,)),\n",
       "  [(__main__.B, (__main__.A,)), [(__main__.C, (__main__.B,))]]]]"
      ]
     },
     "execution_count": 13,
     "metadata": {},
     "output_type": "execute_result"
    }
   ],
   "source": [
    "tree"
   ]
  },
  {
   "cell_type": "markdown",
   "metadata": {},
   "source": [
    "root\n",
    "A\n",
    "B\n",
    "C"
   ]
  },
  {
   "cell_type": "markdown",
   "metadata": {},
   "source": [
    "# signature(requests.get)"
   ]
  },
  {
   "cell_type": "code",
   "execution_count": 14,
   "metadata": {},
   "outputs": [],
   "source": [
    "sig = inspect.signature(requests.get)"
   ]
  },
  {
   "cell_type": "code",
   "execution_count": 15,
   "metadata": {},
   "outputs": [
    {
     "data": {
      "text/plain": [
       "<Signature (url, params=None, **kwargs)>"
      ]
     },
     "execution_count": 15,
     "metadata": {},
     "output_type": "execute_result"
    }
   ],
   "source": [
    "sig"
   ]
  },
  {
   "cell_type": "code",
   "execution_count": 16,
   "metadata": {},
   "outputs": [
    {
     "name": "stdout",
     "output_type": "stream",
     "text": [
      "POSITIONAL_OR_KEYWORD\n",
      "POSITIONAL_OR_KEYWORD\n",
      "VAR_KEYWORD\n"
     ]
    }
   ],
   "source": [
    "for param in sig.parameters.values():\n",
    "    print(param.kind)"
   ]
  },
  {
   "cell_type": "markdown",
   "metadata": {},
   "source": [
    "# getfullargspec(requests.get)"
   ]
  },
  {
   "cell_type": "code",
   "execution_count": 17,
   "metadata": {},
   "outputs": [
    {
     "data": {
      "text/plain": [
       "FullArgSpec(args=['url', 'params'], varargs=None, varkw='kwargs', defaults=(None,), kwonlyargs=[], kwonlydefaults=None, annotations={})"
      ]
     },
     "execution_count": 17,
     "metadata": {},
     "output_type": "execute_result"
    }
   ],
   "source": [
    "inspect.getfullargspec(requests.get)"
   ]
  },
  {
   "cell_type": "code",
   "execution_count": 18,
   "metadata": {},
   "outputs": [],
   "source": [
    "def add(a: int, b: int):\n",
    "    return a + b"
   ]
  },
  {
   "cell_type": "code",
   "execution_count": 19,
   "metadata": {},
   "outputs": [
    {
     "data": {
      "text/plain": [
       "FullArgSpec(args=['a', 'b'], varargs=None, varkw=None, defaults=None, kwonlyargs=[], kwonlydefaults=None, annotations={'a': <class 'int'>, 'b': <class 'int'>})"
      ]
     },
     "execution_count": 19,
     "metadata": {},
     "output_type": "execute_result"
    }
   ],
   "source": [
    "inspect.getfullargspec(add)"
   ]
  },
  {
   "cell_type": "markdown",
   "metadata": {},
   "source": [
    "# inspect.unwrap(func) - Unwrapping functions"
   ]
  },
  {
   "cell_type": "code",
   "execution_count": 20,
   "metadata": {},
   "outputs": [],
   "source": [
    "import functools\n",
    "\n",
    "@functools.lru_cache()\n",
    "def func(a, b):\n",
    "    return a + b"
   ]
  },
  {
   "cell_type": "code",
   "execution_count": 21,
   "metadata": {},
   "outputs": [
    {
     "data": {
      "text/plain": [
       "<functools._lru_cache_wrapper at 0x7fa5e5060040>"
      ]
     },
     "execution_count": 21,
     "metadata": {},
     "output_type": "execute_result"
    }
   ],
   "source": [
    "func"
   ]
  },
  {
   "cell_type": "code",
   "execution_count": 22,
   "metadata": {},
   "outputs": [
    {
     "data": {
      "text/plain": [
       "<function __main__.func(a, b)>"
      ]
     },
     "execution_count": 22,
     "metadata": {},
     "output_type": "execute_result"
    }
   ],
   "source": [
    "inspect.unwrap(func)"
   ]
  },
  {
   "cell_type": "markdown",
   "metadata": {},
   "source": [
    "# Getting current state of generators - yield\n",
    "\n",
    "- getgeneratorstate\n",
    "- getgeneratorlocals"
   ]
  },
  {
   "cell_type": "code",
   "execution_count": 23,
   "metadata": {},
   "outputs": [],
   "source": [
    "names = ['dung', 'thong', 'thanh']\n",
    "def values_gen():\n",
    "    for haha in names:\n",
    "        yield haha"
   ]
  },
  {
   "cell_type": "code",
   "execution_count": 24,
   "metadata": {},
   "outputs": [],
   "source": [
    "gen = values_gen()"
   ]
  },
  {
   "cell_type": "code",
   "execution_count": 25,
   "metadata": {},
   "outputs": [
    {
     "data": {
      "text/plain": [
       "'dung'"
      ]
     },
     "execution_count": 25,
     "metadata": {},
     "output_type": "execute_result"
    }
   ],
   "source": [
    "next(gen)"
   ]
  },
  {
   "cell_type": "code",
   "execution_count": 26,
   "metadata": {
    "scrolled": false
   },
   "outputs": [
    {
     "data": {
      "text/plain": [
       "{'haha': 'dung'}"
      ]
     },
     "execution_count": 26,
     "metadata": {},
     "output_type": "execute_result"
    }
   ],
   "source": [
    "inspect.getgeneratorlocals(gen) # get {key: value} vua next(gen) truoc do"
   ]
  },
  {
   "cell_type": "code",
   "execution_count": 27,
   "metadata": {
    "scrolled": false
   },
   "outputs": [
    {
     "data": {
      "text/plain": [
       "'GEN_SUSPENDED'"
      ]
     },
     "execution_count": 27,
     "metadata": {},
     "output_type": "execute_result"
    }
   ],
   "source": [
    "inspect.getgeneratorstate(gen)"
   ]
  },
  {
   "cell_type": "code",
   "execution_count": 28,
   "metadata": {
    "scrolled": false
   },
   "outputs": [
    {
     "data": {
      "text/plain": [
       "'thong'"
      ]
     },
     "execution_count": 28,
     "metadata": {},
     "output_type": "execute_result"
    }
   ],
   "source": [
    "next(gen)"
   ]
  },
  {
   "cell_type": "markdown",
   "metadata": {},
   "source": [
    "# Getting traceback frames\n",
    "\n",
    "- trace\n",
    "\n",
    "> Return a list of frame records for the stack between the current frame and the frame in which an exception currently being handled was raised in. The first entry in the list represents the caller; the last entry represents where the exception was raised."
   ]
  },
  {
   "cell_type": "code",
   "execution_count": 29,
   "metadata": {},
   "outputs": [
    {
     "name": "stdout",
     "output_type": "stream",
     "text": [
      "['    do_something()\\n'] 8\n",
      "['    divide(1,0)\\n'] 5\n",
      "['    return a/b\\n'] 2\n"
     ]
    }
   ],
   "source": [
    "def divide(a,b):\n",
    "    return a/b\n",
    "\n",
    "def do_something():\n",
    "    divide(1,0)\n",
    "    \n",
    "try:\n",
    "    do_something()\n",
    "except:\n",
    "    for frame in inspect.trace():\n",
    "        print(frame.code_context, frame.lineno)\n"
   ]
  },
  {
   "cell_type": "code",
   "execution_count": 30,
   "metadata": {},
   "outputs": [
    {
     "name": "stdout",
     "output_type": "stream",
     "text": [
      "[FrameInfo(frame=<frame at 0x7fa5e504c3a0, file '<ipython-input-30-bde12804d5f2>', line 6, code <module>>, filename='<ipython-input-30-bde12804d5f2>', lineno=3, function='<module>', code_context=['    1/0\\n'], index=0)]\n",
      "code_context - ['    1/0\\n']\n",
      "count - <built-in method count of FrameInfo object at 0x7fa5e5002760>\n",
      "filename - <ipython-input-30-bde12804d5f2>\n",
      "frame - <frame at 0x7fa5e504c3a0, file '<ipython-input-30-bde12804d5f2>', line 6, code <module>>\n",
      "function - <module>\n",
      "index - 0\n",
      "lineno - 3\n"
     ]
    }
   ],
   "source": [
    "import sys, inspect\n",
    "try:\n",
    "    1/0\n",
    "except:\n",
    "#     tb = sys.exc_info()[2]\n",
    "    frames = inspect.trace()\n",
    "\n",
    "print(frames)\n",
    "\n",
    "attrs = [attr for attr in dir(frames[0]) if not attr.startswith('_')]\n",
    "for attr in attrs:\n",
    "    print(f\"{attr} - {getattr(frames[0], attr)}\")\n"
   ]
  }
 ],
 "metadata": {
  "kernelspec": {
   "display_name": "Python 3",
   "language": "python",
   "name": "python3"
  },
  "language_info": {
   "codemirror_mode": {
    "name": "ipython",
    "version": 3
   },
   "file_extension": ".py",
   "mimetype": "text/x-python",
   "name": "python",
   "nbconvert_exporter": "python",
   "pygments_lexer": "ipython3",
   "version": "3.8.6"
  }
 },
 "nbformat": 4,
 "nbformat_minor": 2
}
