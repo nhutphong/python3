{
 "cells": [
  {
   "cell_type": "code",
   "execution_count": 1,
   "metadata": {},
   "outputs": [],
   "source": [
    "note = \"\"\"\n",
    "@dataclasses.dataclass(*, init=True, repr=True, eq=True, order=False, unsafe_hash=False, frozen=False,\n",
    "                        match_args=True, kw_only=False, slots=False\n",
    "                      )\n",
    "    init=False # NOT create obj\n",
    "    eq=True -> co __eq__(==) va __ne__(!=)\n",
    "    order=True -> them cac magic method operator: >, >=, <, <=\n",
    "    unsafe_hash=True # add method __hash__(self)\n",
    "    frozen=True -> khong the change value cho attrs=fields\n",
    "\n",
    "\"\"\""
   ]
  },
  {
   "cell_type": "markdown",
   "metadata": {
    "tags": []
   },
   "source": [
    "# @dataclass basic"
   ]
  },
  {
   "cell_type": "code",
   "execution_count": 2,
   "metadata": {},
   "outputs": [
    {
     "name": "stdout",
     "output_type": "stream",
     "text": [
      "Deck(cards=[PlayingCard(rank='Q', suit='Hearts'), PlayingCard(rank='A', suit='Spades')])\n"
     ]
    }
   ],
   "source": [
    "from dataclasses import dataclass\n",
    "from typing import Any, List\n",
    "\n",
    "@dataclass(init=True, repr=True, eq=True, order=False, unsafe_hash=False, frozen=False)\n",
    "class PlayingCard:\n",
    "    rank: str\n",
    "    suit: str\n",
    "\n",
    "@dataclass\n",
    "class Deck:\n",
    "    cards: List[PlayingCard]\n",
    "\n",
    "queen_of_hearts = PlayingCard('Q', 'Hearts')\n",
    "ace_of_spades = PlayingCard('A', 'Spades')\n",
    "two_cards = Deck([queen_of_hearts, ace_of_spades])\n",
    "print(two_cards)"
   ]
  },
  {
   "cell_type": "code",
   "execution_count": 3,
   "metadata": {},
   "outputs": [],
   "source": [
    "from dataclasses import dataclass\n",
    "\n",
    "#order=True co < <= > >=\n",
    "#frozen=true co __hash__(self), field NOT change value\n",
    "@dataclass(order=True, frozen=True)\n",
    "class Person:\n",
    "    name: str\n",
    "    age: str\n",
    "    city: str"
   ]
  },
  {
   "cell_type": "code",
   "execution_count": 4,
   "metadata": {
    "scrolled": true
   },
   "outputs": [
    {
     "data": {
      "text/plain": [
       "True"
      ]
     },
     "execution_count": 4,
     "metadata": {},
     "output_type": "execute_result"
    }
   ],
   "source": [
    "p1 = Person(\"dung\", 23, \"long an\")\n",
    "p2 = Person(\"thong\", 21, \"gia lai\")\n",
    "\n",
    "p1 != p2"
   ]
  },
  {
   "cell_type": "code",
   "execution_count": 5,
   "metadata": {},
   "outputs": [
    {
     "data": {
      "text/plain": [
       "False"
      ]
     },
     "execution_count": 5,
     "metadata": {},
     "output_type": "execute_result"
    }
   ],
   "source": [
    "p1 == p2"
   ]
  },
  {
   "cell_type": "code",
   "execution_count": 6,
   "metadata": {},
   "outputs": [
    {
     "data": {
      "text/plain": [
       "True"
      ]
     },
     "execution_count": 6,
     "metadata": {},
     "output_type": "execute_result"
    }
   ],
   "source": [
    "p1 < p2"
   ]
  },
  {
   "cell_type": "code",
   "execution_count": 7,
   "metadata": {
    "scrolled": true
   },
   "outputs": [],
   "source": [
    "#p1.name = 'NO change name = value'"
   ]
  },
  {
   "cell_type": "code",
   "execution_count": 8,
   "metadata": {},
   "outputs": [
    {
     "data": {
      "text/plain": [
       "1249462745084777640"
      ]
     },
     "execution_count": 8,
     "metadata": {},
     "output_type": "execute_result"
    }
   ],
   "source": [
    "hash(p1)"
   ]
  },
  {
   "cell_type": "code",
   "execution_count": 9,
   "metadata": {},
   "outputs": [],
   "source": [
    "note = \"\"\"\n",
    "    dataclasses.field(*, default=MISSING, default_factory=MISSING, init=True, repr=True, hash=None,\n",
    "                        compare=True, metadata=None, kw_only=MISSING\n",
    "    )\n",
    "    init=False -> ignoze khi create obj\n",
    "    repr=False -> igonze trong repr\n",
    "    \n",
    "    name: str = field(compare=False)  #ignoze trong operator so sanh\n",
    "    city: str = field(default='long an') #value default\n",
    "    default_factory=func #value default tu func, note: func(no param)\n",
    "    \n",
    "    \n",
    "\"\"\""
   ]
  },
  {
   "cell_type": "markdown",
   "metadata": {},
   "source": [
    "# field"
   ]
  },
  {
   "cell_type": "code",
   "execution_count": 10,
   "metadata": {},
   "outputs": [],
   "source": [
    "from dataclasses import dataclass, field\n",
    "from pprint import pprint\n",
    "\n",
    "def get_default_age():\n",
    "    ages = [12,34,56,34,32]\n",
    "    return sum(ages) // len(ages)\n",
    "\n",
    "\n",
    "@dataclass(unsafe_hash=True)\n",
    "class Person:\n",
    "    name: str = field(compare=False)# duoc ignoze trong operator so sanh\n",
    "    city: str = field(default=\"long an\", hash=False)\n",
    "    age: int = field(default_factory=get_default_age, metadata={'format': 'year'})\n",
    "    salary: int = field(init=False, repr=False, default=0)"
   ]
  },
  {
   "cell_type": "code",
   "execution_count": 11,
   "metadata": {},
   "outputs": [
    {
     "name": "stdout",
     "output_type": "stream",
     "text": [
      "person = Person(name='Thong', city='long an', age=33)\n",
      "hash(person) = 4255593285234332008\n"
     ]
    }
   ],
   "source": [
    "person = Person('Thong')\n",
    "print(f\"{person = }\")\n",
    "print(f\"{hash(person) = }\")"
   ]
  },
  {
   "cell_type": "code",
   "execution_count": 12,
   "metadata": {
    "scrolled": true
   },
   "outputs": [
    {
     "name": "stdout",
     "output_type": "stream",
     "text": [
      "(\"person.__dataclass_fields__ = {'name': Field(name='name',type=<class \"\n",
      " \"'str'>,default=<dataclasses._MISSING_TYPE object at \"\n",
      " '0x7fa06d806140>,default_factory=<dataclasses._MISSING_TYPE object at '\n",
      " '0x7fa06d806140>,init=True,repr=True,hash=None,compare=False,metadata=mappingproxy({}),kw_only=False,_field_type=_FIELD), '\n",
      " \"'city': Field(name='city',type=<class 'str'>,default='long \"\n",
      " \"an',default_factory=<dataclasses._MISSING_TYPE object at \"\n",
      " '0x7fa06d806140>,init=True,repr=True,hash=False,compare=True,metadata=mappingproxy({}),kw_only=False,_field_type=_FIELD), '\n",
      " \"'age': Field(name='age',type=<class \"\n",
      " \"'int'>,default=<dataclasses._MISSING_TYPE object at \"\n",
      " '0x7fa06d806140>,default_factory=<function get_default_age at '\n",
      " \"0x7fa069562680>,init=True,repr=True,hash=None,compare=True,metadata=mappingproxy({'format': \"\n",
      " \"'year'}),kw_only=False,_field_type=_FIELD), 'salary': \"\n",
      " \"Field(name='salary',type=<class \"\n",
      " \"'int'>,default=0,default_factory=<dataclasses._MISSING_TYPE object at \"\n",
      " '0x7fa06d806140>,init=False,repr=False,hash=None,compare=True,metadata=mappingproxy({}),kw_only=False,_field_type=_FIELD)}')\n",
      "\n",
      "person.__dataclass_params__ = _DataclassParams(init=True,repr=True,eq=True,order=False,unsafe_hash=True,frozen=False)\n"
     ]
    }
   ],
   "source": [
    "pprint(f\"{person.__dataclass_fields__ = }\")\n",
    "print()\n",
    "print(f\"{person.__dataclass_params__ = }\")"
   ]
  },
  {
   "cell_type": "code",
   "execution_count": 13,
   "metadata": {},
   "outputs": [
    {
     "data": {
      "text/plain": [
       "'year'"
      ]
     },
     "execution_count": 13,
     "metadata": {},
     "output_type": "execute_result"
    }
   ],
   "source": [
    "person.__dataclass_fields__['age'].metadata['format']"
   ]
  },
  {
   "cell_type": "code",
   "execution_count": 14,
   "metadata": {
    "scrolled": true
   },
   "outputs": [
    {
     "data": {
      "text/plain": [
       "<dataclasses._MISSING_TYPE at 0x7fa06d806140>"
      ]
     },
     "execution_count": 14,
     "metadata": {},
     "output_type": "execute_result"
    }
   ],
   "source": [
    "person.__dataclass_fields__['name'].default_factory"
   ]
  },
  {
   "cell_type": "markdown",
   "metadata": {
    "tags": []
   },
   "source": [
    "# __post_inti__(self)"
   ]
  },
  {
   "cell_type": "code",
   "execution_count": 15,
   "metadata": {},
   "outputs": [],
   "source": [
    "from dataclasses import dataclass, field\n",
    "\n",
    "@dataclass\n",
    "class Person:\n",
    "    name: str\n",
    "    city: str\n",
    "    age: int\n",
    "    is_senior: bool = field(init=False)\n",
    "    \n",
    "    # create_person\n",
    "    def __post_init__(self):\n",
    "        if self.age >= 60:\n",
    "            self.is_senior = True\n",
    "        else:\n",
    "            self.is_senior = False"
   ]
  },
  {
   "cell_type": "code",
   "execution_count": 16,
   "metadata": {
    "scrolled": true
   },
   "outputs": [
    {
     "data": {
      "text/plain": [
       "True"
      ]
     },
     "execution_count": 16,
     "metadata": {},
     "output_type": "execute_result"
    }
   ],
   "source": [
    "person = Person(\"dung\", \"gia lai\", 70) # se run them __post_inti__(self)\n",
    "person.is_senior"
   ]
  },
  {
   "cell_type": "code",
   "execution_count": 17,
   "metadata": {},
   "outputs": [],
   "source": [
    "from dataclasses import dataclass, field\n",
    "\n",
    "@dataclass\n",
    "class Person:\n",
    "    name: str\n",
    "    city: str\n",
    "    age: int\n",
    "        \n",
    "\n",
    "@dataclass\n",
    "class Student(Person):\n",
    "    grade: int\n",
    "    subjects: list\n",
    "\n",
    "student = Student(\"Nikhil\", \"Delhi\", 20, 9.8, ['A', 'B', 'C'])"
   ]
  },
  {
   "cell_type": "code",
   "execution_count": 18,
   "metadata": {
    "scrolled": true
   },
   "outputs": [
    {
     "data": {
      "text/plain": [
       "Student(name='Nikhil', city='Delhi', age=20, grade=9.8, subjects=['A', 'B', 'C'])"
      ]
     },
     "execution_count": 18,
     "metadata": {},
     "output_type": "execute_result"
    }
   ],
   "source": [
    "student"
   ]
  },
  {
   "cell_type": "code",
   "execution_count": 19,
   "metadata": {},
   "outputs": [],
   "source": [
    "@dataclass\n",
    "class A:\n",
    "    x: int = 10\n",
    "    y: int = 20\n",
    "        \n",
    "\n",
    "@dataclass\n",
    "class B(A):\n",
    "    z: int = 30\n",
    "    x: int = 40\n",
    "        "
   ]
  },
  {
   "cell_type": "code",
   "execution_count": 20,
   "metadata": {},
   "outputs": [
    {
     "data": {
      "text/plain": [
       "B(x=40, y=20, z=30)"
      ]
     },
     "execution_count": 20,
     "metadata": {},
     "output_type": "execute_result"
    }
   ],
   "source": [
    "b = B()\n",
    "b"
   ]
  },
  {
   "cell_type": "code",
   "execution_count": 21,
   "metadata": {
    "scrolled": true
   },
   "outputs": [
    {
     "name": "stdout",
     "output_type": "stream",
     "text": [
      "Help on class B in module __main__:\n",
      "\n",
      "class B(A)\n",
      " |  B(x: int = 40, y: int = 20, z: int = 30) -> None\n",
      " |  \n",
      " |  B(x: int = 40, y: int = 20, z: int = 30)\n",
      " |  \n",
      " |  Method resolution order:\n",
      " |      B\n",
      " |      A\n",
      " |      builtins.object\n",
      " |  \n",
      " |  Methods defined here:\n",
      " |  \n",
      " |  __eq__(self, other)\n",
      " |      Return self==value.\n",
      " |  \n",
      " |  __init__(self, x: int = 40, y: int = 20, z: int = 30) -> None\n",
      " |      Initialize self.  See help(type(self)) for accurate signature.\n",
      " |  \n",
      " |  __repr__(self)\n",
      " |      Return repr(self).\n",
      " |  \n",
      " |  ----------------------------------------------------------------------\n",
      " |  Data and other attributes defined here:\n",
      " |  \n",
      " |  __annotations__ = {'x': <class 'int'>, 'z': <class 'int'>}\n",
      " |  \n",
      " |  __dataclass_fields__ = {'x': Field(name='x',type=<class 'int'>,default...\n",
      " |  \n",
      " |  __dataclass_params__ = _DataclassParams(init=True,repr=True,eq=True,or...\n",
      " |  \n",
      " |  __hash__ = None\n",
      " |  \n",
      " |  __match_args__ = ('x', 'y', 'z')\n",
      " |  \n",
      " |  x = 40\n",
      " |  \n",
      " |  z = 30\n",
      " |  \n",
      " |  ----------------------------------------------------------------------\n",
      " |  Data descriptors inherited from A:\n",
      " |  \n",
      " |  __dict__\n",
      " |      dictionary for instance variables (if defined)\n",
      " |  \n",
      " |  __weakref__\n",
      " |      list of weak references to the object (if defined)\n",
      " |  \n",
      " |  ----------------------------------------------------------------------\n",
      " |  Data and other attributes inherited from A:\n",
      " |  \n",
      " |  y = 20\n",
      "\n"
     ]
    }
   ],
   "source": [
    "help(B)"
   ]
  },
  {
   "cell_type": "markdown",
   "metadata": {},
   "source": [
    "# asdict, astuple"
   ]
  },
  {
   "cell_type": "code",
   "execution_count": 22,
   "metadata": {},
   "outputs": [],
   "source": [
    "import json\n",
    "from dataclasses import dataclass, asdict, astuple\n",
    "\n",
    "@dataclass\n",
    "class Address:\n",
    "    lat: float\n",
    "    lng: float\n",
    "    city: str\n",
    "    country: str\n",
    "        \n",
    "        \n",
    "@dataclass\n",
    "class Person:\n",
    "    name: str\n",
    "    addr: Address\n",
    "    age: int"
   ]
  },
  {
   "cell_type": "code",
   "execution_count": 23,
   "metadata": {},
   "outputs": [],
   "source": [
    "addr = Address(28.75, 77.21, 'gia lai', 'Viet Nam')\n",
    "person = Person(\"dung\", addr, 38)"
   ]
  },
  {
   "cell_type": "code",
   "execution_count": 24,
   "metadata": {
    "scrolled": true
   },
   "outputs": [
    {
     "data": {
      "text/plain": [
       "Person(name='dung', addr=Address(lat=28.75, lng=77.21, city='gia lai', country='Viet Nam'), age=38)"
      ]
     },
     "execution_count": 24,
     "metadata": {},
     "output_type": "execute_result"
    }
   ],
   "source": [
    "person"
   ]
  },
  {
   "cell_type": "code",
   "execution_count": 25,
   "metadata": {
    "scrolled": true
   },
   "outputs": [
    {
     "data": {
      "text/plain": [
       "{'name': 'dung',\n",
       " 'addr': {'lat': 28.75,\n",
       "  'lng': 77.21,\n",
       "  'city': 'gia lai',\n",
       "  'country': 'Viet Nam'},\n",
       " 'age': 38}"
      ]
     },
     "execution_count": 25,
     "metadata": {},
     "output_type": "execute_result"
    }
   ],
   "source": [
    "asdict(person)"
   ]
  },
  {
   "cell_type": "code",
   "execution_count": 26,
   "metadata": {},
   "outputs": [
    {
     "data": {
      "text/plain": [
       "'{\"name\": \"dung\", \"addr\": {\"lat\": 28.75, \"lng\": 77.21, \"city\": \"gia lai\", \"country\": \"Viet Nam\"}, \"age\": 38}'"
      ]
     },
     "execution_count": 26,
     "metadata": {},
     "output_type": "execute_result"
    }
   ],
   "source": [
    "json.dumps(asdict(person))"
   ]
  },
  {
   "cell_type": "code",
   "execution_count": 27,
   "metadata": {},
   "outputs": [
    {
     "data": {
      "text/plain": [
       "('dung', (28.75, 77.21, 'gia lai', 'Viet Nam'), 38)"
      ]
     },
     "execution_count": 27,
     "metadata": {},
     "output_type": "execute_result"
    }
   ],
   "source": [
    "astuple(person)"
   ]
  },
  {
   "cell_type": "markdown",
   "metadata": {},
   "source": [
    "# dataclasses.InitVar"
   ]
  },
  {
   "cell_type": "code",
   "execution_count": 28,
   "metadata": {},
   "outputs": [
    {
     "name": "stdout",
     "output_type": "stream",
     "text": [
      "__post_init__\n"
     ]
    }
   ],
   "source": [
    "from dataclasses import dataclass, field, InitVar\n",
    "from typing import List\n",
    "\n",
    "@dataclass\n",
    "class Book:\n",
    "    name: str     \n",
    "    condition: InitVar[str] = None\n",
    "    '''\n",
    "        condition == str\n",
    "        add arg for __post_init__(self, arg):\n",
    "    '''\n",
    "    \n",
    "    weight: float = field(default=0.0, repr=False)\n",
    "    shelf_id: int = field(init=False)\n",
    "    chapters: List[str] = field(default_factory=list)\n",
    "\n",
    "    def __post_init__(self, condition):\n",
    "        print(\"__post_init__\")\n",
    "        if condition == \"no\":\n",
    "            self.shelf_id = None\n",
    "        else:\n",
    "            self.shelf_id = 0\n",
    "\n",
    "book = Book('one')"
   ]
  },
  {
   "cell_type": "code",
   "execution_count": 29,
   "metadata": {},
   "outputs": [
    {
     "data": {
      "text/plain": [
       "0"
      ]
     },
     "execution_count": 29,
     "metadata": {},
     "output_type": "execute_result"
    }
   ],
   "source": [
    "book.shelf_id"
   ]
  },
  {
   "cell_type": "markdown",
   "metadata": {
    "tags": []
   },
   "source": [
    "# dataclasses.KW_ONLY"
   ]
  },
  {
   "cell_type": "code",
   "execution_count": 30,
   "metadata": {},
   "outputs": [
    {
     "data": {
      "text/plain": [
       "\"\\ndef __init__(self, x: Any = 15.0, z: int = 10, *, id: int = 0, pk: int = 1, content: str = 'ok'):\\n\""
      ]
     },
     "execution_count": 30,
     "metadata": {},
     "output_type": "execute_result"
    }
   ],
   "source": [
    "from dataclasses import dataclass, field, InitVar, KW_ONLY\n",
    "from typing import List, Any\n",
    "\n",
    "@dataclass\n",
    "class Base:\n",
    "    x: Any = 15.0\n",
    "    _: KW_ONLY\n",
    "    id: int = 0\n",
    "    pk: int = 1\n",
    "\n",
    "@dataclass\n",
    "class D(Base):\n",
    "    z: int = 10\n",
    "    content: str = field(kw_only=True, default='ok')\n",
    "    \n",
    "'''\n",
    "def __init__(self, x: Any = 15.0, z: int = 10, *, id: int = 0, pk: int = 1, content: str = 'ok'):\n",
    "'''"
   ]
  },
  {
   "cell_type": "code",
   "execution_count": null,
   "metadata": {},
   "outputs": [],
   "source": []
  },
  {
   "cell_type": "markdown",
   "metadata": {},
   "source": [
    "# make_dataclass()"
   ]
  },
  {
   "cell_type": "code",
   "execution_count": 31,
   "metadata": {},
   "outputs": [
    {
     "data": {
      "text/plain": [
       "'\\nmake_dataclass(cls_name, fields, *, bases=(), namespace=None, init=True, repr=True, eq=True, order=False,\\n                unsafe_hash=False, frozen=False, match_args=True, kw_only=False, slots=False\\n)\\n'"
      ]
     },
     "execution_count": 31,
     "metadata": {},
     "output_type": "execute_result"
    }
   ],
   "source": [
    "'''\n",
    "make_dataclass(cls_name, fields, *, bases=(), namespace=None, init=True, repr=True, eq=True, order=False,\n",
    "                unsafe_hash=False, frozen=False, match_args=True, kw_only=False, slots=False\n",
    ")\n",
    "'''"
   ]
  },
  {
   "cell_type": "code",
   "execution_count": 32,
   "metadata": {},
   "outputs": [],
   "source": [
    "from dataclasses import dataclass, make_dataclass\n",
    "\n",
    "#c1\n",
    "C = make_dataclass('C',\n",
    "                   [('x', int),\n",
    "                     'y',\n",
    "                    ('z', int, field(default=5))],\n",
    "                   namespace={'add_one': lambda self: self.x + 1})\n",
    "\n",
    "'''\n",
    "    c1 == c2 generated code\n",
    "'''\n",
    "#c2\n",
    "@dataclass\n",
    "class C:\n",
    "    x: int\n",
    "    y: 'typing.Any'\n",
    "    z: int = 5\n",
    "\n",
    "    def add_one(self):\n",
    "        return self.x + 1"
   ]
  },
  {
   "cell_type": "code",
   "execution_count": null,
   "metadata": {},
   "outputs": [],
   "source": []
  },
  {
   "cell_type": "markdown",
   "metadata": {},
   "source": [
    "# Syntax for Variable Annotations"
   ]
  },
  {
   "cell_type": "code",
   "execution_count": null,
   "metadata": {},
   "outputs": [],
   "source": []
  },
  {
   "cell_type": "code",
   "execution_count": 33,
   "metadata": {},
   "outputs": [],
   "source": [
    "from typing import (\n",
    "    ClassVar,\n",
    "    Union, Optional,\n",
    "    Dict, List, Tuple, \n",
    ")\n",
    "\n",
    "test: Optional[int] # test=None or int\n",
    "test: Union[int, str] # test=int or str\n",
    "\n",
    "primes: List[int] = []\n",
    "\n",
    "captain: str  # Note: no initial value!\n",
    "\n",
    "class Starship:\n",
    "    stats: ClassVar[Dict[str, int]] = {}\n",
    "\n",
    "    \n",
    "path = None  # type: Optional[str]  # Path to module source\n",
    "\n",
    "some_number: int           # variable without initial value\n",
    "some_list: List[int] = []  # variable with initial value\n",
    "\n",
    "sane_world: bool\n",
    "if 2+2 == 4:\n",
    "    sane_world = True\n",
    "else:\n",
    "    sane_world = False\n",
    "\n",
    "    \n",
    "# Tuple packing with variable annotation syntax\n",
    "t: Tuple[int, ...] = (1, 2, 3)\n",
    "# or\n",
    "t: Tuple[int, ...] = 1, 2, 3  # This only works in Python 3.8+\n",
    "\n",
    "# Tuple unpacking with variable annotation syntax\n",
    "header: str\n",
    "kind: int\n",
    "body: Optional[List[str]]\n",
    "\n",
    "\n",
    "class Starship:\n",
    "    captain: str = 'Picard'\n",
    "    damage: int\n",
    "    stats: ClassVar[Dict[str, int]] = {}\n",
    "\n",
    "    def __init__(self, damage: int, captain: str = None):\n",
    "        self.damage = damage\n",
    "        if captain:\n",
    "            self.captain = captain  # Else keep the default\n",
    "\n",
    "    def hit(self):\n",
    "        Starship.stats['hits'] = Starship.stats.get('hits', 0) + 1\n",
    "\n",
    "enterprise_d = Starship(3000)\n",
    "enterprise_d.stats = {} # Flagged as error by a type checker\n",
    "Starship.stats = {} # This is OK"
   ]
  },
  {
   "cell_type": "code",
   "execution_count": null,
   "metadata": {},
   "outputs": [],
   "source": []
  }
 ],
 "metadata": {
  "kernelspec": {
   "display_name": "Python 3 (ipykernel)",
   "language": "python",
   "name": "python3"
  },
  "language_info": {
   "codemirror_mode": {
    "name": "ipython",
    "version": 3
   },
   "file_extension": ".py",
   "mimetype": "text/x-python",
   "name": "python",
   "nbconvert_exporter": "python",
   "pygments_lexer": "ipython3",
   "version": "3.10.1"
  }
 },
 "nbformat": 4,
 "nbformat_minor": 4
}
