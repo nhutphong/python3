{
 "cells": [
  {
   "cell_type": "code",
   "execution_count": 1,
   "metadata": {},
   "outputs": [],
   "source": [
    "import sys\n",
    "import os\n",
    "import shutil\n",
    "import time\n",
    "\n",
    "from contextlib import contextmanager\n",
    "\n",
    "__IMPOTANT__=\"\"\" \n",
    "    'r': read\n",
    "    'w': overwrite file or new file if file not exist\n",
    "    'a': write append => them vao cuoi file\n",
    "    'rb':read binary\n",
    "    'wb': write binary\n",
    "    '+': updating reading and writting, vd: r+, w+, a+\n",
    "\"\"\"\n",
    "def open_file():\n",
    "    with open('test.txt') as file_obj:\n",
    "        # print(file_obj.read(5)) # 5 chu dau tien\n",
    "        # readline() = đọc tới khi gặp /n (xuống dòng) sẽ dừng\n",
    "        # print(file_obj.readline())\n",
    "        # readlines() = ['content1.\\n', 'content2.\\n', .....]\n",
    "        print(file_obj.readlines())\n",
    "        file_obj.seek(0)\n",
    "        print(type(file_obj.readlines()))\n",
    "        file_obj.seek(0)\n",
    "        print(len(file_obj.readlines()))\n",
    "        file_obj.close()"
   ]
  },
  {
   "cell_type": "markdown",
   "metadata": {},
   "source": [
    "# __enter__ and __exit__"
   ]
  },
  {
   "cell_type": "code",
   "execution_count": 2,
   "metadata": {},
   "outputs": [],
   "source": [
    "class ManagedFile:\n",
    "    def __init__(self, filename, mode='r'):\n",
    "        self.file_name = filename\n",
    "        self.mode = mode\n",
    "\n",
    "    def __enter__(self):\n",
    "        print(\"__enter__\")\n",
    "\n",
    "        self.open_file = open(self.file_name, self.mode)\n",
    "        return self.open_file #iterable(line1, line2, ...,)\n",
    "\n",
    "    def __exit__(self, exc_type, exc_val, exc_tb):\n",
    "        print(\"__exit__\")\n",
    "\n",
    "        if self.open_file:\n",
    "            self.open_file.close()\n",
    "\n",
    "\n",
    "class MessageWriter(object): \n",
    "    def __init__(self, filename, mode='w'): \n",
    "        self.file_name = filename\n",
    "        self.mode = mode\n",
    "  \n",
    "    @contextmanager\n",
    "    def open_file(self):\n",
    "        print(\"open_file\")\n",
    "\n",
    "        try: \n",
    "            file = open(self.file_name, self.mode) \n",
    "            yield file\n",
    "        finally: \n",
    "            file.close() "
   ]
  },
  {
   "cell_type": "code",
   "execution_count": 3,
   "metadata": {},
   "outputs": [],
   "source": [
    "def with_file(file_root, file_new='new_file'):\n",
    "    with open(file_root,) as f:\n",
    "        content = f.read()\n",
    "\n",
    "        with open(file_new, 'w') as new:\n",
    "            # file=new => cho phep print() tao file tu content xuat ra=prompt\n",
    "            print(content, 'them noi dung vao cuoi file', file=new)"
   ]
  },
  {
   "cell_type": "markdown",
   "metadata": {},
   "source": [
    "# @contextlib.contextmanager"
   ]
  },
  {
   "cell_type": "code",
   "execution_count": 4,
   "metadata": {},
   "outputs": [
    {
     "name": "stdout",
     "output_type": "stream",
     "text": [
      "__enter__ method called\n",
      "\n",
      "------------------with-as start-------------------\n",
      "end='',flush=True\n",
      "First line\\n\n",
      "Second line\\n\n",
      "Third line\\n\n",
      "-------------------with-as end--------------------\n",
      "\n",
      "__exit__ method called\n"
     ]
    }
   ],
   "source": [
    "import time\n",
    "from contextlib import contextmanager\n",
    "\n",
    "def print_flush_true(content, /, delay=.05):\n",
    "\n",
    "    print(\"end='',flush=True\")\n",
    "    # end='',flush=True => in tu tren xuong cho time.sleep xong roi, print() nhieu lan\n",
    "    # end='',flush=Flase => cho time.sleep xong roi print() 1 lan duy nhat\n",
    "    for c in content:\n",
    "        print(c, end='', flush=True)\n",
    "        time.sleep(delay)\n",
    "\n",
    "    print()\n",
    "\n",
    "\n",
    "\n",
    "# manager = contextmanager(manager) <=> wrapper\n",
    "@contextmanager\n",
    "def manager(file, mode='r'): \n",
    "    \n",
    "    # Before yield as the enter method \n",
    "    print(\"__enter__ method called\") #1\n",
    "    print()\n",
    "    f = open(file, mode=mode)\n",
    "\n",
    "    yield f #scope2\n",
    "    '''\n",
    "    yield f chinh la phan code scope2: with manager('zing.txt') as file:\n",
    "\n",
    "    '''\n",
    "    # After yield as the exit method\n",
    "    f.close()\n",
    "    print()\n",
    "    print(\"__exit__ method called\") #3\n",
    "\n",
    "with manager('zing.txt') as file: #scope2\n",
    "    print(f\"{'with-as start':-^50}\")\n",
    "\n",
    "    content = file.read()\n",
    "    print_flush_true(content)\n",
    "\n",
    "    print(f\"{'with-as end':-^50}\")"
   ]
  },
  {
   "cell_type": "code",
   "execution_count": 5,
   "metadata": {},
   "outputs": [],
   "source": [
    "from contextlib import contextmanager\n",
    "\n",
    "@contextmanager\n",
    "def writable_file(file_path):\n",
    "    file = open(file_path, mode=\"w\")\n",
    "    try:\n",
    "        yield file #scope2\n",
    "    finally:\n",
    "        file.close()\n",
    "\n",
    "#scope2\n",
    "with writable_file(\"hello.txt\") as file:\n",
    "    file.write(\"Hello, World!\")"
   ]
  },
  {
   "cell_type": "code",
   "execution_count": 6,
   "metadata": {},
   "outputs": [],
   "source": [
    "note = \"\"\"\n",
    "\n",
    "    class ManagedFile:\n",
    "    def __init__(self, filename, mode='r'):\n",
    "        self.file_name = filename\n",
    "        self.mode = mode\n",
    "\n",
    "    def __enter__(self):\n",
    "        print(\"__enter__\")\n",
    "\n",
    "        self.open_file = open(self.file_name, self.mode)\n",
    "        return self.open_file #iterable(line1, line2, ...,)\n",
    "\n",
    "    def __exit__(self, exc_type, exc_val, exc_tb):\n",
    "        print(\"__exit__\")\n",
    "\n",
    "        if self.open_file:\n",
    "            self.open_file.close()\n",
    "    \n",
    "    \n",
    "    \n",
    "    thuong dung c1\n",
    "    with ManagedFile('zing.txt') as alias: #c1 run het__enter__ roi toi __exit__\n",
    "    \n",
    "    obj = ManagedFild('zing.txt') #c2 run het__enter__ roi toi __exit__\n",
    "    with obj as alias: # obj=alias\n",
    "    \n",
    "\n",
    "\"\"\""
   ]
  },
  {
   "cell_type": "markdown",
   "metadata": {},
   "source": [
    "# Indenter"
   ]
  },
  {
   "cell_type": "code",
   "execution_count": 7,
   "metadata": {},
   "outputs": [
    {
     "name": "stdout",
     "output_type": "stream",
     "text": [
      "hi\n",
      "####tab4\n",
      "########tab8\n",
      "############tab12\n",
      "################tab16\n",
      "####################tab20\n",
      "########################tab24\n",
      "############################tab30\n"
     ]
    }
   ],
   "source": [
    "class Indenter:\n",
    "\tdef __init__(self):\n",
    "\t\tself.level = -1\n",
    "\n",
    "\tdef __enter__(self):\n",
    "\t\tself.level += 1\n",
    "\n",
    "\t\treturn self\n",
    "\n",
    "\tdef __exit__(self, exc_type, exc_value, exc_tb):\n",
    "\t\tself.level -= 1\n",
    "\n",
    "\tdef print(self, text):\n",
    "\t\tprint('####' * self.level + text)\n",
    "\n",
    "\n",
    "with Indenter() as indent:\n",
    "\tindent.print('hi')\n",
    "\n",
    "\twith indent:\n",
    "\t\tindent.print('tab4')\n",
    "\n",
    "\t\twith indent:\n",
    "\t\t\tindent.print('tab8')\n",
    "\n",
    "\t\t\twith indent:\n",
    "\t\t\t\tindent.print('tab12')\n",
    "\n",
    "\t\t\t\twith indent:\n",
    "\t\t\t\t\tindent.print('tab16')\n",
    "\n",
    "\t\t\t\t\twith indent:\n",
    "\t\t\t\t\t\tindent.print('tab20')\n",
    "\n",
    "\t\t\t\t\t\twith indent:\n",
    "\t\t\t\t\t\t\tindent.print('tab24')\n",
    "\n",
    "\t\t\t\t\t\t\twith indent:\n",
    "\t\t\t\t\t\t\t\tindent.print('tab30')"
   ]
  }
 ],
 "metadata": {
  "kernelspec": {
   "display_name": "Python 3 (ipykernel)",
   "language": "python",
   "name": "python3"
  },
  "language_info": {
   "codemirror_mode": {
    "name": "ipython",
    "version": 3
   },
   "file_extension": ".py",
   "mimetype": "text/x-python",
   "name": "python",
   "nbconvert_exporter": "python",
   "pygments_lexer": "ipython3",
   "version": "3.10.4"
  }
 },
 "nbformat": 4,
 "nbformat_minor": 4
}
