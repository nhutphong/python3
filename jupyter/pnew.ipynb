{
 "cells": [
  {
   "cell_type": "markdown",
   "metadata": {},
   "source": [
    "# unpacking *"
   ]
  },
  {
   "cell_type": "code",
   "execution_count": 1,
   "metadata": {},
   "outputs": [
    {
     "name": "stdout",
     "output_type": "stream",
     "text": [
      "name = 'thong'\n",
      "1 2 3\n",
      "info = {'job': 'dev', 'old': 25}\n"
     ]
    }
   ],
   "source": [
    "# unpacking assigmennt la list, con in funciton(*arg) la arg=tuple\n",
    "\n",
    "name, [one, two, three], info = ['thong', [1,2,3], dict(job='dev', old=25)]\n",
    "\n",
    "print(f\"{name = }\")\n",
    "\n",
    "print(one, two, three)\n",
    "\n",
    "print(f\"{info = }\")"
   ]
  },
  {
   "cell_type": "markdown",
   "metadata": {
    "tags": []
   },
   "source": [
    "# match-case statement"
   ]
  },
  {
   "cell_type": "code",
   "execution_count": 2,
   "metadata": {},
   "outputs": [
    {
     "name": "stdout",
     "output_type": "stream",
     "text": [
      "Sunday\n",
      "Wednesday\n",
      "Saturday\n",
      "Please Enter a Valid Day Number\n"
     ]
    }
   ],
   "source": [
    "def switch(day):\n",
    "    if day == 1:\n",
    "        return \"Sunday\"\n",
    "    elif day ==2:\n",
    "        return \"Monday\"\n",
    "    elif day == 3:\n",
    "        return \"Tuesday\"\n",
    "    elif day ==4:\n",
    "        return \"Wednesday\"\n",
    "    elif day == 5:\n",
    "        \"Thursday\"\n",
    "    elif day ==6:\n",
    "        \"Friday\"\n",
    "    elif day == 7:\n",
    "        return \"Saturday\"\n",
    "    else:\n",
    "        return \"Please Enter a Valid Day Number\"\n",
    "\n",
    "\n",
    "print(switch(1))   #Sunday\n",
    "print(switch(4))   # Wednesday\n",
    "print(switch(7))   #Saturday\n",
    "print(switch(10))   # Please Enter a Valid Day Number\n"
   ]
  },
  {
   "cell_type": "code",
   "execution_count": 3,
   "metadata": {},
   "outputs": [
    {
     "name": "stdout",
     "output_type": "stream",
     "text": [
      "Sunday\n",
      "Wednesday\n",
      "Saturday\n",
      "Please Enter a Valid Day Number\n"
     ]
    }
   ],
   "source": [
    "def weekday(day):\n",
    "    match day:\n",
    "        case 1:\n",
    "            return \"Sunday\"\n",
    "        case 2:\n",
    "            return \"Monday\"\n",
    "        case 3:\n",
    "            return \"Tuesday\"\n",
    "        case 4:\n",
    "            return \"Wednesday\"\n",
    "        case 5:\n",
    "            return \"Thursday\"\n",
    "        case 6:\n",
    "            return \"Friday\"\n",
    "        case 7:\n",
    "            return \"Saturday\"\n",
    "        #wildcard case\n",
    "        case _:\n",
    "            return \"Please Enter a Valid Day Number\"\n",
    "        \n",
    "print(weekday(1))    #Sunday\n",
    "print(weekday(4))   #Wednesday\n",
    "print(weekday(7))   #Saturday\n",
    "print(weekday(11))  #Please Enter a Valid Day Number"
   ]
  },
  {
   "cell_type": "code",
   "execution_count": 4,
   "metadata": {},
   "outputs": [
    {
     "name": "stdout",
     "output_type": "stream",
     "text": [
      "Blue sea\n"
     ]
    }
   ],
   "source": [
    "mycolor = 'Blue'\n",
    "match mycolor.lower():\n",
    "   case 'blue': #ok\n",
    "      print('Blue sea')\n",
    "   case 'green':\n",
    "      print('Green valley')\n",
    "   case 'yellow':\n",
    "      print('Yellow sun')\n",
    "   case _: # underscore\n",
    "      print('could not guess')\n",
    "\n",
    "note = \"\"\"\n",
    "mycolor = 'Blue'\n",
    "if mycolor.lower() == 'blue':\n",
    "   print('Blue sea')\n",
    "elif mycolor.lower() == 'green':\n",
    "   print('Green valley')\n",
    "elif mycolor.lower() == 'yellow':\n",
    "   print('Yellow sun')\n",
    "else:\n",
    "   print('could not guess')\n",
    "\"\"\""
   ]
  },
  {
   "cell_type": "code",
   "execution_count": null,
   "metadata": {},
   "outputs": [],
   "source": []
  },
  {
   "cell_type": "code",
   "execution_count": 5,
   "metadata": {},
   "outputs": [
    {
     "data": {
      "text/plain": [
       "'Number'"
      ]
     },
     "execution_count": 5,
     "metadata": {},
     "output_type": "execute_result"
    }
   ],
   "source": [
    "# Checking types with 'as' in Python match-case statements\n",
    "# dung | thay cho or\n",
    "def type_of(var):\n",
    "    match var:\n",
    "        case int() | float() as var:\n",
    "            return \"Number\"\n",
    "        case dict() as var:\n",
    "            return \"Dictionary\"\n",
    "        case list() | tuple() | set() as var:\n",
    "            return \"List, tuple, or set\"\n",
    "        case str() as var:\n",
    "            return \"String\"\n",
    "        case _:\n",
    "            return \"Something else\"\n",
    "\n",
    "type_of(3)"
   ]
  },
  {
   "cell_type": "code",
   "execution_count": 6,
   "metadata": {},
   "outputs": [
    {
     "data": {
      "text/plain": [
       "'List, tuple, or set'"
      ]
     },
     "execution_count": 6,
     "metadata": {},
     "output_type": "execute_result"
    }
   ],
   "source": [
    "type_of({1,3}) #set"
   ]
  },
  {
   "cell_type": "code",
   "execution_count": 7,
   "metadata": {},
   "outputs": [
    {
     "data": {
      "text/plain": [
       "'Dictionary'"
      ]
     },
     "execution_count": 7,
     "metadata": {},
     "output_type": "execute_result"
    }
   ],
   "source": [
    "type_of(dict(name='thong', age=30))"
   ]
  },
  {
   "cell_type": "markdown",
   "metadata": {},
   "source": [
    "# match-case nested if ; argument = dict(key=value) = {'key': 'value'}"
   ]
  },
  {
   "cell_type": "code",
   "execution_count": 8,
   "metadata": {},
   "outputs": [
    {
     "name": "stdout",
     "output_type": "stream",
     "text": [
      "Kate: Exceptional\n"
     ]
    }
   ],
   "source": [
    "def award(student):\n",
    "    match student:\n",
    "        case {'name': name, 'courses': courses, 'grade': grade} if courses > 15 and grade >= 90: #ok1\n",
    "            return f\"{name}: Exceptional\"\n",
    "        case {'name': name, 'courses': courses, 'grade': grade} if grade >= 90:\n",
    "            return f\"{name}: Future star\"\n",
    "        case _: #ok2\n",
    "            return f\"{name}: No current award\"\n",
    "\n",
    "\n",
    "print(award({'name': 'Kate', 'grade':90, 'courses':16})) #ok1"
   ]
  },
  {
   "cell_type": "code",
   "execution_count": 9,
   "metadata": {},
   "outputs": [
    {
     "name": "stdout",
     "output_type": "stream",
     "text": [
      "Jane: No current award\n"
     ]
    }
   ],
   "source": [
    "print(award({'name': 'Jane', 'grade':80, 'courses':16})) #ok2"
   ]
  },
  {
   "cell_type": "markdown",
   "metadata": {},
   "source": [
    "# match-case; argument = list(1,2,3) = [1.2.3]"
   ]
  },
  {
   "cell_type": "code",
   "execution_count": 10,
   "metadata": {},
   "outputs": [
    {
     "name": "stdout",
     "output_type": "stream",
     "text": [
      "Your total bill is: 249\n"
     ]
    }
   ],
   "source": [
    "total = 200\n",
    "\n",
    "extra_toppings_1 = 'pepperoni'\n",
    "extra_toppings_2 = 'onions'\n",
    "\n",
    "match [extra_toppings_1, extra_toppings_2]:\n",
    "    case ['pepperoni', 'mushrooms']:\n",
    "        extra = 79\n",
    "    case ['pepperoni', 'onions']: #ok\n",
    "        extra = 49\n",
    "    case ['pepperoni', 'bacon']:\n",
    "        extra = 99\n",
    "    case ['pepperoni', 'extra cheese', 'black olives']:\n",
    "        extra = 149\n",
    "\n",
    "print(\"Your total bill is:\", total+extra)"
   ]
  },
  {
   "cell_type": "code",
   "execution_count": 11,
   "metadata": {},
   "outputs": [
    {
     "name": "stdout",
     "output_type": "stream",
     "text": [
      "This is the first: one, and this is the rest: ['two', 'three']\n"
     ]
    }
   ],
   "source": [
    "comparison_list = [\"one\", \"two\", \"three\"]\n",
    "\n",
    "match comparison_list:\n",
    "    case [first]:\n",
    "        print(\"this is the first element: {first}\")\n",
    "    case [first, *rest]: #ok\n",
    "        print(f\"This is the first: {first}, and this is the rest: {rest}\")\n",
    "    case _:\n",
    "        print(\"Nothing was matched\")"
   ]
  },
  {
   "cell_type": "code",
   "execution_count": 12,
   "metadata": {},
   "outputs": [
    {
     "name": "stdout",
     "output_type": "stream",
     "text": [
      "This is the first: one, and this is the rest: ['two', 'three']\n"
     ]
    }
   ],
   "source": [
    "comparison_list = [\"one\", \"two\", \"three\"]\n",
    "\n",
    "match comparison_list:\n",
    "    case [first] | [first, \"two\", \"seven\"]:\n",
    "        print(\"this is the first element: {first}\")\n",
    "    case [title, \"hello\"] | [\"hello\", title]:\n",
    "        print(\"Welcome esteemed guest {title}\")\n",
    "    case [first, *rest]: #ok\n",
    "        print(f\"This is the first: {first}, and this is the rest: {rest}\")\n",
    "    case _:\n",
    "        print(\"Nothing was matched\")"
   ]
  },
  {
   "cell_type": "code",
   "execution_count": 13,
   "metadata": {},
   "outputs": [
    {
     "name": "stdout",
     "output_type": "stream",
     "text": [
      "Move Left\n"
     ]
    }
   ],
   "source": [
    "total = 200\n",
    "\n",
    "key = 'A'\n",
    "\n",
    "match key:\n",
    "    case 'a' | 'A':\n",
    "        print(\"Move Left\")\n",
    "    case 'w' | 'W':\n",
    "        print('Move Forward')\n",
    "    case 'd' | 'D':\n",
    "        print(\"Move right\")\n",
    "    case 's' | 'S':\n",
    "        print(\"Move Backward\")"
   ]
  },
  {
   "cell_type": "code",
   "execution_count": 14,
   "metadata": {},
   "outputs": [
    {
     "name": "stdout",
     "output_type": "stream",
     "text": [
      "good afternoon to work\n"
     ]
    }
   ],
   "source": [
    "def alarm(items):\n",
    "    match items:\n",
    "        case [('morning' | 'afternoon' | 'evening') as time, action]:\n",
    "            #time, action = items # items co 2 phan tu\n",
    "            #time in ('morning', afternoon', evening')\n",
    "            \n",
    "            print(f\"good {time} to {action}\")\n",
    "        case _:\n",
    "            print(\"khong hop le\")\n",
    "\n",
    "alarm(['afternoon', 'work'])"
   ]
  },
  {
   "cell_type": "code",
   "execution_count": 15,
   "metadata": {},
   "outputs": [
    {
     "name": "stdout",
     "output_type": "stream",
     "text": [
      "khong hop le\n"
     ]
    }
   ],
   "source": [
    "alarm(['work', 'afternoon'])"
   ]
  },
  {
   "cell_type": "code",
   "execution_count": 16,
   "metadata": {},
   "outputs": [
    {
     "name": "stdout",
     "output_type": "stream",
     "text": [
      "okokokokkoo\n"
     ]
    }
   ],
   "source": [
    "def alarm(items):\n",
    "    match items:\n",
    "        case ['evening', action] if action not in ['work', 'study']:\n",
    "            print(f\"good {time} to {action}\")\n",
    "        case ['evening', _]:\n",
    "            print('okokokokkoo')\n",
    "        case _: #underscore == default\n",
    "            print(\"khong hop le\")\n",
    "\n",
    "alarm(['evening', 'study'])"
   ]
  },
  {
   "cell_type": "code",
   "execution_count": null,
   "metadata": {},
   "outputs": [],
   "source": []
  },
  {
   "cell_type": "code",
   "execution_count": null,
   "metadata": {},
   "outputs": [],
   "source": []
  },
  {
   "cell_type": "code",
   "execution_count": 17,
   "metadata": {},
   "outputs": [
    {
     "name": "stdout",
     "output_type": "stream",
     "text": [
      "You towards south-east\n",
      "You towards north\n",
      "Invalid Direction\n"
     ]
    }
   ],
   "source": [
    "class Direction:\n",
    "    def __init__(self, horizontal=None, vertical=None):\n",
    "        self.horizontal = horizontal\n",
    "        self.vertical = vertical\n",
    "\n",
    "        \n",
    "def direction(loc):\n",
    "    match loc:\n",
    "        case Direction(horizontal=\"east\", vertical=\"north\"):\n",
    "            print(\"You towards northeast\")\n",
    "        case Direction(horizontal=\"east\", vertical=\"south\"):\n",
    "            print(\"You towards south-east\")\n",
    "        case Direction(horizontal=\"west\", vertical=\"north\"):\n",
    "            print(\"You towards north-west\")\n",
    "        case Direction(horizontal=\"west\", vertical=\"south\"):\n",
    "            print(\"You towards southwest\")\n",
    "        case Direction(horizontal=None):\n",
    "            print(f\"You towards {loc.vertical}\")\n",
    "        case Direction(vertical=None):\n",
    "            print(f\"You towards {loc.horizontal}\") #d2\n",
    "        case _:\n",
    "            print(\"Invalid Direction\")\n",
    "\n",
    "d1 = Direction(\"east\", \"south\")\n",
    "d2 = Direction(vertical=\"north\")\n",
    "d3 = Direction(\"centre\", \"centre\")\n",
    "\n",
    "direction(d1)\n",
    "direction(d2)\n",
    "direction(d3)"
   ]
  },
  {
   "cell_type": "code",
   "execution_count": null,
   "metadata": {},
   "outputs": [],
   "source": []
  },
  {
   "cell_type": "markdown",
   "metadata": {
    "tags": []
   },
   "source": [
    "# walrus operator :="
   ]
  },
  {
   "cell_type": "code",
   "execution_count": 18,
   "metadata": {},
   "outputs": [
    {
     "data": {
      "text/plain": [
       "[[0, 1], [1, 1], [2, 4], [3, 27], [4, 256]]"
      ]
     },
     "execution_count": 18,
     "metadata": {},
     "output_type": "execute_result"
    }
   ],
   "source": [
    "# new features python3.8\n",
    "#Assignment Expressions= walrus operator\n",
    "# def(1,2,3, /, *, c='5', d='dung')\n",
    "\n",
    "note = \"\"\"\n",
    "    phai co () trong expressions\n",
    "    if result := get_time():\n",
    "    if (x := len(s)) > 5:\n",
    "    \n",
    "    while line := fp.readline():\n",
    "    while (command := input(\"> \")) != \"quit\":\n",
    "    \n",
    "    f'{(x:=10)}'\n",
    "    \n",
    "    v = [y for x in data if (y := math.sin(x)) >= 0]\n",
    "    \n",
    "    def function(a,b, /, *, c,d)\n",
    "    function(1,2, c='dung', d='thong')\n",
    "    \n",
    "    position_arg, /, *, keyword_arg\n",
    "    \n",
    "    def no_syntax(a,b, /, *, *args, **kwds): ERROR!!!!!\n",
    "\"\"\"\n",
    "\n",
    "\n",
    "stuff = [[y := x, x**y] for x in range(5)]\n",
    "stuff"
   ]
  },
  {
   "cell_type": "markdown",
   "metadata": {
    "tags": []
   },
   "source": [
    "# list comprehension if else"
   ]
  },
  {
   "cell_type": "code",
   "execution_count": 19,
   "metadata": {
    "scrolled": true
   },
   "outputs": [
    {
     "data": {
      "text/plain": [
       "['-1',\n",
       " '-1+2',\n",
       " '-1+2-3',\n",
       " '-1+2-3+4',\n",
       " '-1+2-3+4-5',\n",
       " '-1+2-3+4-5+6',\n",
       " '-1+2-3+4-5+6-7',\n",
       " '-1+2-3+4-5+6-7+8',\n",
       " '-1+2-3+4-5+6-7+8-9',\n",
       " '-1+2-3+4-5+6-7+8-9+10']"
      ]
     },
     "execution_count": 19,
     "metadata": {},
     "output_type": "execute_result"
    }
   ],
   "source": [
    "# if else\n",
    "count=''\n",
    "[count:= count+ '+' +str(i) if i%2==0  else count+ '-' +str(i) for i in range(1,11)]"
   ]
  },
  {
   "cell_type": "code",
   "execution_count": 20,
   "metadata": {},
   "outputs": [
    {
     "data": {
      "text/plain": [
       "'-1+2-3+4-5+6-7+8-9+10'"
      ]
     },
     "execution_count": 20,
     "metadata": {},
     "output_type": "execute_result"
    }
   ],
   "source": [
    "count"
   ]
  },
  {
   "cell_type": "markdown",
   "metadata": {},
   "source": [
    "# create list functions use comprehension and lambda"
   ]
  },
  {
   "cell_type": "code",
   "execution_count": 21,
   "metadata": {},
   "outputs": [
    {
     "data": {
      "text/plain": [
       "[<function __main__.<listcomp>.<lambda>(value, pos=0)>,\n",
       " <function __main__.<listcomp>.<lambda>(value, pos=1)>,\n",
       " <function __main__.<listcomp>.<lambda>(value, pos=2)>,\n",
       " <function __main__.<listcomp>.<lambda>(value, pos=3)>,\n",
       " <function __main__.<listcomp>.<lambda>(value, pos=4)>,\n",
       " <function __main__.<listcomp>.<lambda>(value, pos=5)>]"
      ]
     },
     "execution_count": 21,
     "metadata": {},
     "output_type": "execute_result"
    }
   ],
   "source": [
    "defs = [lambda value, pos=pos: value*pos for pos in range(6)]\n",
    "defs"
   ]
  },
  {
   "cell_type": "code",
   "execution_count": 22,
   "metadata": {},
   "outputs": [
    {
     "name": "stdout",
     "output_type": "stream",
     "text": [
      "0\n",
      "2\n",
      "4\n",
      "6\n",
      "8\n",
      "10\n"
     ]
    }
   ],
   "source": [
    "for f in defs:\n",
    "    print(f(2))"
   ]
  },
  {
   "cell_type": "code",
   "execution_count": null,
   "metadata": {},
   "outputs": [],
   "source": []
  },
  {
   "cell_type": "markdown",
   "metadata": {},
   "source": [
    "# dict comprehension if else"
   ]
  },
  {
   "cell_type": "code",
   "execution_count": 23,
   "metadata": {},
   "outputs": [
    {
     "data": {
      "text/plain": [
       "{1: 1, 2: 4, 3: 9, 4: 16, 5: 25}"
      ]
     },
     "execution_count": 23,
     "metadata": {},
     "output_type": "execute_result"
    }
   ],
   "source": [
    "# dict comprehension if\n",
    "{(key:=number) : key**2 for number in range(1,6)}"
   ]
  },
  {
   "cell_type": "code",
   "execution_count": 24,
   "metadata": {},
   "outputs": [
    {
     "data": {
      "text/plain": [
       "{1: 1, 2: 4, 3: 27, 4: 16, 5: 125, 6: 36, 7: 343, 8: 64, 9: 729, 10: 100}"
      ]
     },
     "execution_count": 24,
     "metadata": {},
     "output_type": "execute_result"
    }
   ],
   "source": [
    "# dict comprehension if else\n",
    "{(key:=number): key**2 if number%2==0 else key**3 for number in range(1,11)}"
   ]
  },
  {
   "cell_type": "code",
   "execution_count": 25,
   "metadata": {},
   "outputs": [
    {
     "data": {
      "text/plain": [
       "{2: 4, 4: 16, 6: 36, 8: 64, 10: 100}"
      ]
     },
     "execution_count": 25,
     "metadata": {},
     "output_type": "execute_result"
    }
   ],
   "source": [
    "# if\n",
    "{key: key**2 for number in range(1,11) if (key:=number)%2 == 0}"
   ]
  },
  {
   "cell_type": "code",
   "execution_count": 26,
   "metadata": {},
   "outputs": [
    {
     "data": {
      "text/plain": [
       "'Hello, nguyen chi thong. You are 29.'"
      ]
     },
     "execution_count": 26,
     "metadata": {},
     "output_type": "execute_result"
    }
   ],
   "source": [
    "# old python\n",
    "name = \"nguyen chi thong\"\n",
    "age = 29\n",
    "\"Hello, %s. You are %s.\" % (name, age)\n"
   ]
  },
  {
   "cell_type": "code",
   "execution_count": 27,
   "metadata": {
    "scrolled": true
   },
   "outputs": [
    {
     "data": {
      "text/plain": [
       "'Hello, nguyen chi thong. You are 29.'"
      ]
     },
     "execution_count": 27,
     "metadata": {},
     "output_type": "execute_result"
    }
   ],
   "source": [
    "# str.format()\n",
    "\"Hello, {}. You are {}.\".format(name, age)"
   ]
  },
  {
   "cell_type": "code",
   "execution_count": 28,
   "metadata": {},
   "outputs": [
    {
     "data": {
      "text/plain": [
       "'nguyen chi'"
      ]
     },
     "execution_count": 28,
     "metadata": {},
     "output_type": "execute_result"
    }
   ],
   "source": [
    "'{:.10}'.format(name)\n",
    "# name[:10]"
   ]
  },
  {
   "cell_type": "code",
   "execution_count": 29,
   "metadata": {},
   "outputs": [
    {
     "data": {
      "text/plain": [
       "'Hello, nguyen chi thong. You are 29.'"
      ]
     },
     "execution_count": 29,
     "metadata": {},
     "output_type": "execute_result"
    }
   ],
   "source": [
    "\"Hello, {1}. You are {0}.\".format(age, name)"
   ]
  },
  {
   "cell_type": "code",
   "execution_count": 30,
   "metadata": {
    "scrolled": true
   },
   "outputs": [
    {
     "data": {
      "text/plain": [
       "'Hello, Eric. You are 74.'"
      ]
     },
     "execution_count": 30,
     "metadata": {},
     "output_type": "execute_result"
    }
   ],
   "source": [
    "person = {'name': 'Eric', 'age': 74}\n",
    "\"Hello, {name}. You are {age}.\".format(**person)"
   ]
  },
  {
   "cell_type": "markdown",
   "metadata": {},
   "source": [
    "# f-string : f \"{}\""
   ]
  },
  {
   "cell_type": "code",
   "execution_count": 31,
   "metadata": {},
   "outputs": [
    {
     "data": {
      "text/plain": [
       "'Hello, nguyen chi thong. You are 29.'"
      ]
     },
     "execution_count": 31,
     "metadata": {},
     "output_type": "execute_result"
    }
   ],
   "source": [
    "#f-string\n",
    "f\"Hello, {name}. You are {age}.\"\n",
    "# F\"Hello, {name}. You are {age}.\""
   ]
  },
  {
   "cell_type": "code",
   "execution_count": 32,
   "metadata": {
    "scrolled": true
   },
   "outputs": [
    {
     "data": {
      "text/plain": [
       "'nguyen chi thong**************'"
      ]
     },
     "execution_count": 32,
     "metadata": {},
     "output_type": "execute_result"
    }
   ],
   "source": [
    "#format(name, '*<30')\n",
    "# name.ljust(30, '*')\n",
    "f\"{name:*<30}\" \n"
   ]
  },
  {
   "cell_type": "code",
   "execution_count": 33,
   "metadata": {},
   "outputs": [
    {
     "data": {
      "text/plain": [
       "'*******nguyen chi thong*******'"
      ]
     },
     "execution_count": 33,
     "metadata": {},
     "output_type": "execute_result"
    }
   ],
   "source": [
    "#format(name, '*^30')\n",
    "# name.center(30, '*')\n",
    "f\"{name:*^30}\" "
   ]
  },
  {
   "cell_type": "code",
   "execution_count": 34,
   "metadata": {},
   "outputs": [
    {
     "data": {
      "text/plain": [
       "'**************nguyen chi thong'"
      ]
     },
     "execution_count": 34,
     "metadata": {},
     "output_type": "execute_result"
    }
   ],
   "source": [
    "# name.rjust(30, '*')\n",
    "f\"{name:*>30}\" "
   ]
  },
  {
   "cell_type": "code",
   "execution_count": null,
   "metadata": {},
   "outputs": [],
   "source": []
  },
  {
   "cell_type": "code",
   "execution_count": 35,
   "metadata": {},
   "outputs": [
    {
     "data": {
      "text/plain": [
       "'------50.1235-------'"
      ]
     },
     "execution_count": 35,
     "metadata": {},
     "output_type": "execute_result"
    }
   ],
   "source": [
    "# < = str.ljust(width, char)\n",
    "# ^ = str.center(width, char)\n",
    "# > = str.rjust(width, char)\n",
    "format(50.12345678, '-^20.4f')"
   ]
  },
  {
   "cell_type": "code",
   "execution_count": 36,
   "metadata": {},
   "outputs": [
    {
     "name": "stdout",
     "output_type": "stream",
     "text": [
      "2022-09-07 11:45\n"
     ]
    }
   ],
   "source": [
    "import datetime\n",
    "\n",
    "now = datetime.datetime.now()\n",
    "\n",
    "print(f\"{now:%Y-%m-%d %H:%M}\")"
   ]
  },
  {
   "cell_type": "markdown",
   "metadata": {},
   "source": [
    "# bool"
   ]
  },
  {
   "cell_type": "code",
   "execution_count": 37,
   "metadata": {},
   "outputs": [
    {
     "name": "stdout",
     "output_type": "stream",
     "text": [
      "is_empty('') = True\n",
      "is_empty([]) = True\n",
      "is_empty(()) = True\n",
      "is_empty({}) = True\n",
      "is_empty(0) = True\n",
      "is_empty(0.0) = True\n",
      "is_empty(1) = False\n",
      "is_empty(1.0) = False\n"
     ]
    }
   ],
   "source": [
    "def is_empty(arg):\n",
    "    return not bool(arg)\n",
    "\n",
    "# bool('', [], (). {}, 0, 0.0) = False\n",
    "# if not data: tuc data thuoc ('', [], (). {}, 0, 0.0)\n",
    "\n",
    "print(f\"{is_empty('') = }\")\n",
    "print(f\"{is_empty([]) = }\")\n",
    "print(f\"{is_empty(()) = }\")\n",
    "print(f\"{is_empty({}) = }\")\n",
    "print(f\"{is_empty(0) = }\")\n",
    "print(f\"{is_empty(0.0) = }\")\n",
    "print(f\"{is_empty(1) = }\")\n",
    "print(f\"{is_empty(1.0) = }\")"
   ]
  },
  {
   "cell_type": "code",
   "execution_count": null,
   "metadata": {},
   "outputs": [],
   "source": []
  },
  {
   "cell_type": "markdown",
   "metadata": {},
   "source": [
    "# importlib. import_module, reload"
   ]
  },
  {
   "cell_type": "code",
   "execution_count": 38,
   "metadata": {},
   "outputs": [
    {
     "data": {
      "text/plain": [
       "<module 'sys' (built-in)>"
      ]
     },
     "execution_count": 38,
     "metadata": {},
     "output_type": "execute_result"
    }
   ],
   "source": [
    "import sys #c1\n",
    "sys"
   ]
  },
  {
   "cell_type": "code",
   "execution_count": 39,
   "metadata": {},
   "outputs": [
    {
     "data": {
      "text/plain": [
       "<module 'sys' (built-in)>"
      ]
     },
     "execution_count": 39,
     "metadata": {},
     "output_type": "execute_result"
    }
   ],
   "source": [
    "sys = __import__('sys')\n",
    "sys"
   ]
  },
  {
   "cell_type": "code",
   "execution_count": 40,
   "metadata": {},
   "outputs": [
    {
     "data": {
      "text/plain": [
       "<module 'sys' (built-in)>"
      ]
     },
     "execution_count": 40,
     "metadata": {},
     "output_type": "execute_result"
    }
   ],
   "source": [
    "from importlib import import_module, reload\n",
    "\n",
    "sys_module = import_module('sys') # c2\n",
    "sys_module"
   ]
  },
  {
   "cell_type": "code",
   "execution_count": 41,
   "metadata": {},
   "outputs": [
    {
     "data": {
      "text/plain": [
       "<module 'sys' (built-in)>"
      ]
     },
     "execution_count": 41,
     "metadata": {},
     "output_type": "execute_result"
    }
   ],
   "source": [
    "sys_reload = reload(sys_module)\n",
    "sys_reload"
   ]
  },
  {
   "cell_type": "markdown",
   "metadata": {},
   "source": [
    "# logging"
   ]
  },
  {
   "cell_type": "code",
   "execution_count": 42,
   "metadata": {},
   "outputs": [
    {
     "name": "stdout",
     "output_type": "stream",
     "text": [
      "7\n"
     ]
    }
   ],
   "source": [
    "import logging\n",
    "\n",
    "# new file 'example.log' 1 lan trong 1lan run \n",
    "logging.basicConfig(filename='example.log', level=logging.INFO) \n",
    "  \n",
    "  \n",
    "def logger(func): \n",
    "    \n",
    "    def wrapper(*args): \n",
    "        \n",
    "        # append context vao 'example.log'\n",
    "        logging.info( \n",
    "            'Running \"{}\" with arguments {}'.format(func.__name__, args)\n",
    "            )\n",
    "        \n",
    "        print(func(*args)) \n",
    "        \n",
    "    return wrapper               \n",
    "\n",
    "@logger\n",
    "def add(x, y): \n",
    "    return x+y \n",
    "\n",
    "@logger\n",
    "def sub(x, y): \n",
    "    return x-y\n",
    "\n",
    "\n",
    "add(3,4)"
   ]
  },
  {
   "cell_type": "markdown",
   "metadata": {},
   "source": [
    "# closure - giong @decorator - tranh global"
   ]
  },
  {
   "cell_type": "code",
   "execution_count": 43,
   "metadata": {},
   "outputs": [],
   "source": [
    "def cell_factory(a,b, sex='name', que='gia lai'):\n",
    "    country = 'viet nam'\n",
    "    city = 'long an'\n",
    "\n",
    "    def wrapper(name, old, sex):\n",
    "        \n",
    "        # create 2 cell object => dung 2 variables outscope wrapper\n",
    "        nonlocal country, city\n",
    "\n",
    "        return country, city, name, old, sex\n",
    "\n",
    "    return wrapper"
   ]
  },
  {
   "cell_type": "code",
   "execution_count": 44,
   "metadata": {},
   "outputs": [
    {
     "data": {
      "text/plain": [
       "(<cell at 0x7f6bc47226b0: str object at 0x7f6bc474ae70>,\n",
       " <cell at 0x7f6bc4722620: str object at 0x7f6bc4749c70>)"
      ]
     },
     "execution_count": 44,
     "metadata": {},
     "output_type": "execute_result"
    }
   ],
   "source": [
    "wrapper = cell_factory(1,2)\n",
    "wrapper.__closure__"
   ]
  },
  {
   "cell_type": "code",
   "execution_count": 45,
   "metadata": {},
   "outputs": [
    {
     "data": {
      "text/plain": [
       "<code object wrapper at 0x7f6bc4747aa0, file \"/tmp/ipykernel_207115/2943600900.py\", line 5>"
      ]
     },
     "execution_count": 45,
     "metadata": {},
     "output_type": "execute_result"
    }
   ],
   "source": [
    "wrapper.__code__"
   ]
  }
 ],
 "metadata": {
  "kernelspec": {
   "display_name": "Python 3 (ipykernel)",
   "language": "python",
   "name": "python3"
  },
  "language_info": {
   "codemirror_mode": {
    "name": "ipython",
    "version": 3
   },
   "file_extension": ".py",
   "mimetype": "text/x-python",
   "name": "python",
   "nbconvert_exporter": "python",
   "pygments_lexer": "ipython3",
   "version": "3.10.6"
  }
 },
 "nbformat": 4,
 "nbformat_minor": 4
}
