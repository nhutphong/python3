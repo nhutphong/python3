{
 "cells": [
  {
   "cell_type": "code",
   "execution_count": 1,
   "metadata": {},
   "outputs": [
    {
     "data": {
      "text/plain": [
       "'\\n    trong module datetime.py co 4 class hay dung la date, time, datetime, timedelta, ...\\n\\n'"
      ]
     },
     "execution_count": 1,
     "metadata": {},
     "output_type": "execute_result"
    }
   ],
   "source": [
    "import datetime as dt\n",
    "import time\n",
    "\n",
    "\"\"\"\n",
    "    trong module datetime.py co 4 class hay dung la date, time, datetime, timedelta, ...\n",
    "\n",
    "\"\"\"\n"
   ]
  },
  {
   "cell_type": "code",
   "execution_count": 2,
   "metadata": {},
   "outputs": [
    {
     "name": "stdout",
     "output_type": "stream",
     "text": [
      "dt.date.today() =............................. 2019-08-30\n"
     ]
    }
   ],
   "source": [
    "# hien thi chi ngay\n",
    "# a = dt.date(2019, 4, 12)\n",
    "date_today = dt.date.today()\n",
    "print(f\"dt.date.today() {'=':.<30} {date_today}\")"
   ]
  },
  {
   "cell_type": "code",
   "execution_count": 3,
   "metadata": {},
   "outputs": [
    {
     "name": "stdout",
     "output_type": "stream",
     "text": [
      "dt.date.fromtimestamp(1551916800) =................... 2019-03-07\n"
     ]
    }
   ],
   "source": [
    "date_from_timestamp = dt.date.fromtimestamp(1551916800)\n",
    "print(f\"dt.date.fromtimestamp(1551916800) {'=':.<20} {date_from_timestamp}\")"
   ]
  },
  {
   "cell_type": "code",
   "execution_count": 4,
   "metadata": {},
   "outputs": [
    {
     "name": "stdout",
     "output_type": "stream",
     "text": [
      "dt.datetime.now() =............................. 2019-08-30 10:22:55.281357\n",
      "datetime_now.timestamp() =.............................1567135375.281357\n"
     ]
    }
   ],
   "source": [
    "# hien thi chi thoi gian\n",
    "# time(hour, minute and second)\n",
    "# a = time() => 00:00:00\n",
    "# b = time(11, 34, 56)\n",
    "\n",
    "# hien thi ngay va gio\n",
    "# b = datetime(2019, 3, 7, 23, 55, 59, 342380)\n",
    "datetime_now = dt.datetime.now()\n",
    "print(f\"dt.datetime.now() {'=':.<30} {datetime_now}\")\n",
    "print(f\"datetime_now.timestamp() {'=':.<30}{datetime_now.timestamp()}\")"
   ]
  },
  {
   "cell_type": "code",
   "execution_count": 5,
   "metadata": {
    "scrolled": true
   },
   "outputs": [
    {
     "name": "stdout",
     "output_type": "stream",
     "text": [
      "datetime_now.time() = 10:22:55.281357\n"
     ]
    }
   ],
   "source": [
    "datetime_now_time = datetime_now.time()\n",
    "print(f\"datetime_now.time() = {datetime_now_time}\")"
   ]
  },
  {
   "cell_type": "code",
   "execution_count": 6,
   "metadata": {},
   "outputs": [
    {
     "name": "stdout",
     "output_type": "stream",
     "text": [
      "datetime_now.strftime('%d-%m-%Y, %H:%M:%S') = 30-08-2019, 10:22:55\n"
     ]
    }
   ],
   "source": [
    "datetime_now_f = datetime_now.strftime(\"%d-%m-%Y, %H:%M:%S\")\n",
    "print(f\"datetime_now.strftime('%d-%m-%Y, %H:%M:%S') = {datetime_now_f}\")"
   ]
  },
  {
   "cell_type": "code",
   "execution_count": 7,
   "metadata": {},
   "outputs": [
    {
     "name": "stdout",
     "output_type": "stream",
     "text": [
      "dt.timedelta() = 14 days, 13:55:39\n",
      "t3.total_seconds() = 1259739.0\n"
     ]
    }
   ],
   "source": [
    "# timedelta => chuyen xu ly +, -, * cac moc thoi gian\n",
    "t1 = dt.timedelta(weeks = 2, days = 5, hours = 1, seconds = 33)\n",
    "t2 = dt.timedelta(days = 4, hours = 11, minutes = 4, seconds = 54)\n",
    "t3 = t1 - t2\n",
    "print(f\"dt.timedelta() = {t3}\")\n",
    "print(f\"t3.total_seconds() = {t3.total_seconds()}\")"
   ]
  },
  {
   "cell_type": "code",
   "execution_count": 8,
   "metadata": {},
   "outputs": [
    {
     "name": "stdout",
     "output_type": "stream",
     "text": [
      "So giay tinh tu epoch=1/1/1970 seconds = time.time() = <1567135375.6896203>\n",
      "time.ctime(seconds) = <Fri Aug 30 10:22:55 2019>\n"
     ]
    }
   ],
   "source": [
    "# time.py\n",
    "seconds = time.time()\n",
    "print(f\"So giay tinh tu epoch=1/1/1970 seconds = time.time() = <{seconds}>\")\n",
    "\n",
    "print(f\"time.ctime(seconds) = <{time.ctime(seconds)}>\")"
   ]
  },
  {
   "cell_type": "code",
   "execution_count": 9,
   "metadata": {},
   "outputs": [
    {
     "name": "stdout",
     "output_type": "stream",
     "text": [
      "\n",
      ": time.struct_time(tm_year=2019, tm_mon=8, tm_mday=30, tm_hour=10, tm_min=22, tm_sec=55, tm_wday=4, tm_yday=242, tm_isdst=0)\n",
      "\n",
      ": 2019\n",
      ": 10\n"
     ]
    }
   ],
   "source": [
    "# time.localtime(seconds=time.time())\n",
    "struct_time = time.localtime(seconds)\n",
    "print(\"\\n:\", struct_time)\n",
    "print(\"\\n:\", struct_time.tm_year)\n",
    "print(\":\", struct_time.tm_hour)"
   ]
  },
  {
   "cell_type": "code",
   "execution_count": 10,
   "metadata": {},
   "outputs": [
    {
     "name": "stdout",
     "output_type": "stream",
     "text": [
      "\n",
      "time.localtime(seconds) ve <time.struct_time(tm_year=2019, tm_mon=8, tm_mday=30, tm_hour=10, tm_min=22, tm_sec=55, tm_wday=4, tm_yday=242, tm_isdst=0)>\n",
      "\n",
      "time.mktime(struct_time) ve seconds <1567135375.0>\n"
     ]
    }
   ],
   "source": [
    "  # trả về struct_time\n",
    "print(f\"\\ntime.localtime(seconds) ve <{struct_time}>\")\n",
    " \n",
    "# trả về giây từ struct_time\n",
    "print(f\"\\ntime.mktime(struct_time) ve seconds <{time.mktime(struct_time)}>\")"
   ]
  }
 ],
 "metadata": {
  "kernelspec": {
   "display_name": "Python 3",
   "language": "python",
   "name": "python3"
  },
  "language_info": {
   "codemirror_mode": {
    "name": "ipython",
    "version": 3
   },
   "file_extension": ".py",
   "mimetype": "text/x-python",
   "name": "python",
   "nbconvert_exporter": "python",
   "pygments_lexer": "ipython3",
   "version": "3.7.4"
  }
 },
 "nbformat": 4,
 "nbformat_minor": 2
}
