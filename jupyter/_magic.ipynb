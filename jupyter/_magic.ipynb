{
 "cells": [
  {
   "cell_type": "markdown",
   "metadata": {},
   "source": [
    "# Magic"
   ]
  },
  {
   "cell_type": "code",
   "execution_count": 1,
   "metadata": {},
   "outputs": [
    {
     "name": "stdout",
     "output_type": "stream",
     "text": [
      "Tao la Magic class\n"
     ]
    }
   ],
   "source": [
    "\"\"\"\n",
    "    DATA MODEL, BASIC CUTOMIZATION\n",
    "    Magic method\n",
    "\n",
    "\"\"\"\n",
    "__IMPORTANT__=\"\"\"\n",
    "\n",
    "    khi định nghĩa 1 Class nếu chúng ta override 3 hàm này:\n",
    "    __getattribute__(self, attr), __getattr__(self, attr),\n",
    "    __setattr__(self, attr, value) thì phải chú ý\n",
    "    khi tạo instance=class() thì run __init__()  gặp 10 attrs trong đó sẽ run __settatr__() 10 lần\n",
    "    \n",
    "    còn trong các methods nếu truy cặp các self.attrs 10 lần sẽ call\n",
    "    __getattribute__(self, attr) 10 lần\n",
    "    \n",
    "    vd self.name => run __getattribute__(self, attr)\n",
    "        self.old => lai run __getattribute__(self, attr), ... blabla\n",
    "    phải chú ý __getattribute__(self, attr)\n",
    "    \n",
    "    trong __getattribute__ nen dung   return object.__getattribute__(self,attrname)\n",
    "    trong __setattr__ nen dung        object.__setattr__(self, attrname, value)\n",
    "\n",
    "    khi tao cac Magic method neu gap cac syntax trong code or ngay return:\n",
    "    self + value thi se call them __add__\n",
    "    value + self thi se call them __radd__\n",
    "\n",
    "\n",
    "    khi gặp: self +-*/ other=self -> run Magic methods operators tương ứng\n",
    "    value+self -> run Magic methods operators right\n",
    "    len(self) * value > run __len__(self) return giá trị cụ thể(int, str)=value rồi nhân * với value\n",
    "\n",
    "    nói chung: value +value cộng bình thường\n",
    "\n",
    "    self+value, self + self sẽ run các Magic methods\n",
    "    value + self se run RIGHT Magic methods\n",
    "\"\"\"\n",
    "\n",
    "def design(func_name=None, letter='#'):\n",
    "    def decorator(method):\n",
    "        def wrapper(self, *args, **kwargs):\n",
    "            print(f\"{func_name+ ' START ':{letter}^85}\")\n",
    "            fun = method(self, *args, **kwargs)\n",
    "            print(f\"{func_name+ ' END ':{letter}^85}\", end='\\n'*2)\n",
    "            return fun\n",
    "\n",
    "        return wrapper\n",
    "        \n",
    "    return decorator\n",
    "\n",
    "\n",
    "class Magic:\n",
    "    print(\"\"\"Tao la Magic class\"\"\")\n",
    "    __number = 0\n",
    "    __string = ''\n",
    "    count_init = 0\n",
    "    count_setattr = 0\n",
    "    count_getattr = 0\n",
    "    count_getattribute = 0\n",
    "    count_name = 0\n",
    "\n",
    "\n",
    "    @design(\"__init__\")\n",
    "    def __init__(self, *, number=10, intdf=5, name='thong'):\n",
    "        type(self).count_init += 1\n",
    "        \n",
    "        print(f\"Tao la __init__ {type(self).count_init = }\")\n",
    "        self._number = number\n",
    "        self._name = name\n",
    "        self.__int = intdf # _Magic__int\n",
    "       \n",
    "    # magic = Magic()\n",
    "    # len(magic)\n",
    "    @design(\"__len__\")\n",
    "    def __len__(self):\n",
    "        print('__len__')\n",
    "        return self._number # return <int> bat buoc\n",
    "    \n",
    "    #print(magic) or str(magic)\n",
    "    @design(\"__str__\")\n",
    "    def __str__(self):\n",
    "        type(self).count_name += 1\n",
    "        print(f\"__str__ {type(self).count_name = }\")\n",
    "        return self.name  # return <str> bat buoc\n",
    "    \n",
    "    #repr(magic) or magic<trong terminal>\n",
    "    @design(\"__repr__\")\n",
    "    def __repr__(self):\n",
    "        print(\"__repr__\")\n",
    "        return f\"<enter> run __repr__ = {self.name}\"  # dung repr(obj)\n",
    "    \n",
    "    # if magic\n",
    "    # if Magic()\n",
    "    def __bool__(self):\n",
    "        print('Tao la __bool__')\n",
    "        return False # return <is True or False>\n",
    "    \n",
    "    # format(magic or Magic(), \"age\") arg is str\n",
    "    # magic.__format__('age')\n",
    "    # f\"{magic:age}\" #    NO f\"{magic:'age'}\" \n",
    "    def __format__(self, format_spec): # format_spec is str bat buoc\n",
    "        if(format_spec == 'age'):\n",
    "            return '23'\n",
    "        return 'is_string' # return <is_str> bat buoc\n",
    "    \n",
    "    # int(magic), float(magic), complex(magic)\n",
    "    def __index__(self):# uu tien hon object.__trunc__()\n",
    "        print(\"Tao la __index__\")\n",
    "        return 10 # return <int> bat buoc\n",
    "    \n",
    "    #magic['key'] = 'value'\n",
    "    @design(\"__setitem__\")\n",
    "    def __setitem__(self, key, value):\n",
    "        print('__setitem__')\n",
    "        # self[key] = value  #RecursionError\n",
    "\n",
    "        self.__dict__[key] = value\n",
    "        #self.data[key] = value\n",
    "    \n",
    "    #magic[key]\n",
    "    @design(\"__getitem__\")\n",
    "    def __getitem__(self, key):\n",
    "        print(\"__getitem__\")\n",
    "        '''\n",
    "            magic['name'] => key = 'name'\n",
    "            magic[:] => key = slice()\n",
    "            magic[:, 'thanh dung', 3:11:2] => key = tuple(slice(), 'thanh dung', slice(3,11,2))\n",
    "        '''\n",
    "        # self[index]  #RecursionError\n",
    "        return self.__dict__[key]\n",
    "\n",
    "    #del magic[key]\n",
    "    @design(\"__delitem__\")\n",
    "    def __delitem__(self, key):\n",
    "        # del self[key]\n",
    "        print('__delitem__')\n",
    "        del self.__dict__[key]\n",
    "\n",
    "    #magic.name, \n",
    "    #magic.method() => magic.method cung run __getattribute__ sau do run __call__ them 1 lan\n",
    "    # nua, return <magic.method>()\n",
    "    # lun run khi truy access attr or method du co ton tai hay khong\n",
    "#     @design(\"__getattribute__\")\n",
    "#     def __getattribute__(self, attrname): #3\n",
    "#         type(self).count_getattribute += 1\n",
    "#         print(f'<{attrname = }> LUON RUN  __getattribute__ {type(self).count_getattribute}')\n",
    "        \n",
    "#         # super().__getattribute__(attrname) # run __getattr__(self, attr) #2\n",
    "#         # object.__getattribute__(self,attr) #2\n",
    "#         return object.__getattribute__(self,attrname)\n",
    "#         # return object.__getattribute__(self,attrname)() # neu la method run __call__ tuc them callback() 1 lan\n",
    "\n",
    "#         # object.__getattribute__(self,attrname) -  neu attr khong ton tai se run them __getattr__(self, attr)\n",
    "    \n",
    "#     #magic.old - old la attrname undefined \n",
    "#     @design(\"__getattr__\")\n",
    "#     def __getattr__(self, attrname): #2\n",
    "#         type(self).count_getattr += 1\n",
    "\n",
    "#         value = 'default value for attrname undefined'\n",
    "\n",
    "#         setattr(self, attrname, value)\n",
    "#         # object.__setattr__(self, attrname, value)\n",
    "\n",
    "#         return value\n",
    "\n",
    "#     #magic.old = 25\n",
    "#     @design(\"__setattr__\")\n",
    "#     def __setattr__(self, attrname, value): #1\n",
    "#         # khi tao obj neu co 4 attr se run 4 lan __setattr__\n",
    "#         type(self).count_setattr += 1\n",
    "        \n",
    "#         #khong nen dung self.__dict__ vi se run __getattribute__ them 1 lan\n",
    "#         # self.__dict__[attrname] = value\n",
    "\n",
    "#         object.__setattr__(self, attrname, value)\n",
    "\n",
    "        \n",
    "#     #del magic.name\n",
    "#     @design(\"__delattr__\")\n",
    "#     def __delattr__(self, attr):\n",
    "#         # del self.attr\n",
    "#         print('__delattr__')\n",
    "#         del self.__dict__[attr]\n",
    "\n",
    "    #del magic\n",
    "    @design(\"__del__\")\n",
    "    def __del__(self):\n",
    "        #del self\n",
    "        print(\"__del__\")\n",
    "        del self #NO RecursionError\n",
    "\n",
    "    \"\"\" magic + value\n",
    "        magic + magic_two\n",
    "        magic.__add__(magic_two or value)\n",
    "    \"\"\"\n",
    "    def __add__(self, other):\n",
    "        print('tao la __add__+')\n",
    "\n",
    "        return Magic(intdf=self.__int + other.__int)\n",
    "        # return self._name + other._name\n",
    "\n",
    "    # magic - 3|magic2\n",
    "    def __sub__(self, other):\n",
    "        print('tao la __sub__-')\n",
    "\n",
    "        return Magic(intdf=self.__int - other.__int)\n",
    "    \n",
    "    # magic * 3|magic2\n",
    "    def __mul__(self, other):\n",
    "        print('tao la __mul__*')\n",
    "\n",
    "        return Magic(intdf=self.__int * other.__int)\n",
    "    \n",
    "    # magic / 3|magic2\n",
    "    def __truediv__(self, other):\n",
    "        print('tao la __truediv__/')\n",
    "\n",
    "        return Magic(intdf=self.__int / other.__int)\n",
    "    \n",
    "    # magic // 3|magic2\n",
    "    def __floordiv__(self, other):\n",
    "        print('tao la __floordiv__//')\n",
    "\n",
    "        return Magic(intdf=self.__int // other.__int)\n",
    "    \n",
    "    # magic % 3|magic2\n",
    "    def __mod__(self, other):\n",
    "        print('tao la __mod__%')\n",
    "\n",
    "        return Magic(intdf=self.__int % other.__int)\n",
    "    \n",
    "    # divmod(magic, 3|magic2)\n",
    "    def __divmod__(self, other):\n",
    "        print('__divmod__ (nguyen, du)')\n",
    "        floordiv = self.__int // other.__int\n",
    "        mod = self.__int % other.__int\n",
    "\n",
    "        return (floordiv, mod)\n",
    "    \n",
    "    # maigc ** 3|magic2\n",
    "    def __pow__(self, other):\n",
    "        print('tao la __pow__**')\n",
    "\n",
    "        return self.__int ** other.__int\n",
    "    \n",
    "    # magic << 4|magic2\n",
    "    def __lshift__(self, other):\n",
    "        print(\n",
    "            f\"__lshift__ = {self.__int} << {other.__int}  <=> {self.__int} * (2**{other.__int})\")\n",
    "\n",
    "        return self.__int << other.__int\n",
    "    # 5 << 3 ->  5 * (2**3)\n",
    "    \n",
    "    # magic >> 4|magic2\n",
    "    def __rshift__(self, other):\n",
    "        print(\n",
    "            f\"__lshift__ = {self.__int} >> {other.__int}  <=> {self.__int} / (2**{other.__int})\")\n",
    "\n",
    "        return self.__int >> other.__int\n",
    "    # 5 >> 3 -> 5 // (2**3)\n",
    "    \n",
    "    \"\"\"\n",
    "        # other <+, -, ...> self\n",
    "        object.__radd__(self, other)\n",
    "        object.__rsub__(self, other)\n",
    "        object.__rmul__(self, other)\n",
    "        object.__rmatmul__(self, other)\n",
    "        object.__rtruediv__(self, other) \n",
    "        object.__rfloordiv__(self, other)\n",
    "        object.__rmod__(self, other)\n",
    "        object.__rdivmod__(self, other)\n",
    "        object.__rpow__(self, other[, modulo])\n",
    "        object.__rlshift__(self, other)\n",
    "        object.__rrshift__(self, other)\n",
    "        object.__rand__(self, other)\n",
    "        object.__rxor__(self, other)\n",
    "        object.__ror__(self, other)\n",
    "        \n",
    "        #updated\n",
    "        object.__iadd__(self, other) +=\n",
    "        object.__isub__(self, other) -=\n",
    "        object.__imul__(self, other) *=\n",
    "        object.__imatmul__(self, other) @=\n",
    "        object.__itruediv__(self, other) /=\n",
    "        object.__ifloordiv__(self, other) //=\n",
    "        object.__imod__(self, other) %=\n",
    "        object.__ipow__(self, other[, modulo]) **=\n",
    "        object.__ilshift__(self, other)  <<=\n",
    "        object.__irshift__(self, other) >>=\n",
    "        object.__iand__(self, other) &=\n",
    "        object.__ixor__(self, other) ^=\n",
    "        object.__ior__(self, other) |=\n",
    "    \n",
    "\n",
    "        object.__lt__(self, other) <\n",
    "        object.__le__(self, other) <=\n",
    "        object.__eq__(self, other) ==\n",
    "        object.__ne__(self, other) !=\n",
    "        object.__gt__(self, other) >\n",
    "        object.__ge__(self, other) >=\n",
    "\n",
    "        object.__neg__(self) = -self\n",
    "        object.__pos__(self) = +self\n",
    "        object.__abs__() = abs()\n",
    "        object.__invert(self) = ~\n",
    "            \n",
    "        object.__hash__(self)\n",
    "            \n",
    "        object.__complex__(self) = complex()\n",
    "        object.__int__(self) = int()\n",
    "        object.__long__(self) = long()\n",
    "        object.__float__(self) = float()\n",
    "        object.__oct__() = oct()\n",
    "        object.__hex__() = hex()\n",
    "        \n",
    "        object.__round__(self[, ndigits]) = round(number)\n",
    "        object.__trunc__(self) = math.trunc(), int(), \n",
    "        object.__floor__(self) = math.floor()\n",
    "        object.__ceil__(self) = math.ceil()\n",
    "        \n",
    "        async\n",
    "        object.__await__(self): return iterator -> run await\n",
    "        \n",
    "        \n",
    "       class Reader:\n",
    "            async def readline(self):\n",
    "                ...\n",
    "\n",
    "            def __aiter__(self):\n",
    "                return self\n",
    "\n",
    "            async def __anext__(self):\n",
    "                awaitable = await self.readline()\n",
    "                if val == b'':\n",
    "                    raise StopAsyncIteration\n",
    "                return awaitable\n",
    "        \n",
    "        \n",
    "        class AsyncContextManager:\n",
    "            async def __aenter__(self):\n",
    "                await log('entering context')\n",
    "\n",
    "            async def __aexit__(self, exc_type, exc, tb):\n",
    "                await log('exiting context')\n",
    "    \"\"\"\n",
    "\n",
    "    @property\n",
    "    def len(self):\n",
    "        return self._number\n",
    "\n",
    "    @len.setter\n",
    "    def len(self, value):\n",
    "\n",
    "        if isinstance(value, int):\n",
    "            self._number = value*2\n",
    "        else:\n",
    "            self._number = type(self).__number\n",
    "\n",
    "    @property\n",
    "    def name(self):\n",
    "        return self._name\n",
    "\n",
    "    @name.setter\n",
    "    def name(self, value):\n",
    "        if isinstance(value, str):\n",
    "            self._name = value.upper()\n",
    "        else:\n",
    "            self._name = type(self).__string"
   ]
  },
  {
   "cell_type": "code",
   "execution_count": 2,
   "metadata": {},
   "outputs": [
    {
     "name": "stdout",
     "output_type": "stream",
     "text": [
      "###################################__init__ START ###################################\n",
      "Tao la __init__ type(self).count_init = 1\n",
      "####################################__init__ END ####################################\n",
      "\n"
     ]
    }
   ],
   "source": [
    "magic = Magic()"
   ]
  },
  {
   "cell_type": "code",
   "execution_count": 3,
   "metadata": {
    "scrolled": true
   },
   "outputs": [
    {
     "data": {
      "text/plain": [
       "'23'"
      ]
     },
     "execution_count": 3,
     "metadata": {},
     "output_type": "execute_result"
    }
   ],
   "source": [
    "format(magic, 'age')"
   ]
  },
  {
   "cell_type": "code",
   "execution_count": 4,
   "metadata": {},
   "outputs": [
    {
     "data": {
      "text/plain": [
       "'23'"
      ]
     },
     "execution_count": 4,
     "metadata": {},
     "output_type": "execute_result"
    }
   ],
   "source": [
    "f\"{magic:age}\""
   ]
  },
  {
   "cell_type": "code",
   "execution_count": 5,
   "metadata": {},
   "outputs": [
    {
     "name": "stdout",
     "output_type": "stream",
     "text": [
      "###################################__len__ START ####################################\n",
      "__len__\n",
      "####################################__len__ END #####################################\n",
      "\n"
     ]
    },
    {
     "data": {
      "text/plain": [
       "10"
      ]
     },
     "execution_count": 5,
     "metadata": {},
     "output_type": "execute_result"
    }
   ],
   "source": [
    "len(magic)"
   ]
  },
  {
   "cell_type": "markdown",
   "metadata": {},
   "source": [
    "# Magic Recursion"
   ]
  },
  {
   "cell_type": "code",
   "execution_count": 6,
   "metadata": {},
   "outputs": [],
   "source": [
    "class Recursion(Magic):\n",
    "    \"\"\"docstring for Recursion\"\"\"\n",
    "    __IMPORTANT__ = \"\"\"\n",
    "        chỉ có thể dùng publish method đc thừa kế để access class variable private\n",
    "        còn instance variable private có thẻ dùng syntas đặc biệt,\n",
    "        self._Magic__int => nhưng nên dùng publish method\n",
    "    \"\"\"\n",
    "\n",
    "\n",
    "    def __init__(self, full_name=\"thanh phong\", old=26, intdf=23):\n",
    "        super().__init__(intdf=intdf)\n",
    "        self.full_name = full_name\n",
    "        self.old = old\n",
    "        # child_class có thể access self._Magic__int, syntax đặc biệt\n",
    "        #\n",
    "\n",
    "\n",
    "    # def __setattr__(self, attr, value):\n",
    "    #     print(f'__setattr__')\n",
    "    #     print(f\"<{attr}> {value:.>20}\")\n",
    "\n",
    "    # \t  self.name = 'dung' #RecursionError\n",
    "    #     self.old = 38 #RecursionError\n",
    "\n",
    "    #     setattr(self, attr, value) #RecursionError\n",
    "\n",
    "\n",
    "    def __getattribute__(self, attr):\n",
    "        print(f\"__getattribute__ \")\n",
    "        # self.old, self.method(), ... RecusionError\n",
    "        # getattr(self, attr) # RecusionError\n",
    "\n",
    "        # value = super().__getattribute__(attr)\n",
    "        # value = object.__getattribute__(self, attr)\n",
    "        return super().__getattribute__(attr)\n",
    "\n",
    "\n",
    "    def __getattr__(self, attr):\n",
    "        print(f\"__getattr__ \")\n",
    "        default_value = 'blabla'\n",
    "        setattr(self, attr, default_value)\n",
    "        return default_value\n",
    "\n",
    "    def __getitem__(self, key):\n",
    "        print(\"__getitem__\")\n",
    "        return self[key] #RecursionError\n",
    "\n",
    "    def __setitem__(self, key, value):\n",
    "        print('__setitem__')\n",
    "        self[key] = value #RecursionError\n",
    "\n",
    "    def __del__(self):\n",
    "        print(\"__del__\")\n",
    "        del self # chi rieng del self ko bi #RecursionError\n",
    "\n",
    "    def __str__(self):\n",
    "        return str(self) #RecursionError\n",
    "\n",
    "    def __repr__(self):\n",
    "        return repr(self) #RecursionError\n",
    "\n",
    "    def __add__(self, other):\n",
    "        print(\"__add__\")\n",
    "        return self + other #RecursionError\n",
    "\n",
    "    def __sub__(self, other):\n",
    "        print('tao la __sub__-')\n",
    "\n",
    "        return self - other #RecursionError\n",
    "\n",
    "    def __mul__(self, other):\n",
    "        print('tao la __mul__*')\n",
    "\n",
    "        return self * other #RecursionError\n",
    "\n",
    "    def __truediv__(self, other):\n",
    "        print('tao la __truediv__/')\n",
    "\n",
    "        return self / other #RecursionError\n",
    "\n",
    "    def __floordiv__(self, other):\n",
    "        print('tao la __floordiv__//')\n",
    "\n",
    "        return self // other #RecursionError\n",
    "\n",
    "    def __mod__(self, other):\n",
    "        print('tao la __mod__%')\n",
    "\n",
    "        return self % other #RecursionError\n",
    "\n",
    "    def __divmod__(self, other):\n",
    "        print('__divmod__')\n",
    "\n",
    "        return divmod(self, other) #RecursionError\n",
    "\n",
    "    def __pow__(self, other):\n",
    "        print('tao la __pow__**')\n",
    "\n",
    "        return self ** other #RecursionError\n",
    "\n",
    "    def __lshift__(self, other):\n",
    "        print(\n",
    "            f\"__lshift__ = {self.__int} << {other.__int}  <=> {self.__int} * (2**{other.__int})\")\n",
    "\n",
    "        return self << other #RecursionError\n",
    "\n",
    "    def __rshift__(self, other):\n",
    "        print(\n",
    "            f\"__lshift__ = {self.__int} >> {other.__int}  <=> {self.__int} / (2**{other.__int})\")\n",
    "\n",
    "        return self >> other #RecursionError"
   ]
  },
  {
   "cell_type": "markdown",
   "metadata": {},
   "source": [
    "# iheritance types"
   ]
  },
  {
   "cell_type": "code",
   "execution_count": 7,
   "metadata": {},
   "outputs": [],
   "source": [
    "note = \"\"\"\n",
    "    str, list, tuple, dict, set, frozenset deu dung FOR de access item vi co defined\n",
    "    __iter__(self)\n",
    "    \n",
    "    str, list, tuple, dict, set, frozenset dung duoc item in obj vi co __contains__(self, item)\n",
    "    \n",
    "    str, list, tuple, dict: dung duoc [] vi chung co __getitem__(index_or_slice_or_key_for_dict)\n",
    "    iterator = iter(obj), set, frozenset ko dung duoc [] vi KO co defined __getitem__\n",
    "    \n",
    "\"\"\""
   ]
  },
  {
   "cell_type": "code",
   "execution_count": 8,
   "metadata": {},
   "outputs": [],
   "source": [
    "class Dict(dict):\n",
    "    \n",
    "    \"\"\"\n",
    "        nen iheritance tu types python de co cac magic methods\n",
    "        co the override de mo rong chuc nang tuy theo y minh\n",
    "    \"\"\"\n",
    "\n",
    "    # get obj[key] if key is str thi obj[key].upper()\n",
    "    def __getitem__(self, key):\n",
    "        if isinstance(key, str):\n",
    "\n",
    "            value =  super().__getitem__(key)\n",
    "            if isinstance(value, str):\n",
    "\n",
    "                return value.upper()\n",
    "\n",
    "            return value\n",
    "\n",
    "        return super().__getitem__(key)\n",
    "\n",
    "    # set obj[key]=value neu key is str thi value.upper()\n",
    "    def __setitem__(self, key, value):\n",
    "        if isinstance(key, str):\n",
    "            return super().__setitem__(key, value.upper())\n",
    "\n",
    "        super().__setitem__(key, value)\n"
   ]
  },
  {
   "cell_type": "code",
   "execution_count": 9,
   "metadata": {},
   "outputs": [],
   "source": [
    "info = Dict(name='thong', old=30)"
   ]
  },
  {
   "cell_type": "code",
   "execution_count": 10,
   "metadata": {},
   "outputs": [
    {
     "data": {
      "text/plain": [
       "{'name': 'THONG', 'old': 30, 1: 'haha'}"
      ]
     },
     "execution_count": 10,
     "metadata": {},
     "output_type": "execute_result"
    }
   ],
   "source": [
    "info[1] = 'haha'\n",
    "info"
   ]
  },
  {
   "cell_type": "code",
   "execution_count": 11,
   "metadata": {},
   "outputs": [
    {
     "data": {
      "text/plain": [
       "'haha'"
      ]
     },
     "execution_count": 11,
     "metadata": {},
     "output_type": "execute_result"
    }
   ],
   "source": [
    "info[1]"
   ]
  },
  {
   "cell_type": "code",
   "execution_count": 12,
   "metadata": {},
   "outputs": [
    {
     "data": {
      "text/plain": [
       "'THONG'"
      ]
     },
     "execution_count": 12,
     "metadata": {},
     "output_type": "execute_result"
    }
   ],
   "source": [
    "info['name']"
   ]
  },
  {
   "cell_type": "markdown",
   "metadata": {},
   "source": [
    "# Miss.__getattr__"
   ]
  },
  {
   "cell_type": "code",
   "execution_count": 13,
   "metadata": {},
   "outputs": [
    {
     "name": "stdout",
     "output_type": "stream",
     "text": [
      "__getattr__ 1\n",
      "attrname = 'append'\n",
      "<built-in method append of list object at 0x7f13a0004740>\n",
      "\n",
      "__getattr__ 2\n",
      "attrname = 'append'\n",
      "\n",
      "__getattr__ 3\n",
      "attrname = 'pop'\n",
      "[2, 3, 4]\n"
     ]
    }
   ],
   "source": [
    "class Miss:\n",
    "    \n",
    "    count_getattr = 0\n",
    "    \n",
    "    def __init__(self, iterable):\n",
    "        self._iterable = iterable\n",
    "    \n",
    "    def __repr__(self):\n",
    "        return repr(self._iterable)\n",
    "    \n",
    "    # m.attr or m.method khong ton tai se run\n",
    "    # rieng m.method se run __getattr__ roi sau do callback tuc ()\n",
    "    def __getattr__(self, attrname):\n",
    "        type(self).count_getattr += 1\n",
    "        \n",
    "        print(f\"__getattr__ {type(self).count_getattr}\")\n",
    "        print(f\"{attrname = }\")\n",
    "        return getattr(self._iterable, attrname)\n",
    "        #return self._iterable.attrname\n",
    "\n",
    "m = Miss([1,2,3])\n",
    "print(m.append)\n",
    "print()\n",
    "\n",
    "m.append(4)\n",
    "print()\n",
    "\n",
    "m.pop(0)\n",
    "print(m)"
   ]
  },
  {
   "cell_type": "markdown",
   "metadata": {},
   "source": [
    "# __missing__ iheritance dict"
   ]
  },
  {
   "cell_type": "code",
   "execution_count": 14,
   "metadata": {},
   "outputs": [
    {
     "name": "stdout",
     "output_type": "stream",
     "text": [
      "__missing__\n",
      "(6, y)\n",
      "__missing__\n",
      "(x, 5)\n",
      "\n",
      "(6, 5)\n"
     ]
    }
   ],
   "source": [
    "class Miss(dict):\n",
    "\n",
    "    # khong define __init__\n",
    "#     def __init__(self, one, two):\n",
    "#         self.one = one\n",
    "#         self.two = two\n",
    "    \n",
    "    # miss['key'] if key ko ton ton tai run\n",
    "    def __missing__(self, key):\n",
    "        print('__missing__')\n",
    "        return key\n",
    "\n",
    "\n",
    "print('({x}, {y})'.format_map(Miss(x='6'))) # run __missing__ vi thieu key=y\n",
    "print('({x}, {y})'.format_map(Miss(y='5'))) # run __missing__ vi thieu key=x\n",
    "print()\n",
    "print('({x}, {y})'.format_map(Miss(x='6', y='5')))\n",
    "\n",
    "#format_map(mapping) is more flexible than format(**mapping) as you can have missing keys."
   ]
  },
  {
   "cell_type": "code",
   "execution_count": 15,
   "metadata": {},
   "outputs": [
    {
     "data": {
      "text/plain": [
       "{'name': 'thong', 'old': 28}"
      ]
     },
     "execution_count": 15,
     "metadata": {},
     "output_type": "execute_result"
    }
   ],
   "source": [
    "miss = Miss(name='thong', old=28)\n",
    "miss"
   ]
  },
  {
   "cell_type": "code",
   "execution_count": 16,
   "metadata": {},
   "outputs": [
    {
     "name": "stdout",
     "output_type": "stream",
     "text": [
      "__missing__\n"
     ]
    },
    {
     "data": {
      "text/plain": [
       "'nokey'"
      ]
     },
     "execution_count": 16,
     "metadata": {},
     "output_type": "execute_result"
    }
   ],
   "source": [
    "miss['nokey']"
   ]
  }
 ],
 "metadata": {
  "kernelspec": {
   "display_name": "Python 3",
   "language": "python",
   "name": "python3"
  },
  "language_info": {
   "codemirror_mode": {
    "name": "ipython",
    "version": 3
   },
   "file_extension": ".py",
   "mimetype": "text/x-python",
   "name": "python",
   "nbconvert_exporter": "python",
   "pygments_lexer": "ipython3",
   "version": "3.9.1"
  }
 },
 "nbformat": 4,
 "nbformat_minor": 4
}
