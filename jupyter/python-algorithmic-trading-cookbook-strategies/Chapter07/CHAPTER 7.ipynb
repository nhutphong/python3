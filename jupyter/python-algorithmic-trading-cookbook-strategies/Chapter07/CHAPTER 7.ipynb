{
 "cells": [
  {
   "cell_type": "markdown",
   "metadata": {},
   "source": [
    "# Python Algorithmic Trading Cookbook"
   ]
  },
  {
   "cell_type": "markdown",
   "metadata": {},
   "source": [
    "## Chapter 7: Placing Bracket and Cover Orders on the Exchange"
   ]
  },
  {
   "cell_type": "markdown",
   "metadata": {},
   "source": [
    "This Jupyter Notebook is created using Python version 3.8.2"
   ]
  },
  {
   "cell_type": "markdown",
   "metadata": {},
   "source": [
    "----"
   ]
  },
  {
   "cell_type": "markdown",
   "metadata": {},
   "source": [
    "### Requirements"
   ]
  },
  {
   "cell_type": "markdown",
   "metadata": {},
   "source": [
    "You can install the requirements for this Jupyter Notebook by executing the below cell"
   ]
  },
  {
   "cell_type": "code",
   "execution_count": 0,
   "metadata": {},
   "outputs": [],
   "source": [
    "!pip install pyalgotrading"
   ]
  },
  {
   "cell_type": "markdown",
   "metadata": {},
   "source": [
    "----"
   ]
  },
  {
   "cell_type": "markdown",
   "metadata": {},
   "source": [
    "### Master Recipe\n",
    "\n",
    "The following code will help you set up the broker connection with Zerodha, which will be used by all the recipes in this chapter. Please make sure you have followed these steps before trying out any recipe. "
   ]
  },
  {
   "cell_type": "code",
   "execution_count": 1,
   "metadata": {},
   "outputs": [],
   "source": [
    "from pyalgotrading.broker.broker_connection_zerodha import BrokerConnectionZerodha\n",
    "from pyalgotrading.constants import *"
   ]
  },
  {
   "cell_type": "code",
   "execution_count": 2,
   "metadata": {
    "scrolled": true
   },
   "outputs": [
    {
     "name": "stdout",
     "output_type": "stream",
     "text": [
      "https://kite.trade/connect/login?api_key=<your-api-key>\n"
     ]
    }
   ],
   "source": [
    "# Get the api_key & api_secret from broker. These are unique to you & will be used by the broker to identify your demat account.\n",
    "api_key = \"<your-api-key>\"\n",
    "api_secret = \"<your-api-secret>\"\n",
    "broker_connection = BrokerConnectionZerodha(api_key, api_secret)"
   ]
  },
  {
   "cell_type": "code",
   "execution_count": 3,
   "metadata": {},
   "outputs": [],
   "source": [
    "# Get the request token from the above URL\n",
    "request_token = \"<your-request-token>\"\n",
    "broker_connection.set_access_token(request_token)"
   ]
  },
  {
   "cell_type": "markdown",
   "metadata": {},
   "source": [
    "----"
   ]
  },
  {
   "cell_type": "markdown",
   "metadata": {},
   "source": [
    "### Recipe 1: Placing a Bracket Limit Order"
   ]
  },
  {
   "cell_type": "code",
   "execution_count": 40,
   "metadata": {},
   "outputs": [],
   "source": [
    "instrument = broker_connection.get_instrument('NSE', 'SBIN')"
   ]
  },
  {
   "cell_type": "code",
   "execution_count": 41,
   "metadata": {},
   "outputs": [
    {
     "data": {
      "text/plain": [
       "'200226003619986'"
      ]
     },
     "execution_count": 41,
     "metadata": {},
     "output_type": "execute_result"
    }
   ],
   "source": [
    "# Place a Buy, Bracket, Intraday, Limit order\n",
    "ltp = broker_connection.get_ltp(instrument)\n",
    "\n",
    "order1_id = broker_connection.place_order(instrument=instrument,\n",
    "    order_transaction_type=BrokerOrderTransactionTypeConstants.BUY,\n",
    "    order_type=BrokerOrderTypeConstants.BRACKET,\n",
    "    order_code=BrokerOrderCodeConstants.INTRADAY,\n",
    "    order_variety=BrokerOrderVarietyConstants.LIMIT,\n",
    "    quantity=1,\n",
    "    price=ltp-1,\n",
    "    stoploss=2,\n",
    "    target=2)\n",
    "\n",
    "order1_id"
   ]
  },
  {
   "cell_type": "code",
   "execution_count": 42,
   "metadata": {},
   "outputs": [
    {
     "data": {
      "text/plain": [
       "'REJECTED'"
      ]
     },
     "execution_count": 42,
     "metadata": {},
     "output_type": "execute_result"
    }
   ],
   "source": [
    "broker_connection.get_order_status(order1_id)"
   ]
  },
  {
   "cell_type": "code",
   "execution_count": null,
   "metadata": {},
   "outputs": [],
   "source": [
    "broker_connection.get_order_status(order1_id)"
   ]
  },
  {
   "cell_type": "code",
   "execution_count": 43,
   "metadata": {},
   "outputs": [
    {
     "data": {
      "text/plain": [
       "'200226003619991'"
      ]
     },
     "execution_count": 43,
     "metadata": {},
     "output_type": "execute_result"
    }
   ],
   "source": [
    "# Place a Sell, Bracket, Intraday, Limit order\n",
    "ltp = broker_connection.get_ltp(instrument)\n",
    "\n",
    "order2_id = broker_connection.place_order(instrument=instrument,\n",
    "    order_transaction_type=BrokerOrderTransactionTypeConstants.SELL,\n",
    "    order_type=BrokerOrderTypeConstants.BRACKET,\n",
    "    order_code=BrokerOrderCodeConstants.INTRADAY,\n",
    "    order_variety=BrokerOrderVarietyConstants.LIMIT,\n",
    "    quantity=1,\n",
    "    price=ltp+1,\n",
    "    stoploss=2,\n",
    "    target=2)\n",
    "\n",
    "order2_id"
   ]
  },
  {
   "cell_type": "code",
   "execution_count": 44,
   "metadata": {},
   "outputs": [
    {
     "data": {
      "text/plain": [
       "'REJECTED'"
      ]
     },
     "execution_count": 44,
     "metadata": {},
     "output_type": "execute_result"
    }
   ],
   "source": [
    "broker_connection.get_order_status(order2_id)"
   ]
  },
  {
   "cell_type": "code",
   "execution_count": null,
   "metadata": {},
   "outputs": [],
   "source": [
    "broker_connection.get_order_status(order2_id)"
   ]
  },
  {
   "cell_type": "markdown",
   "metadata": {},
   "source": [
    "### Recipe 2: Placing a Bracket Stoploss-Limit Order"
   ]
  },
  {
   "cell_type": "code",
   "execution_count": 45,
   "metadata": {},
   "outputs": [],
   "source": [
    "instrument = broker_connection.get_instrument('NSE', 'INDUSINDBK')"
   ]
  },
  {
   "cell_type": "code",
   "execution_count": 46,
   "metadata": {},
   "outputs": [
    {
     "data": {
      "text/plain": [
       "'200226003619998'"
      ]
     },
     "execution_count": 46,
     "metadata": {},
     "output_type": "execute_result"
    }
   ],
   "source": [
    "# Place a Buy, Bracket, Intraday, Stoploss Limit order\n",
    "ltp = broker_connection.get_ltp(instrument)\n",
    "\n",
    "order1_id = broker_connection.place_order(instrument=instrument,\n",
    "    order_transaction_type=BrokerOrderTransactionTypeConstants.BUY,\n",
    "    order_type=BrokerOrderTypeConstants.BRACKET,\n",
    "    order_code=BrokerOrderCodeConstants.INTRADAY,\n",
    "    order_variety=BrokerOrderVarietyConstants.STOPLOSS_LIMIT,\n",
    "    quantity=1,\n",
    "    price=ltp+1,\n",
    "    trigger_price=ltp+1,\n",
    "    stoploss=2,\n",
    "    target=2)\n",
    "\n",
    "order1_id"
   ]
  },
  {
   "cell_type": "code",
   "execution_count": 47,
   "metadata": {},
   "outputs": [
    {
     "data": {
      "text/plain": [
       "'REJECTED'"
      ]
     },
     "execution_count": 47,
     "metadata": {},
     "output_type": "execute_result"
    }
   ],
   "source": [
    "broker_connection.get_order_status(order1_id)"
   ]
  },
  {
   "cell_type": "code",
   "execution_count": null,
   "metadata": {},
   "outputs": [],
   "source": [
    "broker_connection.get_order_status(order1_id)"
   ]
  },
  {
   "cell_type": "code",
   "execution_count": 48,
   "metadata": {},
   "outputs": [
    {
     "data": {
      "text/plain": [
       "'200226003620002'"
      ]
     },
     "execution_count": 48,
     "metadata": {},
     "output_type": "execute_result"
    }
   ],
   "source": [
    "# Place a Sell, Bracket, Intraday, Stoploss Limit order\n",
    "ltp = broker_connection.get_ltp(instrument)\n",
    "\n",
    "order2_id = broker_connection.place_order(instrument=instrument,\n",
    "    order_transaction_type=BrokerOrderTransactionTypeConstants.SELL,\n",
    "    order_type=BrokerOrderTypeConstants.BRACKET,\n",
    "    order_code=BrokerOrderCodeConstants.INTRADAY,\n",
    "    order_variety=BrokerOrderVarietyConstants.STOPLOSS_LIMIT,\n",
    "    quantity=1,\n",
    "    price=ltp-1,\n",
    "    trigger_price=ltp-1,\n",
    "    stoploss=2,\n",
    "    target=2)\n",
    "\n",
    "order2_id"
   ]
  },
  {
   "cell_type": "code",
   "execution_count": 49,
   "metadata": {},
   "outputs": [
    {
     "data": {
      "text/plain": [
       "'REJECTED'"
      ]
     },
     "execution_count": 49,
     "metadata": {},
     "output_type": "execute_result"
    }
   ],
   "source": [
    "broker_connection.get_order_status(order2_id)"
   ]
  },
  {
   "cell_type": "code",
   "execution_count": null,
   "metadata": {},
   "outputs": [],
   "source": [
    "broker_connection.get_order_status(order2_id)"
   ]
  },
  {
   "cell_type": "markdown",
   "metadata": {},
   "source": [
    "### Recipe 3: Placing a Bracket Limit Order with Trailing Stoploss"
   ]
  },
  {
   "cell_type": "code",
   "execution_count": 50,
   "metadata": {},
   "outputs": [],
   "source": [
    "instrument = broker_connection.get_instrument('NSE', 'FEDERALBNK')"
   ]
  },
  {
   "cell_type": "code",
   "execution_count": 51,
   "metadata": {},
   "outputs": [
    {
     "data": {
      "text/plain": [
       "'200226003620004'"
      ]
     },
     "execution_count": 51,
     "metadata": {},
     "output_type": "execute_result"
    }
   ],
   "source": [
    "# Place a Buy, Bracket, Intraday, Limit order\n",
    "ltp = broker_connection.get_ltp(instrument)\n",
    "\n",
    "order1_id = broker_connection.place_order(instrument=instrument,\n",
    "    order_transaction_type=BrokerOrderTransactionTypeConstants.BUY,\n",
    "    order_type=BrokerOrderTypeConstants.BRACKET,\n",
    "    order_code=BrokerOrderCodeConstants.INTRADAY,\n",
    "    order_variety=BrokerOrderVarietyConstants.LIMIT,\n",
    "    quantity=1,\n",
    "    price=ltp-1,\n",
    "    trigger_price=ltp-1,\n",
    "    stoploss=2,\n",
    "    target=2,\n",
    "    trailing_stoploss=1)\n",
    "\n",
    "order1_id"
   ]
  },
  {
   "cell_type": "code",
   "execution_count": null,
   "metadata": {},
   "outputs": [],
   "source": [
    "broker_connection.get_order_status(order1_id)"
   ]
  },
  {
   "cell_type": "code",
   "execution_count": null,
   "metadata": {},
   "outputs": [],
   "source": [
    "broker_connection.get_order_status(order1_id)"
   ]
  },
  {
   "cell_type": "code",
   "execution_count": 52,
   "metadata": {},
   "outputs": [
    {
     "data": {
      "text/plain": [
       "'200226003620009'"
      ]
     },
     "execution_count": 52,
     "metadata": {},
     "output_type": "execute_result"
    }
   ],
   "source": [
    "# Place a Buy, Bracket, Intraday, Limit order\n",
    "ltp = broker_connection.get_ltp(instrument)\n",
    "\n",
    "order2_id = broker_connection.place_order(instrument=instrument,\n",
    "    order_transaction_type=BrokerOrderTransactionTypeConstants.SELL,\n",
    "    order_type=BrokerOrderTypeConstants.BRACKET,\n",
    "    order_code=BrokerOrderCodeConstants.INTRADAY,\n",
    "    order_variety=BrokerOrderVarietyConstants.LIMIT,\n",
    "    quantity=1,\n",
    "    price=ltp+1,\n",
    "    trigger_price=ltp+1,\n",
    "    stoploss=2,\n",
    "    target=2,\n",
    "    trailing_stoploss=1)\n",
    "\n",
    "order1_id"
   ]
  },
  {
   "cell_type": "code",
   "execution_count": null,
   "metadata": {},
   "outputs": [],
   "source": [
    "broker_connection.get_order_status(order2_id)"
   ]
  },
  {
   "cell_type": "code",
   "execution_count": null,
   "metadata": {},
   "outputs": [],
   "source": [
    "broker_connection.get_order_status(order2_id)"
   ]
  },
  {
   "cell_type": "markdown",
   "metadata": {},
   "source": [
    "### Recipe 4: Placing a Bracket Stoploss-Limit Order with Trailing Stoploss"
   ]
  },
  {
   "cell_type": "code",
   "execution_count": 53,
   "metadata": {},
   "outputs": [],
   "source": [
    "instrument = broker_connection.get_instrument('NSE', 'RBLBANK')"
   ]
  },
  {
   "cell_type": "code",
   "execution_count": 54,
   "metadata": {},
   "outputs": [
    {
     "data": {
      "text/plain": [
       "'200226003620011'"
      ]
     },
     "execution_count": 54,
     "metadata": {},
     "output_type": "execute_result"
    }
   ],
   "source": [
    "# Place a Buy, Bracket, Intraday, Limit order\n",
    "ltp = broker_connection.get_ltp(instrument)\n",
    "\n",
    "order1_id = broker_connection.place_order(instrument=instrument,\n",
    "    order_transaction_type=BrokerOrderTransactionTypeConstants.BUY,\n",
    "    order_type=BrokerOrderTypeConstants.BRACKET,\n",
    "    order_code=BrokerOrderCodeConstants.INTRADAY,\n",
    "    order_variety=BrokerOrderVarietyConstants.STOPLOSS_LIMIT,\n",
    "    quantity=1,\n",
    "    price=ltp+1,\n",
    "    trigger_price=ltp+1,\n",
    "    stoploss=2,\n",
    "    target=2,\n",
    "    trailing_stoploss=1)\n",
    "\n",
    "order1_id"
   ]
  },
  {
   "cell_type": "code",
   "execution_count": 55,
   "metadata": {},
   "outputs": [
    {
     "data": {
      "text/plain": [
       "'REJECTED'"
      ]
     },
     "execution_count": 55,
     "metadata": {},
     "output_type": "execute_result"
    }
   ],
   "source": [
    "broker_connection.get_order_status(order1_id)"
   ]
  },
  {
   "cell_type": "code",
   "execution_count": null,
   "metadata": {},
   "outputs": [],
   "source": [
    "broker_connection.get_order_status(order1_id)"
   ]
  },
  {
   "cell_type": "code",
   "execution_count": 56,
   "metadata": {},
   "outputs": [
    {
     "data": {
      "text/plain": [
       "'200226003620023'"
      ]
     },
     "execution_count": 56,
     "metadata": {},
     "output_type": "execute_result"
    }
   ],
   "source": [
    "# Place a Buy, Bracket, Intraday, Limit order\n",
    "ltp = broker_connection.get_ltp(instrument)\n",
    "\n",
    "order2_id = broker_connection.place_order(instrument=instrument,\n",
    "    order_transaction_type=BrokerOrderTransactionTypeConstants.SELL,\n",
    "    order_type=BrokerOrderTypeConstants.BRACKET,\n",
    "    order_code=BrokerOrderCodeConstants.INTRADAY,\n",
    "    order_variety=BrokerOrderVarietyConstants.STOPLOSS_LIMIT,\n",
    "    quantity=1,\n",
    "    price=ltp-1,\n",
    "    trigger_price=ltp-1,\n",
    "    stoploss=2,\n",
    "    target=2,\n",
    "    trailing_stoploss=1)\n",
    "\n",
    "order2_id"
   ]
  },
  {
   "cell_type": "code",
   "execution_count": 57,
   "metadata": {},
   "outputs": [
    {
     "data": {
      "text/plain": [
       "'REJECTED'"
      ]
     },
     "execution_count": 57,
     "metadata": {},
     "output_type": "execute_result"
    }
   ],
   "source": [
    "broker_connection.get_order_status(order2_id)"
   ]
  },
  {
   "cell_type": "code",
   "execution_count": null,
   "metadata": {},
   "outputs": [],
   "source": [
    "broker_connection.get_order_status(order2_id)"
   ]
  },
  {
   "cell_type": "markdown",
   "metadata": {},
   "source": [
    "### Recipe 5: Placing a Cover Market Order"
   ]
  },
  {
   "cell_type": "code",
   "execution_count": 58,
   "metadata": {},
   "outputs": [],
   "source": [
    "instrument = broker_connection.get_instrument('NSE', 'BANKBARODA')"
   ]
  },
  {
   "cell_type": "code",
   "execution_count": 59,
   "metadata": {},
   "outputs": [
    {
     "data": {
      "text/plain": [
       "'200226003620032'"
      ]
     },
     "execution_count": 59,
     "metadata": {},
     "output_type": "execute_result"
    }
   ],
   "source": [
    "# Place a Buy, Bracket, Intraday, Limit order\n",
    "ltp = broker_connection.get_ltp(instrument)\n",
    "\n",
    "order1_id = broker_connection.place_order(instrument=instrument,\n",
    "    order_transaction_type=BrokerOrderTransactionTypeConstants.BUY,\n",
    "    order_type=BrokerOrderTypeConstants.COVER,\n",
    "    order_code=BrokerOrderCodeConstants.INTRADAY,\n",
    "    order_variety=BrokerOrderVarietyConstants.MARKET,\n",
    "    quantity=1,\n",
    "    trigger_price=ltp-1)\n",
    "\n",
    "order1_id"
   ]
  },
  {
   "cell_type": "code",
   "execution_count": 60,
   "metadata": {},
   "outputs": [
    {
     "data": {
      "text/plain": [
       "'REJECTED'"
      ]
     },
     "execution_count": 60,
     "metadata": {},
     "output_type": "execute_result"
    }
   ],
   "source": [
    "broker_connection.get_order_status(order1_id)"
   ]
  },
  {
   "cell_type": "code",
   "execution_count": 61,
   "metadata": {},
   "outputs": [
    {
     "data": {
      "text/plain": [
       "'200226003620040'"
      ]
     },
     "execution_count": 61,
     "metadata": {},
     "output_type": "execute_result"
    }
   ],
   "source": [
    "# Place a Buy, Bracket, Intraday, Limit order\n",
    "ltp = broker_connection.get_ltp(instrument)\n",
    "\n",
    "order2_id = broker_connection.place_order(instrument=instrument,\n",
    "    order_transaction_type=BrokerOrderTransactionTypeConstants.SELL,\n",
    "    order_type=BrokerOrderTypeConstants.COVER,\n",
    "    order_code=BrokerOrderCodeConstants.INTRADAY,\n",
    "    order_variety=BrokerOrderVarietyConstants.MARKET,\n",
    "    quantity=1,\n",
    "    trigger_price=ltp+1)\n",
    "\n",
    "order2_id"
   ]
  },
  {
   "cell_type": "code",
   "execution_count": 62,
   "metadata": {},
   "outputs": [
    {
     "data": {
      "text/plain": [
       "'REJECTED'"
      ]
     },
     "execution_count": 62,
     "metadata": {},
     "output_type": "execute_result"
    }
   ],
   "source": [
    "broker_connection.get_order_status(order2_id)"
   ]
  },
  {
   "cell_type": "markdown",
   "metadata": {},
   "source": [
    "### Recipe 6: Placing a Cover Limit Order"
   ]
  },
  {
   "cell_type": "code",
   "execution_count": 63,
   "metadata": {},
   "outputs": [],
   "source": [
    "instrument = broker_connection.get_instrument('NSE', 'YESBANK')"
   ]
  },
  {
   "cell_type": "code",
   "execution_count": 64,
   "metadata": {},
   "outputs": [
    {
     "data": {
      "text/plain": [
       "'200226003620046'"
      ]
     },
     "execution_count": 64,
     "metadata": {},
     "output_type": "execute_result"
    }
   ],
   "source": [
    "# Place a Buy, Bracket, Intraday, Limit order\n",
    "ltp = broker_connection.get_ltp(instrument)\n",
    "\n",
    "order1_id = broker_connection.place_order(instrument=instrument,\n",
    "    order_transaction_type=BrokerOrderTransactionTypeConstants.BUY,\n",
    "    order_type=BrokerOrderTypeConstants.COVER,\n",
    "    order_code=BrokerOrderCodeConstants.INTRADAY,\n",
    "    order_variety=BrokerOrderVarietyConstants.LIMIT,\n",
    "    quantity=1,\n",
    "    price=ltp-0.5,\n",
    "    trigger_price=ltp-1)\n",
    "\n",
    "order1_id"
   ]
  },
  {
   "cell_type": "code",
   "execution_count": 65,
   "metadata": {},
   "outputs": [
    {
     "data": {
      "text/plain": [
       "'REJECTED'"
      ]
     },
     "execution_count": 65,
     "metadata": {},
     "output_type": "execute_result"
    }
   ],
   "source": [
    "broker_connection.get_order_status(order1_id)"
   ]
  },
  {
   "cell_type": "code",
   "execution_count": null,
   "metadata": {},
   "outputs": [],
   "source": [
    "broker_connection.get_order_status(order1_id)"
   ]
  },
  {
   "cell_type": "code",
   "execution_count": 66,
   "metadata": {},
   "outputs": [
    {
     "data": {
      "text/plain": [
       "'200226003620052'"
      ]
     },
     "execution_count": 66,
     "metadata": {},
     "output_type": "execute_result"
    }
   ],
   "source": [
    "# Place a Buy, Bracket, Intraday, Limit order\n",
    "ltp = broker_connection.get_ltp(instrument)\n",
    "\n",
    "order2_id = broker_connection.place_order(instrument=instrument,\n",
    "    order_transaction_type=BrokerOrderTransactionTypeConstants.SELL,\n",
    "    order_type=BrokerOrderTypeConstants.COVER,\n",
    "    order_code=BrokerOrderCodeConstants.INTRADAY,\n",
    "    order_variety=BrokerOrderVarietyConstants.LIMIT,\n",
    "    quantity=1,\n",
    "    price=ltp+0.5,\n",
    "    trigger_price=ltp+1)\n",
    "\n",
    "order2_id"
   ]
  },
  {
   "cell_type": "code",
   "execution_count": 67,
   "metadata": {},
   "outputs": [
    {
     "data": {
      "text/plain": [
       "'REJECTED'"
      ]
     },
     "execution_count": 67,
     "metadata": {},
     "output_type": "execute_result"
    }
   ],
   "source": [
    "broker_connection.get_order_status(order2_id)"
   ]
  },
  {
   "cell_type": "code",
   "execution_count": null,
   "metadata": {},
   "outputs": [],
   "source": [
    "broker_connection.get_order_status(order2_id)"
   ]
  }
 ],
 "metadata": {
  "kernelspec": {
   "display_name": "Python 3",
   "language": "python",
   "name": "python3"
  },
  "language_info": {
   "codemirror_mode": {
    "name": "ipython",
    "version": 3
   },
   "file_extension": ".py",
   "mimetype": "text/x-python",
   "name": "python",
   "nbconvert_exporter": "python",
   "pygments_lexer": "ipython3",
   "version": "3.8.2"
  }
 },
 "nbformat": 4,
 "nbformat_minor": 2
}
