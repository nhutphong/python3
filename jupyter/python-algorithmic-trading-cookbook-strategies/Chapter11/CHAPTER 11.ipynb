{
 "cells": [
  {
   "cell_type": "markdown",
   "metadata": {},
   "source": [
    "# Python Algorithmic Trading Cookbook"
   ]
  },
  {
   "cell_type": "markdown",
   "metadata": {},
   "source": [
    "## Chapter 11: Algorithmic Trading: Real Trading"
   ]
  },
  {
   "cell_type": "markdown",
   "metadata": {},
   "source": [
    "This Jupyter Notebook is created using Python version 3.8.2"
   ]
  },
  {
   "cell_type": "markdown",
   "metadata": {},
   "source": [
    "----"
   ]
  },
  {
   "cell_type": "markdown",
   "metadata": {},
   "source": [
    "### Requirements"
   ]
  },
  {
   "cell_type": "markdown",
   "metadata": {},
   "source": [
    "You can install the requirements for this Jupyter Notebook by executing the below cell"
   ]
  },
  {
   "cell_type": "code",
   "execution_count": 0,
   "metadata": {},
   "outputs": [],
   "source": [
    "!pip install pyalgotrading"
   ]
  },
  {
   "cell_type": "markdown",
   "metadata": {},
   "source": [
    "----"
   ]
  },
  {
   "cell_type": "markdown",
   "metadata": {},
   "source": [
    "### Recipe 1: EMA-Regular-Order Strategy: Fetching the Strategy"
   ]
  },
  {
   "cell_type": "code",
   "execution_count": 1,
   "metadata": {
    "scrolled": true
   },
   "outputs": [],
   "source": [
    "from pyalgotrading.algobulls import AlgoBullsConnection"
   ]
  },
  {
   "cell_type": "code",
   "execution_count": 2,
   "metadata": {},
   "outputs": [],
   "source": [
    "algobulls_connection = AlgoBullsConnection()"
   ]
  },
  {
   "cell_type": "code",
   "execution_count": 3,
   "metadata": {},
   "outputs": [
    {
     "name": "stdout",
     "output_type": "stream",
     "text": [
      "Please login to this URL with your AlgoBulls credentials and get your developer access token: https://app.algobulls.com/user/login\n"
     ]
    },
    {
     "data": {
      "text/plain": [
       "'https://app.algobulls.com/user/login'"
      ]
     },
     "execution_count": 3,
     "metadata": {},
     "output_type": "execute_result"
    }
   ],
   "source": [
    "algobulls_connection.get_authorization_url()"
   ]
  },
  {
   "cell_type": "code",
   "execution_count": 4,
   "metadata": {},
   "outputs": [],
   "source": [
    "algobulls_connection.set_access_token('7f154d25954aaad4e39dd075d402ff4aa8644469')"
   ]
  },
  {
   "cell_type": "code",
   "execution_count": 5,
   "metadata": {},
   "outputs": [
    {
     "data": {
      "text/html": [
       "<div>\n",
       "<style scoped>\n",
       "    .dataframe tbody tr th:only-of-type {\n",
       "        vertical-align: middle;\n",
       "    }\n",
       "\n",
       "    .dataframe tbody tr th {\n",
       "        vertical-align: top;\n",
       "    }\n",
       "\n",
       "    .dataframe thead th {\n",
       "        text-align: right;\n",
       "    }\n",
       "</style>\n",
       "<table border=\"1\" class=\"dataframe\">\n",
       "  <thead>\n",
       "    <tr style=\"text-align: right;\">\n",
       "      <th></th>\n",
       "      <th>strategyCode</th>\n",
       "      <th>strategyName</th>\n",
       "    </tr>\n",
       "  </thead>\n",
       "  <tbody>\n",
       "    <tr>\n",
       "      <th>0</th>\n",
       "      <td>49287246f9704bbcbad76ade9e2091d9</td>\n",
       "      <td>EMA Regular Order Strategy</td>\n",
       "    </tr>\n",
       "    <tr>\n",
       "      <th>1</th>\n",
       "      <td>4faf514fe096432b8e9f80f5951bd2ea</td>\n",
       "      <td>MACD Bracket Order Strategy</td>\n",
       "    </tr>\n",
       "  </tbody>\n",
       "</table>\n",
       "</div>"
      ],
      "text/plain": [
       "                       strategyCode                 strategyName\n",
       "0  49287246f9704bbcbad76ade9e2091d9   EMA Regular Order Strategy\n",
       "1  4faf514fe096432b8e9f80f5951bd2ea  MACD Bracket Order Strategy"
      ]
     },
     "execution_count": 5,
     "metadata": {},
     "output_type": "execute_result"
    }
   ],
   "source": [
    "all_strategies = algobulls_connection.get_all_strategies()\n",
    "all_strategies"
   ]
  },
  {
   "cell_type": "code",
   "execution_count": 6,
   "metadata": {},
   "outputs": [
    {
     "data": {
      "text/plain": [
       "'49287246f9704bbcbad76ade9e2091d9'"
      ]
     },
     "execution_count": 6,
     "metadata": {},
     "output_type": "execute_result"
    }
   ],
   "source": [
    "strategy_code1 = all_strategies.iloc[0]['strategyCode']\n",
    "strategy_code1"
   ]
  },
  {
   "cell_type": "code",
   "execution_count": 7,
   "metadata": {},
   "outputs": [
    {
     "name": "stdout",
     "output_type": "stream",
     "text": [
      "class StrategyEMARegularOrder(StrategyBase):\n",
      "\n",
      "    def __init__(self, *args, **kwargs):\n",
      "        super().__init__(*args, **kwargs)\n",
      "\n",
      "        self.timeperiod1 = self.strategy_parameters['timeperiod1']\n",
      "        self.timeperiod2 = self.strategy_parameters['timeperiod2']\n",
      "\n",
      "        self.main_order = None\n",
      "\n",
      "    def initialize(self):\n",
      "        self.main_order = {}\n",
      "\n",
      "    @staticmethod\n",
      "    def name():\n",
      "        return 'EMA Regular Order Strategy'\n",
      "\n",
      "    @staticmethod\n",
      "    def versions_supported():\n",
      "        return AlgoBullsEngineVersion.VERSION_3_2_0\n",
      "\n",
      "    def get_crossover_value(self, instrument):\n",
      "        hist_data = self.get_historical_data(instrument)\n",
      "        ema_x = talib.EMA(hist_data['close'], timeperiod=self.timeperiod1)\n",
      "        ema_y = talib.EMA(hist_data['close'], timeperiod=self.timeperiod2)\n",
      "        crossover_value = self.utils.crossover(ema_x, ema_y)\n",
      "        return crossover_value\n",
      "\n",
      "    def strategy_select_instruments_for_entry(self, candle, instruments_bucket):\n",
      "\n",
      "        selected_instruments_bucket = []\n",
      "        sideband_info_bucket = []\n",
      "\n",
      "        for instrument in instruments_bucket:\n",
      "            crossover_value = self.get_crossover_value(instrument)\n",
      "            if crossover_value == 1:\n",
      "                selected_instruments_bucket.append(instrument)\n",
      "                sideband_info_bucket.append({'action': 'BUY'})\n",
      "            elif crossover_value == -1:\n",
      "                if self.strategy_mode is StrategyMode.INTRADAY:\n",
      "                    selected_instruments_bucket.append(instrument)\n",
      "                    sideband_info_bucket.append({'action': 'SELL'})\n",
      "\n",
      "        return selected_instruments_bucket, sideband_info_bucket\n",
      "\n",
      "    def strategy_enter_position(self, candle, instrument, sideband_info):\n",
      "        if sideband_info['action'] == 'BUY':\n",
      "            qty = self.number_of_lots * instrument.lot_size\n",
      "            self.main_order[instrument] = \\\n",
      "                self.broker.BuyOrderRegular(instrument=instrument,\n",
      "                                            order_code=BrokerOrderCodeConstants.INTRADAY,\n",
      "                                            order_variety=BrokerOrderVarietyConstants.MARKET,\n",
      "                                            quantity=qty)\n",
      "        elif sideband_info['action'] == 'SELL':\n",
      "            qty = self.number_of_lots * instrument.lot_size\n",
      "            self.main_order[instrument] = \\\n",
      "                self.broker.SellOrderRegular(instrument=instrument,\n",
      "                                             order_code=BrokerOrderCodeConstants.INTRADAY,\n",
      "                                             order_variety=BrokerOrderVarietyConstants.MARKET,\n",
      "                                             quantity=qty)\n",
      "        else:\n",
      "            raise SystemExit(f'Got invalid sideband_info value: {sideband_info}')\n",
      "\n",
      "        return self.main_order[instrument]\n",
      "\n",
      "    def strategy_select_instruments_for_exit(self, candle, instruments_bucket):\n",
      "        selected_instruments_bucket = []\n",
      "        sideband_info_bucket = []\n",
      "\n",
      "        for instrument in instruments_bucket:\n",
      "            if self.main_order.get(instrument) is not None:\n",
      "                crossover_value = self.get_crossover_value(instrument)\n",
      "                if crossover_value in [1, -1]:\n",
      "                    selected_instruments_bucket.append(instrument)\n",
      "                    sideband_info_bucket.append({'action': 'EXIT'})\n",
      "        return selected_instruments_bucket, sideband_info_bucket\n",
      "\n",
      "    def strategy_exit_position(self, candle, instrument, sideband_info):\n",
      "        if sideband_info['action'] == 'EXIT':\n",
      "            self.main_order[instrument].exit_position()\n",
      "            self.main_order[instrument] = None\n",
      "            return True\n",
      "\n",
      "        return False\n",
      "\n"
     ]
    }
   ],
   "source": [
    "strategy_details1 = algobulls_connection.get_strategy_details(strategy_code1)\n",
    "print(strategy_details1)"
   ]
  },
  {
   "cell_type": "markdown",
   "metadata": {},
   "source": [
    "### Recipe 2: EMA-Regular-Order Strategy: Real Trading the Strategy"
   ]
  },
  {
   "cell_type": "code",
   "execution_count": 8,
   "metadata": {},
   "outputs": [],
   "source": [
    "from datetime import time\n",
    "from pyalgotrading.constants import *"
   ]
  },
  {
   "cell_type": "code",
   "execution_count": 9,
   "metadata": {},
   "outputs": [
    {
     "data": {
      "text/plain": [
       "[{'id': 7, 'value': 'NSE:SBIN'}]"
      ]
     },
     "execution_count": 9,
     "metadata": {},
     "output_type": "execute_result"
    }
   ],
   "source": [
    "instruments = algobulls_connection.search_instrument('SBIN')\n",
    "instruments"
   ]
  },
  {
   "cell_type": "code",
   "execution_count": 10,
   "metadata": {},
   "outputs": [
    {
     "data": {
      "text/plain": [
       "'NSE:SBIN'"
      ]
     },
     "execution_count": 10,
     "metadata": {},
     "output_type": "execute_result"
    }
   ],
   "source": [
    "instrument = instruments[0]['value']\n",
    "instrument"
   ]
  },
  {
   "cell_type": "code",
   "execution_count": 11,
   "metadata": {},
   "outputs": [
    {
     "name": "stdout",
     "output_type": "stream",
     "text": [
      "Setting Strategy Config... Success.\n",
      "Submitting REALTRADING job... Fail.\n",
      "Forbidden: {'detail': \"Please set your 'MAX Capital Drawdown' limit before starting Real Trading. Refer to this link for help: https://help.algobulls.com/member/Settings/general-settings/#risk-management\"}\n"
     ]
    }
   ],
   "source": [
    "algobulls_connection.realtrade(strategy_code=strategy_code1, \n",
    "                               start_time=time(hour=9, minute=15), \n",
    "                               end_time=time(hour=15, minute=30), \n",
    "                               instrument=instrument, \n",
    "                               lots=1,\n",
    "                               strategy_parameters={\n",
    "                                   'timeperiod1': 5, \n",
    "                                    'timeperiod2': 12\n",
    "                               },\n",
    "                               candle_interval=CandleInterval.MINUTES_15)"
   ]
  },
  {
   "cell_type": "code",
   "execution_count": 27,
   "metadata": {},
   "outputs": [
    {
     "data": {
      "text/plain": [
       "{'data': 'STOPPED'}"
      ]
     },
     "execution_count": 27,
     "metadata": {},
     "output_type": "execute_result"
    }
   ],
   "source": [
    "algobulls_connection.get_realtrading_job_status(strategy_code=strategy_code1)"
   ]
  },
  {
   "cell_type": "code",
   "execution_count": 28,
   "metadata": {},
   "outputs": [
    {
     "data": {
      "text/plain": [
       "{'data': 'STOPPED'}"
      ]
     },
     "execution_count": 28,
     "metadata": {},
     "output_type": "execute_result"
    }
   ],
   "source": [
    "algobulls_connection.get_realtrading_job_status(strategy_code=strategy_code1)"
   ]
  },
  {
   "cell_type": "markdown",
   "metadata": {},
   "source": [
    "### There's more..."
   ]
  },
  {
   "cell_type": "code",
   "execution_count": 29,
   "metadata": {},
   "outputs": [
    {
     "name": "stdout",
     "output_type": "stream",
     "text": [
      "Stopping REALTRADING job... Success.\n"
     ]
    }
   ],
   "source": [
    "algobulls_connection.stop_realtrading_job(strategy_code=strategy_code1)"
   ]
  },
  {
   "cell_type": "code",
   "execution_count": 30,
   "metadata": {},
   "outputs": [
    {
     "data": {
      "text/plain": [
       "{'data': 'STOPPED'}"
      ]
     },
     "execution_count": 30,
     "metadata": {},
     "output_type": "execute_result"
    }
   ],
   "source": [
    "algobulls_connection.get_realtrading_job_status(strategy_code=strategy_code1)"
   ]
  },
  {
   "cell_type": "code",
   "execution_count": 31,
   "metadata": {},
   "outputs": [
    {
     "data": {
      "text/plain": [
       "{'data': 'STOPPED'}"
      ]
     },
     "execution_count": 31,
     "metadata": {},
     "output_type": "execute_result"
    }
   ],
   "source": [
    "algobulls_connection.get_realtrading_job_status(strategy_code=strategy_code1)"
   ]
  },
  {
   "cell_type": "markdown",
   "metadata": {},
   "source": [
    "### Recipe 3: EMA-Regular-Order Strategy: Fetching Real Trading Logs in Realtime"
   ]
  },
  {
   "cell_type": "code",
   "execution_count": 32,
   "metadata": {
    "scrolled": true
   },
   "outputs": [
    {
     "name": "stdout",
     "output_type": "stream",
     "text": [
      "No log records found yet. Perhaps trading was never started.\n"
     ]
    }
   ],
   "source": [
    "logs = algobulls_connection.get_realtrading_logs(strategy_code=strategy_code1)\n",
    "print(logs)"
   ]
  },
  {
   "cell_type": "code",
   "execution_count": 33,
   "metadata": {},
   "outputs": [
    {
     "name": "stdout",
     "output_type": "stream",
     "text": [
      "No log records found yet. Perhaps trading was never started.\n"
     ]
    }
   ],
   "source": [
    "logs = algobulls_connection.get_realtrading_logs(strategy_code=strategy_code1)\n",
    "print(logs)"
   ]
  },
  {
   "cell_type": "markdown",
   "metadata": {},
   "source": [
    "### Recipe 4: EMA-Regular-Order Strategy: Fetching Real Trading Reports - Profit-n-Loss Table"
   ]
  },
  {
   "cell_type": "code",
   "execution_count": 15,
   "metadata": {},
   "outputs": [],
   "source": [
    "algobulls_connection.api._AlgoBullsAPI__key_realtrading=39"
   ]
  },
  {
   "cell_type": "code",
   "execution_count": 21,
   "metadata": {
    "scrolled": true
   },
   "outputs": [
    {
     "data": {
      "text/html": [
       "<div>\n",
       "<style scoped>\n",
       "    .dataframe tbody tr th:only-of-type {\n",
       "        vertical-align: middle;\n",
       "    }\n",
       "\n",
       "    .dataframe tbody tr th {\n",
       "        vertical-align: top;\n",
       "    }\n",
       "\n",
       "    .dataframe thead th {\n",
       "        text-align: right;\n",
       "    }\n",
       "</style>\n",
       "<table border=\"1\" class=\"dataframe\">\n",
       "  <thead>\n",
       "    <tr style=\"text-align: right;\">\n",
       "      <th></th>\n",
       "      <th>instrument</th>\n",
       "      <th>entry_timestamp</th>\n",
       "      <th>entry_transaction_type</th>\n",
       "      <th>entry_quantity</th>\n",
       "      <th>entry_price</th>\n",
       "      <th>exit_timestamp</th>\n",
       "      <th>exit_transaction_type</th>\n",
       "      <th>exit_quantity</th>\n",
       "      <th>exit_price</th>\n",
       "      <th>pnl_absolute</th>\n",
       "      <th>pnl_percentage</th>\n",
       "      <th>pnl_cumulative_absolute</th>\n",
       "      <th>pnl_cumulative_percentage</th>\n",
       "    </tr>\n",
       "  </thead>\n",
       "  <tbody>\n",
       "    <tr>\n",
       "      <th>0</th>\n",
       "      <td>NSE:SBIN</td>\n",
       "      <td>2020-08-04 14:01:40</td>\n",
       "      <td>BUY</td>\n",
       "      <td>1</td>\n",
       "      <td>193.10</td>\n",
       "      <td>2020-08-04 14:00:48</td>\n",
       "      <td>SELL</td>\n",
       "      <td>1.0</td>\n",
       "      <td>191.95</td>\n",
       "      <td>-1.15</td>\n",
       "      <td>-0.01</td>\n",
       "      <td>1132951.10</td>\n",
       "      <td>5867.172967</td>\n",
       "    </tr>\n",
       "    <tr>\n",
       "      <th>1</th>\n",
       "      <td>NSE:SBIN</td>\n",
       "      <td>2020-07-24 09:45:00</td>\n",
       "      <td>SELL</td>\n",
       "      <td>1</td>\n",
       "      <td>194.70</td>\n",
       "      <td>2020-07-24 14:15:00</td>\n",
       "      <td>BUY</td>\n",
       "      <td>1.0</td>\n",
       "      <td>193.10</td>\n",
       "      <td>-1.60</td>\n",
       "      <td>-0.01</td>\n",
       "      <td>1132952.25</td>\n",
       "      <td>5818.963790</td>\n",
       "    </tr>\n",
       "    <tr>\n",
       "      <th>2</th>\n",
       "      <td>NSE:SBIN</td>\n",
       "      <td>2020-07-23 09:30:00</td>\n",
       "      <td>BUY</td>\n",
       "      <td>1</td>\n",
       "      <td>193.35</td>\n",
       "      <td>2020-07-23 15:30:00</td>\n",
       "      <td>SELL</td>\n",
       "      <td>1.0</td>\n",
       "      <td>198.30</td>\n",
       "      <td>4.95</td>\n",
       "      <td>0.03</td>\n",
       "      <td>1132953.85</td>\n",
       "      <td>5859.600983</td>\n",
       "    </tr>\n",
       "    <tr>\n",
       "      <th>3</th>\n",
       "      <td>NSE:SBIN</td>\n",
       "      <td>2020-07-22 14:00:00</td>\n",
       "      <td>SELL</td>\n",
       "      <td>1</td>\n",
       "      <td>193.05</td>\n",
       "      <td>2020-07-22 15:30:00</td>\n",
       "      <td>BUY</td>\n",
       "      <td>1.0</td>\n",
       "      <td>192.15</td>\n",
       "      <td>-0.90</td>\n",
       "      <td>0.00</td>\n",
       "      <td>1132948.90</td>\n",
       "      <td>5868.681171</td>\n",
       "    </tr>\n",
       "    <tr>\n",
       "      <th>4</th>\n",
       "      <td>NSE:SBIN</td>\n",
       "      <td>2020-07-22 11:30:00</td>\n",
       "      <td>BUY</td>\n",
       "      <td>1</td>\n",
       "      <td>193.10</td>\n",
       "      <td>2020-07-22 14:00:00</td>\n",
       "      <td>SELL</td>\n",
       "      <td>1.0</td>\n",
       "      <td>193.05</td>\n",
       "      <td>-0.05</td>\n",
       "      <td>0.00</td>\n",
       "      <td>1132949.80</td>\n",
       "      <td>5867.166235</td>\n",
       "    </tr>\n",
       "    <tr>\n",
       "      <th>5</th>\n",
       "      <td>NSE:SBIN</td>\n",
       "      <td>2020-07-22 09:30:00</td>\n",
       "      <td>SELL</td>\n",
       "      <td>1</td>\n",
       "      <td>192.35</td>\n",
       "      <td>2020-07-22 11:30:00</td>\n",
       "      <td>BUY</td>\n",
       "      <td>1.0</td>\n",
       "      <td>193.10</td>\n",
       "      <td>0.75</td>\n",
       "      <td>0.00</td>\n",
       "      <td>1132949.85</td>\n",
       "      <td>5890.043410</td>\n",
       "    </tr>\n",
       "    <tr>\n",
       "      <th>6</th>\n",
       "      <td>NSE:SBIN</td>\n",
       "      <td>2020-07-21 09:30:00</td>\n",
       "      <td>BUY</td>\n",
       "      <td>1</td>\n",
       "      <td>192.90</td>\n",
       "      <td>2020-07-21 15:30:00</td>\n",
       "      <td>SELL</td>\n",
       "      <td>1.0</td>\n",
       "      <td>194.45</td>\n",
       "      <td>1.55</td>\n",
       "      <td>0.01</td>\n",
       "      <td>1132949.10</td>\n",
       "      <td>5873.245723</td>\n",
       "    </tr>\n",
       "    <tr>\n",
       "      <th>7</th>\n",
       "      <td>NSE:SBIN</td>\n",
       "      <td>2020-07-20 15:15:00</td>\n",
       "      <td>SELL</td>\n",
       "      <td>1</td>\n",
       "      <td>190.95</td>\n",
       "      <td>2020-07-20 15:30:00</td>\n",
       "      <td>BUY</td>\n",
       "      <td>1.0</td>\n",
       "      <td>190.45</td>\n",
       "      <td>-0.50</td>\n",
       "      <td>0.00</td>\n",
       "      <td>1132947.55</td>\n",
       "      <td>5933.215763</td>\n",
       "    </tr>\n",
       "    <tr>\n",
       "      <th>8</th>\n",
       "      <td>NSE:SBIN</td>\n",
       "      <td>2020-07-20 14:30:00</td>\n",
       "      <td>BUY</td>\n",
       "      <td>1</td>\n",
       "      <td>191.35</td>\n",
       "      <td>2020-07-20 15:15:00</td>\n",
       "      <td>SELL</td>\n",
       "      <td>1.0</td>\n",
       "      <td>190.95</td>\n",
       "      <td>-0.40</td>\n",
       "      <td>0.00</td>\n",
       "      <td>1132948.05</td>\n",
       "      <td>5920.815521</td>\n",
       "    </tr>\n",
       "    <tr>\n",
       "      <th>9</th>\n",
       "      <td>NSE:SBIN</td>\n",
       "      <td>2020-07-20 13:45:00</td>\n",
       "      <td>SELL</td>\n",
       "      <td>1</td>\n",
       "      <td>190.60</td>\n",
       "      <td>2020-07-20 14:30:00</td>\n",
       "      <td>BUY</td>\n",
       "      <td>1.0</td>\n",
       "      <td>191.35</td>\n",
       "      <td>0.75</td>\n",
       "      <td>0.00</td>\n",
       "      <td>1132948.45</td>\n",
       "      <td>5944.115687</td>\n",
       "    </tr>\n",
       "    <tr>\n",
       "      <th>10</th>\n",
       "      <td>NSE:SBIN</td>\n",
       "      <td>2020-07-13 11:15:00</td>\n",
       "      <td>SELL</td>\n",
       "      <td>1</td>\n",
       "      <td>194.60</td>\n",
       "      <td>2020-07-13 11:15:00</td>\n",
       "      <td>BUY</td>\n",
       "      <td>1.0</td>\n",
       "      <td>194.60</td>\n",
       "      <td>0.00</td>\n",
       "      <td>0.00</td>\n",
       "      <td>1132947.70</td>\n",
       "      <td>5821.930627</td>\n",
       "    </tr>\n",
       "    <tr>\n",
       "      <th>11</th>\n",
       "      <td>NSE:SBIN</td>\n",
       "      <td>2020-07-13 10:45:00</td>\n",
       "      <td>BUY</td>\n",
       "      <td>1</td>\n",
       "      <td>197.35</td>\n",
       "      <td>2020-07-13 11:00:00</td>\n",
       "      <td>SELL</td>\n",
       "      <td>1.0</td>\n",
       "      <td>195.35</td>\n",
       "      <td>-2.00</td>\n",
       "      <td>-0.01</td>\n",
       "      <td>1132947.70</td>\n",
       "      <td>5740.804155</td>\n",
       "    </tr>\n",
       "    <tr>\n",
       "      <th>12</th>\n",
       "      <td>NSE:SBIN</td>\n",
       "      <td>2020-07-10 11:45:00</td>\n",
       "      <td>SELL</td>\n",
       "      <td>1</td>\n",
       "      <td>198.00</td>\n",
       "      <td>2020-07-10 15:30:00</td>\n",
       "      <td>BUY</td>\n",
       "      <td>1.0</td>\n",
       "      <td>195.50</td>\n",
       "      <td>-2.50</td>\n",
       "      <td>-0.01</td>\n",
       "      <td>1132949.70</td>\n",
       "      <td>5721.968182</td>\n",
       "    </tr>\n",
       "    <tr>\n",
       "      <th>13</th>\n",
       "      <td>NSE:SBIN</td>\n",
       "      <td>2020-07-09 13:00:00</td>\n",
       "      <td>BUY</td>\n",
       "      <td>1</td>\n",
       "      <td>195.85</td>\n",
       "      <td>2020-07-09 15:30:00</td>\n",
       "      <td>SELL</td>\n",
       "      <td>1.0</td>\n",
       "      <td>200.00</td>\n",
       "      <td>4.15</td>\n",
       "      <td>0.02</td>\n",
       "      <td>1132952.20</td>\n",
       "      <td>5784.795507</td>\n",
       "    </tr>\n",
       "    <tr>\n",
       "      <th>14</th>\n",
       "      <td>NSE:SBIN</td>\n",
       "      <td>2020-07-08 15:15:00</td>\n",
       "      <td>SELL</td>\n",
       "      <td>1</td>\n",
       "      <td>191.85</td>\n",
       "      <td>2020-07-08 15:30:00</td>\n",
       "      <td>BUY</td>\n",
       "      <td>1.0</td>\n",
       "      <td>191.90</td>\n",
       "      <td>0.05</td>\n",
       "      <td>0.00</td>\n",
       "      <td>1132948.05</td>\n",
       "      <td>5905.384676</td>\n",
       "    </tr>\n",
       "    <tr>\n",
       "      <th>15</th>\n",
       "      <td>NSE:SBIN</td>\n",
       "      <td>2020-07-08 15:15:00</td>\n",
       "      <td>SELL</td>\n",
       "      <td>1</td>\n",
       "      <td>191.85</td>\n",
       "      <td></td>\n",
       "      <td>-</td>\n",
       "      <td>NaN</td>\n",
       "      <td>NaN</td>\n",
       "      <td>0.05</td>\n",
       "      <td>0.00</td>\n",
       "      <td>1132948.00</td>\n",
       "      <td>NaN</td>\n",
       "    </tr>\n",
       "    <tr>\n",
       "      <th>16</th>\n",
       "      <td>NSE:SBIN</td>\n",
       "      <td>2020-07-07 13:15:00</td>\n",
       "      <td>BUY</td>\n",
       "      <td>1</td>\n",
       "      <td>186.55</td>\n",
       "      <td>2020-07-07 15:30:00</td>\n",
       "      <td>SELL</td>\n",
       "      <td>1.0</td>\n",
       "      <td>188.00</td>\n",
       "      <td>1.45</td>\n",
       "      <td>0.01</td>\n",
       "      <td>1132947.95</td>\n",
       "      <td>6073.159743</td>\n",
       "    </tr>\n",
       "    <tr>\n",
       "      <th>17</th>\n",
       "      <td>NSE:SBIN</td>\n",
       "      <td>2020-07-07 09:15:00</td>\n",
       "      <td>SELL</td>\n",
       "      <td>1</td>\n",
       "      <td>187.90</td>\n",
       "      <td>2020-07-07 13:15:00</td>\n",
       "      <td>BUY</td>\n",
       "      <td>1.0</td>\n",
       "      <td>186.55</td>\n",
       "      <td>-1.35</td>\n",
       "      <td>-0.01</td>\n",
       "      <td>1132946.50</td>\n",
       "      <td>6029.518361</td>\n",
       "    </tr>\n",
       "    <tr>\n",
       "      <th>18</th>\n",
       "      <td>NSE:SBIN</td>\n",
       "      <td>2020-07-06 09:30:00</td>\n",
       "      <td>BUY</td>\n",
       "      <td>1</td>\n",
       "      <td>187.65</td>\n",
       "      <td>2020-07-06 15:30:00</td>\n",
       "      <td>SELL</td>\n",
       "      <td>1.0</td>\n",
       "      <td>187.90</td>\n",
       "      <td>0.25</td>\n",
       "      <td>0.00</td>\n",
       "      <td>1132947.85</td>\n",
       "      <td>6037.558487</td>\n",
       "    </tr>\n",
       "    <tr>\n",
       "      <th>19</th>\n",
       "      <td>NSE:SBIN</td>\n",
       "      <td>2020-07-03 13:15:00</td>\n",
       "      <td>SELL</td>\n",
       "      <td>1</td>\n",
       "      <td>184.60</td>\n",
       "      <td>2020-07-03 15:30:00</td>\n",
       "      <td>BUY</td>\n",
       "      <td>1.0</td>\n",
       "      <td>184.60</td>\n",
       "      <td>0.00</td>\n",
       "      <td>0.00</td>\n",
       "      <td>1132947.60</td>\n",
       "      <td>6137.310943</td>\n",
       "    </tr>\n",
       "    <tr>\n",
       "      <th>20</th>\n",
       "      <td>NSE:SBIN</td>\n",
       "      <td>2020-07-03 12:30:00</td>\n",
       "      <td>BUY</td>\n",
       "      <td>1</td>\n",
       "      <td>185.65</td>\n",
       "      <td>2020-07-03 13:15:00</td>\n",
       "      <td>SELL</td>\n",
       "      <td>1.0</td>\n",
       "      <td>184.60</td>\n",
       "      <td>-1.05</td>\n",
       "      <td>-0.01</td>\n",
       "      <td>1132947.60</td>\n",
       "      <td>6102.599515</td>\n",
       "    </tr>\n",
       "    <tr>\n",
       "      <th>21</th>\n",
       "      <td>NSE:SBIN</td>\n",
       "      <td>2020-07-02 15:15:00</td>\n",
       "      <td>SELL</td>\n",
       "      <td>1</td>\n",
       "      <td>185.25</td>\n",
       "      <td>2020-07-02 15:30:00</td>\n",
       "      <td>BUY</td>\n",
       "      <td>1.0</td>\n",
       "      <td>185.70</td>\n",
       "      <td>0.45</td>\n",
       "      <td>0.00</td>\n",
       "      <td>1132948.65</td>\n",
       "      <td>6115.782186</td>\n",
       "    </tr>\n",
       "    <tr>\n",
       "      <th>22</th>\n",
       "      <td>NSE:SBIN</td>\n",
       "      <td>2020-07-01 09:45:00</td>\n",
       "      <td>BUY</td>\n",
       "      <td>1</td>\n",
       "      <td>180.25</td>\n",
       "      <td>2020-07-01 15:30:00</td>\n",
       "      <td>SELL</td>\n",
       "      <td>1.0</td>\n",
       "      <td>184.45</td>\n",
       "      <td>4.20</td>\n",
       "      <td>0.02</td>\n",
       "      <td>1132948.20</td>\n",
       "      <td>6285.426907</td>\n",
       "    </tr>\n",
       "    <tr>\n",
       "      <th>23</th>\n",
       "      <td>NSE:SBIN</td>\n",
       "      <td>2020-06-15 10:30:00</td>\n",
       "      <td>SELL</td>\n",
       "      <td>1</td>\n",
       "      <td>174.20</td>\n",
       "      <td>2019-08-13 09:05:00</td>\n",
       "      <td>SELL</td>\n",
       "      <td>10.0</td>\n",
       "      <td>37939.00</td>\n",
       "      <td>377648.00</td>\n",
       "      <td>21678.99</td>\n",
       "      <td>1132944.00</td>\n",
       "      <td>650.369690</td>\n",
       "    </tr>\n",
       "    <tr>\n",
       "      <th>24</th>\n",
       "      <td>NSE:SBIN</td>\n",
       "      <td>2020-06-15 10:30:00</td>\n",
       "      <td>SELL</td>\n",
       "      <td>1</td>\n",
       "      <td>174.20</td>\n",
       "      <td>2019-08-13 09:05:00</td>\n",
       "      <td>SELL</td>\n",
       "      <td>10.0</td>\n",
       "      <td>37939.00</td>\n",
       "      <td>377648.00</td>\n",
       "      <td>21678.99</td>\n",
       "      <td>755296.00</td>\n",
       "      <td>433.579793</td>\n",
       "    </tr>\n",
       "    <tr>\n",
       "      <th>25</th>\n",
       "      <td>NSE:SBIN</td>\n",
       "      <td>2020-06-15 10:30:00</td>\n",
       "      <td>SELL</td>\n",
       "      <td>1</td>\n",
       "      <td>174.20</td>\n",
       "      <td>2019-08-13 09:05:00</td>\n",
       "      <td>SELL</td>\n",
       "      <td>10.0</td>\n",
       "      <td>37939.00</td>\n",
       "      <td>377648.00</td>\n",
       "      <td>21678.99</td>\n",
       "      <td>377648.00</td>\n",
       "      <td>216.789897</td>\n",
       "    </tr>\n",
       "  </tbody>\n",
       "</table>\n",
       "</div>"
      ],
      "text/plain": [
       "   instrument      entry_timestamp entry_transaction_type  entry_quantity  \\\n",
       "0    NSE:SBIN  2020-08-04 14:01:40                    BUY               1   \n",
       "1    NSE:SBIN  2020-07-24 09:45:00                   SELL               1   \n",
       "2    NSE:SBIN  2020-07-23 09:30:00                    BUY               1   \n",
       "3    NSE:SBIN  2020-07-22 14:00:00                   SELL               1   \n",
       "4    NSE:SBIN  2020-07-22 11:30:00                    BUY               1   \n",
       "5    NSE:SBIN  2020-07-22 09:30:00                   SELL               1   \n",
       "6    NSE:SBIN  2020-07-21 09:30:00                    BUY               1   \n",
       "7    NSE:SBIN  2020-07-20 15:15:00                   SELL               1   \n",
       "8    NSE:SBIN  2020-07-20 14:30:00                    BUY               1   \n",
       "9    NSE:SBIN  2020-07-20 13:45:00                   SELL               1   \n",
       "10   NSE:SBIN  2020-07-13 11:15:00                   SELL               1   \n",
       "11   NSE:SBIN  2020-07-13 10:45:00                    BUY               1   \n",
       "12   NSE:SBIN  2020-07-10 11:45:00                   SELL               1   \n",
       "13   NSE:SBIN  2020-07-09 13:00:00                    BUY               1   \n",
       "14   NSE:SBIN  2020-07-08 15:15:00                   SELL               1   \n",
       "15   NSE:SBIN  2020-07-08 15:15:00                   SELL               1   \n",
       "16   NSE:SBIN  2020-07-07 13:15:00                    BUY               1   \n",
       "17   NSE:SBIN  2020-07-07 09:15:00                   SELL               1   \n",
       "18   NSE:SBIN  2020-07-06 09:30:00                    BUY               1   \n",
       "19   NSE:SBIN  2020-07-03 13:15:00                   SELL               1   \n",
       "20   NSE:SBIN  2020-07-03 12:30:00                    BUY               1   \n",
       "21   NSE:SBIN  2020-07-02 15:15:00                   SELL               1   \n",
       "22   NSE:SBIN  2020-07-01 09:45:00                    BUY               1   \n",
       "23   NSE:SBIN  2020-06-15 10:30:00                   SELL               1   \n",
       "24   NSE:SBIN  2020-06-15 10:30:00                   SELL               1   \n",
       "25   NSE:SBIN  2020-06-15 10:30:00                   SELL               1   \n",
       "\n",
       "    entry_price       exit_timestamp exit_transaction_type  exit_quantity  \\\n",
       "0        193.10  2020-08-04 14:00:48                  SELL            1.0   \n",
       "1        194.70  2020-07-24 14:15:00                   BUY            1.0   \n",
       "2        193.35  2020-07-23 15:30:00                  SELL            1.0   \n",
       "3        193.05  2020-07-22 15:30:00                   BUY            1.0   \n",
       "4        193.10  2020-07-22 14:00:00                  SELL            1.0   \n",
       "5        192.35  2020-07-22 11:30:00                   BUY            1.0   \n",
       "6        192.90  2020-07-21 15:30:00                  SELL            1.0   \n",
       "7        190.95  2020-07-20 15:30:00                   BUY            1.0   \n",
       "8        191.35  2020-07-20 15:15:00                  SELL            1.0   \n",
       "9        190.60  2020-07-20 14:30:00                   BUY            1.0   \n",
       "10       194.60  2020-07-13 11:15:00                   BUY            1.0   \n",
       "11       197.35  2020-07-13 11:00:00                  SELL            1.0   \n",
       "12       198.00  2020-07-10 15:30:00                   BUY            1.0   \n",
       "13       195.85  2020-07-09 15:30:00                  SELL            1.0   \n",
       "14       191.85  2020-07-08 15:30:00                   BUY            1.0   \n",
       "15       191.85                                          -            NaN   \n",
       "16       186.55  2020-07-07 15:30:00                  SELL            1.0   \n",
       "17       187.90  2020-07-07 13:15:00                   BUY            1.0   \n",
       "18       187.65  2020-07-06 15:30:00                  SELL            1.0   \n",
       "19       184.60  2020-07-03 15:30:00                   BUY            1.0   \n",
       "20       185.65  2020-07-03 13:15:00                  SELL            1.0   \n",
       "21       185.25  2020-07-02 15:30:00                   BUY            1.0   \n",
       "22       180.25  2020-07-01 15:30:00                  SELL            1.0   \n",
       "23       174.20  2019-08-13 09:05:00                  SELL           10.0   \n",
       "24       174.20  2019-08-13 09:05:00                  SELL           10.0   \n",
       "25       174.20  2019-08-13 09:05:00                  SELL           10.0   \n",
       "\n",
       "    exit_price pnl_absolute pnl_percentage  pnl_cumulative_absolute  \\\n",
       "0       191.95        -1.15          -0.01               1132951.10   \n",
       "1       193.10        -1.60          -0.01               1132952.25   \n",
       "2       198.30         4.95           0.03               1132953.85   \n",
       "3       192.15        -0.90           0.00               1132948.90   \n",
       "4       193.05        -0.05           0.00               1132949.80   \n",
       "5       193.10         0.75           0.00               1132949.85   \n",
       "6       194.45         1.55           0.01               1132949.10   \n",
       "7       190.45        -0.50           0.00               1132947.55   \n",
       "8       190.95        -0.40           0.00               1132948.05   \n",
       "9       191.35         0.75           0.00               1132948.45   \n",
       "10      194.60         0.00           0.00               1132947.70   \n",
       "11      195.35        -2.00          -0.01               1132947.70   \n",
       "12      195.50        -2.50          -0.01               1132949.70   \n",
       "13      200.00         4.15           0.02               1132952.20   \n",
       "14      191.90         0.05           0.00               1132948.05   \n",
       "15         NaN         0.05           0.00               1132948.00   \n",
       "16      188.00         1.45           0.01               1132947.95   \n",
       "17      186.55        -1.35          -0.01               1132946.50   \n",
       "18      187.90         0.25           0.00               1132947.85   \n",
       "19      184.60         0.00           0.00               1132947.60   \n",
       "20      184.60        -1.05          -0.01               1132947.60   \n",
       "21      185.70         0.45           0.00               1132948.65   \n",
       "22      184.45         4.20           0.02               1132948.20   \n",
       "23    37939.00    377648.00       21678.99               1132944.00   \n",
       "24    37939.00    377648.00       21678.99                755296.00   \n",
       "25    37939.00    377648.00       21678.99                377648.00   \n",
       "\n",
       "    pnl_cumulative_percentage  \n",
       "0                 5867.172967  \n",
       "1                 5818.963790  \n",
       "2                 5859.600983  \n",
       "3                 5868.681171  \n",
       "4                 5867.166235  \n",
       "5                 5890.043410  \n",
       "6                 5873.245723  \n",
       "7                 5933.215763  \n",
       "8                 5920.815521  \n",
       "9                 5944.115687  \n",
       "10                5821.930627  \n",
       "11                5740.804155  \n",
       "12                5721.968182  \n",
       "13                5784.795507  \n",
       "14                5905.384676  \n",
       "15                        NaN  \n",
       "16                6073.159743  \n",
       "17                6029.518361  \n",
       "18                6037.558487  \n",
       "19                6137.310943  \n",
       "20                6102.599515  \n",
       "21                6115.782186  \n",
       "22                6285.426907  \n",
       "23                 650.369690  \n",
       "24                 433.579793  \n",
       "25                 216.789897  "
      ]
     },
     "execution_count": 21,
     "metadata": {},
     "output_type": "execute_result"
    }
   ],
   "source": [
    "algobulls_connection.get_realtrading_report_pnl_table(strategy_code=strategy_code1)"
   ]
  },
  {
   "cell_type": "code",
   "execution_count": 32,
   "metadata": {
    "scrolled": true
   },
   "outputs": [],
   "source": [
    "x = algobulls_connection.get_realtrading_report_pnl_table(strategy_code=strategy_code1)"
   ]
  },
  {
   "cell_type": "code",
   "execution_count": 33,
   "metadata": {
    "scrolled": true
   },
   "outputs": [
    {
     "data": {
      "text/html": [
       "<div>\n",
       "<style scoped>\n",
       "    .dataframe tbody tr th:only-of-type {\n",
       "        vertical-align: middle;\n",
       "    }\n",
       "\n",
       "    .dataframe tbody tr th {\n",
       "        vertical-align: top;\n",
       "    }\n",
       "\n",
       "    .dataframe thead th {\n",
       "        text-align: right;\n",
       "    }\n",
       "</style>\n",
       "<table border=\"1\" class=\"dataframe\">\n",
       "  <thead>\n",
       "    <tr style=\"text-align: right;\">\n",
       "      <th></th>\n",
       "      <th>instrument</th>\n",
       "      <th>entry_timestamp</th>\n",
       "      <th>entry_transaction_type</th>\n",
       "      <th>entry_quantity</th>\n",
       "      <th>entry_price</th>\n",
       "      <th>exit_timestamp</th>\n",
       "      <th>exit_transaction_type</th>\n",
       "      <th>exit_quantity</th>\n",
       "      <th>exit_price</th>\n",
       "      <th>pnl_absolute</th>\n",
       "      <th>pnl_percentage</th>\n",
       "      <th>pnl_cumulative_absolute</th>\n",
       "      <th>pnl_cumulative_percentage</th>\n",
       "    </tr>\n",
       "  </thead>\n",
       "  <tbody>\n",
       "    <tr>\n",
       "      <th>0</th>\n",
       "      <td>NSE:SBIN</td>\n",
       "      <td>2020-08-04 14:01:40</td>\n",
       "      <td>BUY</td>\n",
       "      <td>1</td>\n",
       "      <td>193.10</td>\n",
       "      <td>2020-08-04 14:00:48</td>\n",
       "      <td>SELL</td>\n",
       "      <td>1</td>\n",
       "      <td>191.95</td>\n",
       "      <td>-1.15</td>\n",
       "      <td>-0.01</td>\n",
       "      <td>1132951.10</td>\n",
       "      <td>5867.17</td>\n",
       "    </tr>\n",
       "    <tr>\n",
       "      <th>1</th>\n",
       "      <td>NSE:SBIN</td>\n",
       "      <td>2020-07-24 09:45:00</td>\n",
       "      <td>SELL</td>\n",
       "      <td>1</td>\n",
       "      <td>194.70</td>\n",
       "      <td>2020-07-24 14:15:00</td>\n",
       "      <td>BUY</td>\n",
       "      <td>1</td>\n",
       "      <td>193.1</td>\n",
       "      <td>-1.60</td>\n",
       "      <td>-0.01</td>\n",
       "      <td>1132952.25</td>\n",
       "      <td>5818.96</td>\n",
       "    </tr>\n",
       "    <tr>\n",
       "      <th>2</th>\n",
       "      <td>NSE:SBIN</td>\n",
       "      <td>2020-07-23 09:30:00</td>\n",
       "      <td>BUY</td>\n",
       "      <td>1</td>\n",
       "      <td>193.35</td>\n",
       "      <td>2020-07-23 15:30:00</td>\n",
       "      <td>SELL</td>\n",
       "      <td>1</td>\n",
       "      <td>198.3</td>\n",
       "      <td>4.95</td>\n",
       "      <td>0.03</td>\n",
       "      <td>1132953.85</td>\n",
       "      <td>5859.6</td>\n",
       "    </tr>\n",
       "    <tr>\n",
       "      <th>3</th>\n",
       "      <td>NSE:SBIN</td>\n",
       "      <td>2020-07-22 14:00:00</td>\n",
       "      <td>SELL</td>\n",
       "      <td>1</td>\n",
       "      <td>193.05</td>\n",
       "      <td>2020-07-22 15:30:00</td>\n",
       "      <td>BUY</td>\n",
       "      <td>1</td>\n",
       "      <td>192.15</td>\n",
       "      <td>-0.90</td>\n",
       "      <td>0.00</td>\n",
       "      <td>1132948.90</td>\n",
       "      <td>5868.68</td>\n",
       "    </tr>\n",
       "    <tr>\n",
       "      <th>4</th>\n",
       "      <td>NSE:SBIN</td>\n",
       "      <td>2020-07-22 11:30:00</td>\n",
       "      <td>BUY</td>\n",
       "      <td>1</td>\n",
       "      <td>193.10</td>\n",
       "      <td>2020-07-22 14:00:00</td>\n",
       "      <td>SELL</td>\n",
       "      <td>1</td>\n",
       "      <td>193.05</td>\n",
       "      <td>-0.05</td>\n",
       "      <td>0.00</td>\n",
       "      <td>1132949.80</td>\n",
       "      <td>5867.17</td>\n",
       "    </tr>\n",
       "    <tr>\n",
       "      <th>5</th>\n",
       "      <td>NSE:SBIN</td>\n",
       "      <td>2020-07-22 09:30:00</td>\n",
       "      <td>SELL</td>\n",
       "      <td>1</td>\n",
       "      <td>192.35</td>\n",
       "      <td>2020-07-22 11:30:00</td>\n",
       "      <td>BUY</td>\n",
       "      <td>1</td>\n",
       "      <td>193.1</td>\n",
       "      <td>0.75</td>\n",
       "      <td>0.00</td>\n",
       "      <td>1132949.85</td>\n",
       "      <td>5890.04</td>\n",
       "    </tr>\n",
       "    <tr>\n",
       "      <th>6</th>\n",
       "      <td>NSE:SBIN</td>\n",
       "      <td>2020-07-21 09:30:00</td>\n",
       "      <td>BUY</td>\n",
       "      <td>1</td>\n",
       "      <td>192.90</td>\n",
       "      <td>2020-07-21 15:30:00</td>\n",
       "      <td>SELL</td>\n",
       "      <td>1</td>\n",
       "      <td>194.45</td>\n",
       "      <td>1.55</td>\n",
       "      <td>0.01</td>\n",
       "      <td>1132949.10</td>\n",
       "      <td>5873.25</td>\n",
       "    </tr>\n",
       "    <tr>\n",
       "      <th>7</th>\n",
       "      <td>NSE:SBIN</td>\n",
       "      <td>2020-07-20 15:15:00</td>\n",
       "      <td>SELL</td>\n",
       "      <td>1</td>\n",
       "      <td>190.95</td>\n",
       "      <td>2020-07-20 15:30:00</td>\n",
       "      <td>BUY</td>\n",
       "      <td>1</td>\n",
       "      <td>190.45</td>\n",
       "      <td>-0.50</td>\n",
       "      <td>0.00</td>\n",
       "      <td>1132947.55</td>\n",
       "      <td>5933.22</td>\n",
       "    </tr>\n",
       "    <tr>\n",
       "      <th>8</th>\n",
       "      <td>NSE:SBIN</td>\n",
       "      <td>2020-07-20 14:30:00</td>\n",
       "      <td>BUY</td>\n",
       "      <td>1</td>\n",
       "      <td>191.35</td>\n",
       "      <td>2020-07-20 15:15:00</td>\n",
       "      <td>SELL</td>\n",
       "      <td>1</td>\n",
       "      <td>190.95</td>\n",
       "      <td>-0.40</td>\n",
       "      <td>0.00</td>\n",
       "      <td>1132948.05</td>\n",
       "      <td>5920.82</td>\n",
       "    </tr>\n",
       "    <tr>\n",
       "      <th>9</th>\n",
       "      <td>NSE:SBIN</td>\n",
       "      <td>2020-07-20 13:45:00</td>\n",
       "      <td>SELL</td>\n",
       "      <td>1</td>\n",
       "      <td>190.60</td>\n",
       "      <td>2020-07-20 14:30:00</td>\n",
       "      <td>BUY</td>\n",
       "      <td>1</td>\n",
       "      <td>191.35</td>\n",
       "      <td>0.75</td>\n",
       "      <td>0.00</td>\n",
       "      <td>1132948.45</td>\n",
       "      <td>5944.12</td>\n",
       "    </tr>\n",
       "    <tr>\n",
       "      <th>10</th>\n",
       "      <td>NSE:SBIN</td>\n",
       "      <td>2020-07-13 11:15:00</td>\n",
       "      <td>SELL</td>\n",
       "      <td>1</td>\n",
       "      <td>194.60</td>\n",
       "      <td>2020-07-13 11:15:00</td>\n",
       "      <td>BUY</td>\n",
       "      <td>1</td>\n",
       "      <td>194.6</td>\n",
       "      <td>0.00</td>\n",
       "      <td>0.00</td>\n",
       "      <td>1132947.70</td>\n",
       "      <td>5821.93</td>\n",
       "    </tr>\n",
       "    <tr>\n",
       "      <th>11</th>\n",
       "      <td>NSE:SBIN</td>\n",
       "      <td>2020-07-13 10:45:00</td>\n",
       "      <td>BUY</td>\n",
       "      <td>1</td>\n",
       "      <td>197.35</td>\n",
       "      <td>2020-07-13 11:00:00</td>\n",
       "      <td>SELL</td>\n",
       "      <td>1</td>\n",
       "      <td>195.35</td>\n",
       "      <td>-2.00</td>\n",
       "      <td>-0.01</td>\n",
       "      <td>1132947.70</td>\n",
       "      <td>5740.8</td>\n",
       "    </tr>\n",
       "    <tr>\n",
       "      <th>12</th>\n",
       "      <td>NSE:SBIN</td>\n",
       "      <td>2020-07-10 11:45:00</td>\n",
       "      <td>SELL</td>\n",
       "      <td>1</td>\n",
       "      <td>198.00</td>\n",
       "      <td>2020-07-10 15:30:00</td>\n",
       "      <td>BUY</td>\n",
       "      <td>1</td>\n",
       "      <td>195.5</td>\n",
       "      <td>-2.50</td>\n",
       "      <td>-0.01</td>\n",
       "      <td>1132949.70</td>\n",
       "      <td>5721.97</td>\n",
       "    </tr>\n",
       "    <tr>\n",
       "      <th>13</th>\n",
       "      <td>NSE:SBIN</td>\n",
       "      <td>2020-07-09 13:00:00</td>\n",
       "      <td>BUY</td>\n",
       "      <td>1</td>\n",
       "      <td>195.85</td>\n",
       "      <td>2020-07-09 15:30:00</td>\n",
       "      <td>SELL</td>\n",
       "      <td>1</td>\n",
       "      <td>200</td>\n",
       "      <td>4.15</td>\n",
       "      <td>0.02</td>\n",
       "      <td>1132952.20</td>\n",
       "      <td>5784.8</td>\n",
       "    </tr>\n",
       "    <tr>\n",
       "      <th>14</th>\n",
       "      <td>NSE:SBIN</td>\n",
       "      <td>2020-07-08 15:15:00</td>\n",
       "      <td>SELL</td>\n",
       "      <td>1</td>\n",
       "      <td>191.85</td>\n",
       "      <td>2020-07-08 15:30:00</td>\n",
       "      <td>BUY</td>\n",
       "      <td>1</td>\n",
       "      <td>191.9</td>\n",
       "      <td>0.05</td>\n",
       "      <td>0.00</td>\n",
       "      <td>1132948.05</td>\n",
       "      <td>5905.38</td>\n",
       "    </tr>\n",
       "    <tr>\n",
       "      <th>15</th>\n",
       "      <td>NSE:SBIN</td>\n",
       "      <td>2020-07-08 15:15:00</td>\n",
       "      <td>SELL</td>\n",
       "      <td>1</td>\n",
       "      <td>191.85</td>\n",
       "      <td></td>\n",
       "      <td>-</td>\n",
       "      <td></td>\n",
       "      <td></td>\n",
       "      <td>0.05</td>\n",
       "      <td>0.00</td>\n",
       "      <td>1132948.00</td>\n",
       "      <td></td>\n",
       "    </tr>\n",
       "    <tr>\n",
       "      <th>16</th>\n",
       "      <td>NSE:SBIN</td>\n",
       "      <td>2020-07-07 13:15:00</td>\n",
       "      <td>BUY</td>\n",
       "      <td>1</td>\n",
       "      <td>186.55</td>\n",
       "      <td>2020-07-07 15:30:00</td>\n",
       "      <td>SELL</td>\n",
       "      <td>1</td>\n",
       "      <td>188</td>\n",
       "      <td>1.45</td>\n",
       "      <td>0.01</td>\n",
       "      <td>1132947.95</td>\n",
       "      <td>6073.16</td>\n",
       "    </tr>\n",
       "    <tr>\n",
       "      <th>17</th>\n",
       "      <td>NSE:SBIN</td>\n",
       "      <td>2020-07-07 09:15:00</td>\n",
       "      <td>SELL</td>\n",
       "      <td>1</td>\n",
       "      <td>187.90</td>\n",
       "      <td>2020-07-07 13:15:00</td>\n",
       "      <td>BUY</td>\n",
       "      <td>1</td>\n",
       "      <td>186.55</td>\n",
       "      <td>-1.35</td>\n",
       "      <td>-0.01</td>\n",
       "      <td>1132946.50</td>\n",
       "      <td>6029.52</td>\n",
       "    </tr>\n",
       "    <tr>\n",
       "      <th>18</th>\n",
       "      <td>NSE:SBIN</td>\n",
       "      <td>2020-07-06 09:30:00</td>\n",
       "      <td>BUY</td>\n",
       "      <td>1</td>\n",
       "      <td>187.65</td>\n",
       "      <td>2020-07-06 15:30:00</td>\n",
       "      <td>SELL</td>\n",
       "      <td>1</td>\n",
       "      <td>187.9</td>\n",
       "      <td>0.25</td>\n",
       "      <td>0.00</td>\n",
       "      <td>1132947.85</td>\n",
       "      <td>6037.56</td>\n",
       "    </tr>\n",
       "    <tr>\n",
       "      <th>19</th>\n",
       "      <td>NSE:SBIN</td>\n",
       "      <td>2020-07-03 13:15:00</td>\n",
       "      <td>SELL</td>\n",
       "      <td>1</td>\n",
       "      <td>184.60</td>\n",
       "      <td>2020-07-03 15:30:00</td>\n",
       "      <td>BUY</td>\n",
       "      <td>1</td>\n",
       "      <td>184.6</td>\n",
       "      <td>0.00</td>\n",
       "      <td>0.00</td>\n",
       "      <td>1132947.60</td>\n",
       "      <td>6137.31</td>\n",
       "    </tr>\n",
       "    <tr>\n",
       "      <th>20</th>\n",
       "      <td>NSE:SBIN</td>\n",
       "      <td>2020-07-03 12:30:00</td>\n",
       "      <td>BUY</td>\n",
       "      <td>1</td>\n",
       "      <td>185.65</td>\n",
       "      <td>2020-07-03 13:15:00</td>\n",
       "      <td>SELL</td>\n",
       "      <td>1</td>\n",
       "      <td>184.6</td>\n",
       "      <td>-1.05</td>\n",
       "      <td>-0.01</td>\n",
       "      <td>1132947.60</td>\n",
       "      <td>6102.6</td>\n",
       "    </tr>\n",
       "    <tr>\n",
       "      <th>21</th>\n",
       "      <td>NSE:SBIN</td>\n",
       "      <td>2020-07-02 15:15:00</td>\n",
       "      <td>SELL</td>\n",
       "      <td>1</td>\n",
       "      <td>185.25</td>\n",
       "      <td>2020-07-02 15:30:00</td>\n",
       "      <td>BUY</td>\n",
       "      <td>1</td>\n",
       "      <td>185.7</td>\n",
       "      <td>0.45</td>\n",
       "      <td>0.00</td>\n",
       "      <td>1132948.65</td>\n",
       "      <td>6115.78</td>\n",
       "    </tr>\n",
       "    <tr>\n",
       "      <th>22</th>\n",
       "      <td>NSE:SBIN</td>\n",
       "      <td>2020-07-01 09:45:00</td>\n",
       "      <td>BUY</td>\n",
       "      <td>1</td>\n",
       "      <td>180.25</td>\n",
       "      <td>2020-07-01 15:30:00</td>\n",
       "      <td>SELL</td>\n",
       "      <td>1</td>\n",
       "      <td>184.45</td>\n",
       "      <td>4.20</td>\n",
       "      <td>0.02</td>\n",
       "      <td>1132948.20</td>\n",
       "      <td>6285.43</td>\n",
       "    </tr>\n",
       "    <tr>\n",
       "      <th>23</th>\n",
       "      <td>NSE:SBIN</td>\n",
       "      <td>2020-06-15 10:30:00</td>\n",
       "      <td>SELL</td>\n",
       "      <td>1</td>\n",
       "      <td>174.20</td>\n",
       "      <td>2019-08-13 09:05:00</td>\n",
       "      <td>SELL</td>\n",
       "      <td>10</td>\n",
       "      <td>37939</td>\n",
       "      <td>377648.00</td>\n",
       "      <td>21678.99</td>\n",
       "      <td>1132944.00</td>\n",
       "      <td>650.37</td>\n",
       "    </tr>\n",
       "    <tr>\n",
       "      <th>24</th>\n",
       "      <td>NSE:SBIN</td>\n",
       "      <td>2020-06-15 10:30:00</td>\n",
       "      <td>SELL</td>\n",
       "      <td>1</td>\n",
       "      <td>174.20</td>\n",
       "      <td>2019-08-13 09:05:00</td>\n",
       "      <td>SELL</td>\n",
       "      <td>10</td>\n",
       "      <td>37939</td>\n",
       "      <td>377648.00</td>\n",
       "      <td>21678.99</td>\n",
       "      <td>755296.00</td>\n",
       "      <td>433.58</td>\n",
       "    </tr>\n",
       "    <tr>\n",
       "      <th>25</th>\n",
       "      <td>NSE:SBIN</td>\n",
       "      <td>2020-06-15 10:30:00</td>\n",
       "      <td>SELL</td>\n",
       "      <td>1</td>\n",
       "      <td>174.20</td>\n",
       "      <td>2019-08-13 09:05:00</td>\n",
       "      <td>SELL</td>\n",
       "      <td>10</td>\n",
       "      <td>37939</td>\n",
       "      <td>377648.00</td>\n",
       "      <td>21678.99</td>\n",
       "      <td>377648.00</td>\n",
       "      <td>216.79</td>\n",
       "    </tr>\n",
       "  </tbody>\n",
       "</table>\n",
       "</div>"
      ],
      "text/plain": [
       "   instrument      entry_timestamp entry_transaction_type  entry_quantity  \\\n",
       "0    NSE:SBIN  2020-08-04 14:01:40                    BUY               1   \n",
       "1    NSE:SBIN  2020-07-24 09:45:00                   SELL               1   \n",
       "2    NSE:SBIN  2020-07-23 09:30:00                    BUY               1   \n",
       "3    NSE:SBIN  2020-07-22 14:00:00                   SELL               1   \n",
       "4    NSE:SBIN  2020-07-22 11:30:00                    BUY               1   \n",
       "5    NSE:SBIN  2020-07-22 09:30:00                   SELL               1   \n",
       "6    NSE:SBIN  2020-07-21 09:30:00                    BUY               1   \n",
       "7    NSE:SBIN  2020-07-20 15:15:00                   SELL               1   \n",
       "8    NSE:SBIN  2020-07-20 14:30:00                    BUY               1   \n",
       "9    NSE:SBIN  2020-07-20 13:45:00                   SELL               1   \n",
       "10   NSE:SBIN  2020-07-13 11:15:00                   SELL               1   \n",
       "11   NSE:SBIN  2020-07-13 10:45:00                    BUY               1   \n",
       "12   NSE:SBIN  2020-07-10 11:45:00                   SELL               1   \n",
       "13   NSE:SBIN  2020-07-09 13:00:00                    BUY               1   \n",
       "14   NSE:SBIN  2020-07-08 15:15:00                   SELL               1   \n",
       "15   NSE:SBIN  2020-07-08 15:15:00                   SELL               1   \n",
       "16   NSE:SBIN  2020-07-07 13:15:00                    BUY               1   \n",
       "17   NSE:SBIN  2020-07-07 09:15:00                   SELL               1   \n",
       "18   NSE:SBIN  2020-07-06 09:30:00                    BUY               1   \n",
       "19   NSE:SBIN  2020-07-03 13:15:00                   SELL               1   \n",
       "20   NSE:SBIN  2020-07-03 12:30:00                    BUY               1   \n",
       "21   NSE:SBIN  2020-07-02 15:15:00                   SELL               1   \n",
       "22   NSE:SBIN  2020-07-01 09:45:00                    BUY               1   \n",
       "23   NSE:SBIN  2020-06-15 10:30:00                   SELL               1   \n",
       "24   NSE:SBIN  2020-06-15 10:30:00                   SELL               1   \n",
       "25   NSE:SBIN  2020-06-15 10:30:00                   SELL               1   \n",
       "\n",
       "    entry_price       exit_timestamp exit_transaction_type exit_quantity  \\\n",
       "0        193.10  2020-08-04 14:00:48                  SELL             1   \n",
       "1        194.70  2020-07-24 14:15:00                   BUY             1   \n",
       "2        193.35  2020-07-23 15:30:00                  SELL             1   \n",
       "3        193.05  2020-07-22 15:30:00                   BUY             1   \n",
       "4        193.10  2020-07-22 14:00:00                  SELL             1   \n",
       "5        192.35  2020-07-22 11:30:00                   BUY             1   \n",
       "6        192.90  2020-07-21 15:30:00                  SELL             1   \n",
       "7        190.95  2020-07-20 15:30:00                   BUY             1   \n",
       "8        191.35  2020-07-20 15:15:00                  SELL             1   \n",
       "9        190.60  2020-07-20 14:30:00                   BUY             1   \n",
       "10       194.60  2020-07-13 11:15:00                   BUY             1   \n",
       "11       197.35  2020-07-13 11:00:00                  SELL             1   \n",
       "12       198.00  2020-07-10 15:30:00                   BUY             1   \n",
       "13       195.85  2020-07-09 15:30:00                  SELL             1   \n",
       "14       191.85  2020-07-08 15:30:00                   BUY             1   \n",
       "15       191.85                                          -                 \n",
       "16       186.55  2020-07-07 15:30:00                  SELL             1   \n",
       "17       187.90  2020-07-07 13:15:00                   BUY             1   \n",
       "18       187.65  2020-07-06 15:30:00                  SELL             1   \n",
       "19       184.60  2020-07-03 15:30:00                   BUY             1   \n",
       "20       185.65  2020-07-03 13:15:00                  SELL             1   \n",
       "21       185.25  2020-07-02 15:30:00                   BUY             1   \n",
       "22       180.25  2020-07-01 15:30:00                  SELL             1   \n",
       "23       174.20  2019-08-13 09:05:00                  SELL            10   \n",
       "24       174.20  2019-08-13 09:05:00                  SELL            10   \n",
       "25       174.20  2019-08-13 09:05:00                  SELL            10   \n",
       "\n",
       "   exit_price  pnl_absolute pnl_percentage  pnl_cumulative_absolute  \\\n",
       "0      191.95         -1.15          -0.01               1132951.10   \n",
       "1       193.1         -1.60          -0.01               1132952.25   \n",
       "2       198.3          4.95           0.03               1132953.85   \n",
       "3      192.15         -0.90           0.00               1132948.90   \n",
       "4      193.05         -0.05           0.00               1132949.80   \n",
       "5       193.1          0.75           0.00               1132949.85   \n",
       "6      194.45          1.55           0.01               1132949.10   \n",
       "7      190.45         -0.50           0.00               1132947.55   \n",
       "8      190.95         -0.40           0.00               1132948.05   \n",
       "9      191.35          0.75           0.00               1132948.45   \n",
       "10      194.6          0.00           0.00               1132947.70   \n",
       "11     195.35         -2.00          -0.01               1132947.70   \n",
       "12      195.5         -2.50          -0.01               1132949.70   \n",
       "13        200          4.15           0.02               1132952.20   \n",
       "14      191.9          0.05           0.00               1132948.05   \n",
       "15                     0.05           0.00               1132948.00   \n",
       "16        188          1.45           0.01               1132947.95   \n",
       "17     186.55         -1.35          -0.01               1132946.50   \n",
       "18      187.9          0.25           0.00               1132947.85   \n",
       "19      184.6          0.00           0.00               1132947.60   \n",
       "20      184.6         -1.05          -0.01               1132947.60   \n",
       "21      185.7          0.45           0.00               1132948.65   \n",
       "22     184.45          4.20           0.02               1132948.20   \n",
       "23      37939     377648.00       21678.99               1132944.00   \n",
       "24      37939     377648.00       21678.99                755296.00   \n",
       "25      37939     377648.00       21678.99                377648.00   \n",
       "\n",
       "   pnl_cumulative_percentage  \n",
       "0                    5867.17  \n",
       "1                    5818.96  \n",
       "2                     5859.6  \n",
       "3                    5868.68  \n",
       "4                    5867.17  \n",
       "5                    5890.04  \n",
       "6                    5873.25  \n",
       "7                    5933.22  \n",
       "8                    5920.82  \n",
       "9                    5944.12  \n",
       "10                   5821.93  \n",
       "11                    5740.8  \n",
       "12                   5721.97  \n",
       "13                    5784.8  \n",
       "14                   5905.38  \n",
       "15                            \n",
       "16                   6073.16  \n",
       "17                   6029.52  \n",
       "18                   6037.56  \n",
       "19                   6137.31  \n",
       "20                    6102.6  \n",
       "21                   6115.78  \n",
       "22                   6285.43  \n",
       "23                    650.37  \n",
       "24                    433.58  \n",
       "25                    216.79  "
      ]
     },
     "execution_count": 33,
     "metadata": {},
     "output_type": "execute_result"
    }
   ],
   "source": [
    "x"
   ]
  },
  {
   "cell_type": "code",
   "execution_count": 19,
   "metadata": {},
   "outputs": [],
   "source": [
    "x.to_csv('debug_pnl_table.csv')"
   ]
  },
  {
   "cell_type": "markdown",
   "metadata": {},
   "source": [
    "### Recipe 5: EMA-Regular-Order Strategy: Fetching Real Trading Reports - Statistics Table"
   ]
  },
  {
   "cell_type": "code",
   "execution_count": 34,
   "metadata": {
    "scrolled": false
   },
   "outputs": [
    {
     "data": {
      "text/html": [
       "<div>\n",
       "<style scoped>\n",
       "    .dataframe tbody tr th:only-of-type {\n",
       "        vertical-align: middle;\n",
       "    }\n",
       "\n",
       "    .dataframe tbody tr th {\n",
       "        vertical-align: top;\n",
       "    }\n",
       "\n",
       "    .dataframe thead th {\n",
       "        text-align: right;\n",
       "    }\n",
       "</style>\n",
       "<table border=\"1\" class=\"dataframe\">\n",
       "  <thead>\n",
       "    <tr style=\"text-align: right;\">\n",
       "      <th></th>\n",
       "      <th>highlight_type</th>\n",
       "      <th>highlight_value</th>\n",
       "    </tr>\n",
       "  </thead>\n",
       "  <tbody>\n",
       "    <tr>\n",
       "      <th>0</th>\n",
       "      <td>Net PnL</td>\n",
       "      <td>1132951.10</td>\n",
       "    </tr>\n",
       "    <tr>\n",
       "      <th>1</th>\n",
       "      <td>Net PnL %</td>\n",
       "      <td>5867.17</td>\n",
       "    </tr>\n",
       "    <tr>\n",
       "      <th>2</th>\n",
       "      <td>Max Drawdown</td>\n",
       "      <td>377648.00</td>\n",
       "    </tr>\n",
       "    <tr>\n",
       "      <th>3</th>\n",
       "      <td>Max Drawdown %</td>\n",
       "      <td>21678.99</td>\n",
       "    </tr>\n",
       "    <tr>\n",
       "      <th>4</th>\n",
       "      <td>Number of Trades</td>\n",
       "      <td>26.00</td>\n",
       "    </tr>\n",
       "    <tr>\n",
       "      <th>5</th>\n",
       "      <td>Number of Wins</td>\n",
       "      <td>16.00</td>\n",
       "    </tr>\n",
       "    <tr>\n",
       "      <th>6</th>\n",
       "      <td>Number of Looses</td>\n",
       "      <td>10.00</td>\n",
       "    </tr>\n",
       "    <tr>\n",
       "      <th>7</th>\n",
       "      <td>Number of Long Trades</td>\n",
       "      <td>11.00</td>\n",
       "    </tr>\n",
       "    <tr>\n",
       "      <th>8</th>\n",
       "      <td>Number of Short Trades</td>\n",
       "      <td>15.00</td>\n",
       "    </tr>\n",
       "    <tr>\n",
       "      <th>9</th>\n",
       "      <td>Max Gain</td>\n",
       "      <td>377648.00</td>\n",
       "    </tr>\n",
       "    <tr>\n",
       "      <th>10</th>\n",
       "      <td>Min Gain</td>\n",
       "      <td>-2.50</td>\n",
       "    </tr>\n",
       "    <tr>\n",
       "      <th>11</th>\n",
       "      <td>Avg. Profit per winning trade</td>\n",
       "      <td>80925.90</td>\n",
       "    </tr>\n",
       "    <tr>\n",
       "      <th>12</th>\n",
       "      <td>Avg. Profit per losing trade</td>\n",
       "      <td>-1.15</td>\n",
       "    </tr>\n",
       "  </tbody>\n",
       "</table>\n",
       "</div>"
      ],
      "text/plain": [
       "                   highlight_type  highlight_value\n",
       "0                         Net PnL       1132951.10\n",
       "1                       Net PnL %          5867.17\n",
       "2                    Max Drawdown        377648.00\n",
       "3                  Max Drawdown %         21678.99\n",
       "4                Number of Trades            26.00\n",
       "5                  Number of Wins            16.00\n",
       "6                Number of Looses            10.00\n",
       "7           Number of Long Trades            11.00\n",
       "8          Number of Short Trades            15.00\n",
       "9                        Max Gain        377648.00\n",
       "10                       Min Gain            -2.50\n",
       "11  Avg. Profit per winning trade         80925.90\n",
       "12   Avg. Profit per losing trade            -1.15"
      ]
     },
     "execution_count": 34,
     "metadata": {},
     "output_type": "execute_result"
    }
   ],
   "source": [
    "algobulls_connection.get_realtrading_report_statistics(strategy_code=strategy_code1)"
   ]
  },
  {
   "cell_type": "code",
   "execution_count": 27,
   "metadata": {},
   "outputs": [
    {
     "ename": "AttributeError",
     "evalue": "'AlgoBullsConnection' object has no attribute 'get_realtbrading_report_statistics'",
     "output_type": "error",
     "traceback": [
      "\u001b[0;31m---------------------------------------------------------------------------\u001b[0m",
      "\u001b[0;31mAttributeError\u001b[0m                            Traceback (most recent call last)",
      "\u001b[0;32m<ipython-input-27-fb95ba81681c>\u001b[0m in \u001b[0;36m<module>\u001b[0;34m\u001b[0m\n\u001b[0;32m----> 1\u001b[0;31m \u001b[0my\u001b[0m \u001b[0;34m=\u001b[0m \u001b[0malgobulls_connection\u001b[0m\u001b[0;34m.\u001b[0m\u001b[0mget_realtbrading_report_statistics\u001b[0m\u001b[0;34m(\u001b[0m\u001b[0mstrategy_code\u001b[0m\u001b[0;34m=\u001b[0m\u001b[0mstrategy_code1\u001b[0m\u001b[0;34m)\u001b[0m\u001b[0;34m\u001b[0m\u001b[0;34m\u001b[0m\u001b[0m\n\u001b[0m",
      "\u001b[0;31mAttributeError\u001b[0m: 'AlgoBullsConnection' object has no attribute 'get_realtbrading_report_statistics'"
     ]
    }
   ],
   "source": [
    "y = algobulls_connection.get_realtbrading_report_statistics(strategy_code=strategy_code1)"
   ]
  },
  {
   "cell_type": "code",
   "execution_count": 24,
   "metadata": {},
   "outputs": [
    {
     "data": {
      "text/html": [
       "<div>\n",
       "<style scoped>\n",
       "    .dataframe tbody tr th:only-of-type {\n",
       "        vertical-align: middle;\n",
       "    }\n",
       "\n",
       "    .dataframe tbody tr th {\n",
       "        vertical-align: top;\n",
       "    }\n",
       "\n",
       "    .dataframe thead th {\n",
       "        text-align: right;\n",
       "    }\n",
       "</style>\n",
       "<table border=\"1\" class=\"dataframe\">\n",
       "  <thead>\n",
       "    <tr style=\"text-align: right;\">\n",
       "      <th></th>\n",
       "      <th>highlight_type</th>\n",
       "      <th>highlight_value</th>\n",
       "    </tr>\n",
       "  </thead>\n",
       "  <tbody>\n",
       "    <tr>\n",
       "      <th>0</th>\n",
       "      <td>Net PnL</td>\n",
       "      <td>1132951.10</td>\n",
       "    </tr>\n",
       "    <tr>\n",
       "      <th>1</th>\n",
       "      <td>Net PnL %</td>\n",
       "      <td>5867.17</td>\n",
       "    </tr>\n",
       "    <tr>\n",
       "      <th>2</th>\n",
       "      <td>Max Drawdown</td>\n",
       "      <td>377648.00</td>\n",
       "    </tr>\n",
       "    <tr>\n",
       "      <th>3</th>\n",
       "      <td>Max Drawdown %</td>\n",
       "      <td>195571.21</td>\n",
       "    </tr>\n",
       "    <tr>\n",
       "      <th>4</th>\n",
       "      <td>Number of Trades</td>\n",
       "      <td>26.00</td>\n",
       "    </tr>\n",
       "    <tr>\n",
       "      <th>5</th>\n",
       "      <td>Number of Wins</td>\n",
       "      <td>16.00</td>\n",
       "    </tr>\n",
       "    <tr>\n",
       "      <th>6</th>\n",
       "      <td>Number of Looses</td>\n",
       "      <td>10.00</td>\n",
       "    </tr>\n",
       "    <tr>\n",
       "      <th>7</th>\n",
       "      <td>Number of Long Trades</td>\n",
       "      <td>11.00</td>\n",
       "    </tr>\n",
       "    <tr>\n",
       "      <th>8</th>\n",
       "      <td>Number of Short Trades</td>\n",
       "      <td>15.00</td>\n",
       "    </tr>\n",
       "    <tr>\n",
       "      <th>9</th>\n",
       "      <td>Max Gain</td>\n",
       "      <td>377648.00</td>\n",
       "    </tr>\n",
       "    <tr>\n",
       "      <th>10</th>\n",
       "      <td>Min Gain</td>\n",
       "      <td>-2.50</td>\n",
       "    </tr>\n",
       "    <tr>\n",
       "      <th>11</th>\n",
       "      <td>Avg. Profit per winning trade</td>\n",
       "      <td>80925.90</td>\n",
       "    </tr>\n",
       "    <tr>\n",
       "      <th>12</th>\n",
       "      <td>Avg. Profit per losing trade</td>\n",
       "      <td>-1.15</td>\n",
       "    </tr>\n",
       "  </tbody>\n",
       "</table>\n",
       "</div>"
      ],
      "text/plain": [
       "                   highlight_type  highlight_value\n",
       "0                         Net PnL       1132951.10\n",
       "1                       Net PnL %          5867.17\n",
       "2                    Max Drawdown        377648.00\n",
       "3                  Max Drawdown %        195571.21\n",
       "4                Number of Trades            26.00\n",
       "5                  Number of Wins            16.00\n",
       "6                Number of Looses            10.00\n",
       "7           Number of Long Trades            11.00\n",
       "8          Number of Short Trades            15.00\n",
       "9                        Max Gain        377648.00\n",
       "10                       Min Gain            -2.50\n",
       "11  Avg. Profit per winning trade         80925.90\n",
       "12   Avg. Profit per losing trade            -1.15"
      ]
     },
     "execution_count": 24,
     "metadata": {},
     "output_type": "execute_result"
    }
   ],
   "source": [
    "y"
   ]
  },
  {
   "cell_type": "code",
   "execution_count": 21,
   "metadata": {},
   "outputs": [],
   "source": [
    "y.to_csv('debug_stats_table.csv')"
   ]
  },
  {
   "cell_type": "markdown",
   "metadata": {},
   "source": [
    "### Recipe 6: MACD-Bracket-Order Strategy: Fetching the Strategy"
   ]
  },
  {
   "cell_type": "code",
   "execution_count": 20,
   "metadata": {},
   "outputs": [],
   "source": [
    "from pyalgotrading.algobulls import AlgoBullsConnection"
   ]
  },
  {
   "cell_type": "code",
   "execution_count": 21,
   "metadata": {},
   "outputs": [],
   "source": [
    "algobulls_connection = AlgoBullsConnection()"
   ]
  },
  {
   "cell_type": "code",
   "execution_count": 22,
   "metadata": {},
   "outputs": [
    {
     "name": "stdout",
     "output_type": "stream",
     "text": [
      "Please login to this URL with your AlgoBulls credentials and get your developer access token: https://app.algobulls.com/user/login\n"
     ]
    },
    {
     "data": {
      "text/plain": [
       "'https://app.algobulls.com/user/login'"
      ]
     },
     "execution_count": 22,
     "metadata": {},
     "output_type": "execute_result"
    }
   ],
   "source": [
    "algobulls_connection.get_authorization_url()"
   ]
  },
  {
   "cell_type": "code",
   "execution_count": 23,
   "metadata": {},
   "outputs": [],
   "source": [
    "algobulls_connection.set_access_token('b4e0f923d085d48f4665a079d760d2bb94c33a94')"
   ]
  },
  {
   "cell_type": "code",
   "execution_count": 24,
   "metadata": {},
   "outputs": [
    {
     "data": {
      "text/html": [
       "<div>\n",
       "<style scoped>\n",
       "    .dataframe tbody tr th:only-of-type {\n",
       "        vertical-align: middle;\n",
       "    }\n",
       "\n",
       "    .dataframe tbody tr th {\n",
       "        vertical-align: top;\n",
       "    }\n",
       "\n",
       "    .dataframe thead th {\n",
       "        text-align: right;\n",
       "    }\n",
       "</style>\n",
       "<table border=\"1\" class=\"dataframe\">\n",
       "  <thead>\n",
       "    <tr style=\"text-align: right;\">\n",
       "      <th></th>\n",
       "      <th>strategyCode</th>\n",
       "      <th>strategyName</th>\n",
       "    </tr>\n",
       "  </thead>\n",
       "  <tbody>\n",
       "    <tr>\n",
       "      <th>0</th>\n",
       "      <td>49287246f9704bbcbad76ade9e2091d9</td>\n",
       "      <td>EMA Regular Order Strategy</td>\n",
       "    </tr>\n",
       "    <tr>\n",
       "      <th>1</th>\n",
       "      <td>4faf514fe096432b8e9f80f5951bd2ea</td>\n",
       "      <td>MACD Bracket Order Strategy</td>\n",
       "    </tr>\n",
       "  </tbody>\n",
       "</table>\n",
       "</div>"
      ],
      "text/plain": [
       "                       strategyCode                 strategyName\n",
       "0  49287246f9704bbcbad76ade9e2091d9   EMA Regular Order Strategy\n",
       "1  4faf514fe096432b8e9f80f5951bd2ea  MACD Bracket Order Strategy"
      ]
     },
     "execution_count": 24,
     "metadata": {},
     "output_type": "execute_result"
    }
   ],
   "source": [
    "all_strategies = algobulls_connection.get_all_strategies()\n",
    "all_strategies"
   ]
  },
  {
   "cell_type": "code",
   "execution_count": 25,
   "metadata": {},
   "outputs": [
    {
     "data": {
      "text/plain": [
       "'4faf514fe096432b8e9f80f5951bd2ea'"
      ]
     },
     "execution_count": 25,
     "metadata": {},
     "output_type": "execute_result"
    }
   ],
   "source": [
    "strategy_code2 = all_strategies.iloc[1]['strategyCode']\n",
    "strategy_code2"
   ]
  },
  {
   "cell_type": "code",
   "execution_count": 26,
   "metadata": {},
   "outputs": [
    {
     "name": "stdout",
     "output_type": "stream",
     "text": [
      "class StrategyMACDBracketOrder(StrategyBase):\n",
      "\n",
      "    def __init__(self, *args, **kwargs):\n",
      "        super().__init__(*args, **kwargs)\n",
      "\n",
      "        self.fastMA_period = self.strategy_parameters['fastma_period']\n",
      "        self.slowMA_period = self.strategy_parameters['slowma_period']\n",
      "        self.signal_period = self.strategy_parameters['signal_period']\n",
      "        self.stoploss = self.strategy_parameters['stoploss_trigger']\n",
      "        self.target = self.strategy_parameters['target_trigger']\n",
      "        self.trailing_stoploss = self.strategy_parameters['trailing_stoploss_trigger']\n",
      "\n",
      "        self.main_order = None\n",
      "\n",
      "    def initialize(self):\n",
      "        self.main_order = {}\n",
      "\n",
      "    @staticmethod\n",
      "    def name():\n",
      "        return 'MACD Bracket Order Strategy'\n",
      "\n",
      "    @staticmethod\n",
      "    def versions_supported():\n",
      "        return AlgoBullsEngineVersion.VERSION_3_2_0\n",
      "\n",
      "    def get_crossover_value(self, instrument):\n",
      "        hist_data = self.get_historical_data(instrument)\n",
      "        macdline, macdsignal, _ = talib.MACD(hist_data['close'],\n",
      "                                             fastperiod=self.fastMA_period,\n",
      "                                             slowperiod=self.slowMA_period,\n",
      "                                             signalperiod=self.signal_period)\n",
      "        crossover_value = self.utils.crossover(macdline, macdsignal)\n",
      "        return crossover_value\n",
      "\n",
      "    def strategy_select_instruments_for_entry(self, candle, instruments_bucket):\n",
      "\n",
      "        selected_instruments_bucket = []\n",
      "        sideband_info_bucket = []\n",
      "\n",
      "        for instrument in instruments_bucket:\n",
      "            crossover_value = self.get_crossover_value(instrument)\n",
      "            if crossover_value == 1:\n",
      "                selected_instruments_bucket.append(instrument)\n",
      "                sideband_info_bucket.append({'action': 'BUY'})\n",
      "            elif crossover_value == -1:\n",
      "                if self.strategy_mode is StrategyMode.INTRADAY:\n",
      "                    selected_instruments_bucket.append(instrument)\n",
      "                    sideband_info_bucket.append({'action': 'SELL'})\n",
      "\n",
      "        return selected_instruments_bucket, sideband_info_bucket\n",
      "\n",
      "    def strategy_enter_position(self, candle, instrument, sideband_info):\n",
      "        if sideband_info['action'] == 'BUY':\n",
      "            qty = self.number_of_lots * instrument.lot_size\n",
      "            ltp = self.broker.get_ltp(instrument)\n",
      "            self.main_order[instrument] = \\\n",
      "                self.broker.BuyOrderBracket(instrument=instrument,\n",
      "                                            order_code=BrokerOrderCodeConstants.INTRADAY,\n",
      "                                            order_variety=BrokerOrderVarietyConstants.LIMIT,\n",
      "                                            quantity=qty,\n",
      "                                            price=ltp,\n",
      "                                            stoploss_trigger=ltp - (ltp * self.stoploss),\n",
      "                                            target_trigger=ltp + (ltp * self.target),\n",
      "                                            trailing_stoploss_trigger=ltp * self.trailing_stoploss)\n",
      "\n",
      "        elif sideband_info['action'] == 'SELL':\n",
      "            qty = self.number_of_lots * instrument.lot_size\n",
      "            ltp = self.broker.get_ltp(instrument)\n",
      "            self.main_order[instrument] = \\\n",
      "                self.broker.SellOrderBracket(instrument=instrument,\n",
      "                                             order_code=BrokerOrderCodeConstants.INTRADAY,\n",
      "                                             order_variety=BrokerOrderVarietyConstants.LIMIT,\n",
      "                                             quantity=qty,\n",
      "                                             price=ltp,\n",
      "                                             stoploss_trigger=ltp + (ltp * self.stoploss),\n",
      "                                             target_trigger=ltp - (ltp * self.target),\n",
      "                                             trailing_stoploss_trigger=ltp * self.trailing_stoploss)\n",
      "        else:\n",
      "            raise SystemExit(f'Got invalid sideband_info value: {sideband_info}')\n",
      "\n",
      "        return self.main_order[instrument]\n",
      "\n",
      "    def strategy_select_instruments_for_exit(self, candle, instruments_bucket):\n",
      "        selected_instruments_bucket = []\n",
      "        sideband_info_bucket = []\n",
      "\n",
      "        for instrument in instruments_bucket:\n",
      "            if self.main_order.get(instrument) is not None:\n",
      "                crossover_value = self.get_crossover_value(instrument)\n",
      "                if crossover_value in [1, -1]:\n",
      "                    selected_instruments_bucket.append(instrument)\n",
      "                    sideband_info_bucket.append({'action': 'EXIT'})\n",
      "        return selected_instruments_bucket, sideband_info_bucket\n",
      "\n",
      "    def strategy_exit_position(self, candle, instrument, sideband_info):\n",
      "        if sideband_info['action'] == 'EXIT':\n",
      "            self.main_order[instrument].exit_position()\n",
      "            self.main_order[instrument] = None\n",
      "            return True\n",
      "\n",
      "        return False\n",
      "\n"
     ]
    }
   ],
   "source": [
    "strategy_details2 = algobulls_connection.get_strategy_details(strategy_code2)\n",
    "print(strategy_details2)"
   ]
  },
  {
   "cell_type": "markdown",
   "metadata": {},
   "source": [
    "### Recipe 7: MACD-Bracket-Order Strategy: Real Trading the Strategy"
   ]
  },
  {
   "cell_type": "code",
   "execution_count": 27,
   "metadata": {},
   "outputs": [],
   "source": [
    "from datetime import time\n",
    "from pyalgotrading.constants import *"
   ]
  },
  {
   "cell_type": "code",
   "execution_count": 28,
   "metadata": {},
   "outputs": [
    {
     "data": {
      "text/plain": [
       "[{'id': 1, 'value': 'NSE:TATASTEEL'}]"
      ]
     },
     "execution_count": 28,
     "metadata": {},
     "output_type": "execute_result"
    }
   ],
   "source": [
    "instrument = algobulls_connection.search_instrument('TATASTEEL')\n",
    "instrument"
   ]
  },
  {
   "cell_type": "code",
   "execution_count": 29,
   "metadata": {},
   "outputs": [
    {
     "data": {
      "text/plain": [
       "'NSE:SBIN'"
      ]
     },
     "execution_count": 29,
     "metadata": {},
     "output_type": "execute_result"
    }
   ],
   "source": [
    "instrument = instruments[0]['value']\n",
    "instrument"
   ]
  },
  {
   "cell_type": "code",
   "execution_count": 30,
   "metadata": {},
   "outputs": [
    {
     "name": "stdout",
     "output_type": "stream",
     "text": [
      "Setting Strategy Config... Success.\n",
      "Submitting REALTRADING job... Success.\n"
     ]
    }
   ],
   "source": [
    "algobulls_connection.realtrade(strategy_code=strategy_code2, \n",
    "                               start_time=time(hour=9, minute=15), \n",
    "                               end_time=time(hour=15, minute=30), \n",
    "                               instrument=instrument,\n",
    "                               lots=1,\n",
    "                               strategy_parameters={\n",
    "                                   'fastma_period': 26, \n",
    "                                   'slowma_period': 6, \n",
    "                                   'signal_period': 9,\n",
    "                                   'target_trigger': 0.01, \n",
    "                                   'stoploss_trigger': 0.01, \n",
    "                                   'trailing_stoploss_trigger': 1\n",
    "                               },\n",
    "                               candle_interval=CandleInterval.MINUTES_15)"
   ]
  },
  {
   "cell_type": "code",
   "execution_count": 31,
   "metadata": {},
   "outputs": [
    {
     "data": {
      "text/plain": [
       "{'data': 'STARTING'}"
      ]
     },
     "execution_count": 31,
     "metadata": {},
     "output_type": "execute_result"
    }
   ],
   "source": [
    "algobulls_connection.get_realtrading_job_status(strategy_code=strategy_code2)"
   ]
  },
  {
   "cell_type": "code",
   "execution_count": 32,
   "metadata": {},
   "outputs": [
    {
     "data": {
      "text/plain": [
       "{'data': 'STARTING'}"
      ]
     },
     "execution_count": 32,
     "metadata": {},
     "output_type": "execute_result"
    }
   ],
   "source": [
    "algobulls_connection.get_realtrading_job_status(strategy_code=strategy_code2)"
   ]
  },
  {
   "cell_type": "markdown",
   "metadata": {},
   "source": [
    "### There's more..."
   ]
  },
  {
   "cell_type": "code",
   "execution_count": 33,
   "metadata": {},
   "outputs": [
    {
     "name": "stdout",
     "output_type": "stream",
     "text": [
      "Stopping REALTRADING job... Fail.\n",
      "Forbidden: {'message': 'Strategy execution is in the STARTING state. Please wait for it to go to the STARTED state before STARTING it.'}\n"
     ]
    }
   ],
   "source": [
    "algobulls_connection.stop_realtrading_job(strategy_code=strategy_code2)"
   ]
  },
  {
   "cell_type": "code",
   "execution_count": 34,
   "metadata": {},
   "outputs": [
    {
     "data": {
      "text/plain": [
       "{'data': 'STARTING'}"
      ]
     },
     "execution_count": 34,
     "metadata": {},
     "output_type": "execute_result"
    }
   ],
   "source": [
    "algobulls_connection.get_realtrading_job_status(strategy_code=strategy_code2)"
   ]
  },
  {
   "cell_type": "code",
   "execution_count": 35,
   "metadata": {},
   "outputs": [
    {
     "data": {
      "text/plain": [
       "{'data': 'STARTING'}"
      ]
     },
     "execution_count": 35,
     "metadata": {},
     "output_type": "execute_result"
    }
   ],
   "source": [
    "algobulls_connection.get_realtrading_job_status(strategy_code=strategy_code2)"
   ]
  },
  {
   "cell_type": "markdown",
   "metadata": {},
   "source": [
    "### Recipe 8: MACD-Bracket-Order Strategy: Fetching Real Trading Logs in Realtime"
   ]
  },
  {
   "cell_type": "code",
   "execution_count": 36,
   "metadata": {},
   "outputs": [
    {
     "name": "stdout",
     "output_type": "stream",
     "text": [
      "[2020-07-31 15:19:07] Logs not available yet. Please retry in sometime.\n"
     ]
    }
   ],
   "source": [
    "logs = algobulls_connection.get_realtrading_logs(strategy_code=strategy_code2)\n",
    "print(logs)"
   ]
  },
  {
   "cell_type": "code",
   "execution_count": 39,
   "metadata": {},
   "outputs": [
    {
     "name": "stdout",
     "output_type": "stream",
     "text": [
      "[2020-07-31 09:49:53] Performing sanity checks on cfg strategy_parameters, setting up broker connection and required data structures...\n",
      "[2020-07-31 09:49:53] ABBroker connection has been setup successfully.\n",
      "[2020-07-31 09:49:53] Sanity checks on cfg successful.\n",
      "[2020-07-31 09:49:53] Setting up broker connection...\n",
      "[2020-07-31 09:50:00] Broker connection has been setup successfully.\n",
      "[2020-07-31 09:50:00] (NSE_EQ) Funds available in client's Zerodha account is : Rs. '1519.62'\n",
      "[2020-07-31 09:50:00] Funds less than risk appetite. Will not start | Rs. 1519.62 | Risk Appetite: 10000.0\n",
      "\n"
     ]
    }
   ],
   "source": [
    "logs = algobulls_connection.get_realtrading_logs(strategy_code=strategy_code2)\n",
    "print(logs)"
   ]
  },
  {
   "cell_type": "markdown",
   "metadata": {},
   "source": [
    "### Recipe 9: MACD-Bracket-Order Strategy: Fetching Real Trading Reports - Profit-n-Loss Table"
   ]
  },
  {
   "cell_type": "code",
   "execution_count": 37,
   "metadata": {},
   "outputs": [
    {
     "name": "stdout",
     "output_type": "stream",
     "text": [
      "Report not available yet. Please retry in sometime\n"
     ]
    }
   ],
   "source": [
    "algobulls_connection.get_realtrading_report_pnl_table(strategy_code=strategy_code2)"
   ]
  },
  {
   "cell_type": "markdown",
   "metadata": {},
   "source": [
    "### Recipe 10: MACD-Bracket-Order Strategy: Fetching Real Trading Reports - Statistics Table"
   ]
  },
  {
   "cell_type": "code",
   "execution_count": 38,
   "metadata": {},
   "outputs": [
    {
     "name": "stdout",
     "output_type": "stream",
     "text": [
      "Report not available yet. Please retry in sometime\n"
     ]
    }
   ],
   "source": [
    "algobulls_connection.get_realtrading_report_statistics(strategy_code=strategy_code2)"
   ]
  }
 ],
 "metadata": {
  "kernelspec": {
   "display_name": "Python 3",
   "language": "python",
   "name": "python3"
  },
  "language_info": {
   "codemirror_mode": {
    "name": "ipython",
    "version": 3
   },
   "file_extension": ".py",
   "mimetype": "text/x-python",
   "name": "python",
   "nbconvert_exporter": "python",
   "pygments_lexer": "ipython3",
   "version": "3.8.2"
  }
 },
 "nbformat": 4,
 "nbformat_minor": 2
}
