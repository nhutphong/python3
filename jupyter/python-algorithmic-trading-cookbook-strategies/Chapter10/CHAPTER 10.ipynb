{
 "cells": [
  {
   "cell_type": "markdown",
   "metadata": {},
   "source": [
    "# Python Algorithmic Trading Cookbook"
   ]
  },
  {
   "cell_type": "markdown",
   "metadata": {},
   "source": [
    "## Chapter 10: Algorithmic Trading: Paper Trading"
   ]
  },
  {
   "cell_type": "markdown",
   "metadata": {},
   "source": [
    "This Jupyter Notebook is created using Python version 3.8.2"
   ]
  },
  {
   "cell_type": "markdown",
   "metadata": {},
   "source": [
    "----"
   ]
  },
  {
   "cell_type": "markdown",
   "metadata": {},
   "source": [
    "### Requirements"
   ]
  },
  {
   "cell_type": "markdown",
   "metadata": {},
   "source": [
    "You can install the requirements for this Jupyter Notebook by executing the below cell"
   ]
  },
  {
   "cell_type": "code",
   "execution_count": 0,
   "metadata": {},
   "outputs": [],
   "source": [
    "!pip install pyalgotrading"
   ]
  },
  {
   "cell_type": "markdown",
   "metadata": {},
   "source": [
    "----"
   ]
  },
  {
   "cell_type": "markdown",
   "metadata": {},
   "source": [
    "### Recipe 1: EMA-Regular-Order Strategy: Fetching the Strategy"
   ]
  },
  {
   "cell_type": "code",
   "execution_count": 82,
   "metadata": {
    "scrolled": true
   },
   "outputs": [],
   "source": [
    "from pyalgotrading.algobulls import AlgoBullsConnection"
   ]
  },
  {
   "cell_type": "code",
   "execution_count": 83,
   "metadata": {},
   "outputs": [],
   "source": [
    "algobulls_connection = AlgoBullsConnection()"
   ]
  },
  {
   "cell_type": "code",
   "execution_count": 84,
   "metadata": {},
   "outputs": [
    {
     "name": "stdout",
     "output_type": "stream",
     "text": [
      "Please login to this URL with your AlgoBulls credentials and get your developer access token: https://app.algobulls.com/user/login\n"
     ]
    },
    {
     "data": {
      "text/plain": [
       "'https://app.algobulls.com/user/login'"
      ]
     },
     "execution_count": 84,
     "metadata": {},
     "output_type": "execute_result"
    }
   ],
   "source": [
    "algobulls_connection.get_authorization_url()"
   ]
  },
  {
   "cell_type": "code",
   "execution_count": 85,
   "metadata": {},
   "outputs": [],
   "source": [
    "algobulls_connection.set_access_token('7edd6cea07cb0f2549dae7d42115c130140417dc')"
   ]
  },
  {
   "cell_type": "code",
   "execution_count": 86,
   "metadata": {},
   "outputs": [
    {
     "data": {
      "text/html": [
       "<div>\n",
       "<style scoped>\n",
       "    .dataframe tbody tr th:only-of-type {\n",
       "        vertical-align: middle;\n",
       "    }\n",
       "\n",
       "    .dataframe tbody tr th {\n",
       "        vertical-align: top;\n",
       "    }\n",
       "\n",
       "    .dataframe thead th {\n",
       "        text-align: right;\n",
       "    }\n",
       "</style>\n",
       "<table border=\"1\" class=\"dataframe\">\n",
       "  <thead>\n",
       "    <tr style=\"text-align: right;\">\n",
       "      <th></th>\n",
       "      <th>strategyCode</th>\n",
       "      <th>strategyName</th>\n",
       "    </tr>\n",
       "  </thead>\n",
       "  <tbody>\n",
       "    <tr>\n",
       "      <th>0</th>\n",
       "      <td>49287246f9704bbcbad76ade9e2091d9</td>\n",
       "      <td>EMA Regular Order Strategy</td>\n",
       "    </tr>\n",
       "    <tr>\n",
       "      <th>1</th>\n",
       "      <td>4faf514fe096432b8e9f80f5951bd2ea</td>\n",
       "      <td>MACD Bracket Order Strategy</td>\n",
       "    </tr>\n",
       "  </tbody>\n",
       "</table>\n",
       "</div>"
      ],
      "text/plain": [
       "                       strategyCode                 strategyName\n",
       "0  49287246f9704bbcbad76ade9e2091d9   EMA Regular Order Strategy\n",
       "1  4faf514fe096432b8e9f80f5951bd2ea  MACD Bracket Order Strategy"
      ]
     },
     "execution_count": 86,
     "metadata": {},
     "output_type": "execute_result"
    }
   ],
   "source": [
    "all_strategies = algobulls_connection.get_all_strategies()\n",
    "all_strategies"
   ]
  },
  {
   "cell_type": "code",
   "execution_count": 87,
   "metadata": {},
   "outputs": [
    {
     "data": {
      "text/plain": [
       "'49287246f9704bbcbad76ade9e2091d9'"
      ]
     },
     "execution_count": 87,
     "metadata": {},
     "output_type": "execute_result"
    }
   ],
   "source": [
    "strategy_code1 = all_strategies.iloc[0]['strategyCode']\n",
    "strategy_code1"
   ]
  },
  {
   "cell_type": "code",
   "execution_count": 88,
   "metadata": {},
   "outputs": [
    {
     "name": "stdout",
     "output_type": "stream",
     "text": [
      "class StrategyEMARegularOrder(StrategyBase):\n",
      "\n",
      "    def __init__(self, *args, **kwargs):\n",
      "        super().__init__(*args, **kwargs)\n",
      "\n",
      "        self.timeperiod1 = self.strategy_parameters['timeperiod1']\n",
      "        self.timeperiod2 = self.strategy_parameters['timeperiod2']\n",
      "\n",
      "        self.main_order = None\n",
      "\n",
      "    def initialize(self):\n",
      "        self.main_order = {}\n",
      "\n",
      "    @staticmethod\n",
      "    def name():\n",
      "        return 'EMA Regular Order Strategy'\n",
      "\n",
      "    @staticmethod\n",
      "    def versions_supported():\n",
      "        return AlgoBullsEngineVersion.VERSION_3_2_0\n",
      "\n",
      "    def get_crossover_value(self, instrument):\n",
      "        hist_data = self.get_historical_data(instrument)\n",
      "        ema_x = talib.EMA(hist_data['close'], timeperiod=self.timeperiod1)\n",
      "        ema_y = talib.EMA(hist_data['close'], timeperiod=self.timeperiod2)\n",
      "        crossover_value = self.utils.crossover(ema_x, ema_y)\n",
      "        return crossover_value\n",
      "\n",
      "    def strategy_select_instruments_for_entry(self, candle, instruments_bucket):\n",
      "\n",
      "        selected_instruments_bucket = []\n",
      "        sideband_info_bucket = []\n",
      "\n",
      "        for instrument in instruments_bucket:\n",
      "            crossover_value = self.get_crossover_value(instrument)\n",
      "            if crossover_value == 1:\n",
      "                selected_instruments_bucket.append(instrument)\n",
      "                sideband_info_bucket.append({'action': 'BUY'})\n",
      "            elif crossover_value == -1:\n",
      "                if self.strategy_mode is StrategyMode.INTRADAY:\n",
      "                    selected_instruments_bucket.append(instrument)\n",
      "                    sideband_info_bucket.append({'action': 'SELL'})\n",
      "\n",
      "        return selected_instruments_bucket, sideband_info_bucket\n",
      "\n",
      "    def strategy_enter_position(self, candle, instrument, sideband_info):\n",
      "        if sideband_info['action'] == 'BUY':\n",
      "            qty = self.number_of_lots * instrument.lot_size\n",
      "            self.main_order[instrument] = \\\n",
      "                self.broker.BuyOrderRegular(instrument=instrument,\n",
      "                                            order_code=BrokerOrderCodeConstants.INTRADAY,\n",
      "                                            order_variety=BrokerOrderVarietyConstants.MARKET,\n",
      "                                            quantity=qty)\n",
      "        elif sideband_info['action'] == 'SELL':\n",
      "            qty = self.number_of_lots * instrument.lot_size\n",
      "            self.main_order[instrument] = \\\n",
      "                self.broker.SellOrderRegular(instrument=instrument,\n",
      "                                             order_code=BrokerOrderCodeConstants.INTRADAY,\n",
      "                                             order_variety=BrokerOrderVarietyConstants.MARKET,\n",
      "                                             quantity=qty)\n",
      "        else:\n",
      "            raise SystemExit(f'Got invalid sideband_info value: {sideband_info}')\n",
      "\n",
      "        return self.main_order[instrument]\n",
      "\n",
      "    def strategy_select_instruments_for_exit(self, candle, instruments_bucket):\n",
      "        selected_instruments_bucket = []\n",
      "        sideband_info_bucket = []\n",
      "\n",
      "        for instrument in instruments_bucket:\n",
      "            if self.main_order.get(instrument) is not None:\n",
      "                crossover_value = self.get_crossover_value(instrument)\n",
      "                if crossover_value in [1, -1]:\n",
      "                    selected_instruments_bucket.append(instrument)\n",
      "                    sideband_info_bucket.append({'action': 'EXIT'})\n",
      "        return selected_instruments_bucket, sideband_info_bucket\n",
      "\n",
      "    def strategy_exit_position(self, candle, instrument, sideband_info):\n",
      "        if sideband_info['action'] == 'EXIT':\n",
      "            self.main_order[instrument].exit_position()\n",
      "            self.main_order[instrument] = None\n",
      "            return True\n",
      "\n",
      "        return False\n",
      "\n"
     ]
    }
   ],
   "source": [
    "strategy_details1 = algobulls_connection.get_strategy_details(strategy_code1)\n",
    "print(strategy_details1)"
   ]
  },
  {
   "cell_type": "markdown",
   "metadata": {},
   "source": [
    "### Recipe 2: EMA-Regular-Order Strategy: Paper Trading the Strategy"
   ]
  },
  {
   "cell_type": "code",
   "execution_count": 89,
   "metadata": {},
   "outputs": [],
   "source": [
    "from datetime import time\n",
    "from pyalgotrading.constants import *"
   ]
  },
  {
   "cell_type": "code",
   "execution_count": 90,
   "metadata": {},
   "outputs": [
    {
     "data": {
      "text/plain": [
       "[{'id': 7, 'value': 'NSE:SBIN'}]"
      ]
     },
     "execution_count": 90,
     "metadata": {},
     "output_type": "execute_result"
    }
   ],
   "source": [
    "instruments = algobulls_connection.search_instrument('SBIN')\n",
    "instruments"
   ]
  },
  {
   "cell_type": "code",
   "execution_count": 91,
   "metadata": {},
   "outputs": [
    {
     "data": {
      "text/plain": [
       "'NSE:SBIN'"
      ]
     },
     "execution_count": 91,
     "metadata": {},
     "output_type": "execute_result"
    }
   ],
   "source": [
    "instrument = instruments[0]['value']\n",
    "instrument"
   ]
  },
  {
   "cell_type": "code",
   "execution_count": 92,
   "metadata": {},
   "outputs": [
    {
     "name": "stdout",
     "output_type": "stream",
     "text": [
      "Setting Strategy Config... Success.\n",
      "Submitting PAPERTRADING job... Success.\n"
     ]
    }
   ],
   "source": [
    "algobulls_connection.papertrade(strategy_code=strategy_code1, \n",
    "                                start_time=time(hour=9, minute=15), \n",
    "                                end_time=time(hour=15, minute=30), \n",
    "                                instrument=instrument, \n",
    "                                lots=1,\n",
    "                                strategy_parameters={\n",
    "                                    'timeperiod1': 5,\n",
    "                                    'timeperiod2': 12\n",
    "                                }, \n",
    "                                candle_interval=CandleInterval.MINUTES_15)"
   ]
  },
  {
   "cell_type": "code",
   "execution_count": 56,
   "metadata": {},
   "outputs": [
    {
     "data": {
      "text/plain": [
       "{'data': 'STARTING'}"
      ]
     },
     "execution_count": 56,
     "metadata": {},
     "output_type": "execute_result"
    }
   ],
   "source": [
    "algobulls_connection.get_papertrading_job_status(strategy_code1)"
   ]
  },
  {
   "cell_type": "code",
   "execution_count": 57,
   "metadata": {},
   "outputs": [
    {
     "data": {
      "text/plain": [
       "{'data': 'STARTING'}"
      ]
     },
     "execution_count": 57,
     "metadata": {},
     "output_type": "execute_result"
    }
   ],
   "source": [
    "algobulls_connection.get_papertrading_job_status(strategy_code1)"
   ]
  },
  {
   "cell_type": "markdown",
   "metadata": {},
   "source": [
    "### There's more..."
   ]
  },
  {
   "cell_type": "code",
   "execution_count": 58,
   "metadata": {},
   "outputs": [
    {
     "name": "stdout",
     "output_type": "stream",
     "text": [
      "Stopping PAPERTRADING job... Fail.\n",
      "Forbidden: {'message': 'Strategy execution is in the STARTING state. Please wait for it to go to the STARTED state before STARTING it.'}\n"
     ]
    }
   ],
   "source": [
    "algobulls_connection.stop_papertrading_job(strategy_code1)"
   ]
  },
  {
   "cell_type": "code",
   "execution_count": 59,
   "metadata": {},
   "outputs": [
    {
     "data": {
      "text/plain": [
       "{'data': 'STARTING'}"
      ]
     },
     "execution_count": 59,
     "metadata": {},
     "output_type": "execute_result"
    }
   ],
   "source": [
    "algobulls_connection.get_papertrading_job_status(strategy_code1)"
   ]
  },
  {
   "cell_type": "code",
   "execution_count": 60,
   "metadata": {},
   "outputs": [
    {
     "data": {
      "text/plain": [
       "{'data': 'STARTING'}"
      ]
     },
     "execution_count": 60,
     "metadata": {},
     "output_type": "execute_result"
    }
   ],
   "source": [
    "algobulls_connection.get_papertrading_job_status(strategy_code1)"
   ]
  },
  {
   "cell_type": "markdown",
   "metadata": {},
   "source": [
    "### Recipe 3: EMA-Regular-Order Strategy: Fetching Paper Trading Logs in Realtime"
   ]
  },
  {
   "cell_type": "code",
   "execution_count": 61,
   "metadata": {
    "scrolled": true
   },
   "outputs": [
    {
     "name": "stdout",
     "output_type": "stream",
     "text": [
      "[2020-07-31 09:09:39] Performing sanity checks on cfg strategy_parameters, setting up broker connection and required data structures...\n",
      "[2020-07-31 09:09:39] ABBroker connection has been setup successfully.\n",
      "[2020-07-31 09:09:39] Sanity checks on cfg successful.\n",
      "[2020-07-31 09:09:39] Setting up broker connection...\n",
      "[2020-07-31 09:09:39] Broker connection has been setup successfully.\n",
      "[2020-07-31 09:09:39] (NSE_EQ) Funds available in client's ABVirtualBroker account is : Rs. '1000000000.00'\n",
      "[2020-07-31 09:09:39] \n",
      "########################################\n",
      " INITIALIZING ALGOBULLS CORE (v3.2.0 SECURE MODE)... \n",
      "########################################\n",
      "[2020-07-31 09:09:39] Welcome ALGOBULLS VIRTUAL USER!\n",
      "[2020-07-31 09:09:39] Reading strategy...\n",
      "[2020-07-31 09:09:39] Entering Paper Trading mode. Henceforth, all timestamps will be Paper Trading timestamps...\n",
      "[2020-07-31 09:09:39] STARTING ALGOBULLS CORE...\n",
      "[2020-07-31 09:09:39] \n",
      "            \n",
      "  #####  #######    #    ######  ####### ### #     #  #####     \n",
      " #     #    #      # #   #     #    #     #  ##    # #     #    \n",
      " #          #     #   #  #     #    #     #  # #   # #          \n",
      "  #####     #    #     # ######     #     #  #  #  # #  ####    \n",
      "       #    #    ####### #   #      #     #  #   # # #     #    \n",
      " #     #    #    #     # #    #     #     #  #    ## #     #    \n",
      "  #####     #    #     # #     #    #    ### #     #  #####     \n",
      "\n",
      "    #    #        #####  ####### ######  #     # #       #        #####    \n",
      "   # #   #       #     # #     # #     # #     # #       #       #     #   \n",
      "  #   #  #       #       #     # #     # #     # #       #       #         \n",
      " #     # #       #  #### #     # ######  #     # #       #        #####    \n",
      " ####### #       #     # #     # #     # #     # #       #             #   \n",
      " #     # #       #     # #     # #     # #     # #       #       #     #   \n",
      " #     # #######  #####  ####### ######   #####  ####### #######  #####    \n",
      "\n",
      "  #####  ####### ######  #######\n",
      " #     # #     # #     # #\n",
      " #       #     # #     # #\n",
      " #       #     # ######  #####\n",
      " #       #     # #   #   #\n",
      " #     # #     # #    #  #\n",
      "  #####  ####### #     # #######\n",
      "[2020-07-31 09:09:39] --------------------Master Cfg Parameters:--------------------\n",
      "[2020-07-31 09:09:39] User: ALGOBULLS VIRTUAL USER\n",
      "[2020-07-31 09:09:39] Broker: ABVIRTUALBROKER\n",
      "[2020-07-31 09:09:39] AUTO_ADD_INSTRUMENTS_BUCKET_FROM_POSITIONS: False\n",
      "[2020-07-31 09:09:39] AUTO_ADD_INSTRUMENTS_BUCKET_FROM_HOLDINGS_TPLUS1: False\n",
      "[2020-07-31 09:09:39] AUTO_ADD_INSTRUMENTS_BUCKET_FROM_HOLDINGS_TPLUS2: False\n",
      "[2020-07-31 09:09:39] RESUME_POSITIONS_ON_START: True\n",
      "[2020-07-31 09:09:39] RESUME_HOLDINGS_TPLUS1_ON_START: True\n",
      "[2020-07-31 09:09:39] RESUME_HOLDINGS_TPLUS2_ON_START: True\n",
      "[2020-07-31 09:09:39] EXIT_INTRADAY_ORDERS_ON_STOP: False\n",
      "[2020-07-31 09:09:39] EXIT_TPLUS1_DELIVERY_ORDERS_ON_STOP: False\n",
      "[2020-07-31 09:09:39] EXIT_TPLUS2_DELIVERY_ORDERS_ON_STOP: False\n",
      "[2020-07-31 09:09:39] --------------------User Cfg Parameters: System Parameters--------------------\n",
      "[2020-07-31 09:09:39] Trading type: PAPERTRADING\n",
      "[2020-07-31 09:09:39] User trading start time: 2020-07-31 09:15:00\n",
      "[2020-07-31 09:09:39] User trading end time: 2020-07-31 23:15:00\n",
      "[2020-07-31 09:09:39] --------------------User Cfg Parameters: Funds Parameters--------------------\n",
      "[2020-07-31 09:09:39] Credit Exposure: 1\n",
      "[2020-07-31 09:09:39] Fund Allocator: FundAllocatorLots\n",
      "[2020-07-31 09:09:39] Fund Allocator Parameters: {'NUMBER_OF_LOTS': 1}\n",
      "[2020-07-31 09:09:39] --------------------User Cfg Parameters: Candle Parameters--------------------\n",
      "[2020-07-31 09:09:39] Candle interval (sec): 900\n",
      "[2020-07-31 09:09:39] --------------------User Cfg Parameters: Strategy Parameters--------------------\n",
      "[2020-07-31 09:09:39] Strategy: EMA Regular Order Strategy\n",
      "[2020-07-31 09:09:39] Parameters: {'timeperiod1': 5, 'timeperiod2': 12}\n",
      "[2020-07-31 09:09:39] Strategy Mode: INTRADAY\n",
      "[2020-07-31 09:09:39] Instruments Bucket: instruments_bucket | [NSE_EQ:SBIN]\n",
      "[2020-07-31 09:09:39] --------------------User Cfg Parameters: Risk Management Parameters--------------------\n",
      "[2020-07-31 09:09:39] Target Trigger: 0.1000\n",
      "[2020-07-31 09:09:39] Stoploss Trigger: 0.1000\n",
      "[2020-07-31 09:09:39] Trailing Stoploss Trigger: 0.1000\n",
      "[2020-07-31 09:09:39] Desired profit: 123123.0\n",
      "[2020-07-31 09:09:39] Risk Appetite: 1234.0\n",
      "[2020-07-31 09:09:39] PNL scan frequency (in sec): 30\n",
      "[2020-07-31 09:09:39] --------------------User Cfg Parameters: Other Parameters--------------------\n",
      "[2020-07-31 09:09:39] Allow multiple orders for same script: True\n",
      "[2020-07-31 09:09:39] Allow new order when order for script already running: True\n",
      "[2020-07-31 09:09:39] Instrument max orders count: 100\n",
      "[2020-07-31 09:09:39] Remove Instrument if Order Rejected: False\n",
      "[2020-07-31 09:09:39] ------------------------------------------------------------\n",
      "[2020-07-31 09:09:39] Instrument (NSE_EQ:SBIN) subscribed to historical data successfully\n",
      "[2020-07-31 09:09:39] 1 Instrument(s) (re)subscribed to historical data successfully\n",
      "[2020-07-31 09:09:39] Prefetching historical data for 1 instruments...\n",
      "[2020-07-31 09:09:40] Received event EXCEPTION. Stopping Trading Core Engine...\n",
      "[2020-07-31 09:09:40] Stopping without exiting any positions...\n",
      "[2020-07-31 09:09:40] [User: ALGOBULLS VIRTUAL USER] Trading session completed\n",
      "[2020-07-31 09:09:40] \n",
      "\n",
      "PENDING ORDERS:\n",
      "\n",
      "\n",
      "COMPLETED ORDERS:\n",
      "\n",
      "\n",
      "POSITIONS:\n",
      "\n",
      "\n",
      "HOLDINGS:\n",
      "[2020-07-31 09:10:45] Performing sanity checks on cfg strategy_parameters, setting up broker connection and required data structures...\n",
      "[2020-07-31 09:10:45] ABBroker connection has been setup successfully.\n",
      "[2020-07-31 09:10:45] Sanity checks on cfg successful.\n",
      "[2020-07-31 09:10:45] Setting up broker connection...\n",
      "[2020-07-31 09:10:45] Broker connection has been setup successfully.\n",
      "[2020-07-31 09:10:45] (NSE_EQ) Funds available in client's ABVirtualBroker account is : Rs. '1000000000.00'\n",
      "[2020-07-31 09:10:45] \n",
      "########################################\n",
      " INITIALIZING ALGOBULLS CORE (v3.2.0 SECURE MODE)... \n",
      "########################################\n",
      "[2020-07-31 09:10:45] Welcome ALGOBULLS VIRTUAL USER!\n",
      "[2020-07-31 09:10:45] Reading strategy...\n",
      "[2020-07-31 09:10:45] Entering Paper Trading mode. Henceforth, all timestamps will be Paper Trading timestamps...\n",
      "[2020-07-31 09:10:45] STARTING ALGOBULLS CORE...\n",
      "[2020-07-31 09:10:45] \n",
      "            \n",
      "  #####  #######    #    ######  ####### ### #     #  #####     \n",
      " #     #    #      # #   #     #    #     #  ##    # #     #    \n",
      " #          #     #   #  #     #    #     #  # #   # #          \n",
      "  #####     #    #     # ######     #     #  #  #  # #  ####    \n",
      "       #    #    ####### #   #      #     #  #   # # #     #    \n",
      " #     #    #    #     # #    #     #     #  #    ## #     #    \n",
      "  #####     #    #     # #     #    #    ### #     #  #####     \n",
      "\n",
      "    #    #        #####  ####### ######  #     # #       #        #####    \n",
      "   # #   #       #     # #     # #     # #     # #       #       #     #   \n",
      "  #   #  #       #       #     # #     # #     # #       #       #         \n",
      " #     # #       #  #### #     # ######  #     # #       #        #####    \n",
      " ####### #       #     # #     # #     # #     # #       #             #   \n",
      " #     # #       #     # #     # #     # #     # #       #       #     #   \n",
      " #     # #######  #####  ####### ######   #####  ####### #######  #####    \n",
      "\n",
      "  #####  ####### ######  #######\n",
      " #     # #     # #     # #\n",
      " #       #     # #     # #\n",
      " #       #     # ######  #####\n",
      " #       #     # #   #   #\n",
      " #     # #     # #    #  #\n",
      "  #####  ####### #     # #######\n",
      "[2020-07-31 09:10:45] --------------------Master Cfg Parameters:--------------------\n",
      "[2020-07-31 09:10:45] User: ALGOBULLS VIRTUAL USER\n",
      "[2020-07-31 09:10:45] Broker: ABVIRTUALBROKER\n",
      "[2020-07-31 09:10:45] AUTO_ADD_INSTRUMENTS_BUCKET_FROM_POSITIONS: False\n",
      "[2020-07-31 09:10:45] AUTO_ADD_INSTRUMENTS_BUCKET_FROM_HOLDINGS_TPLUS1: False\n",
      "[2020-07-31 09:10:45] AUTO_ADD_INSTRUMENTS_BUCKET_FROM_HOLDINGS_TPLUS2: False\n",
      "[2020-07-31 09:10:45] RESUME_POSITIONS_ON_START: True\n",
      "[2020-07-31 09:10:45] RESUME_HOLDINGS_TPLUS1_ON_START: True\n",
      "[2020-07-31 09:10:45] RESUME_HOLDINGS_TPLUS2_ON_START: True\n",
      "[2020-07-31 09:10:45] EXIT_INTRADAY_ORDERS_ON_STOP: False\n",
      "[2020-07-31 09:10:45] EXIT_TPLUS1_DELIVERY_ORDERS_ON_STOP: False\n",
      "[2020-07-31 09:10:45] EXIT_TPLUS2_DELIVERY_ORDERS_ON_STOP: False\n",
      "[2020-07-31 09:10:45] --------------------User Cfg Parameters: System Parameters--------------------\n",
      "[2020-07-31 09:10:45] Trading type: PAPERTRADING\n",
      "[2020-07-31 09:10:45] User trading start time: 2020-07-31 09:15:00\n",
      "[2020-07-31 09:10:45] User trading end time: 2020-07-31 23:15:00\n",
      "[2020-07-31 09:10:45] --------------------User Cfg Parameters: Funds Parameters--------------------\n",
      "[2020-07-31 09:10:45] Credit Exposure: 1\n",
      "[2020-07-31 09:10:45] Fund Allocator: FundAllocatorLots\n",
      "[2020-07-31 09:10:45] Fund Allocator Parameters: {'NUMBER_OF_LOTS': 1}\n",
      "[2020-07-31 09:10:45] --------------------User Cfg Parameters: Candle Parameters--------------------\n",
      "[2020-07-31 09:10:45] Candle interval (sec): 900\n",
      "[2020-07-31 09:10:45] --------------------User Cfg Parameters: Strategy Parameters--------------------\n",
      "[2020-07-31 09:10:45] Strategy: EMA Regular Order Strategy\n",
      "[2020-07-31 09:10:45] Parameters: {'timeperiod1': 5, 'timeperiod2': 12}\n",
      "[2020-07-31 09:10:45] Strategy Mode: INTRADAY\n",
      "[2020-07-31 09:10:45] Instruments Bucket: instruments_bucket | [NSE_EQ:SBIN]\n",
      "[2020-07-31 09:10:45] --------------------User Cfg Parameters: Risk Management Parameters--------------------\n",
      "[2020-07-31 09:10:45] Target Trigger: 0.1000\n",
      "[2020-07-31 09:10:45] Stoploss Trigger: 0.1000\n",
      "[2020-07-31 09:10:45] Trailing Stoploss Trigger: 0.1000\n",
      "[2020-07-31 09:10:45] Desired profit: 123123.0\n",
      "[2020-07-31 09:10:45] Risk Appetite: 1234.0\n",
      "[2020-07-31 09:10:45] PNL scan frequency (in sec): 30\n",
      "[2020-07-31 09:10:45] --------------------User Cfg Parameters: Other Parameters--------------------\n",
      "[2020-07-31 09:10:45] Allow multiple orders for same script: True\n",
      "[2020-07-31 09:10:45] Allow new order when order for script already running: True\n",
      "[2020-07-31 09:10:45] Instrument max orders count: 100\n",
      "[2020-07-31 09:10:45] Remove Instrument if Order Rejected: False\n",
      "[2020-07-31 09:10:45] ------------------------------------------------------------\n",
      "[2020-07-31 09:10:45] Instrument (NSE_EQ:SBIN) subscribed to historical data successfully\n",
      "[2020-07-31 09:10:45] 1 Instrument(s) (re)subscribed to historical data successfully\n",
      "[2020-07-31 09:10:45] Prefetching historical data for 1 instruments...\n",
      "[2020-07-31 09:10:46] Received event EXCEPTION. Stopping Trading Core Engine...\n",
      "[2020-07-31 09:10:46] Stopping without exiting any positions...\n",
      "[2020-07-31 09:10:46] [User: ALGOBULLS VIRTUAL USER] Trading session completed\n",
      "[2020-07-31 09:10:46] \n",
      "\n",
      "PENDING ORDERS:\n",
      "\n",
      "\n",
      "COMPLETED ORDERS:\n",
      "\n",
      "\n",
      "POSITIONS:\n",
      "\n",
      "\n",
      "HOLDINGS:\n",
      "[2020-07-31 09:12:39] Performing sanity checks on cfg strategy_parameters, setting up broker connection and required data structures...\n",
      "[2020-07-31 09:12:39] ABBroker connection has been setup successfully.\n",
      "[2020-07-31 09:12:39] Sanity checks on cfg successful.\n",
      "[2020-07-31 09:12:39] Setting up broker connection...\n",
      "[2020-07-31 09:12:39] Broker connection has been setup successfully.\n",
      "[2020-07-31 09:12:39] (NSE_EQ) Funds available in client's ABVirtualBroker account is : Rs. '1000000000.00'\n",
      "[2020-07-31 09:12:39] \n",
      "########################################\n",
      " INITIALIZING ALGOBULLS CORE (v3.2.0 SECURE MODE)... \n",
      "########################################\n",
      "[2020-07-31 09:12:39] Welcome ALGOBULLS VIRTUAL USER!\n",
      "[2020-07-31 09:12:39] Reading strategy...\n",
      "[2020-07-31 09:12:39] Entering Paper Trading mode. Henceforth, all timestamps will be Paper Trading timestamps...\n",
      "[2020-07-31 09:12:39] STARTING ALGOBULLS CORE...\n",
      "[2020-07-31 09:12:39] \n",
      "            \n",
      "  #####  #######    #    ######  ####### ### #     #  #####     \n",
      " #     #    #      # #   #     #    #     #  ##    # #     #    \n",
      " #          #     #   #  #     #    #     #  # #   # #          \n",
      "  #####     #    #     # ######     #     #  #  #  # #  ####    \n",
      "       #    #    ####### #   #      #     #  #   # # #     #    \n",
      " #     #    #    #     # #    #     #     #  #    ## #     #    \n",
      "  #####     #    #     # #     #    #    ### #     #  #####     \n",
      "\n",
      "    #    #        #####  ####### ######  #     # #       #        #####    \n",
      "   # #   #       #     # #     # #     # #     # #       #       #     #   \n",
      "  #   #  #       #       #     # #     # #     # #       #       #         \n",
      " #     # #       #  #### #     # ######  #     # #       #        #####    \n",
      " ####### #       #     # #     # #     # #     # #       #             #   \n",
      " #     # #       #     # #     # #     # #     # #       #       #     #   \n",
      " #     # #######  #####  ####### ######   #####  ####### #######  #####    \n",
      "\n",
      "  #####  ####### ######  #######\n",
      " #     # #     # #     # #\n",
      " #       #     # #     # #\n",
      " #       #     # ######  #####\n",
      " #       #     # #   #   #\n",
      " #     # #     # #    #  #\n",
      "  #####  ####### #     # #######\n",
      "[2020-07-31 09:12:39] --------------------Master Cfg Parameters:--------------------\n",
      "[2020-07-31 09:12:39] User: ALGOBULLS VIRTUAL USER\n",
      "[2020-07-31 09:12:39] Broker: ABVIRTUALBROKER\n",
      "[2020-07-31 09:12:39] AUTO_ADD_INSTRUMENTS_BUCKET_FROM_POSITIONS: False\n",
      "[2020-07-31 09:12:39] AUTO_ADD_INSTRUMENTS_BUCKET_FROM_HOLDINGS_TPLUS1: False\n",
      "[2020-07-31 09:12:39] AUTO_ADD_INSTRUMENTS_BUCKET_FROM_HOLDINGS_TPLUS2: False\n",
      "[2020-07-31 09:12:39] RESUME_POSITIONS_ON_START: True\n",
      "[2020-07-31 09:12:39] RESUME_HOLDINGS_TPLUS1_ON_START: True\n",
      "[2020-07-31 09:12:39] RESUME_HOLDINGS_TPLUS2_ON_START: True\n",
      "[2020-07-31 09:12:39] EXIT_INTRADAY_ORDERS_ON_STOP: False\n",
      "[2020-07-31 09:12:39] EXIT_TPLUS1_DELIVERY_ORDERS_ON_STOP: False\n",
      "[2020-07-31 09:12:39] EXIT_TPLUS2_DELIVERY_ORDERS_ON_STOP: False\n",
      "[2020-07-31 09:12:39] --------------------User Cfg Parameters: System Parameters--------------------\n",
      "[2020-07-31 09:12:39] Trading type: PAPERTRADING\n",
      "[2020-07-31 09:12:39] User trading start time: 2020-07-31 09:15:00\n",
      "[2020-07-31 09:12:39] User trading end time: 2020-07-31 23:15:00\n",
      "[2020-07-31 09:12:39] --------------------User Cfg Parameters: Funds Parameters--------------------\n",
      "[2020-07-31 09:12:39] Credit Exposure: 1\n",
      "[2020-07-31 09:12:39] Fund Allocator: FundAllocatorLots\n",
      "[2020-07-31 09:12:39] Fund Allocator Parameters: {'NUMBER_OF_LOTS': 1}\n",
      "[2020-07-31 09:12:39] --------------------User Cfg Parameters: Candle Parameters--------------------\n",
      "[2020-07-31 09:12:39] Candle interval (sec): 900\n",
      "[2020-07-31 09:12:39] --------------------User Cfg Parameters: Strategy Parameters--------------------\n",
      "[2020-07-31 09:12:39] Strategy: EMA Regular Order Strategy\n",
      "[2020-07-31 09:12:39] Parameters: {'timeperiod1': 5, 'timeperiod2': 12}\n",
      "[2020-07-31 09:12:39] Strategy Mode: INTRADAY\n",
      "[2020-07-31 09:12:39] Instruments Bucket: instruments_bucket | [NSE_EQ:SBIN]\n",
      "[2020-07-31 09:12:39] --------------------User Cfg Parameters: Risk Management Parameters--------------------\n",
      "[2020-07-31 09:12:39] Target Trigger: 0.1000\n",
      "[2020-07-31 09:12:39] Stoploss Trigger: 0.1000\n",
      "[2020-07-31 09:12:39] Trailing Stoploss Trigger: 0.1000\n",
      "[2020-07-31 09:12:39] Desired profit: 123123.0\n",
      "[2020-07-31 09:12:39] Risk Appetite: 1234.0\n",
      "[2020-07-31 09:12:39] PNL scan frequency (in sec): 30\n",
      "[2020-07-31 09:12:39] --------------------User Cfg Parameters: Other Parameters--------------------\n",
      "[2020-07-31 09:12:39] Allow multiple orders for same script: True\n",
      "[2020-07-31 09:12:39] Allow new order when order for script already running: True\n",
      "[2020-07-31 09:12:39] Instrument max orders count: 100\n",
      "[2020-07-31 09:12:39] Remove Instrument if Order Rejected: False\n",
      "[2020-07-31 09:12:39] ------------------------------------------------------------\n",
      "[2020-07-31 09:12:39] Instrument (NSE_EQ:SBIN) subscribed to historical data successfully\n",
      "[2020-07-31 09:12:39] 1 Instrument(s) (re)subscribed to historical data successfully\n",
      "[2020-07-31 09:12:39] Prefetching historical data for 1 instruments...\n",
      "[2020-07-31 09:12:40] Received event EXCEPTION. Stopping Trading Core Engine...\n",
      "[2020-07-31 09:12:40] Stopping without exiting any positions...\n",
      "[2020-07-31 09:12:40] [User: ALGOBULLS VIRTUAL USER] Trading session completed\n",
      "[2020-07-31 09:12:40] \n",
      "\n",
      "PENDING ORDERS:\n",
      "\n",
      "\n",
      "COMPLETED ORDERS:\n",
      "\n",
      "\n",
      "POSITIONS:\n",
      "\n",
      "\n",
      "HOLDINGS:\n",
      "\n"
     ]
    }
   ],
   "source": [
    "logs = algobulls_connection.get_papertrading_logs(strategy_code1)\n",
    "print(logs)"
   ]
  },
  {
   "cell_type": "code",
   "execution_count": 62,
   "metadata": {},
   "outputs": [
    {
     "name": "stdout",
     "output_type": "stream",
     "text": [
      "[2020-07-31 09:09:39] Performing sanity checks on cfg strategy_parameters, setting up broker connection and required data structures...\n",
      "[2020-07-31 09:09:39] ABBroker connection has been setup successfully.\n",
      "[2020-07-31 09:09:39] Sanity checks on cfg successful.\n",
      "[2020-07-31 09:09:39] Setting up broker connection...\n",
      "[2020-07-31 09:09:39] Broker connection has been setup successfully.\n",
      "[2020-07-31 09:09:39] (NSE_EQ) Funds available in client's ABVirtualBroker account is : Rs. '1000000000.00'\n",
      "[2020-07-31 09:09:39] \n",
      "########################################\n",
      " INITIALIZING ALGOBULLS CORE (v3.2.0 SECURE MODE)... \n",
      "########################################\n",
      "[2020-07-31 09:09:39] Welcome ALGOBULLS VIRTUAL USER!\n",
      "[2020-07-31 09:09:39] Reading strategy...\n",
      "[2020-07-31 09:09:39] Entering Paper Trading mode. Henceforth, all timestamps will be Paper Trading timestamps...\n",
      "[2020-07-31 09:09:39] STARTING ALGOBULLS CORE...\n",
      "[2020-07-31 09:09:39] \n",
      "            \n",
      "  #####  #######    #    ######  ####### ### #     #  #####     \n",
      " #     #    #      # #   #     #    #     #  ##    # #     #    \n",
      " #          #     #   #  #     #    #     #  # #   # #          \n",
      "  #####     #    #     # ######     #     #  #  #  # #  ####    \n",
      "       #    #    ####### #   #      #     #  #   # # #     #    \n",
      " #     #    #    #     # #    #     #     #  #    ## #     #    \n",
      "  #####     #    #     # #     #    #    ### #     #  #####     \n",
      "\n",
      "    #    #        #####  ####### ######  #     # #       #        #####    \n",
      "   # #   #       #     # #     # #     # #     # #       #       #     #   \n",
      "  #   #  #       #       #     # #     # #     # #       #       #         \n",
      " #     # #       #  #### #     # ######  #     # #       #        #####    \n",
      " ####### #       #     # #     # #     # #     # #       #             #   \n",
      " #     # #       #     # #     # #     # #     # #       #       #     #   \n",
      " #     # #######  #####  ####### ######   #####  ####### #######  #####    \n",
      "\n",
      "  #####  ####### ######  #######\n",
      " #     # #     # #     # #\n",
      " #       #     # #     # #\n",
      " #       #     # ######  #####\n",
      " #       #     # #   #   #\n",
      " #     # #     # #    #  #\n",
      "  #####  ####### #     # #######\n",
      "[2020-07-31 09:09:39] --------------------Master Cfg Parameters:--------------------\n",
      "[2020-07-31 09:09:39] User: ALGOBULLS VIRTUAL USER\n",
      "[2020-07-31 09:09:39] Broker: ABVIRTUALBROKER\n",
      "[2020-07-31 09:09:39] AUTO_ADD_INSTRUMENTS_BUCKET_FROM_POSITIONS: False\n",
      "[2020-07-31 09:09:39] AUTO_ADD_INSTRUMENTS_BUCKET_FROM_HOLDINGS_TPLUS1: False\n",
      "[2020-07-31 09:09:39] AUTO_ADD_INSTRUMENTS_BUCKET_FROM_HOLDINGS_TPLUS2: False\n",
      "[2020-07-31 09:09:39] RESUME_POSITIONS_ON_START: True\n",
      "[2020-07-31 09:09:39] RESUME_HOLDINGS_TPLUS1_ON_START: True\n",
      "[2020-07-31 09:09:39] RESUME_HOLDINGS_TPLUS2_ON_START: True\n",
      "[2020-07-31 09:09:39] EXIT_INTRADAY_ORDERS_ON_STOP: False\n",
      "[2020-07-31 09:09:39] EXIT_TPLUS1_DELIVERY_ORDERS_ON_STOP: False\n",
      "[2020-07-31 09:09:39] EXIT_TPLUS2_DELIVERY_ORDERS_ON_STOP: False\n",
      "[2020-07-31 09:09:39] --------------------User Cfg Parameters: System Parameters--------------------\n",
      "[2020-07-31 09:09:39] Trading type: PAPERTRADING\n",
      "[2020-07-31 09:09:39] User trading start time: 2020-07-31 09:15:00\n",
      "[2020-07-31 09:09:39] User trading end time: 2020-07-31 23:15:00\n",
      "[2020-07-31 09:09:39] --------------------User Cfg Parameters: Funds Parameters--------------------\n",
      "[2020-07-31 09:09:39] Credit Exposure: 1\n",
      "[2020-07-31 09:09:39] Fund Allocator: FundAllocatorLots\n",
      "[2020-07-31 09:09:39] Fund Allocator Parameters: {'NUMBER_OF_LOTS': 1}\n",
      "[2020-07-31 09:09:39] --------------------User Cfg Parameters: Candle Parameters--------------------\n",
      "[2020-07-31 09:09:39] Candle interval (sec): 900\n",
      "[2020-07-31 09:09:39] --------------------User Cfg Parameters: Strategy Parameters--------------------\n",
      "[2020-07-31 09:09:39] Strategy: EMA Regular Order Strategy\n",
      "[2020-07-31 09:09:39] Parameters: {'timeperiod1': 5, 'timeperiod2': 12}\n",
      "[2020-07-31 09:09:39] Strategy Mode: INTRADAY\n",
      "[2020-07-31 09:09:39] Instruments Bucket: instruments_bucket | [NSE_EQ:SBIN]\n",
      "[2020-07-31 09:09:39] --------------------User Cfg Parameters: Risk Management Parameters--------------------\n",
      "[2020-07-31 09:09:39] Target Trigger: 0.1000\n",
      "[2020-07-31 09:09:39] Stoploss Trigger: 0.1000\n",
      "[2020-07-31 09:09:39] Trailing Stoploss Trigger: 0.1000\n",
      "[2020-07-31 09:09:39] Desired profit: 123123.0\n",
      "[2020-07-31 09:09:39] Risk Appetite: 1234.0\n",
      "[2020-07-31 09:09:39] PNL scan frequency (in sec): 30\n",
      "[2020-07-31 09:09:39] --------------------User Cfg Parameters: Other Parameters--------------------\n",
      "[2020-07-31 09:09:39] Allow multiple orders for same script: True\n",
      "[2020-07-31 09:09:39] Allow new order when order for script already running: True\n",
      "[2020-07-31 09:09:39] Instrument max orders count: 100\n",
      "[2020-07-31 09:09:39] Remove Instrument if Order Rejected: False\n",
      "[2020-07-31 09:09:39] ------------------------------------------------------------\n",
      "[2020-07-31 09:09:39] Instrument (NSE_EQ:SBIN) subscribed to historical data successfully\n",
      "[2020-07-31 09:09:39] 1 Instrument(s) (re)subscribed to historical data successfully\n",
      "[2020-07-31 09:09:39] Prefetching historical data for 1 instruments...\n",
      "[2020-07-31 09:09:40] Received event EXCEPTION. Stopping Trading Core Engine...\n",
      "[2020-07-31 09:09:40] Stopping without exiting any positions...\n",
      "[2020-07-31 09:09:40] [User: ALGOBULLS VIRTUAL USER] Trading session completed\n",
      "[2020-07-31 09:09:40] \n",
      "\n",
      "PENDING ORDERS:\n",
      "\n",
      "\n",
      "COMPLETED ORDERS:\n",
      "\n",
      "\n",
      "POSITIONS:\n",
      "\n",
      "\n",
      "HOLDINGS:\n",
      "[2020-07-31 09:10:45] Performing sanity checks on cfg strategy_parameters, setting up broker connection and required data structures...\n",
      "[2020-07-31 09:10:45] ABBroker connection has been setup successfully.\n",
      "[2020-07-31 09:10:45] Sanity checks on cfg successful.\n",
      "[2020-07-31 09:10:45] Setting up broker connection...\n",
      "[2020-07-31 09:10:45] Broker connection has been setup successfully.\n",
      "[2020-07-31 09:10:45] (NSE_EQ) Funds available in client's ABVirtualBroker account is : Rs. '1000000000.00'\n",
      "[2020-07-31 09:10:45] \n",
      "########################################\n",
      " INITIALIZING ALGOBULLS CORE (v3.2.0 SECURE MODE)... \n",
      "########################################\n",
      "[2020-07-31 09:10:45] Welcome ALGOBULLS VIRTUAL USER!\n",
      "[2020-07-31 09:10:45] Reading strategy...\n",
      "[2020-07-31 09:10:45] Entering Paper Trading mode. Henceforth, all timestamps will be Paper Trading timestamps...\n",
      "[2020-07-31 09:10:45] STARTING ALGOBULLS CORE...\n",
      "[2020-07-31 09:10:45] \n",
      "            \n",
      "  #####  #######    #    ######  ####### ### #     #  #####     \n",
      " #     #    #      # #   #     #    #     #  ##    # #     #    \n",
      " #          #     #   #  #     #    #     #  # #   # #          \n",
      "  #####     #    #     # ######     #     #  #  #  # #  ####    \n",
      "       #    #    ####### #   #      #     #  #   # # #     #    \n",
      " #     #    #    #     # #    #     #     #  #    ## #     #    \n",
      "  #####     #    #     # #     #    #    ### #     #  #####     \n",
      "\n",
      "    #    #        #####  ####### ######  #     # #       #        #####    \n",
      "   # #   #       #     # #     # #     # #     # #       #       #     #   \n",
      "  #   #  #       #       #     # #     # #     # #       #       #         \n",
      " #     # #       #  #### #     # ######  #     # #       #        #####    \n",
      " ####### #       #     # #     # #     # #     # #       #             #   \n",
      " #     # #       #     # #     # #     # #     # #       #       #     #   \n",
      " #     # #######  #####  ####### ######   #####  ####### #######  #####    \n",
      "\n",
      "  #####  ####### ######  #######\n",
      " #     # #     # #     # #\n",
      " #       #     # #     # #\n",
      " #       #     # ######  #####\n",
      " #       #     # #   #   #\n",
      " #     # #     # #    #  #\n",
      "  #####  ####### #     # #######\n",
      "[2020-07-31 09:10:45] --------------------Master Cfg Parameters:--------------------\n",
      "[2020-07-31 09:10:45] User: ALGOBULLS VIRTUAL USER\n",
      "[2020-07-31 09:10:45] Broker: ABVIRTUALBROKER\n",
      "[2020-07-31 09:10:45] AUTO_ADD_INSTRUMENTS_BUCKET_FROM_POSITIONS: False\n",
      "[2020-07-31 09:10:45] AUTO_ADD_INSTRUMENTS_BUCKET_FROM_HOLDINGS_TPLUS1: False\n",
      "[2020-07-31 09:10:45] AUTO_ADD_INSTRUMENTS_BUCKET_FROM_HOLDINGS_TPLUS2: False\n",
      "[2020-07-31 09:10:45] RESUME_POSITIONS_ON_START: True\n",
      "[2020-07-31 09:10:45] RESUME_HOLDINGS_TPLUS1_ON_START: True\n",
      "[2020-07-31 09:10:45] RESUME_HOLDINGS_TPLUS2_ON_START: True\n",
      "[2020-07-31 09:10:45] EXIT_INTRADAY_ORDERS_ON_STOP: False\n",
      "[2020-07-31 09:10:45] EXIT_TPLUS1_DELIVERY_ORDERS_ON_STOP: False\n",
      "[2020-07-31 09:10:45] EXIT_TPLUS2_DELIVERY_ORDERS_ON_STOP: False\n",
      "[2020-07-31 09:10:45] --------------------User Cfg Parameters: System Parameters--------------------\n",
      "[2020-07-31 09:10:45] Trading type: PAPERTRADING\n",
      "[2020-07-31 09:10:45] User trading start time: 2020-07-31 09:15:00\n",
      "[2020-07-31 09:10:45] User trading end time: 2020-07-31 23:15:00\n",
      "[2020-07-31 09:10:45] --------------------User Cfg Parameters: Funds Parameters--------------------\n",
      "[2020-07-31 09:10:45] Credit Exposure: 1\n",
      "[2020-07-31 09:10:45] Fund Allocator: FundAllocatorLots\n",
      "[2020-07-31 09:10:45] Fund Allocator Parameters: {'NUMBER_OF_LOTS': 1}\n",
      "[2020-07-31 09:10:45] --------------------User Cfg Parameters: Candle Parameters--------------------\n",
      "[2020-07-31 09:10:45] Candle interval (sec): 900\n",
      "[2020-07-31 09:10:45] --------------------User Cfg Parameters: Strategy Parameters--------------------\n",
      "[2020-07-31 09:10:45] Strategy: EMA Regular Order Strategy\n",
      "[2020-07-31 09:10:45] Parameters: {'timeperiod1': 5, 'timeperiod2': 12}\n",
      "[2020-07-31 09:10:45] Strategy Mode: INTRADAY\n",
      "[2020-07-31 09:10:45] Instruments Bucket: instruments_bucket | [NSE_EQ:SBIN]\n",
      "[2020-07-31 09:10:45] --------------------User Cfg Parameters: Risk Management Parameters--------------------\n",
      "[2020-07-31 09:10:45] Target Trigger: 0.1000\n",
      "[2020-07-31 09:10:45] Stoploss Trigger: 0.1000\n",
      "[2020-07-31 09:10:45] Trailing Stoploss Trigger: 0.1000\n",
      "[2020-07-31 09:10:45] Desired profit: 123123.0\n",
      "[2020-07-31 09:10:45] Risk Appetite: 1234.0\n",
      "[2020-07-31 09:10:45] PNL scan frequency (in sec): 30\n",
      "[2020-07-31 09:10:45] --------------------User Cfg Parameters: Other Parameters--------------------\n",
      "[2020-07-31 09:10:45] Allow multiple orders for same script: True\n",
      "[2020-07-31 09:10:45] Allow new order when order for script already running: True\n",
      "[2020-07-31 09:10:45] Instrument max orders count: 100\n",
      "[2020-07-31 09:10:45] Remove Instrument if Order Rejected: False\n",
      "[2020-07-31 09:10:45] ------------------------------------------------------------\n",
      "[2020-07-31 09:10:45] Instrument (NSE_EQ:SBIN) subscribed to historical data successfully\n",
      "[2020-07-31 09:10:45] 1 Instrument(s) (re)subscribed to historical data successfully\n",
      "[2020-07-31 09:10:45] Prefetching historical data for 1 instruments...\n",
      "[2020-07-31 09:10:46] Received event EXCEPTION. Stopping Trading Core Engine...\n",
      "[2020-07-31 09:10:46] Stopping without exiting any positions...\n",
      "[2020-07-31 09:10:46] [User: ALGOBULLS VIRTUAL USER] Trading session completed\n",
      "[2020-07-31 09:10:46] \n",
      "\n",
      "PENDING ORDERS:\n",
      "\n",
      "\n",
      "COMPLETED ORDERS:\n",
      "\n",
      "\n",
      "POSITIONS:\n",
      "\n",
      "\n",
      "HOLDINGS:\n",
      "[2020-07-31 09:12:39] Performing sanity checks on cfg strategy_parameters, setting up broker connection and required data structures...\n",
      "[2020-07-31 09:12:39] ABBroker connection has been setup successfully.\n",
      "[2020-07-31 09:12:39] Sanity checks on cfg successful.\n",
      "[2020-07-31 09:12:39] Setting up broker connection...\n",
      "[2020-07-31 09:12:39] Broker connection has been setup successfully.\n",
      "[2020-07-31 09:12:39] (NSE_EQ) Funds available in client's ABVirtualBroker account is : Rs. '1000000000.00'\n",
      "[2020-07-31 09:12:39] \n",
      "########################################\n",
      " INITIALIZING ALGOBULLS CORE (v3.2.0 SECURE MODE)... \n",
      "########################################\n",
      "[2020-07-31 09:12:39] Welcome ALGOBULLS VIRTUAL USER!\n",
      "[2020-07-31 09:12:39] Reading strategy...\n",
      "[2020-07-31 09:12:39] Entering Paper Trading mode. Henceforth, all timestamps will be Paper Trading timestamps...\n",
      "[2020-07-31 09:12:39] STARTING ALGOBULLS CORE...\n",
      "[2020-07-31 09:12:39] \n",
      "            \n",
      "  #####  #######    #    ######  ####### ### #     #  #####     \n",
      " #     #    #      # #   #     #    #     #  ##    # #     #    \n",
      " #          #     #   #  #     #    #     #  # #   # #          \n",
      "  #####     #    #     # ######     #     #  #  #  # #  ####    \n",
      "       #    #    ####### #   #      #     #  #   # # #     #    \n",
      " #     #    #    #     # #    #     #     #  #    ## #     #    \n",
      "  #####     #    #     # #     #    #    ### #     #  #####     \n",
      "\n",
      "    #    #        #####  ####### ######  #     # #       #        #####    \n",
      "   # #   #       #     # #     # #     # #     # #       #       #     #   \n",
      "  #   #  #       #       #     # #     # #     # #       #       #         \n",
      " #     # #       #  #### #     # ######  #     # #       #        #####    \n",
      " ####### #       #     # #     # #     # #     # #       #             #   \n",
      " #     # #       #     # #     # #     # #     # #       #       #     #   \n",
      " #     # #######  #####  ####### ######   #####  ####### #######  #####    \n",
      "\n",
      "  #####  ####### ######  #######\n",
      " #     # #     # #     # #\n",
      " #       #     # #     # #\n",
      " #       #     # ######  #####\n",
      " #       #     # #   #   #\n",
      " #     # #     # #    #  #\n",
      "  #####  ####### #     # #######\n",
      "[2020-07-31 09:12:39] --------------------Master Cfg Parameters:--------------------\n",
      "[2020-07-31 09:12:39] User: ALGOBULLS VIRTUAL USER\n",
      "[2020-07-31 09:12:39] Broker: ABVIRTUALBROKER\n",
      "[2020-07-31 09:12:39] AUTO_ADD_INSTRUMENTS_BUCKET_FROM_POSITIONS: False\n",
      "[2020-07-31 09:12:39] AUTO_ADD_INSTRUMENTS_BUCKET_FROM_HOLDINGS_TPLUS1: False\n",
      "[2020-07-31 09:12:39] AUTO_ADD_INSTRUMENTS_BUCKET_FROM_HOLDINGS_TPLUS2: False\n",
      "[2020-07-31 09:12:39] RESUME_POSITIONS_ON_START: True\n",
      "[2020-07-31 09:12:39] RESUME_HOLDINGS_TPLUS1_ON_START: True\n",
      "[2020-07-31 09:12:39] RESUME_HOLDINGS_TPLUS2_ON_START: True\n",
      "[2020-07-31 09:12:39] EXIT_INTRADAY_ORDERS_ON_STOP: False\n",
      "[2020-07-31 09:12:39] EXIT_TPLUS1_DELIVERY_ORDERS_ON_STOP: False\n",
      "[2020-07-31 09:12:39] EXIT_TPLUS2_DELIVERY_ORDERS_ON_STOP: False\n",
      "[2020-07-31 09:12:39] --------------------User Cfg Parameters: System Parameters--------------------\n",
      "[2020-07-31 09:12:39] Trading type: PAPERTRADING\n",
      "[2020-07-31 09:12:39] User trading start time: 2020-07-31 09:15:00\n",
      "[2020-07-31 09:12:39] User trading end time: 2020-07-31 23:15:00\n",
      "[2020-07-31 09:12:39] --------------------User Cfg Parameters: Funds Parameters--------------------\n",
      "[2020-07-31 09:12:39] Credit Exposure: 1\n",
      "[2020-07-31 09:12:39] Fund Allocator: FundAllocatorLots\n",
      "[2020-07-31 09:12:39] Fund Allocator Parameters: {'NUMBER_OF_LOTS': 1}\n",
      "[2020-07-31 09:12:39] --------------------User Cfg Parameters: Candle Parameters--------------------\n",
      "[2020-07-31 09:12:39] Candle interval (sec): 900\n",
      "[2020-07-31 09:12:39] --------------------User Cfg Parameters: Strategy Parameters--------------------\n",
      "[2020-07-31 09:12:39] Strategy: EMA Regular Order Strategy\n",
      "[2020-07-31 09:12:39] Parameters: {'timeperiod1': 5, 'timeperiod2': 12}\n",
      "[2020-07-31 09:12:39] Strategy Mode: INTRADAY\n",
      "[2020-07-31 09:12:39] Instruments Bucket: instruments_bucket | [NSE_EQ:SBIN]\n",
      "[2020-07-31 09:12:39] --------------------User Cfg Parameters: Risk Management Parameters--------------------\n",
      "[2020-07-31 09:12:39] Target Trigger: 0.1000\n",
      "[2020-07-31 09:12:39] Stoploss Trigger: 0.1000\n",
      "[2020-07-31 09:12:39] Trailing Stoploss Trigger: 0.1000\n",
      "[2020-07-31 09:12:39] Desired profit: 123123.0\n",
      "[2020-07-31 09:12:39] Risk Appetite: 1234.0\n",
      "[2020-07-31 09:12:39] PNL scan frequency (in sec): 30\n",
      "[2020-07-31 09:12:39] --------------------User Cfg Parameters: Other Parameters--------------------\n",
      "[2020-07-31 09:12:39] Allow multiple orders for same script: True\n",
      "[2020-07-31 09:12:39] Allow new order when order for script already running: True\n",
      "[2020-07-31 09:12:39] Instrument max orders count: 100\n",
      "[2020-07-31 09:12:39] Remove Instrument if Order Rejected: False\n",
      "[2020-07-31 09:12:39] ------------------------------------------------------------\n",
      "[2020-07-31 09:12:39] Instrument (NSE_EQ:SBIN) subscribed to historical data successfully\n",
      "[2020-07-31 09:12:39] 1 Instrument(s) (re)subscribed to historical data successfully\n",
      "[2020-07-31 09:12:39] Prefetching historical data for 1 instruments...\n",
      "[2020-07-31 09:12:40] Received event EXCEPTION. Stopping Trading Core Engine...\n",
      "[2020-07-31 09:12:40] Stopping without exiting any positions...\n",
      "[2020-07-31 09:12:40] [User: ALGOBULLS VIRTUAL USER] Trading session completed\n",
      "[2020-07-31 09:12:40] \n",
      "\n",
      "PENDING ORDERS:\n",
      "\n",
      "\n",
      "COMPLETED ORDERS:\n",
      "\n",
      "\n",
      "POSITIONS:\n",
      "\n",
      "\n",
      "HOLDINGS:\n",
      "\n"
     ]
    }
   ],
   "source": [
    "logs = algobulls_connection.get_papertrading_logs(strategy_code1)\n",
    "print(logs)"
   ]
  },
  {
   "cell_type": "markdown",
   "metadata": {},
   "source": [
    "### Recipe 4: EMA-Regular-Order Strategy: Fetching Paper Trading Report - Profit-&-Loss Table"
   ]
  },
  {
   "cell_type": "code",
   "execution_count": 63,
   "metadata": {
    "scrolled": true
   },
   "outputs": [
    {
     "name": "stdout",
     "output_type": "stream",
     "text": [
      "Report not available yet. Please retry in sometime\n"
     ]
    }
   ],
   "source": [
    "algobulls_connection.get_papertrading_report_pnl_table(strategy_code1)"
   ]
  },
  {
   "cell_type": "markdown",
   "metadata": {},
   "source": [
    "### Recipe 5: EMA-Regular-Order Strategy: Fetching Paper Trading Report - Statistics Table"
   ]
  },
  {
   "cell_type": "code",
   "execution_count": 64,
   "metadata": {},
   "outputs": [
    {
     "name": "stdout",
     "output_type": "stream",
     "text": [
      "Report not available yet. Please retry in sometime\n"
     ]
    }
   ],
   "source": [
    "algobulls_connection.get_papertrading_report_statistics(strategy_code1)"
   ]
  },
  {
   "cell_type": "markdown",
   "metadata": {},
   "source": [
    "### Recipe 6: EMA-Regular-Order Strategy: Fetching Paper Trading Report - Order History"
   ]
  },
  {
   "cell_type": "code",
   "execution_count": 65,
   "metadata": {},
   "outputs": [
    {
     "name": "stdout",
     "output_type": "stream",
     "text": [
      "[2020-07-31 14:51:57] Order History not available yet. Please retry in sometime.\n"
     ]
    }
   ],
   "source": [
    "order_history = algobulls_connection.get_papertrading_report_order_history(strategy_code1)\n",
    "print(order_history)"
   ]
  },
  {
   "cell_type": "markdown",
   "metadata": {},
   "source": [
    "### Recipe 7: MACD-Bracket-Order Strategy: Fetching the Strategy"
   ]
  },
  {
   "cell_type": "code",
   "execution_count": 66,
   "metadata": {},
   "outputs": [],
   "source": [
    "from pyalgotrading.algobulls import AlgoBullsConnection"
   ]
  },
  {
   "cell_type": "code",
   "execution_count": 67,
   "metadata": {},
   "outputs": [],
   "source": [
    "algobulls_connection = AlgoBullsConnection()"
   ]
  },
  {
   "cell_type": "code",
   "execution_count": 68,
   "metadata": {},
   "outputs": [
    {
     "name": "stdout",
     "output_type": "stream",
     "text": [
      "Please login to this URL with your AlgoBulls credentials and get your developer access token: https://app.algobulls.com/user/login\n"
     ]
    },
    {
     "data": {
      "text/plain": [
       "'https://app.algobulls.com/user/login'"
      ]
     },
     "execution_count": 68,
     "metadata": {},
     "output_type": "execute_result"
    }
   ],
   "source": [
    "algobulls_connection.get_authorization_url()"
   ]
  },
  {
   "cell_type": "code",
   "execution_count": 70,
   "metadata": {},
   "outputs": [],
   "source": [
    "algobulls_connection.set_access_token('b4e0f923d085d48f4665a079d760d2bb94c33a94')"
   ]
  },
  {
   "cell_type": "code",
   "execution_count": 71,
   "metadata": {},
   "outputs": [
    {
     "data": {
      "text/html": [
       "<div>\n",
       "<style scoped>\n",
       "    .dataframe tbody tr th:only-of-type {\n",
       "        vertical-align: middle;\n",
       "    }\n",
       "\n",
       "    .dataframe tbody tr th {\n",
       "        vertical-align: top;\n",
       "    }\n",
       "\n",
       "    .dataframe thead th {\n",
       "        text-align: right;\n",
       "    }\n",
       "</style>\n",
       "<table border=\"1\" class=\"dataframe\">\n",
       "  <thead>\n",
       "    <tr style=\"text-align: right;\">\n",
       "      <th></th>\n",
       "      <th>strategyCode</th>\n",
       "      <th>strategyName</th>\n",
       "    </tr>\n",
       "  </thead>\n",
       "  <tbody>\n",
       "    <tr>\n",
       "      <th>0</th>\n",
       "      <td>49287246f9704bbcbad76ade9e2091d9</td>\n",
       "      <td>EMA Regular Order Strategy</td>\n",
       "    </tr>\n",
       "    <tr>\n",
       "      <th>1</th>\n",
       "      <td>4faf514fe096432b8e9f80f5951bd2ea</td>\n",
       "      <td>MACD Bracket Order Strategy</td>\n",
       "    </tr>\n",
       "  </tbody>\n",
       "</table>\n",
       "</div>"
      ],
      "text/plain": [
       "                       strategyCode                 strategyName\n",
       "0  49287246f9704bbcbad76ade9e2091d9   EMA Regular Order Strategy\n",
       "1  4faf514fe096432b8e9f80f5951bd2ea  MACD Bracket Order Strategy"
      ]
     },
     "execution_count": 71,
     "metadata": {},
     "output_type": "execute_result"
    }
   ],
   "source": [
    "all_strategies = algobulls_connection.get_all_strategies()\n",
    "all_strategies"
   ]
  },
  {
   "cell_type": "code",
   "execution_count": 72,
   "metadata": {},
   "outputs": [
    {
     "data": {
      "text/plain": [
       "'4faf514fe096432b8e9f80f5951bd2ea'"
      ]
     },
     "execution_count": 72,
     "metadata": {},
     "output_type": "execute_result"
    }
   ],
   "source": [
    "strategy_code2 = all_strategies.iloc[1]['strategyCode']\n",
    "strategy_code2"
   ]
  },
  {
   "cell_type": "code",
   "execution_count": 73,
   "metadata": {},
   "outputs": [
    {
     "name": "stdout",
     "output_type": "stream",
     "text": [
      "class StrategyMACDBracketOrder(StrategyBase):\n",
      "\n",
      "    def __init__(self, *args, **kwargs):\n",
      "        super().__init__(*args, **kwargs)\n",
      "\n",
      "        self.fastMA_period = self.strategy_parameters['fastma_period']\n",
      "        self.slowMA_period = self.strategy_parameters['slowma_period']\n",
      "        self.signal_period = self.strategy_parameters['signal_period']\n",
      "        self.stoploss = self.strategy_parameters['stoploss_trigger']\n",
      "        self.target = self.strategy_parameters['target_trigger']\n",
      "        self.trailing_stoploss = self.strategy_parameters['trailing_stoploss_trigger']\n",
      "\n",
      "        self.main_order = None\n",
      "\n",
      "    def initialize(self):\n",
      "        self.main_order = {}\n",
      "\n",
      "    @staticmethod\n",
      "    def name():\n",
      "        return 'MACD Bracket Order Strategy'\n",
      "\n",
      "    @staticmethod\n",
      "    def versions_supported():\n",
      "        return AlgoBullsEngineVersion.VERSION_3_2_0\n",
      "\n",
      "    def get_crossover_value(self, instrument):\n",
      "        hist_data = self.get_historical_data(instrument)\n",
      "        macdline, macdsignal, _ = talib.MACD(hist_data['close'],\n",
      "                                             fastperiod=self.fastMA_period,\n",
      "                                             slowperiod=self.slowMA_period,\n",
      "                                             signalperiod=self.signal_period)\n",
      "        crossover_value = self.utils.crossover(macdline, macdsignal)\n",
      "        return crossover_value\n",
      "\n",
      "    def strategy_select_instruments_for_entry(self, candle, instruments_bucket):\n",
      "\n",
      "        selected_instruments_bucket = []\n",
      "        sideband_info_bucket = []\n",
      "\n",
      "        for instrument in instruments_bucket:\n",
      "            crossover_value = self.get_crossover_value(instrument)\n",
      "            if crossover_value == 1:\n",
      "                selected_instruments_bucket.append(instrument)\n",
      "                sideband_info_bucket.append({'action': 'BUY'})\n",
      "            elif crossover_value == -1:\n",
      "                if self.strategy_mode is StrategyMode.INTRADAY:\n",
      "                    selected_instruments_bucket.append(instrument)\n",
      "                    sideband_info_bucket.append({'action': 'SELL'})\n",
      "\n",
      "        return selected_instruments_bucket, sideband_info_bucket\n",
      "\n",
      "    def strategy_enter_position(self, candle, instrument, sideband_info):\n",
      "        if sideband_info['action'] == 'BUY':\n",
      "            qty = self.number_of_lots * instrument.lot_size\n",
      "            ltp = self.broker.get_ltp(instrument)\n",
      "            self.main_order[instrument] = \\\n",
      "                self.broker.BuyOrderBracket(instrument=instrument,\n",
      "                                            order_code=BrokerOrderCodeConstants.INTRADAY,\n",
      "                                            order_variety=BrokerOrderVarietyConstants.LIMIT,\n",
      "                                            quantity=qty,\n",
      "                                            price=ltp,\n",
      "                                            stoploss_trigger=ltp - (ltp * self.stoploss),\n",
      "                                            target_trigger=ltp + (ltp * self.target),\n",
      "                                            trailing_stoploss_trigger=ltp * self.trailing_stoploss)\n",
      "\n",
      "        elif sideband_info['action'] == 'SELL':\n",
      "            qty = self.number_of_lots * instrument.lot_size\n",
      "            ltp = self.broker.get_ltp(instrument)\n",
      "            self.main_order[instrument] = \\\n",
      "                self.broker.SellOrderBracket(instrument=instrument,\n",
      "                                             order_code=BrokerOrderCodeConstants.INTRADAY,\n",
      "                                             order_variety=BrokerOrderVarietyConstants.LIMIT,\n",
      "                                             quantity=qty,\n",
      "                                             price=ltp,\n",
      "                                             stoploss_trigger=ltp + (ltp * self.stoploss),\n",
      "                                             target_trigger=ltp - (ltp * self.target),\n",
      "                                             trailing_stoploss_trigger=ltp * self.trailing_stoploss)\n",
      "        else:\n",
      "            raise SystemExit(f'Got invalid sideband_info value: {sideband_info}')\n",
      "\n",
      "        return self.main_order[instrument]\n",
      "\n",
      "    def strategy_select_instruments_for_exit(self, candle, instruments_bucket):\n",
      "        selected_instruments_bucket = []\n",
      "        sideband_info_bucket = []\n",
      "\n",
      "        for instrument in instruments_bucket:\n",
      "            if self.main_order.get(instrument) is not None:\n",
      "                crossover_value = self.get_crossover_value(instrument)\n",
      "                if crossover_value in [1, -1]:\n",
      "                    selected_instruments_bucket.append(instrument)\n",
      "                    sideband_info_bucket.append({'action': 'EXIT'})\n",
      "        return selected_instruments_bucket, sideband_info_bucket\n",
      "\n",
      "    def strategy_exit_position(self, candle, instrument, sideband_info):\n",
      "        if sideband_info['action'] == 'EXIT':\n",
      "            self.main_order[instrument].exit_position()\n",
      "            self.main_order[instrument] = None\n",
      "            return True\n",
      "\n",
      "        return False\n",
      "\n"
     ]
    }
   ],
   "source": [
    "strategy_details2 = algobulls_connection.get_strategy_details(strategy_code2)\n",
    "print(strategy_details2)"
   ]
  },
  {
   "cell_type": "markdown",
   "metadata": {},
   "source": [
    "### Recipe 8: MACD-Bracket-Order Strategy: Paper Trading the Strategy"
   ]
  },
  {
   "cell_type": "code",
   "execution_count": 74,
   "metadata": {},
   "outputs": [],
   "source": [
    "from datetime import time\n",
    "from pyalgotrading.constants import *"
   ]
  },
  {
   "cell_type": "code",
   "execution_count": 75,
   "metadata": {},
   "outputs": [
    {
     "data": {
      "text/plain": [
       "[{'id': 1, 'value': 'NSE:TATASTEEL'}]"
      ]
     },
     "execution_count": 75,
     "metadata": {},
     "output_type": "execute_result"
    }
   ],
   "source": [
    "instrument = algobulls_connection.search_instrument('TATASTEEL')\n",
    "instrument"
   ]
  },
  {
   "cell_type": "code",
   "execution_count": 76,
   "metadata": {},
   "outputs": [
    {
     "data": {
      "text/plain": [
       "'NSE:SBIN'"
      ]
     },
     "execution_count": 76,
     "metadata": {},
     "output_type": "execute_result"
    }
   ],
   "source": [
    "instrument = instruments[0]['value']\n",
    "instrument"
   ]
  },
  {
   "cell_type": "code",
   "execution_count": 35,
   "metadata": {},
   "outputs": [
    {
     "name": "stdout",
     "output_type": "stream",
     "text": [
      "Setting Strategy Config... Success.\n",
      "Submitting PAPERTRADING job... Success.\n"
     ]
    }
   ],
   "source": [
    "algobulls_connection.papertrade(strategy_code=strategy_code2, \n",
    "                                start_time=time(hour=9, minute=15), \n",
    "                                end_time=time(hour=15, minute=30), \n",
    "                                instrument=instrument,\n",
    "                                lots=1,\n",
    "                                strategy_parameters={\n",
    "                                    'fastma_period': 26, \n",
    "                                    'slowma_period': 6, \n",
    "                                    'signal_period': 9,\n",
    "                                    'target_trigger': 0.01, \n",
    "                                    'stoploss_trigger': 0.01, \n",
    "                                    'trailing_stoploss_trigger': 1\n",
    "                                },\n",
    "                                candle_interval=CandleInterval.MINUTES_15)"
   ]
  },
  {
   "cell_type": "code",
   "execution_count": 36,
   "metadata": {},
   "outputs": [
    {
     "data": {
      "text/plain": [
       "{'data': 'STARTING'}"
      ]
     },
     "execution_count": 36,
     "metadata": {},
     "output_type": "execute_result"
    }
   ],
   "source": [
    "algobulls_connection.get_papertrading_job_status(strategy_code2)"
   ]
  },
  {
   "cell_type": "code",
   "execution_count": 37,
   "metadata": {},
   "outputs": [
    {
     "data": {
      "text/plain": [
       "{'data': 'STARTING'}"
      ]
     },
     "execution_count": 37,
     "metadata": {},
     "output_type": "execute_result"
    }
   ],
   "source": [
    "algobulls_connection.get_papertrading_job_status(strategy_code2)"
   ]
  },
  {
   "cell_type": "markdown",
   "metadata": {},
   "source": [
    "### There's more..."
   ]
  },
  {
   "cell_type": "code",
   "execution_count": 77,
   "metadata": {},
   "outputs": [
    {
     "name": "stdout",
     "output_type": "stream",
     "text": [
      "Stopping PAPERTRADING job... Fail.\n",
      "Forbidden: {'message': 'Strategy execution is in the STARTING state. Please wait for it to go to the STARTED state before STARTING it.'}\n"
     ]
    }
   ],
   "source": [
    "algobulls_connection.stop_papertrading_job(strategy_code2)"
   ]
  },
  {
   "cell_type": "code",
   "execution_count": 39,
   "metadata": {},
   "outputs": [
    {
     "data": {
      "text/plain": [
       "{'data': 'STARTING'}"
      ]
     },
     "execution_count": 39,
     "metadata": {},
     "output_type": "execute_result"
    }
   ],
   "source": [
    "algobulls_connection.get_papertrading_job_status(strategy_code2)"
   ]
  },
  {
   "cell_type": "code",
   "execution_count": 40,
   "metadata": {},
   "outputs": [
    {
     "data": {
      "text/plain": [
       "{'data': 'STARTING'}"
      ]
     },
     "execution_count": 40,
     "metadata": {},
     "output_type": "execute_result"
    }
   ],
   "source": [
    "algobulls_connection.get_papertrading_job_status(strategy_code2)"
   ]
  },
  {
   "cell_type": "markdown",
   "metadata": {},
   "source": [
    "### Recipe 9: MACD-Bracket-Order Strategy: Fetching Paper Trading Logs in Realtime"
   ]
  },
  {
   "cell_type": "code",
   "execution_count": 78,
   "metadata": {},
   "outputs": [
    {
     "name": "stdout",
     "output_type": "stream",
     "text": [
      "[2020-07-31 09:18:56] Performing sanity checks on cfg strategy_parameters, setting up broker connection and required data structures...\n",
      "[2020-07-31 09:18:56] ABBroker connection has been setup successfully.\n",
      "[2020-07-31 09:18:56] Sanity checks on cfg successful.\n",
      "[2020-07-31 09:18:56] Setting up broker connection...\n",
      "[2020-07-31 09:18:56] Broker connection has been setup successfully.\n",
      "[2020-07-31 09:18:56] (NSE_EQ) Funds available in client's ABVirtualBroker account is : Rs. '1000000000.00'\n",
      "[2020-07-31 09:18:56] \n",
      "########################################\n",
      " INITIALIZING ALGOBULLS CORE (v3.2.0 SECURE MODE)... \n",
      "########################################\n",
      "[2020-07-31 09:18:56] Welcome ALGOBULLS VIRTUAL USER!\n",
      "[2020-07-31 09:18:56] Reading strategy...\n",
      "[2020-07-31 09:18:56] Entering Paper Trading mode. Henceforth, all timestamps will be Paper Trading timestamps...\n",
      "[2020-07-31 09:18:56] STARTING ALGOBULLS CORE...\n",
      "[2020-07-31 09:18:56] \n",
      "            \n",
      "  #####  #######    #    ######  ####### ### #     #  #####     \n",
      " #     #    #      # #   #     #    #     #  ##    # #     #    \n",
      " #          #     #   #  #     #    #     #  # #   # #          \n",
      "  #####     #    #     # ######     #     #  #  #  # #  ####    \n",
      "       #    #    ####### #   #      #     #  #   # # #     #    \n",
      " #     #    #    #     # #    #     #     #  #    ## #     #    \n",
      "  #####     #    #     # #     #    #    ### #     #  #####     \n",
      "\n",
      "    #    #        #####  ####### ######  #     # #       #        #####    \n",
      "   # #   #       #     # #     # #     # #     # #       #       #     #   \n",
      "  #   #  #       #       #     # #     # #     # #       #       #         \n",
      " #     # #       #  #### #     # ######  #     # #       #        #####    \n",
      " ####### #       #     # #     # #     # #     # #       #             #   \n",
      " #     # #       #     # #     # #     # #     # #       #       #     #   \n",
      " #     # #######  #####  ####### ######   #####  ####### #######  #####    \n",
      "\n",
      "  #####  ####### ######  #######\n",
      " #     # #     # #     # #\n",
      " #       #     # #     # #\n",
      " #       #     # ######  #####\n",
      " #       #     # #   #   #\n",
      " #     # #     # #    #  #\n",
      "  #####  ####### #     # #######\n",
      "[2020-07-31 09:18:56] --------------------Master Cfg Parameters:--------------------\n",
      "[2020-07-31 09:18:56] User: ALGOBULLS VIRTUAL USER\n",
      "[2020-07-31 09:18:56] Broker: ABVIRTUALBROKER\n",
      "[2020-07-31 09:18:56] AUTO_ADD_INSTRUMENTS_BUCKET_FROM_POSITIONS: False\n",
      "[2020-07-31 09:18:56] AUTO_ADD_INSTRUMENTS_BUCKET_FROM_HOLDINGS_TPLUS1: False\n",
      "[2020-07-31 09:18:56] AUTO_ADD_INSTRUMENTS_BUCKET_FROM_HOLDINGS_TPLUS2: False\n",
      "[2020-07-31 09:18:56] RESUME_POSITIONS_ON_START: True\n",
      "[2020-07-31 09:18:56] RESUME_HOLDINGS_TPLUS1_ON_START: True\n",
      "[2020-07-31 09:18:56] RESUME_HOLDINGS_TPLUS2_ON_START: True\n",
      "[2020-07-31 09:18:56] EXIT_INTRADAY_ORDERS_ON_STOP: False\n",
      "[2020-07-31 09:18:56] EXIT_TPLUS1_DELIVERY_ORDERS_ON_STOP: False\n",
      "[2020-07-31 09:18:56] EXIT_TPLUS2_DELIVERY_ORDERS_ON_STOP: False\n",
      "[2020-07-31 09:18:56] --------------------User Cfg Parameters: System Parameters--------------------\n",
      "[2020-07-31 09:18:56] Trading type: PAPERTRADING\n",
      "[2020-07-31 09:18:56] User trading start time: 2020-07-31 09:15:00\n",
      "[2020-07-31 09:18:56] User trading end time: 2020-07-31 23:15:00\n",
      "[2020-07-31 09:18:56] --------------------User Cfg Parameters: Funds Parameters--------------------\n",
      "[2020-07-31 09:18:56] Credit Exposure: 1\n",
      "[2020-07-31 09:18:56] Fund Allocator: FundAllocatorLots\n",
      "[2020-07-31 09:18:56] Fund Allocator Parameters: {'NUMBER_OF_LOTS': 1}\n",
      "[2020-07-31 09:18:56] --------------------User Cfg Parameters: Candle Parameters--------------------\n",
      "[2020-07-31 09:18:56] Candle interval (sec): 900\n",
      "[2020-07-31 09:18:56] --------------------User Cfg Parameters: Strategy Parameters--------------------\n",
      "[2020-07-31 09:18:56] Strategy: MACD Bracket Order Strategy\n",
      "[2020-07-31 09:18:56] Parameters: {'fastma_period': 26, 'signal_period': 9, 'slowma_period': 6, 'stoploss_trigger': 0.01, 'target_trigger': 0.01, 'trailing_stoploss_trigger': 1}\n",
      "[2020-07-31 09:18:56] Strategy Mode: INTRADAY\n",
      "[2020-07-31 09:18:56] Instruments Bucket: instruments_bucket | [NSE_EQ:SBIN]\n",
      "[2020-07-31 09:18:56] --------------------User Cfg Parameters: Risk Management Parameters--------------------\n",
      "[2020-07-31 09:18:56] Target Trigger: 0.1000\n",
      "[2020-07-31 09:18:56] Stoploss Trigger: 0.1000\n",
      "[2020-07-31 09:18:56] Trailing Stoploss Trigger: 0.1000\n",
      "[2020-07-31 09:18:56] Desired profit: 20000.0\n",
      "[2020-07-31 09:18:56] Risk Appetite: 10000.0\n",
      "[2020-07-31 09:18:56] PNL scan frequency (in sec): 30\n",
      "[2020-07-31 09:18:56] --------------------User Cfg Parameters: Other Parameters--------------------\n",
      "[2020-07-31 09:18:56] Allow multiple orders for same script: True\n",
      "[2020-07-31 09:18:56] Allow new order when order for script already running: True\n",
      "[2020-07-31 09:18:56] Instrument max orders count: 100\n",
      "[2020-07-31 09:18:56] Remove Instrument if Order Rejected: False\n",
      "[2020-07-31 09:18:56] ------------------------------------------------------------\n",
      "[2020-07-31 09:18:56] Instrument (NSE_EQ:SBIN) subscribed to historical data successfully\n",
      "[2020-07-31 09:18:56] 1 Instrument(s) (re)subscribed to historical data successfully\n",
      "[2020-07-31 09:18:56] Prefetching historical data for 1 instruments...\n",
      "[2020-07-31 09:19:00] \n",
      "####################\n",
      "Strategy Parameters:\n",
      "{'fastma_period': 26,\n",
      " 'signal_period': 9,\n",
      " 'slowma_period': 6,\n",
      " 'stoploss_trigger': 0.01,\n",
      " 'target_trigger': 0.01,\n",
      " 'trailing_stoploss_trigger': 1}\n",
      "####################\n",
      "[2020-07-31 09:19:00] 1 Instrument(s) (re)subscribed to historical data successfully\n",
      "[2020-07-31 09:19:00] Opening current intraday positions, if any...\n",
      "[2020-07-31 09:19:00] Not processing holdings as STRATEGY_MODE is INTRADAY\n",
      "[2020-07-31 09:19:00] Waiting for 659.99 seconds until end of current candle (2020-07-31 09:30:00)...\n",
      "[2020-07-31 09:19:50] Performing sanity checks on cfg strategy_parameters, setting up broker connection and required data structures...\n",
      "[2020-07-31 09:19:50] ABBroker connection has been setup successfully.\n",
      "[2020-07-31 09:19:50] Sanity checks on cfg successful.\n",
      "[2020-07-31 09:19:50] Setting up broker connection...\n",
      "[2020-07-31 09:19:50] Broker connection has been setup successfully.\n",
      "[2020-07-31 09:19:50] (NSE_EQ) Funds available in client's ABVirtualBroker account is : Rs. '1000000000.00'\n",
      "[2020-07-31 09:19:50] \n",
      "########################################\n",
      " INITIALIZING ALGOBULLS CORE (v3.2.0 SECURE MODE)... \n",
      "########################################\n",
      "[2020-07-31 09:19:50] Welcome ALGOBULLS VIRTUAL USER!\n",
      "[2020-07-31 09:19:50] Reading strategy...\n",
      "[2020-07-31 09:19:50] Entering Paper Trading mode. Henceforth, all timestamps will be Paper Trading timestamps...\n",
      "[2020-07-31 09:19:50] STARTING ALGOBULLS CORE...\n",
      "[2020-07-31 09:19:50] \n",
      "            \n",
      "  #####  #######    #    ######  ####### ### #     #  #####     \n",
      " #     #    #      # #   #     #    #     #  ##    # #     #    \n",
      " #          #     #   #  #     #    #     #  # #   # #          \n",
      "  #####     #    #     # ######     #     #  #  #  # #  ####    \n",
      "       #    #    ####### #   #      #     #  #   # # #     #    \n",
      " #     #    #    #     # #    #     #     #  #    ## #     #    \n",
      "  #####     #    #     # #     #    #    ### #     #  #####     \n",
      "\n",
      "    #    #        #####  ####### ######  #     # #       #        #####    \n",
      "   # #   #       #     # #     # #     # #     # #       #       #     #   \n",
      "  #   #  #       #       #     # #     # #     # #       #       #         \n",
      " #     # #       #  #### #     # ######  #     # #       #        #####    \n",
      " ####### #       #     # #     # #     # #     # #       #             #   \n",
      " #     # #       #     # #     # #     # #     # #       #       #     #   \n",
      " #     # #######  #####  ####### ######   #####  ####### #######  #####    \n",
      "\n",
      "  #####  ####### ######  #######\n",
      " #     # #     # #     # #\n",
      " #       #     # #     # #\n",
      " #       #     # ######  #####\n",
      " #       #     # #   #   #\n",
      " #     # #     # #    #  #\n",
      "  #####  ####### #     # #######\n",
      "[2020-07-31 09:19:50] --------------------Master Cfg Parameters:--------------------\n",
      "[2020-07-31 09:19:50] User: ALGOBULLS VIRTUAL USER\n",
      "[2020-07-31 09:19:50] Broker: ABVIRTUALBROKER\n",
      "[2020-07-31 09:19:50] AUTO_ADD_INSTRUMENTS_BUCKET_FROM_POSITIONS: False\n",
      "[2020-07-31 09:19:50] AUTO_ADD_INSTRUMENTS_BUCKET_FROM_HOLDINGS_TPLUS1: False\n",
      "[2020-07-31 09:19:50] AUTO_ADD_INSTRUMENTS_BUCKET_FROM_HOLDINGS_TPLUS2: False\n",
      "[2020-07-31 09:19:50] RESUME_POSITIONS_ON_START: True\n",
      "[2020-07-31 09:19:50] RESUME_HOLDINGS_TPLUS1_ON_START: True\n",
      "[2020-07-31 09:19:50] RESUME_HOLDINGS_TPLUS2_ON_START: True\n",
      "[2020-07-31 09:19:50] EXIT_INTRADAY_ORDERS_ON_STOP: False\n",
      "[2020-07-31 09:19:50] EXIT_TPLUS1_DELIVERY_ORDERS_ON_STOP: False\n",
      "[2020-07-31 09:19:50] EXIT_TPLUS2_DELIVERY_ORDERS_ON_STOP: False\n",
      "[2020-07-31 09:19:50] --------------------User Cfg Parameters: System Parameters--------------------\n",
      "[2020-07-31 09:19:50] Trading type: PAPERTRADING\n",
      "[2020-07-31 09:19:50] User trading start time: 2020-07-31 09:15:00\n",
      "[2020-07-31 09:19:50] User trading end time: 2020-07-31 23:15:00\n",
      "[2020-07-31 09:19:50] --------------------User Cfg Parameters: Funds Parameters--------------------\n",
      "[2020-07-31 09:19:50] Credit Exposure: 1\n",
      "[2020-07-31 09:19:50] Fund Allocator: FundAllocatorLots\n",
      "[2020-07-31 09:19:50] Fund Allocator Parameters: {'NUMBER_OF_LOTS': 1}\n",
      "[2020-07-31 09:19:50] --------------------User Cfg Parameters: Candle Parameters--------------------\n",
      "[2020-07-31 09:19:50] Candle interval (sec): 900\n",
      "[2020-07-31 09:19:50] --------------------User Cfg Parameters: Strategy Parameters--------------------\n",
      "[2020-07-31 09:19:50] Strategy: MACD Bracket Order Strategy\n",
      "[2020-07-31 09:19:50] Parameters: {'fastma_period': 26, 'signal_period': 9, 'slowma_period': 6, 'stoploss_trigger': 0.01, 'target_trigger': 0.01, 'trailing_stoploss_trigger': 1}\n",
      "[2020-07-31 09:19:50] Strategy Mode: INTRADAY\n",
      "[2020-07-31 09:19:50] Instruments Bucket: instruments_bucket | [NSE_EQ:SBIN]\n",
      "[2020-07-31 09:19:50] --------------------User Cfg Parameters: Risk Management Parameters--------------------\n",
      "[2020-07-31 09:19:50] Target Trigger: 0.1000\n",
      "[2020-07-31 09:19:50] Stoploss Trigger: 0.1000\n",
      "[2020-07-31 09:19:50] Trailing Stoploss Trigger: 0.1000\n",
      "[2020-07-31 09:19:50] Desired profit: 20000.0\n",
      "[2020-07-31 09:19:50] Risk Appetite: 10000.0\n",
      "[2020-07-31 09:19:50] PNL scan frequency (in sec): 30\n",
      "[2020-07-31 09:19:50] --------------------User Cfg Parameters: Other Parameters--------------------\n",
      "[2020-07-31 09:19:50] Allow multiple orders for same script: True\n",
      "[2020-07-31 09:19:50] Allow new order when order for script already running: True\n",
      "[2020-07-31 09:19:50] Instrument max orders count: 100\n",
      "[2020-07-31 09:19:50] Remove Instrument if Order Rejected: False\n",
      "[2020-07-31 09:19:50] ------------------------------------------------------------\n",
      "[2020-07-31 09:19:50] Instrument (NSE_EQ:SBIN) subscribed to historical data successfully\n",
      "[2020-07-31 09:19:50] 1 Instrument(s) (re)subscribed to historical data successfully\n",
      "[2020-07-31 09:19:50] Prefetching historical data for 1 instruments...\n",
      "[2020-07-31 09:19:51] \n",
      "####################\n",
      "Strategy Parameters:\n",
      "{'fastma_period': 26,\n",
      " 'signal_period': 9,\n",
      " 'slowma_period': 6,\n",
      " 'stoploss_trigger': 0.01,\n",
      " 'target_trigger': 0.01,\n",
      " 'trailing_stoploss_trigger': 1}\n",
      "####################\n",
      "[2020-07-31 09:19:51] 1 Instrument(s) (re)subscribed to historical data successfully\n",
      "[2020-07-31 09:19:51] Opening current intraday positions, if any...\n",
      "[2020-07-31 09:19:51] Not processing holdings as STRATEGY_MODE is INTRADAY\n",
      "[2020-07-31 09:19:51] Waiting for 608.04 seconds until end of current candle (2020-07-31 09:30:00)...\n",
      "\n"
     ]
    }
   ],
   "source": [
    "logs = algobulls_connection.get_papertrading_logs(strategy_code2)\n",
    "print(logs)"
   ]
  },
  {
   "cell_type": "code",
   "execution_count": 42,
   "metadata": {},
   "outputs": [
    {
     "name": "stdout",
     "output_type": "stream",
     "text": [
      "[2020-07-31 14:48:51] Logs not available yet. Please retry in sometime.\n"
     ]
    }
   ],
   "source": [
    "logs = algobulls_connection.get_papertrading_logs(strategy_code2)\n",
    "print(logs)"
   ]
  },
  {
   "cell_type": "markdown",
   "metadata": {},
   "source": [
    "### Recipe 10: MACD-Bracket-Order Strategy: Fetching Paper Trading Report - Profit-&-Loss Table"
   ]
  },
  {
   "cell_type": "code",
   "execution_count": 43,
   "metadata": {},
   "outputs": [
    {
     "name": "stdout",
     "output_type": "stream",
     "text": [
      "Report not available yet. Please retry in sometime\n"
     ]
    }
   ],
   "source": [
    "algobulls_connection.get_papertrading_report_pnl_table(strategy_code2)"
   ]
  },
  {
   "cell_type": "markdown",
   "metadata": {},
   "source": [
    "### Recipe 11: MACD-Bracket-Order Strategy: Fetching Paper Trading Report - Statistics Table"
   ]
  },
  {
   "cell_type": "code",
   "execution_count": 44,
   "metadata": {},
   "outputs": [
    {
     "name": "stdout",
     "output_type": "stream",
     "text": [
      "Report not available yet. Please retry in sometime\n"
     ]
    }
   ],
   "source": [
    "algobulls_connection.get_papertrading_report_statistics(strategy_code2)"
   ]
  },
  {
   "cell_type": "markdown",
   "metadata": {},
   "source": [
    "### Recipe 12: MACD-Bracket-Order Strategy: Fetching Paper Trading Report - Order History"
   ]
  },
  {
   "cell_type": "code",
   "execution_count": 45,
   "metadata": {},
   "outputs": [
    {
     "name": "stdout",
     "output_type": "stream",
     "text": [
      "[2020-07-31 14:48:54] Order History not available yet. Please retry in sometime.\n"
     ]
    }
   ],
   "source": [
    "order_history = algobulls_connection.get_papertrading_report_order_history(strategy_code2)\n",
    "print(order_history)"
   ]
  }
 ],
 "metadata": {
  "kernelspec": {
   "display_name": "Python 3",
   "language": "python",
   "name": "python3"
  },
  "language_info": {
   "codemirror_mode": {
    "name": "ipython",
    "version": 3
   },
   "file_extension": ".py",
   "mimetype": "text/x-python",
   "name": "python",
   "nbconvert_exporter": "python",
   "pygments_lexer": "ipython3",
   "version": "3.8.2"
  }
 },
 "nbformat": 4,
 "nbformat_minor": 2
}
